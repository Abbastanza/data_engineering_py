{
 "cells": [
  {
   "cell_type": "markdown",
   "id": "e12ece56-fcd4-4665-bf8b-773b5e8c789d",
   "metadata": {
    "tags": []
   },
   "source": [
    "# Project 1 - Data Engineering\n",
    "## 2 Data Exploration and Analysis\n",
    "This notebook is for the implementation of task \"2 Data Exploration and Analysis\", as listed in the **Project Instructions**."
   ]
  },
  {
   "cell_type": "markdown",
   "id": "45dfc955-b808-45ff-b0d8-c2425da31416",
   "metadata": {},
   "source": [
    "<div class=\"alert alert-success\">\n",
    "<b>Overview:</b><br>\n",
    "Data Exploration and Analysis consists of the following parts worth 70 points:\n",
    "<ul>\n",
    "    <li><b>E1 - Obtain and Scrub</b> (15 points)</li>\n",
    "    <li><b>E2 - Exploratory data analysis (EDA) </b>(20 points)</li>\n",
    "    <li><b>E3 - Formulate hypotheses </b>(25 points)</li>\n",
    "    <li><b>Follow the guidelines for Data Exploration and Analysis below </b>(10 points)</li>\n",
    "</ul></div>"
   ]
  },
  {
   "cell_type": "markdown",
   "id": "3c8a055f",
   "metadata": {},
   "source": [
    "<div class=\"alert alert-success\">\n",
    "<b>Guidelines for Data Exploration and Analysis:</b><br>\n",
    "    <ol>\n",
    "        <li>Use a single Jupyer notebook for your project.</li>\n",
    "        <li>Use only Python-code for your project.</li>\n",
    "        <li>The use of automatic and semi-automatic data analyis tools is not allowed (e. g., PandasGUI, D-Tale, Mito, etc.). Only use packages we used in the coded lectures.</li>\n",
    "        <li>Export your environment for submission as 'prj01-environment.txt'.</li>\n",
    "        <li>Upload your resulting work as a zip file containing only a single jupyter notebook and required files to run the notebook. All cell outputs and <b>figures must display in jupyter lab</b>. (Test this, in particular when you use another environment like VS Code.)</li>\n",
    "        <li>All code cells in your notebook must be runnable without errors or warnings (e. g., deprecated functions). Each error/warning subtracts -2 points (up to the full 10 points for following the  guidelines).</li>\n",
    "        <li>Use only relative paths in your project.</li>\n",
    "        <li>Avoid (excessive) code duplication.</li>\n",
    "        <li>Avoid loops iterating over pandas objects (Series, DataFrames). Explicitly justify each exception via a comment. </li>\n",
    "        <li>All coded steps in your analysis must be commented.</li>\n",
    "        <li>Keep your code as well as outputs short, precise and readable. Each long or unnecessary output subtracts -2 points (up to the full 10 points for following the project guidelines).</li>\n",
    "    </ol>\n",
    "    <b>Late submissions are not accepted and earn you 0 points on the python project. </b>\n",
    "</div>"
   ]
  },
  {
   "cell_type": "markdown",
   "id": "ea992ba9-f942-445d-a515-16dc32837466",
   "metadata": {},
   "source": [
    "Explicitly list which notebook toolset was used (jupyter lab/jupyter notebook/VS Code/etc.) \n",
    "\n",
    "**here**: Jupyter Lab, Chrome"
   ]
  },
  {
   "cell_type": "markdown",
   "id": "92f63424-1d61-4b8b-94a6-f50afea65d79",
   "metadata": {
    "tags": []
   },
   "source": [
    "Explicitly and clearly state the chosen dataset number and title:\n",
    "### Arbeitsmarkt ODÖ \n",
    "## 99. Gesamtübersicht über die Arbeitslosigkeit - Bestand, Zugang, Abgang\n"
   ]
  },
  {
   "cell_type": "markdown",
   "id": "0999a549-323a-4537-963f-3a1a746b77fd",
   "metadata": {},
   "source": [
    "## E1 - Obtain and Scrub"
   ]
  },
  {
   "attachments": {
    "8eab5647-0d31-4875-a3ac-990349e90b76.png": {
     "image/png": "[encoded data removed]"
    }
   },
   "cell_type": "markdown",
   "id": "937713cc-715f-4930-ae10-ebeeaec55685",
   "metadata": {},
   "source": [
    "### Obtain\n",
    "Download the dataset and understand both: \n",
    "- format: wide vs. long, separaters, decimal points, encoding, etc., and \n",
    "- content: what variables are in the columns, what is their meaning?\n",
    "To this end, identify and download metadata such as headers, category listings, explanatory reports, etc.\n",
    "### Scrub\n",
    "The aim of scrub is to create a clean version of the data for further analysis. \n",
    "- Load the dataset and take care of dtypes (dates, numbers, categories, etc.). Justify why you don't load/use specific columns.\n",
    "- Check for footnotes or any other notifications on special cell content, such as time series breaks. Follow up that information, and document your decision how to deal with it. Remember: The homework 4 contained such info in the cell \"76.1 b\". The metadata defines what that \"b\" stands for.\n",
    "![image.png](attachment:8eab5647-0d31-4875-a3ac-990349e90b76.png)\n",
    "- Choose an appropriate (Multi-)Index.\n",
    "- Identify:\n",
    "    1. missing values and get row and column overviews. Use graphical and/or numeric approaches. Once identified, handle missing values according to column type, time series property and data set size.\n",
    "    2. duplicates (justify the used column subset). Remove duplicates - if any - and inspect what you removed.\n",
    "- Transform to shape (tidy vs. wide) best suited for further analysis.\n",
    "- Export the clean data to a file for inspection with an external data browser (e.g., MS Excel).\n",
    "- Provide an overview of the clean dataset:\n",
    "    1. show the dtypes\n",
    "    2. quantitative column descriptions: \n",
    "        1. categorical columns: number of unique values, counts \n",
    "        2. numeric columns: range and median"
   ]
  },
  {
   "cell_type": "markdown",
   "id": "3a05f42a-135e-4f2d-8ef0-b42bd53da4bf",
   "metadata": {},
   "source": [
    "### Bevökerung ODÖ \n",
    "## 99. Hunde pro Bezirk Wien"
   ]
  },
  {
   "cell_type": "markdown",
   "id": "67038543-5fb5-4ca7-9089-13364b2b4c9b",
   "metadata": {},
   "source": [
    "This notebook was created using Jupyter Lab."
   ]
  },
  {
   "cell_type": "markdown",
   "id": "95e5eac8-92d5-46fc-8f2d-a5ac39510bde",
   "metadata": {},
   "source": [
    "## Libraries"
   ]
  },
  {
   "cell_type": "code",
   "execution_count": 1,
   "id": "2fdff4a7-c0e5-46e7-8276-24d372ec4228",
   "metadata": {
    "tags": []
   },
   "outputs": [],
   "source": [
    "#libraries\n",
    "import pandas as pd\n",
    "import matplotlib.pyplot as plt\n",
    "import seaborn as sns"
   ]
  },
  {
   "cell_type": "markdown",
   "id": "ca9b8778-1bd8-48bf-9db5-8dadd6aa3b0b",
   "metadata": {},
   "source": [
    "## Obtain and Scrub"
   ]
  },
  {
   "cell_type": "code",
   "execution_count": 2,
   "id": "cec63c55-0a55-4b05-943f-565ed1aa2b06",
   "metadata": {},
   "outputs": [],
   "source": [
    "# E1:\n",
    "\n",
    "# load data\n",
    "df=pd.read_csv('hunde-wien.csv', sep = ';',encoding= 'latin-1', header = 1, thousands='.')\n",
    "\n",
    "# drop unnecessary columns\n",
    "df.drop(['NUTS1','NUTS2','NUTS3','SUB_DISTRICT_CODE','Ref_Date'], axis=1, inplace=True)\n",
    "\n",
    "# add column \"inner_district\"\n",
    "def district(row):\n",
    "    if row['Postal_CODE'] in (1100, 1110, 1120, 1130, 1140, 1150, 1160, 1170, 1180, 1190, 1200, 1210, 1220,1230):\n",
    "        return 0\n",
    "    elif 1 <= row['Postal_CODE'] in (1010, 1020, 1030, 1040, 1050, 1060, 1070, 1080, 1090):\n",
    "        return 1\n",
    "    else:\n",
    "        return None \n",
    "df['inner_district'] = df.apply(district,axis=1)\n",
    "\n",
    "# add column \"mixed_breed\"\n",
    "def breed(row):\n",
    "    if '/' in row['Dog Breed']:\n",
    "        return 1\n",
    "    else:\n",
    "        return 0\n",
    "df['mixed_breed'] = df.apply(breed,axis=1)\n",
    "\n",
    "# clean column names\n",
    "df.columns = df.columns.str.lower().str.replace(' ', '_')"
   ]
  },
  {
   "cell_type": "markdown",
   "id": "6b3dec7b-c9e9-44f1-b807-be2e1b25fd7a",
   "metadata": {},
   "source": [
    "We used pandas *read_csv* to read our data into jupyter lab.The column separater is a semicolon and encoding is *latin-1* (also known as ISO-8859-1). It covers a limited set of characters, primarily from the Latin alphabet, digits, and some special characters. The first row in the file represents the header. The data is in a long format."
   ]
  },
  {
   "cell_type": "markdown",
   "id": "95559427-24ce-44ad-8f7b-43106e7843e6",
   "metadata": {},
   "source": [
    "In the next step, we dropped the columns *NUTS1, NUTS2, NUTS3, SUB_DISTRICT_CODE* and *Ref_Date* which are not relevant for our analysis. \n",
    "\n",
    "- NUTS (Nomenclature of Territorial Units for Statistics) is a classification system used by the European Union for statistical and administrative purposes.*NUTS1, NUTS2, NUTS3* indicate the level in the hierarchy.In our case, every row has the same level of the hierachy in all three columns. Therefore, these columns do not provide any additional information for our data.\n",
    "- The column *SUB_DISTRICT_CODE* contains \".\" in every row, thus can be dropped aswell. \n",
    "- *Ref_Date* is also the same for very row and shows when the data was last modified."
   ]
  },
  {
   "cell_type": "markdown",
   "id": "aee67f5e-1f8f-454c-a696-d11ec576b810",
   "metadata": {},
   "source": [
    "Afterward, we cleaned up the column names by formatting everything in lowercase and replacing spaces with underscores."
   ]
  },
  {
   "cell_type": "markdown",
   "id": "16523f65-bc91-4c14-ab20-745342fe7953",
   "metadata": {
    "tags": []
   },
   "source": [
    "Following that, we added two extra columns *Inner district* and *mixed breed*.\n",
    "Thus, our columns for the analysis are the following:\n",
    "\n",
    "- **district_code**: The district code in Vienna is a numerical identifier assigned to each of the cities 23 districts\n",
    "- **postal_code**: The postal code in Vienna is a numerical code assigned to specific geographic areas within the city.\n",
    "- **dog_breed**: Specifies the breed of the dog.\n",
    "- **anzahl**: Specifies the number of dogs \n",
    "- **inner_district**: Boolean column, which is 1, if the district is an inner district (1-9), and 0 otherwise.\n",
    "- **mixed_breed**:  Boolean column, which is 1, if the breed is mixed, and 0 if it is purebred."
   ]
  },
  {
   "cell_type": "markdown",
   "id": "c732c857-6bea-48b8-b68d-6bbcc3744802",
   "metadata": {},
   "source": [
    "Our index is a simple numerical index, starting at 0."
   ]
  },
  {
   "cell_type": "markdown",
   "id": "99431dfa-2de7-48c6-ad62-11b00b24eadf",
   "metadata": {},
   "source": [
    "### Check for missing values and duplicates"
   ]
  },
  {
   "cell_type": "code",
   "execution_count": 3,
   "id": "dfd6d145-2ec6-4bf8-882b-0d82b69ffbe7",
   "metadata": {
    "tags": []
   },
   "outputs": [
    {
     "data": {
      "text/plain": [
       "district_code      int64\n",
       "postal_code        int64\n",
       "dog_breed         object\n",
       "anzahl             int64\n",
       "inner_district     int64\n",
       "mixed_breed        int64\n",
       "dtype: object"
      ]
     },
     "execution_count": 3,
     "metadata": {},
     "output_type": "execute_result"
    }
   ],
   "source": [
    "df.dtypes"
   ]
  },
  {
   "cell_type": "code",
   "execution_count": 4,
   "id": "c3726d8c-ef9f-455c-9e2b-3b8a1d6ec99f",
   "metadata": {
    "tags": []
   },
   "outputs": [
    {
     "data": {
      "text/plain": [
       "district_code     category\n",
       "postal_code       category\n",
       "dog_breed         category\n",
       "anzahl               int64\n",
       "inner_district    category\n",
       "mixed_breed       category\n",
       "dtype: object"
      ]
     },
     "execution_count": 4,
     "metadata": {},
     "output_type": "execute_result"
    }
   ],
   "source": [
    "df['district_code'] = df['district_code'].astype('category')\n",
    "df['postal_code'] = df['postal_code'].astype('category')\n",
    "df['inner_district'] = df['inner_district'].astype('category')\n",
    "df['mixed_breed'] = df['mixed_breed'].astype('category')\n",
    "df['dog_breed'] = df['dog_breed'].astype('category')\n",
    "df['anzahl'] = df['anzahl'].astype('int64')\n",
    "df.dtypes"
   ]
  },
  {
   "cell_type": "markdown",
   "id": "feac5a8e-4190-4b3f-9bf3-2653e00abe93",
   "metadata": {},
   "source": [
    "After changing the data types, we have 5 categorial columns and one integer being 'anzahl'. "
   ]
  },
  {
   "cell_type": "code",
   "execution_count": 5,
   "id": "8cf2dd5d-9dda-4ebc-837a-fef9f457a036",
   "metadata": {
    "tags": []
   },
   "outputs": [
    {
     "data": {
      "text/plain": [
       "district_code     0\n",
       "postal_code       0\n",
       "dog_breed         0\n",
       "anzahl            0\n",
       "inner_district    0\n",
       "mixed_breed       0\n",
       "dtype: int64"
      ]
     },
     "execution_count": 5,
     "metadata": {},
     "output_type": "execute_result"
    }
   ],
   "source": [
    "df.isnull().sum()"
   ]
  },
  {
   "cell_type": "markdown",
   "id": "b76fdcfe-044f-426c-a3af-bfa26d6aeafc",
   "metadata": {
    "tags": []
   },
   "source": [
    "There are no missing values in our columns."
   ]
  },
  {
   "cell_type": "code",
   "execution_count": 6,
   "id": "e2ef6f21-9c14-411b-b0aa-6d4469fd59fb",
   "metadata": {
    "tags": []
   },
   "outputs": [
    {
     "data": {
      "text/plain": [
       "0"
      ]
     },
     "execution_count": 6,
     "metadata": {},
     "output_type": "execute_result"
    }
   ],
   "source": [
    "df.duplicated().sum()"
   ]
  },
  {
   "cell_type": "markdown",
   "id": "23e573af-f1f8-4b5d-ad3b-3a9fb08136c3",
   "metadata": {},
   "source": [
    "Our data has no duplicates."
   ]
  },
  {
   "cell_type": "markdown",
   "id": "5b557f0f-7ac2-44da-bbb4-bc87db21723b",
   "metadata": {
    "tags": []
   },
   "source": [
    "### Save cleaned data"
   ]
  },
  {
   "cell_type": "code",
   "execution_count": 7,
   "id": "6db16905-989f-4b02-b785-be1dfc60f932",
   "metadata": {
    "tags": []
   },
   "outputs": [],
   "source": [
    "df.to_csv('dogs_cleaned.csv', index=False)"
   ]
  },
  {
   "cell_type": "markdown",
   "id": "6843359c-bbcf-4217-a316-d5586e6dc89f",
   "metadata": {
    "tags": []
   },
   "source": [
    "### Quantitative column description"
   ]
  },
  {
   "cell_type": "markdown",
   "id": "96b301e8-e767-453e-9304-59e90f3032af",
   "metadata": {},
   "source": [
    "#### Categorial columns"
   ]
  },
  {
   "cell_type": "code",
   "execution_count": 8,
   "id": "c57d4739-ec42-4da6-9932-ba582de0880c",
   "metadata": {
    "tags": []
   },
   "outputs": [
    {
     "name": "stdout",
     "output_type": "stream",
     "text": [
      "\n",
      "Column: district_code\n",
      "Number of unique values: 23\n",
      "Value counts:\n",
      "92200    984\n",
      "92100    888\n",
      "91000    708\n",
      "92300    683\n",
      "90200    576\n",
      "91400    536\n",
      "90300    521\n",
      "91100    520\n",
      "91900    514\n",
      "91200    481\n",
      "91300    449\n",
      "91600    443\n",
      "91800    422\n",
      "92000    388\n",
      "91700    369\n",
      "91500    351\n",
      "90900    315\n",
      "90500    298\n",
      "90400    250\n",
      "90700    235\n",
      "90600    211\n",
      "90800    198\n",
      "90100    182\n",
      "Name: district_code, dtype: int64\n",
      "\n",
      "Column: postal_code\n",
      "Number of unique values: 23\n",
      "Value counts:\n",
      "1220    984\n",
      "1210    888\n",
      "1100    708\n",
      "1230    683\n",
      "1020    576\n",
      "1140    536\n",
      "1030    521\n",
      "1110    520\n",
      "1190    514\n",
      "1120    481\n",
      "1130    449\n",
      "1160    443\n",
      "1180    422\n",
      "1200    388\n",
      "1170    369\n",
      "1150    351\n",
      "1090    315\n",
      "1050    298\n",
      "1040    250\n",
      "1070    235\n",
      "1060    211\n",
      "1080    198\n",
      "1010    182\n",
      "Name: postal_code, dtype: int64\n",
      "\n",
      "Column: dog_breed\n",
      "Number of unique values: 3214\n",
      "Value counts:\n",
      "English Cocker Spaniel einfärbig                       23\n",
      "Border Collie / Mischling                              23\n",
      "Siberian Husky                                         23\n",
      "Jack Russell Terrier                                   23\n",
      "Französische Bulldogge                                 23\n",
      "                                                       ..\n",
      "Fox Terrier glatthaar / Deutsch Drahthaar               1\n",
      "Fox Terrier glatthaar / Deutsch Kurzhaar                1\n",
      "Fox Terrier glatthaar / Deutscher Pinscher              1\n",
      "Fox Terrier glatthaar / Fox Terrier drahthaar           1\n",
      "Österreichischer Pinscher / Zwergspitz (Pomeranian)     1\n",
      "Name: dog_breed, Length: 3214, dtype: int64\n",
      "\n",
      "Column: inner_district\n",
      "Number of unique values: 2\n",
      "Value counts:\n",
      "0    7736\n",
      "1    2786\n",
      "Name: inner_district, dtype: int64\n",
      "\n",
      "Column: mixed_breed\n",
      "Number of unique values: 2\n",
      "Value counts:\n",
      "1    6533\n",
      "0    3989\n",
      "Name: mixed_breed, dtype: int64\n"
     ]
    }
   ],
   "source": [
    "categorical_columns = df.select_dtypes(include='category').columns\n",
    "\n",
    "for column in categorical_columns:\n",
    "    unique_values_count = df[column].nunique()\n",
    "    value_counts = df[column].value_counts()\n",
    "    \n",
    "    print(f\"\\nColumn: {column}\")\n",
    "    print(f\"Number of unique values: {unique_values_count}\")\n",
    "    print(\"Value counts:\")\n",
    "    print(value_counts)"
   ]
  },
  {
   "cell_type": "markdown",
   "id": "52fe2bea-42ed-4862-9609-f0b096cd90bc",
   "metadata": {},
   "source": [
    "#### Numerical columns"
   ]
  },
  {
   "cell_type": "code",
   "execution_count": 9,
   "id": "53058cf9-d39e-48e9-99f4-26603a2124ee",
   "metadata": {
    "tags": []
   },
   "outputs": [
    {
     "name": "stdout",
     "output_type": "stream",
     "text": [
      "Range of column 'anzahl': 1065\n"
     ]
    }
   ],
   "source": [
    "range = df['anzahl'].max() - df['anzahl'].min()\n",
    "print(f\"Range of column 'anzahl': {range}\")"
   ]
  },
  {
   "cell_type": "code",
   "execution_count": 10,
   "id": "5c495fde-b795-401d-b6e7-0c4a5341883e",
   "metadata": {
    "tags": []
   },
   "outputs": [
    {
     "name": "stdout",
     "output_type": "stream",
     "text": [
      "Median of column 'anzahl': 1.0\n"
     ]
    }
   ],
   "source": [
    "median = df['anzahl'].median()\n",
    "print(f\"Median of column 'anzahl': {median}\")"
   ]
  },
  {
   "cell_type": "markdown",
   "id": "b041e827-fd81-4eb8-95d3-9e6ae1c77ca7",
   "metadata": {
    "tags": []
   },
   "source": [
    "## E2 - Exploratory data analysis (EDA)\n",
    "Use the clean dataset and to understand and explore the relationships in the data (numerical, visual, statistical). This includes at least but is not limited to:\n",
    "- A comprehensive textual description of meaning for relevant fields in the dataset\n",
    "- Statistical/numerical descriptions and visualization techniques we learned in the course inluding correlations, distributions and groupings of variing degrees.\n",
    "- Checks for data quality, e. g., completeness, plausibility, outliers\n",
    "- Handling any identified problems with the data\n",
    "- If necessary, use additional data wrangling in line with your EDA and only keep what's necessary for the following steps of your analysis with appropriate data granularity and form (\"tidy data\")\n",
    "\n",
    "Don't:\n",
    "- test/prove hypotheses here. EDA should only motivate hypotheses. \n",
    "\n",
    "Advanced/bonus:\n",
    "- Depending on your hypothesis you may want to join external data (e.g., merge external highest education level to existing vaccination data) for additional insights.\n",
    "\n",
    "Explain all steps taken and your thinking why you deem them necessary."
   ]
  },
  {
   "cell_type": "code",
   "execution_count": 11,
   "id": "370ab718-fa85-4fd8-adee-7643970042ad",
   "metadata": {},
   "outputs": [
    {
     "data": {
      "text/html": [
       "<div>\n",
       "<style scoped>\n",
       "    .dataframe tbody tr th:only-of-type {\n",
       "        vertical-align: middle;\n",
       "    }\n",
       "\n",
       "    .dataframe tbody tr th {\n",
       "        vertical-align: top;\n",
       "    }\n",
       "\n",
       "    .dataframe thead th {\n",
       "        text-align: right;\n",
       "    }\n",
       "</style>\n",
       "<table border=\"1\" class=\"dataframe\">\n",
       "  <thead>\n",
       "    <tr style=\"text-align: right;\">\n",
       "      <th></th>\n",
       "      <th>district_code</th>\n",
       "      <th>postal_code</th>\n",
       "      <th>dog_breed</th>\n",
       "      <th>anzahl</th>\n",
       "      <th>inner_district</th>\n",
       "      <th>mixed_breed</th>\n",
       "    </tr>\n",
       "  </thead>\n",
       "  <tbody>\n",
       "    <tr>\n",
       "      <th>0</th>\n",
       "      <td>90100</td>\n",
       "      <td>1010</td>\n",
       "      <td>Akita / Belgischer Schäferhund</td>\n",
       "      <td>1</td>\n",
       "      <td>1</td>\n",
       "      <td>1</td>\n",
       "    </tr>\n",
       "    <tr>\n",
       "      <th>1</th>\n",
       "      <td>90100</td>\n",
       "      <td>1010</td>\n",
       "      <td>American Cocker Spaniel</td>\n",
       "      <td>2</td>\n",
       "      <td>1</td>\n",
       "      <td>0</td>\n",
       "    </tr>\n",
       "    <tr>\n",
       "      <th>2</th>\n",
       "      <td>90100</td>\n",
       "      <td>1010</td>\n",
       "      <td>American Cocker Spaniel / Pudel</td>\n",
       "      <td>1</td>\n",
       "      <td>1</td>\n",
       "      <td>1</td>\n",
       "    </tr>\n",
       "    <tr>\n",
       "      <th>3</th>\n",
       "      <td>90100</td>\n",
       "      <td>1010</td>\n",
       "      <td>American Staffordshire Terrier</td>\n",
       "      <td>1</td>\n",
       "      <td>1</td>\n",
       "      <td>0</td>\n",
       "    </tr>\n",
       "    <tr>\n",
       "      <th>4</th>\n",
       "      <td>90100</td>\n",
       "      <td>1010</td>\n",
       "      <td>Australian Shepherd</td>\n",
       "      <td>5</td>\n",
       "      <td>1</td>\n",
       "      <td>0</td>\n",
       "    </tr>\n",
       "  </tbody>\n",
       "</table>\n",
       "</div>"
      ],
      "text/plain": [
       "   district_code  postal_code                        dog_breed  anzahl  \\\n",
       "0          90100         1010   Akita / Belgischer Schäferhund       1   \n",
       "1          90100         1010          American Cocker Spaniel       2   \n",
       "2          90100         1010  American Cocker Spaniel / Pudel       1   \n",
       "3          90100         1010   American Staffordshire Terrier       1   \n",
       "4          90100         1010              Australian Shepherd       5   \n",
       "\n",
       "   inner_district  mixed_breed  \n",
       "0               1            1  \n",
       "1               1            0  \n",
       "2               1            1  \n",
       "3               1            0  \n",
       "4               1            0  "
      ]
     },
     "execution_count": 11,
     "metadata": {},
     "output_type": "execute_result"
    }
   ],
   "source": [
    "df = pd.read_csv(\"dogs_cleaned.csv\")\n",
    "df.head()"
   ]
  },
  {
   "cell_type": "code",
   "execution_count": 12,
   "id": "bc62f132-be6d-46cc-9697-25546ac356cb",
   "metadata": {
    "tags": []
   },
   "outputs": [],
   "source": [
    "# Group by 'dog_breed' and 'inner_outer', then sum the 'anzahl' for each group\n",
    "result = df.groupby(['dog_breed', 'inner_district']).agg(summe_anzahl=('anzahl', 'sum')).reset_index()\n",
    "\n",
    "# Sort the result by 'summe_anzahl' in descending order\n",
    "result = result.sort_values(by='summe_anzahl', ascending=False)"
   ]
  },
  {
   "cell_type": "code",
   "execution_count": 13,
   "id": "8e424414-d82b-454e-8094-4fad18dbbb08",
   "metadata": {
    "tags": []
   },
   "outputs": [
    {
     "data": {
      "text/html": [
       "<div>\n",
       "<style scoped>\n",
       "    .dataframe tbody tr th:only-of-type {\n",
       "        vertical-align: middle;\n",
       "    }\n",
       "\n",
       "    .dataframe tbody tr th {\n",
       "        vertical-align: top;\n",
       "    }\n",
       "\n",
       "    .dataframe thead th {\n",
       "        text-align: right;\n",
       "    }\n",
       "</style>\n",
       "<table border=\"1\" class=\"dataframe\">\n",
       "  <thead>\n",
       "    <tr style=\"text-align: right;\">\n",
       "      <th></th>\n",
       "      <th>dog_breed</th>\n",
       "      <th>inner_district</th>\n",
       "      <th>summe_anzahl</th>\n",
       "    </tr>\n",
       "  </thead>\n",
       "  <tbody>\n",
       "    <tr>\n",
       "      <th>3669</th>\n",
       "      <td>Unbekannt / Mischling</td>\n",
       "      <td>1</td>\n",
       "      <td>1104</td>\n",
       "    </tr>\n",
       "    <tr>\n",
       "      <th>2343</th>\n",
       "      <td>Labrador Retriever</td>\n",
       "      <td>1</td>\n",
       "      <td>380</td>\n",
       "    </tr>\n",
       "    <tr>\n",
       "      <th>3665</th>\n",
       "      <td>Unbekannt</td>\n",
       "      <td>1</td>\n",
       "      <td>348</td>\n",
       "    </tr>\n",
       "    <tr>\n",
       "      <th>807</th>\n",
       "      <td>Chihuahua Kurzhaar</td>\n",
       "      <td>1</td>\n",
       "      <td>316</td>\n",
       "    </tr>\n",
       "    <tr>\n",
       "      <th>2673</th>\n",
       "      <td>Malteser</td>\n",
       "      <td>1</td>\n",
       "      <td>286</td>\n",
       "    </tr>\n",
       "    <tr>\n",
       "      <th>1637</th>\n",
       "      <td>Französische Bulldogge</td>\n",
       "      <td>1</td>\n",
       "      <td>246</td>\n",
       "    </tr>\n",
       "    <tr>\n",
       "      <th>3800</th>\n",
       "      <td>Yorkshire Terrier</td>\n",
       "      <td>1</td>\n",
       "      <td>225</td>\n",
       "    </tr>\n",
       "    <tr>\n",
       "      <th>1675</th>\n",
       "      <td>Golden Retriever</td>\n",
       "      <td>1</td>\n",
       "      <td>211</td>\n",
       "    </tr>\n",
       "    <tr>\n",
       "      <th>2470</th>\n",
       "      <td>Labrador Retriever / Mischling</td>\n",
       "      <td>1</td>\n",
       "      <td>193</td>\n",
       "    </tr>\n",
       "    <tr>\n",
       "      <th>115</th>\n",
       "      <td>American Staffordshire Terrier</td>\n",
       "      <td>1</td>\n",
       "      <td>168</td>\n",
       "    </tr>\n",
       "  </tbody>\n",
       "</table>\n",
       "</div>"
      ],
      "text/plain": [
       "                           dog_breed  inner_district  summe_anzahl\n",
       "3669           Unbekannt / Mischling               1          1104\n",
       "2343              Labrador Retriever               1           380\n",
       "3665                       Unbekannt               1           348\n",
       "807               Chihuahua Kurzhaar               1           316\n",
       "2673                        Malteser               1           286\n",
       "1637          Französische Bulldogge               1           246\n",
       "3800               Yorkshire Terrier               1           225\n",
       "1675                Golden Retriever               1           211\n",
       "2470  Labrador Retriever / Mischling               1           193\n",
       "115   American Staffordshire Terrier               1           168"
      ]
     },
     "execution_count": 13,
     "metadata": {},
     "output_type": "execute_result"
    }
   ],
   "source": [
    "result_inner = result[result['inner_district'] == 1]\n",
    "result_inner.head(10)"
   ]
  },
  {
   "cell_type": "code",
   "execution_count": 14,
   "id": "7c0eb68d-15f6-40b1-ae1c-5d07b7ee80c4",
   "metadata": {
    "tags": []
   },
   "outputs": [
    {
     "data": {
      "text/html": [
       "<div>\n",
       "<style scoped>\n",
       "    .dataframe tbody tr th:only-of-type {\n",
       "        vertical-align: middle;\n",
       "    }\n",
       "\n",
       "    .dataframe tbody tr th {\n",
       "        vertical-align: top;\n",
       "    }\n",
       "\n",
       "    .dataframe thead th {\n",
       "        text-align: right;\n",
       "    }\n",
       "</style>\n",
       "<table border=\"1\" class=\"dataframe\">\n",
       "  <thead>\n",
       "    <tr style=\"text-align: right;\">\n",
       "      <th></th>\n",
       "      <th>dog_breed</th>\n",
       "      <th>inner_district</th>\n",
       "      <th>summe_anzahl</th>\n",
       "    </tr>\n",
       "  </thead>\n",
       "  <tbody>\n",
       "    <tr>\n",
       "      <th>3668</th>\n",
       "      <td>Unbekannt / Mischling</td>\n",
       "      <td>0</td>\n",
       "      <td>5436</td>\n",
       "    </tr>\n",
       "    <tr>\n",
       "      <th>806</th>\n",
       "      <td>Chihuahua Kurzhaar</td>\n",
       "      <td>0</td>\n",
       "      <td>2200</td>\n",
       "    </tr>\n",
       "    <tr>\n",
       "      <th>2342</th>\n",
       "      <td>Labrador Retriever</td>\n",
       "      <td>0</td>\n",
       "      <td>1874</td>\n",
       "    </tr>\n",
       "    <tr>\n",
       "      <th>3664</th>\n",
       "      <td>Unbekannt</td>\n",
       "      <td>0</td>\n",
       "      <td>1870</td>\n",
       "    </tr>\n",
       "    <tr>\n",
       "      <th>2672</th>\n",
       "      <td>Malteser</td>\n",
       "      <td>0</td>\n",
       "      <td>1610</td>\n",
       "    </tr>\n",
       "    <tr>\n",
       "      <th>1636</th>\n",
       "      <td>Französische Bulldogge</td>\n",
       "      <td>0</td>\n",
       "      <td>1328</td>\n",
       "    </tr>\n",
       "    <tr>\n",
       "      <th>114</th>\n",
       "      <td>American Staffordshire Terrier</td>\n",
       "      <td>0</td>\n",
       "      <td>1216</td>\n",
       "    </tr>\n",
       "    <tr>\n",
       "      <th>1674</th>\n",
       "      <td>Golden Retriever</td>\n",
       "      <td>0</td>\n",
       "      <td>1082</td>\n",
       "    </tr>\n",
       "    <tr>\n",
       "      <th>3799</th>\n",
       "      <td>Yorkshire Terrier</td>\n",
       "      <td>0</td>\n",
       "      <td>1068</td>\n",
       "    </tr>\n",
       "    <tr>\n",
       "      <th>2469</th>\n",
       "      <td>Labrador Retriever / Mischling</td>\n",
       "      <td>0</td>\n",
       "      <td>1043</td>\n",
       "    </tr>\n",
       "  </tbody>\n",
       "</table>\n",
       "</div>"
      ],
      "text/plain": [
       "                           dog_breed  inner_district  summe_anzahl\n",
       "3668           Unbekannt / Mischling               0          5436\n",
       "806               Chihuahua Kurzhaar               0          2200\n",
       "2342              Labrador Retriever               0          1874\n",
       "3664                       Unbekannt               0          1870\n",
       "2672                        Malteser               0          1610\n",
       "1636          Französische Bulldogge               0          1328\n",
       "114   American Staffordshire Terrier               0          1216\n",
       "1674                Golden Retriever               0          1082\n",
       "3799               Yorkshire Terrier               0          1068\n",
       "2469  Labrador Retriever / Mischling               0          1043"
      ]
     },
     "execution_count": 14,
     "metadata": {},
     "output_type": "execute_result"
    }
   ],
   "source": [
    "result_outer = result[result['inner_district'] == 0]\n",
    "result_outer.head(10)"
   ]
  },
  {
   "cell_type": "code",
   "execution_count": 15,
   "id": "9f929c5c-13af-4eeb-b653-0585c1bf348f",
   "metadata": {
    "tags": []
   },
   "outputs": [
    {
     "data": {
      "image/png": "[encoded data removed]",
      "text/plain": [
       "<Figure size 432x288 with 1 Axes>"
      ]
     },
     "metadata": {
      "needs_background": "light"
     },
     "output_type": "display_data"
    }
   ],
   "source": [
    "dogs_per_district = df.groupby('postal_code')['anzahl'].sum()\n",
    "\n",
    "# Erstelle ein Barplot\n",
    "ax = dogs_per_district.plot(kind='bar', color='darkblue')\n",
    "plt.title('Number of dogs per district')\n",
    "plt.xlabel('District')\n",
    "plt.ylabel('Number of dogs')\n",
    "ax.yaxis.grid(linestyle='dashed')"
   ]
  },
  {
   "cell_type": "code",
   "execution_count": 16,
   "id": "58312681-9cb1-421a-b876-45cc01f1e52c",
   "metadata": {
    "tags": []
   },
   "outputs": [
    {
     "data": {
      "image/png": "[encoded data removed]",
      "text/plain": [
       "<Figure size 432x288 with 1 Axes>"
      ]
     },
     "metadata": {
      "needs_background": "light"
     },
     "output_type": "display_data"
    }
   ],
   "source": [
    "dogs_mixed = df.groupby('mixed_breed')['anzahl'].sum()\n",
    "\n",
    "# Erstelle ein Barplot\n",
    "ax = dogs_mixed.plot(kind='bar', color='darkblue')\n",
    "plt.title('Number of dogs for mixed/purebred')\n",
    "plt.xlabel('District')\n",
    "plt.ylabel('Number of dogs')\n",
    "ax.yaxis.grid(linestyle='dashed')"
   ]
  },
  {
   "cell_type": "code",
   "execution_count": 18,
   "id": "a2f57b3c-e753-4657-a797-3c426d29be3b",
   "metadata": {
    "tags": []
   },
   "outputs": [
    {
     "data": {
      "image/png": "[encoded data removed]",
      "text/plain": [
       "<Figure size 432x288 with 1 Axes>"
      ]
     },
     "metadata": {
      "needs_background": "light"
     },
     "output_type": "display_data"
    }
   ],
   "source": [
    "# Create a grouped bar chart\n",
    "fig, ax = plt.subplots()\n",
    "\n",
    "# Group the DataFrame by 'postal_code' and 'mixed_breed' and sum the 'anzahl'\n",
    "grouped_data = df.groupby(['postal_code', 'mixed_breed'])['anzahl'].sum().unstack()\n",
    "\n",
    "# Plot the grouped data\n",
    "grouped_data.plot(kind='bar', ax=ax)\n",
    "\n",
    "plt.title('Number of dogs per district')\n",
    "plt.xlabel('District')\n",
    "plt.ylabel('Number of Dogs')\n",
    "\n",
    "plt.legend(title='', labels=['purebred', 'mixed']);"
   ]
  },
  {
   "cell_type": "markdown",
   "id": "277ea477-7d0c-407b-970e-212d64b5ec94",
   "metadata": {},
   "source": [
    "## E3 - Formulate hypotheses\n",
    "\n",
    "*Note: Read this section entirely and understand it - every group member.*\n",
    "\n",
    "A hypothesis is an idea or explanation for something that is based on known facts but has not yet been proved. A hypothesis is a compact, concise statement, such as: \"Individuals with higher income have (on average) more offspring.\", that will be answered based on facts (the data). https://gradcoach.com/what-is-a-research-hypothesis-or-scientific-hypothesis/\n",
    "\n",
    "Formulate 5 non-trivial hypotheses, 1 per group member, and regard the following criteria: \n",
    "- State the hypothesis explicitly in concise language. \n",
    "- The hypothesis must be **motivated** by either **EDA results** or **literature** (citation in the report needed).\n",
    "- The hypothesis must refer to **endpoints** that are **testable**. Specifically, the endpoint must be derived from the data.\n",
    "- Think of real-life use cases/consequences of your results (textual description). \n",
    "- For each hypothesis explain all executed steps. \n",
    "- In case of extreme or implausible results check the validity of your data.\n",
    "- For each hypothesis export the artifacts (figures, tables, etc.) required for the report.\n",
    "- If you decide to use a statistical test, use it properly. In particular, check the validity and comparability of the samples.\n",
    "\n",
    "Do not:\n",
    "- State nebulous, vague hypotheses. These don't contain endpoints and are unclear to test (i.e., answer).\n",
    "- Use post-hoc hypotheses. Portraying an empirically inspired **post hoc hypothesis as a priori** violates the **falsification principle** crucial for hypothesis-driven (that is, confirmatory) empirical research. Falsification is severe scientific fraud.\n",
    "- State trivial hypotheses (e.g., hypthesis 2: \"Not Hypothesis 1\").\n",
    "- Answer based on \"common knowledge\".\n",
    "- Try to **produce positively tested hypotheses**. If a well motivated hypothesis is negative, this is an important finding (see Simpson's Paradox). The value of a tested hypothesis lies in the information or learning it provides.\n",
    "\n",
    "Example: The homework with Simpson's Paradox. The pooled overall comparison between the genders would be the EDA motivating the hypothesis: \"At UC Berkeley the by-department admissions rate for females is lower than for males.\" It should be tested using samples of department admission rates for the 2 **groups** male and female. No steps of the test should be done in EDA (or a priory to stating the hypothesis). The groups should be compared graphically, e.g., via a stripplot overlayed with a boxplot. The figure should be labelled properly and exported for the report. A (paired) t-test *may* be used to test this hypothesis statistically. For different data (e.g., time series) different approaches may be required.\n"
   ]
  },
  {
   "cell_type": "markdown",
   "id": "09613f9f-d3ff-4b8d-b975-88437a72815c",
   "metadata": {},
   "source": [
    "### E3-H1: \"xxx\"\n",
    "Author: Group member 1\n"
   ]
  },
  {
   "cell_type": "code",
   "execution_count": null,
   "id": "702cdce9-5d4f-41f3-8b9e-a4363ec5d8d5",
   "metadata": {},
   "outputs": [],
   "source": []
  },
  {
   "cell_type": "markdown",
   "id": "8a404fa7-19f3-49bc-adc7-9a6ae07da0c9",
   "metadata": {},
   "source": [
    "### E3-H2: \"xxx\"\n",
    "Author: Group member 2\n",
    "\n"
   ]
  },
  {
   "cell_type": "code",
   "execution_count": null,
   "id": "4a3711e0-13d6-4115-9d64-c9f154d27f7f",
   "metadata": {},
   "outputs": [],
   "source": []
  },
  {
   "cell_type": "markdown",
   "id": "70e60944-b857-4a32-872a-6db028c51c87",
   "metadata": {
    "tags": []
   },
   "source": [
    "### E3-H3: \"xxx\"\n",
    "Author: Group member 3\n"
   ]
  },
  {
   "cell_type": "code",
   "execution_count": null,
   "id": "6bf1314d-47bb-4440-90f9-bef900320597",
   "metadata": {},
   "outputs": [],
   "source": []
  },
  {
   "cell_type": "markdown",
   "id": "ede91b90-ee3d-40c0-b2c4-4712413fe0e6",
   "metadata": {
    "tags": []
   },
   "source": [
    "### E3-H4: \"xxx\"\n",
    "Author: Group member 4\n"
   ]
  },
  {
   "cell_type": "code",
   "execution_count": null,
   "id": "710a7064-05e8-4d52-9c1b-a6dcd143a4ae",
   "metadata": {},
   "outputs": [],
   "source": []
  },
  {
   "cell_type": "markdown",
   "id": "5da06647-b803-4ad3-8e40-b372cf7044df",
   "metadata": {
    "tags": []
   },
   "source": [
    "### E3-H5: \"xxx\"\n",
    "Author: Group member 5\n"
   ]
  },
  {
   "cell_type": "code",
   "execution_count": null,
   "id": "9f174ed8-3291-4b1e-80a3-ea441b7efc19",
   "metadata": {},
   "outputs": [],
   "source": []
  }
 ],
 "metadata": {
  "kernelspec": {
   "display_name": "Python 3 (ipykernel)",
   "language": "python",
   "name": "python3"
  },
  "language_info": {
   "codemirror_mode": {
    "name": "ipython",
    "version": 3
   },
   "file_extension": ".py",
   "mimetype": "text/x-python",
   "name": "python",
   "nbconvert_exporter": "python",
   "pygments_lexer": "ipython3",
   "version": "3.9.7"
  }
 },
 "nbformat": 4,
 "nbformat_minor": 5
}
