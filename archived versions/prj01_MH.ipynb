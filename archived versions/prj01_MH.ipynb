{
 "cells": [
  {
   "cell_type": "markdown",
   "id": "e12ece56-fcd4-4665-bf8b-773b5e8c789d",
   "metadata": {
    "tags": []
   },
   "source": [
    "# Project 1 - Data Engineering\n",
    "## 2 Data Exploration and Analysis\n",
    "This notebook is for the implementation of task \"2 Data Exploration and Analysis\", as listed in the **Project Instructions**."
   ]
  },
  {
   "cell_type": "markdown",
   "id": "45dfc955-b808-45ff-b0d8-c2425da31416",
   "metadata": {},
   "source": [
    "<div class=\"alert alert-success\">\n",
    "<b>Overview:</b><br>\n",
    "Data Exploration and Analysis consists of the following parts worth 70 points:\n",
    "<ul>\n",
    "    <li><b>E1 - Obtain and Scrub</b> (15 points)</li>\n",
    "    <li><b>E2 - Exploratory data analysis (EDA) </b>(20 points)</li>\n",
    "    <li><b>E3 - Formulate hypotheses </b>(25 points)</li>\n",
    "    <li><b>Follow the guidelines for Data Exploration and Analysis below </b>(10 points)</li>\n",
    "</ul></div>"
   ]
  },
  {
   "cell_type": "markdown",
   "id": "3c8a055f",
   "metadata": {},
   "source": [
    "<div class=\"alert alert-success\">\n",
    "<b>Guidelines for Data Exploration and Analysis:</b><br>\n",
    "    <ol>\n",
    "        <li>Use a single Jupyer notebook for your project.</li>\n",
    "        <li>Use only Python-code for your project.</li>\n",
    "        <li>The use of automatic and semi-automatic data analyis tools is not allowed (e. g., PandasGUI, D-Tale, Mito, etc.). Only use packages we used in the coded lectures.</li>\n",
    "        <li>Export your environment for submission as 'prj01-environment.txt'.</li>\n",
    "        <li>Upload your resulting work as a zip file containing only a single jupyter notebook and required files to run the notebook. All cell outputs and <b>figures must display in jupyter lab</b>. (Test this, in particular when you use another environment like VS Code.)</li>\n",
    "        <li>All code cells in your notebook must be runnable without errors or warnings (e. g., deprecated functions). Each error/warning subtracts -2 points (up to the full 10 points for following the  guidelines).</li>\n",
    "        <li>Use only relative paths in your project.</li>\n",
    "        <li>Avoid (excessive) code duplication.</li>\n",
    "        <li>Avoid loops iterating over pandas objects (Series, DataFrames). Explicitly justify each exception via a comment. </li>\n",
    "        <li>All coded steps in your analysis must be commented.</li>\n",
    "        <li>Keep your code as well as outputs short, precise and readable. Each long or unnecessary output subtracts -2 points (up to the full 10 points for following the project guidelines).</li>\n",
    "    </ol>\n",
    "    <b>Late submissions are not accepted and earn you 0 points on the python project. </b>\n",
    "</div>"
   ]
  },
  {
   "cell_type": "markdown",
   "id": "ea992ba9-f942-445d-a515-16dc32837466",
   "metadata": {},
   "source": [
    "Explicitly list which notebook toolset was used (jupyter lab/jupyter notebook/VS Code/etc.) \n",
    "\n",
    "**here**: Jupyter Lab, Chrome"
   ]
  },
  {
   "cell_type": "markdown",
   "id": "92f63424-1d61-4b8b-94a6-f50afea65d79",
   "metadata": {
    "tags": []
   },
   "source": [
    "Explicitly and clearly state the chosen dataset number and title:\n",
    "### Arbeitsmarkt ODÖ \n",
    "## 99. Gesamtübersicht über die Arbeitslosigkeit - Bestand, Zugang, Abgang\n"
   ]
  },
  {
   "cell_type": "markdown",
   "id": "0999a549-323a-4537-963f-3a1a746b77fd",
   "metadata": {},
   "source": [
    "## E1 - Obtain and Scrub"
   ]
  },
  {
   "attachments": {
    "8eab5647-0d31-4875-a3ac-990349e90b76.png": {
     "image/png": "[encoded data removed]"
    }
   },
   "cell_type": "markdown",
   "id": "937713cc-715f-4930-ae10-ebeeaec55685",
   "metadata": {},
   "source": [
    "### Obtain\n",
    "Download the dataset and understand both: \n",
    "- format: wide vs. long, separaters, decimal points, encoding, etc., and \n",
    "- content: what variables are in the columns, what is their meaning?\n",
    "To this end, identify and download metadata such as headers, category listings, explanatory reports, etc.\n",
    "### Scrub\n",
    "The aim of scrub is to create a clean version of the data for further analysis. \n",
    "- Load the dataset and take care of dtypes (dates, numbers, categories, etc.). Justify why you don't load/use specific columns.\n",
    "- Check for footnotes or any other notifications on special cell content, such as time series breaks. Follow up that information, and document your decision how to deal with it. Remember: The homework 4 contained such info in the cell \"76.1 b\". The metadata defines what that \"b\" stands for.\n",
    "![image.png](attachment:8eab5647-0d31-4875-a3ac-990349e90b76.png)\n",
    "- Choose an appropriate (Multi-)Index.\n",
    "- Identify:\n",
    "    1. missing values and get row and column overviews. Use graphical and/or numeric approaches. Once identified, handle missing values according to column type, time series property and data set size.\n",
    "    2. duplicates (justify the used column subset). Remove duplicates - if any - and inspect what you removed.\n",
    "- Transform to shape (tidy vs. wide) best suited for further analysis.\n",
    "- Export the clean data to a file for inspection with an external data browser (e.g., MS Excel).\n",
    "- Provide an overview of the clean dataset:\n",
    "    1. show the dtypes\n",
    "    2. quantitative column descriptions: \n",
    "        1. categorical columns: number of unique values, counts \n",
    "        2. numeric columns: range and median"
   ]
  },
  {
   "cell_type": "markdown",
   "id": "3a05f42a-135e-4f2d-8ef0-b42bd53da4bf",
   "metadata": {},
   "source": [
    "### Bevökerung ODÖ \n",
    "## 99. Hunde pro Bezirk Wien"
   ]
  },
  {
   "cell_type": "markdown",
   "id": "67038543-5fb5-4ca7-9089-13364b2b4c9b",
   "metadata": {},
   "source": [
    "This notebook was created using Jupyter Lab."
   ]
  },
  {
   "cell_type": "markdown",
   "id": "95e5eac8-92d5-46fc-8f2d-a5ac39510bde",
   "metadata": {},
   "source": [
    "## Libraries"
   ]
  },
  {
   "cell_type": "code",
   "execution_count": 1,
   "id": "2fdff4a7-c0e5-46e7-8276-24d372ec4228",
   "metadata": {
    "tags": []
   },
   "outputs": [],
   "source": [
    "#libraries\n",
    "import pandas as pd\n",
    "import matplotlib.pyplot as plt\n",
    "import seaborn as sns"
   ]
  },
  {
   "cell_type": "markdown",
   "id": "ca9b8778-1bd8-48bf-9db5-8dadd6aa3b0b",
   "metadata": {},
   "source": [
    "## Obtain and Scrub"
   ]
  },
  {
   "cell_type": "code",
   "execution_count": 2,
   "id": "cec63c55-0a55-4b05-943f-565ed1aa2b06",
   "metadata": {},
   "outputs": [],
   "source": [
    "# E1:\n",
    "\n",
    "# load data\n",
    "df=pd.read_csv('hunde-wien.csv', sep = ';',encoding= 'latin-1', header = 1, thousands='.')\n",
    "\n",
    "# drop unnecessary columns\n",
    "df.drop(['NUTS1','NUTS2','NUTS3','SUB_DISTRICT_CODE','Ref_Date'], axis=1, inplace=True)\n",
    "\n",
    "# add column \"inner_district\"\n",
    "def district(row):\n",
    "    if row['Postal_CODE'] in (1100, 1110, 1120, 1130, 1140, 1150, 1160, 1170, 1180, 1190, 1200, 1210, 1220,1230):\n",
    "        return 0\n",
    "    elif 1 <= row['Postal_CODE'] in (1010, 1020, 1030, 1040, 1050, 1060, 1070, 1080, 1090):\n",
    "        return 1\n",
    "    else:\n",
    "        return None \n",
    "df['inner_district'] = df.apply(district,axis=1)\n",
    "\n",
    "# add column \"mixed_breed\"\n",
    "def breed(row):\n",
    "    if '/' in row['Dog Breed']:\n",
    "        return 1\n",
    "    else:\n",
    "        return 0\n",
    "df['mixed_breed'] = df.apply(breed,axis=1)\n",
    "\n",
    "# clean column names\n",
    "df.columns = df.columns.str.lower().str.replace(' ', '_')"
   ]
  },
  {
   "cell_type": "markdown",
   "id": "6b3dec7b-c9e9-44f1-b807-be2e1b25fd7a",
   "metadata": {},
   "source": [
    "We used pandas *read_csv* to read our data into jupyter lab.The column separater is a semicolon and encoding is *latin-1* (also known as ISO-8859-1). It covers a limited set of characters, primarily from the Latin alphabet, digits, and some special characters. The first row in the file represents the header. The data is in a long format."
   ]
  },
  {
   "cell_type": "markdown",
   "id": "95559427-24ce-44ad-8f7b-43106e7843e6",
   "metadata": {},
   "source": [
    "In the next step, we dropped the columns *NUTS1, NUTS2, NUTS3, SUB_DISTRICT_CODE* and *Ref_Date* which are not relevant for our analysis. \n",
    "\n",
    "- NUTS (Nomenclature of Territorial Units for Statistics) is a classification system used by the European Union for statistical and administrative purposes.*NUTS1, NUTS2, NUTS3* indicate the level in the hierarchy.In our case, every row has the same level of the hierachy in all three columns. Therefore, these columns do not provide any additional information for our data.\n",
    "- The column *SUB_DISTRICT_CODE* contains \".\" in every row, thus can be dropped aswell. \n",
    "- *Ref_Date* is also the same for very row and shows when the data was last modified."
   ]
  },
  {
   "cell_type": "markdown",
   "id": "aee67f5e-1f8f-454c-a696-d11ec576b810",
   "metadata": {},
   "source": [
    "Afterward, we cleaned up the column names by formatting everything in lowercase and replacing spaces with underscores."
   ]
  },
  {
   "cell_type": "markdown",
   "id": "16523f65-bc91-4c14-ab20-745342fe7953",
   "metadata": {
    "tags": []
   },
   "source": [
    "Following that, we added two extra columns *Inner district* and *mixed breed*.\n",
    "Thus, our columns for the analysis are the following:\n",
    "\n",
    "- **district_code**: The district code in Vienna is a numerical identifier assigned to each of the cities 23 districts\n",
    "- **postal_code**: The postal code in Vienna is a numerical code assigned to specific geographic areas within the city.\n",
    "- **dog_breed**: Specifies the breed of the dog.\n",
    "- **anzahl**: Specifies the number of dogs \n",
    "- **inner_district**: Boolean column, which is 1, if the district is an inner district (1-9), and 0 otherwise.\n",
    "- **mixed_breed**:  Boolean column, which is 1, if the breed is mixed, and 0 if it is purebred."
   ]
  },
  {
   "cell_type": "markdown",
   "id": "c732c857-6bea-48b8-b68d-6bbcc3744802",
   "metadata": {},
   "source": [
    "Our index is a simple numerical index, starting at 0."
   ]
  },
  {
   "cell_type": "markdown",
   "id": "99431dfa-2de7-48c6-ad62-11b00b24eadf",
   "metadata": {},
   "source": [
    "### Check for missing values and duplicates"
   ]
  },
  {
   "cell_type": "code",
   "execution_count": 3,
   "id": "dfd6d145-2ec6-4bf8-882b-0d82b69ffbe7",
   "metadata": {
    "tags": []
   },
   "outputs": [
    {
     "data": {
      "text/plain": [
       "district_code      int64\n",
       "postal_code        int64\n",
       "dog_breed         object\n",
       "anzahl             int64\n",
       "inner_district     int64\n",
       "mixed_breed        int64\n",
       "dtype: object"
      ]
     },
     "execution_count": 3,
     "metadata": {},
     "output_type": "execute_result"
    }
   ],
   "source": [
    "df.dtypes"
   ]
  },
  {
   "cell_type": "code",
   "execution_count": 4,
   "id": "c3726d8c-ef9f-455c-9e2b-3b8a1d6ec99f",
   "metadata": {
    "tags": []
   },
   "outputs": [
    {
     "data": {
      "text/plain": [
       "district_code     category\n",
       "postal_code       category\n",
       "dog_breed         category\n",
       "anzahl               int64\n",
       "inner_district    category\n",
       "mixed_breed       category\n",
       "dtype: object"
      ]
     },
     "execution_count": 4,
     "metadata": {},
     "output_type": "execute_result"
    }
   ],
   "source": [
    "df['district_code'] = df['district_code'].astype('category')\n",
    "df['postal_code'] = df['postal_code'].astype('category')\n",
    "df['inner_district'] = df['inner_district'].astype('category')\n",
    "df['mixed_breed'] = df['mixed_breed'].astype('category')\n",
    "df['dog_breed'] = df['dog_breed'].astype('category')\n",
    "df['anzahl'] = df['anzahl'].astype('int64')\n",
    "df.dtypes"
   ]
  },
  {
   "cell_type": "markdown",
   "id": "feac5a8e-4190-4b3f-9bf3-2653e00abe93",
   "metadata": {},
   "source": [
    "After changing the data types, we have 5 categorial columns and one integer being 'anzahl'. "
   ]
  },
  {
   "cell_type": "code",
   "execution_count": 5,
   "id": "8cf2dd5d-9dda-4ebc-837a-fef9f457a036",
   "metadata": {
    "tags": []
   },
   "outputs": [
    {
     "data": {
      "text/plain": [
       "district_code     0\n",
       "postal_code       0\n",
       "dog_breed         0\n",
       "anzahl            0\n",
       "inner_district    0\n",
       "mixed_breed       0\n",
       "dtype: int64"
      ]
     },
     "execution_count": 5,
     "metadata": {},
     "output_type": "execute_result"
    }
   ],
   "source": [
    "df.isnull().sum()"
   ]
  },
  {
   "cell_type": "markdown",
   "id": "b76fdcfe-044f-426c-a3af-bfa26d6aeafc",
   "metadata": {
    "tags": []
   },
   "source": [
    "There are no missing values in our columns."
   ]
  },
  {
   "cell_type": "code",
   "execution_count": 6,
   "id": "e2ef6f21-9c14-411b-b0aa-6d4469fd59fb",
   "metadata": {
    "tags": []
   },
   "outputs": [
    {
     "data": {
      "text/plain": [
       "0"
      ]
     },
     "execution_count": 6,
     "metadata": {},
     "output_type": "execute_result"
    }
   ],
   "source": [
    "df.duplicated().sum()"
   ]
  },
  {
   "cell_type": "markdown",
   "id": "23e573af-f1f8-4b5d-ad3b-3a9fb08136c3",
   "metadata": {},
   "source": [
    "Our data has no duplicates."
   ]
  },
  {
   "cell_type": "markdown",
   "id": "5b557f0f-7ac2-44da-bbb4-bc87db21723b",
   "metadata": {
    "tags": []
   },
   "source": [
    "### Save cleaned data"
   ]
  },
  {
   "cell_type": "code",
   "execution_count": 7,
   "id": "6db16905-989f-4b02-b785-be1dfc60f932",
   "metadata": {
    "tags": []
   },
   "outputs": [],
   "source": [
    "df.to_csv('dogs_cleaned.csv', index=False)"
   ]
  },
  {
   "cell_type": "markdown",
   "id": "6843359c-bbcf-4217-a316-d5586e6dc89f",
   "metadata": {
    "tags": []
   },
   "source": [
    "### Quantitative column description"
   ]
  },
  {
   "cell_type": "markdown",
   "id": "96b301e8-e767-453e-9304-59e90f3032af",
   "metadata": {},
   "source": [
    "#### Categorial columns"
   ]
  },
  {
   "cell_type": "code",
   "execution_count": 8,
   "id": "c57d4739-ec42-4da6-9932-ba582de0880c",
   "metadata": {
    "tags": []
   },
   "outputs": [
    {
     "name": "stdout",
     "output_type": "stream",
     "text": [
      "\n",
      "Column: district_code\n",
      "Number of unique values: 23\n",
      "Value counts:\n",
      "district_code\n",
      "92200    984\n",
      "92100    888\n",
      "91000    708\n",
      "92300    683\n",
      "90200    576\n",
      "91400    536\n",
      "90300    521\n",
      "91100    520\n",
      "91900    514\n",
      "91200    481\n",
      "91300    449\n",
      "91600    443\n",
      "91800    422\n",
      "92000    388\n",
      "91700    369\n",
      "91500    351\n",
      "90900    315\n",
      "90500    298\n",
      "90400    250\n",
      "90700    235\n",
      "90600    211\n",
      "90800    198\n",
      "90100    182\n",
      "Name: count, dtype: int64\n",
      "\n",
      "Column: postal_code\n",
      "Number of unique values: 23\n",
      "Value counts:\n",
      "postal_code\n",
      "1220    984\n",
      "1210    888\n",
      "1100    708\n",
      "1230    683\n",
      "1020    576\n",
      "1140    536\n",
      "1030    521\n",
      "1110    520\n",
      "1190    514\n",
      "1120    481\n",
      "1130    449\n",
      "1160    443\n",
      "1180    422\n",
      "1200    388\n",
      "1170    369\n",
      "1150    351\n",
      "1090    315\n",
      "1050    298\n",
      "1040    250\n",
      "1070    235\n",
      "1060    211\n",
      "1080    198\n",
      "1010    182\n",
      "Name: count, dtype: int64\n",
      "\n",
      "Column: dog_breed\n",
      "Number of unique values: 3214\n",
      "Value counts:\n",
      "dog_breed\n",
      "English Cocker Spaniel einfärbig                       23\n",
      "Border Collie / Mischling                              23\n",
      "Siberian Husky                                         23\n",
      "Jack Russell Terrier                                   23\n",
      "Französische Bulldogge                                 23\n",
      "                                                       ..\n",
      "Fox Terrier glatthaar / Deutsch Drahthaar               1\n",
      "Fox Terrier glatthaar / Deutsch Kurzhaar                1\n",
      "Fox Terrier glatthaar / Deutscher Pinscher              1\n",
      "Fox Terrier glatthaar / Fox Terrier drahthaar           1\n",
      "Österreichischer Pinscher / Zwergspitz (Pomeranian)     1\n",
      "Name: count, Length: 3214, dtype: int64\n",
      "\n",
      "Column: inner_district\n",
      "Number of unique values: 2\n",
      "Value counts:\n",
      "inner_district\n",
      "0    7736\n",
      "1    2786\n",
      "Name: count, dtype: int64\n",
      "\n",
      "Column: mixed_breed\n",
      "Number of unique values: 2\n",
      "Value counts:\n",
      "mixed_breed\n",
      "1    6533\n",
      "0    3989\n",
      "Name: count, dtype: int64\n"
     ]
    }
   ],
   "source": [
    "categorical_columns = df.select_dtypes(include='category').columns\n",
    "\n",
    "for column in categorical_columns:\n",
    "    unique_values_count = df[column].nunique()\n",
    "    value_counts = df[column].value_counts()\n",
    "    \n",
    "    print(f\"\\nColumn: {column}\")\n",
    "    print(f\"Number of unique values: {unique_values_count}\")\n",
    "    print(\"Value counts:\")\n",
    "    print(value_counts)"
   ]
  },
  {
   "cell_type": "markdown",
   "id": "52fe2bea-42ed-4862-9609-f0b096cd90bc",
   "metadata": {},
   "source": [
    "#### Numerical columns"
   ]
  },
  {
   "cell_type": "code",
   "execution_count": 9,
   "id": "53058cf9-d39e-48e9-99f4-26603a2124ee",
   "metadata": {
    "tags": []
   },
   "outputs": [
    {
     "name": "stdout",
     "output_type": "stream",
     "text": [
      "Range of column 'anzahl': 1065\n"
     ]
    }
   ],
   "source": [
    "range = df['anzahl'].max() - df['anzahl'].min()\n",
    "print(f\"Range of column 'anzahl': {range}\")"
   ]
  },
  {
   "cell_type": "code",
   "execution_count": 10,
   "id": "5c495fde-b795-401d-b6e7-0c4a5341883e",
   "metadata": {
    "tags": []
   },
   "outputs": [
    {
     "name": "stdout",
     "output_type": "stream",
     "text": [
      "Median of column 'anzahl': 1.0\n"
     ]
    }
   ],
   "source": [
    "median = df['anzahl'].median()\n",
    "print(f\"Median of column 'anzahl': {median}\")"
   ]
  },
  {
   "cell_type": "markdown",
   "id": "b041e827-fd81-4eb8-95d3-9e6ae1c77ca7",
   "metadata": {
    "tags": []
   },
   "source": [
    "## E2 - Exploratory data analysis (EDA)\n",
    "Use the clean dataset and to understand and explore the relationships in the data (numerical, visual, statistical). This includes at least but is not limited to:\n",
    "- A comprehensive textual description of meaning for relevant fields in the dataset\n",
    "- Statistical/numerical descriptions and visualization techniques we learned in the course inluding correlations, distributions and groupings of variing degrees.\n",
    "- Checks for data quality, e. g., completeness, plausibility, outliers\n",
    "- Handling any identified problems with the data\n",
    "- If necessary, use additional data wrangling in line with your EDA and only keep what's necessary for the following steps of your analysis with appropriate data granularity and form (\"tidy data\")\n",
    "\n",
    "Don't:\n",
    "- test/prove hypotheses here. EDA should only motivate hypotheses. \n",
    "\n",
    "Advanced/bonus:\n",
    "- Depending on your hypothesis you may want to join external data (e.g., merge external highest education level to existing vaccination data) for additional insights.\n",
    "\n",
    "Explain all steps taken and your thinking why you deem them necessary."
   ]
  },
  {
   "cell_type": "code",
   "execution_count": 11,
   "id": "370ab718-fa85-4fd8-adee-7643970042ad",
   "metadata": {},
   "outputs": [
    {
     "data": {
      "text/html": [
       "<div>\n",
       "<style scoped>\n",
       "    .dataframe tbody tr th:only-of-type {\n",
       "        vertical-align: middle;\n",
       "    }\n",
       "\n",
       "    .dataframe tbody tr th {\n",
       "        vertical-align: top;\n",
       "    }\n",
       "\n",
       "    .dataframe thead th {\n",
       "        text-align: right;\n",
       "    }\n",
       "</style>\n",
       "<table border=\"1\" class=\"dataframe\">\n",
       "  <thead>\n",
       "    <tr style=\"text-align: right;\">\n",
       "      <th></th>\n",
       "      <th>district_code</th>\n",
       "      <th>postal_code</th>\n",
       "      <th>dog_breed</th>\n",
       "      <th>anzahl</th>\n",
       "      <th>inner_district</th>\n",
       "      <th>mixed_breed</th>\n",
       "    </tr>\n",
       "  </thead>\n",
       "  <tbody>\n",
       "    <tr>\n",
       "      <th>0</th>\n",
       "      <td>90100</td>\n",
       "      <td>1010</td>\n",
       "      <td>Akita / Belgischer Schäferhund</td>\n",
       "      <td>1</td>\n",
       "      <td>1</td>\n",
       "      <td>1</td>\n",
       "    </tr>\n",
       "    <tr>\n",
       "      <th>1</th>\n",
       "      <td>90100</td>\n",
       "      <td>1010</td>\n",
       "      <td>American Cocker Spaniel</td>\n",
       "      <td>2</td>\n",
       "      <td>1</td>\n",
       "      <td>0</td>\n",
       "    </tr>\n",
       "    <tr>\n",
       "      <th>2</th>\n",
       "      <td>90100</td>\n",
       "      <td>1010</td>\n",
       "      <td>American Cocker Spaniel / Pudel</td>\n",
       "      <td>1</td>\n",
       "      <td>1</td>\n",
       "      <td>1</td>\n",
       "    </tr>\n",
       "    <tr>\n",
       "      <th>3</th>\n",
       "      <td>90100</td>\n",
       "      <td>1010</td>\n",
       "      <td>American Staffordshire Terrier</td>\n",
       "      <td>1</td>\n",
       "      <td>1</td>\n",
       "      <td>0</td>\n",
       "    </tr>\n",
       "    <tr>\n",
       "      <th>4</th>\n",
       "      <td>90100</td>\n",
       "      <td>1010</td>\n",
       "      <td>Australian Shepherd</td>\n",
       "      <td>5</td>\n",
       "      <td>1</td>\n",
       "      <td>0</td>\n",
       "    </tr>\n",
       "  </tbody>\n",
       "</table>\n",
       "</div>"
      ],
      "text/plain": [
       "   district_code  postal_code                        dog_breed  anzahl  \\\n",
       "0          90100         1010   Akita / Belgischer Schäferhund       1   \n",
       "1          90100         1010          American Cocker Spaniel       2   \n",
       "2          90100         1010  American Cocker Spaniel / Pudel       1   \n",
       "3          90100         1010   American Staffordshire Terrier       1   \n",
       "4          90100         1010              Australian Shepherd       5   \n",
       "\n",
       "   inner_district  mixed_breed  \n",
       "0               1            1  \n",
       "1               1            0  \n",
       "2               1            1  \n",
       "3               1            0  \n",
       "4               1            0  "
      ]
     },
     "execution_count": 11,
     "metadata": {},
     "output_type": "execute_result"
    }
   ],
   "source": [
    "df = pd.read_csv(\"dogs_cleaned.csv\")\n",
    "df.head()"
   ]
  },
  {
   "cell_type": "markdown",
   "id": "d696f95e",
   "metadata": {},
   "source": [
    "#### Groupy by inner/outer districts"
   ]
  },
  {
   "cell_type": "code",
   "execution_count": 12,
   "id": "bc62f132-be6d-46cc-9697-25546ac356cb",
   "metadata": {
    "tags": []
   },
   "outputs": [],
   "source": [
    "# Group by 'dog_breed' and 'inner_outer', then sum the 'anzahl' for each group\n",
    "result = df.groupby(['dog_breed', 'inner_district']).agg(summe_anzahl=('anzahl', 'sum')).reset_index()\n",
    "\n",
    "# Sort the result by 'summe_anzahl' in descending order\n",
    "result = result.sort_values(by='summe_anzahl', ascending=False)"
   ]
  },
  {
   "cell_type": "code",
   "execution_count": 13,
   "id": "8e424414-d82b-454e-8094-4fad18dbbb08",
   "metadata": {
    "tags": []
   },
   "outputs": [
    {
     "data": {
      "text/html": [
       "<div>\n",
       "<style scoped>\n",
       "    .dataframe tbody tr th:only-of-type {\n",
       "        vertical-align: middle;\n",
       "    }\n",
       "\n",
       "    .dataframe tbody tr th {\n",
       "        vertical-align: top;\n",
       "    }\n",
       "\n",
       "    .dataframe thead th {\n",
       "        text-align: right;\n",
       "    }\n",
       "</style>\n",
       "<table border=\"1\" class=\"dataframe\">\n",
       "  <thead>\n",
       "    <tr style=\"text-align: right;\">\n",
       "      <th></th>\n",
       "      <th>dog_breed</th>\n",
       "      <th>inner_district</th>\n",
       "      <th>summe_anzahl</th>\n",
       "    </tr>\n",
       "  </thead>\n",
       "  <tbody>\n",
       "    <tr>\n",
       "      <th>3669</th>\n",
       "      <td>Unbekannt / Mischling</td>\n",
       "      <td>1</td>\n",
       "      <td>1104</td>\n",
       "    </tr>\n",
       "    <tr>\n",
       "      <th>2343</th>\n",
       "      <td>Labrador Retriever</td>\n",
       "      <td>1</td>\n",
       "      <td>380</td>\n",
       "    </tr>\n",
       "    <tr>\n",
       "      <th>3665</th>\n",
       "      <td>Unbekannt</td>\n",
       "      <td>1</td>\n",
       "      <td>348</td>\n",
       "    </tr>\n",
       "    <tr>\n",
       "      <th>807</th>\n",
       "      <td>Chihuahua Kurzhaar</td>\n",
       "      <td>1</td>\n",
       "      <td>316</td>\n",
       "    </tr>\n",
       "    <tr>\n",
       "      <th>2673</th>\n",
       "      <td>Malteser</td>\n",
       "      <td>1</td>\n",
       "      <td>286</td>\n",
       "    </tr>\n",
       "    <tr>\n",
       "      <th>1637</th>\n",
       "      <td>Französische Bulldogge</td>\n",
       "      <td>1</td>\n",
       "      <td>246</td>\n",
       "    </tr>\n",
       "    <tr>\n",
       "      <th>3800</th>\n",
       "      <td>Yorkshire Terrier</td>\n",
       "      <td>1</td>\n",
       "      <td>225</td>\n",
       "    </tr>\n",
       "    <tr>\n",
       "      <th>1675</th>\n",
       "      <td>Golden Retriever</td>\n",
       "      <td>1</td>\n",
       "      <td>211</td>\n",
       "    </tr>\n",
       "    <tr>\n",
       "      <th>2470</th>\n",
       "      <td>Labrador Retriever / Mischling</td>\n",
       "      <td>1</td>\n",
       "      <td>193</td>\n",
       "    </tr>\n",
       "    <tr>\n",
       "      <th>115</th>\n",
       "      <td>American Staffordshire Terrier</td>\n",
       "      <td>1</td>\n",
       "      <td>168</td>\n",
       "    </tr>\n",
       "  </tbody>\n",
       "</table>\n",
       "</div>"
      ],
      "text/plain": [
       "                           dog_breed  inner_district  summe_anzahl\n",
       "3669           Unbekannt / Mischling               1          1104\n",
       "2343              Labrador Retriever               1           380\n",
       "3665                       Unbekannt               1           348\n",
       "807               Chihuahua Kurzhaar               1           316\n",
       "2673                        Malteser               1           286\n",
       "1637          Französische Bulldogge               1           246\n",
       "3800               Yorkshire Terrier               1           225\n",
       "1675                Golden Retriever               1           211\n",
       "2470  Labrador Retriever / Mischling               1           193\n",
       "115   American Staffordshire Terrier               1           168"
      ]
     },
     "execution_count": 13,
     "metadata": {},
     "output_type": "execute_result"
    }
   ],
   "source": [
    "result_inner = result[result['inner_district'] == 1]\n",
    "result_inner.head(10)"
   ]
  },
  {
   "cell_type": "code",
   "execution_count": 14,
   "id": "7c0eb68d-15f6-40b1-ae1c-5d07b7ee80c4",
   "metadata": {
    "tags": []
   },
   "outputs": [
    {
     "data": {
      "text/html": [
       "<div>\n",
       "<style scoped>\n",
       "    .dataframe tbody tr th:only-of-type {\n",
       "        vertical-align: middle;\n",
       "    }\n",
       "\n",
       "    .dataframe tbody tr th {\n",
       "        vertical-align: top;\n",
       "    }\n",
       "\n",
       "    .dataframe thead th {\n",
       "        text-align: right;\n",
       "    }\n",
       "</style>\n",
       "<table border=\"1\" class=\"dataframe\">\n",
       "  <thead>\n",
       "    <tr style=\"text-align: right;\">\n",
       "      <th></th>\n",
       "      <th>dog_breed</th>\n",
       "      <th>inner_district</th>\n",
       "      <th>summe_anzahl</th>\n",
       "    </tr>\n",
       "  </thead>\n",
       "  <tbody>\n",
       "    <tr>\n",
       "      <th>3668</th>\n",
       "      <td>Unbekannt / Mischling</td>\n",
       "      <td>0</td>\n",
       "      <td>5436</td>\n",
       "    </tr>\n",
       "    <tr>\n",
       "      <th>806</th>\n",
       "      <td>Chihuahua Kurzhaar</td>\n",
       "      <td>0</td>\n",
       "      <td>2200</td>\n",
       "    </tr>\n",
       "    <tr>\n",
       "      <th>2342</th>\n",
       "      <td>Labrador Retriever</td>\n",
       "      <td>0</td>\n",
       "      <td>1874</td>\n",
       "    </tr>\n",
       "    <tr>\n",
       "      <th>3664</th>\n",
       "      <td>Unbekannt</td>\n",
       "      <td>0</td>\n",
       "      <td>1870</td>\n",
       "    </tr>\n",
       "    <tr>\n",
       "      <th>2672</th>\n",
       "      <td>Malteser</td>\n",
       "      <td>0</td>\n",
       "      <td>1610</td>\n",
       "    </tr>\n",
       "    <tr>\n",
       "      <th>1636</th>\n",
       "      <td>Französische Bulldogge</td>\n",
       "      <td>0</td>\n",
       "      <td>1328</td>\n",
       "    </tr>\n",
       "    <tr>\n",
       "      <th>114</th>\n",
       "      <td>American Staffordshire Terrier</td>\n",
       "      <td>0</td>\n",
       "      <td>1216</td>\n",
       "    </tr>\n",
       "    <tr>\n",
       "      <th>1674</th>\n",
       "      <td>Golden Retriever</td>\n",
       "      <td>0</td>\n",
       "      <td>1082</td>\n",
       "    </tr>\n",
       "    <tr>\n",
       "      <th>3799</th>\n",
       "      <td>Yorkshire Terrier</td>\n",
       "      <td>0</td>\n",
       "      <td>1068</td>\n",
       "    </tr>\n",
       "    <tr>\n",
       "      <th>2469</th>\n",
       "      <td>Labrador Retriever / Mischling</td>\n",
       "      <td>0</td>\n",
       "      <td>1043</td>\n",
       "    </tr>\n",
       "  </tbody>\n",
       "</table>\n",
       "</div>"
      ],
      "text/plain": [
       "                           dog_breed  inner_district  summe_anzahl\n",
       "3668           Unbekannt / Mischling               0          5436\n",
       "806               Chihuahua Kurzhaar               0          2200\n",
       "2342              Labrador Retriever               0          1874\n",
       "3664                       Unbekannt               0          1870\n",
       "2672                        Malteser               0          1610\n",
       "1636          Französische Bulldogge               0          1328\n",
       "114   American Staffordshire Terrier               0          1216\n",
       "1674                Golden Retriever               0          1082\n",
       "3799               Yorkshire Terrier               0          1068\n",
       "2469  Labrador Retriever / Mischling               0          1043"
      ]
     },
     "execution_count": 14,
     "metadata": {},
     "output_type": "execute_result"
    }
   ],
   "source": [
    "result_outer = result[result['inner_district'] == 0]\n",
    "result_outer.head(10)"
   ]
  },
  {
   "cell_type": "markdown",
   "id": "4f7f3492",
   "metadata": {},
   "source": [
    "#### Group by district"
   ]
  },
  {
   "cell_type": "code",
   "execution_count": 15,
   "id": "9f929c5c-13af-4eeb-b653-0585c1bf348f",
   "metadata": {
    "tags": []
   },
   "outputs": [
    {
     "name": "stderr",
     "output_type": "stream",
     "text": [
      "/var/folders/nz/f22pg32j02lchrlshk_ycsrw0000gp/T/ipykernel_17679/882735992.py:5: FutureWarning: \n",
      "\n",
      "Passing `palette` without assigning `hue` is deprecated and will be removed in v0.14.0. Assign the `x` variable to `hue` and set `legend=False` for the same effect.\n",
      "\n",
      "  ax0 = sns.barplot(x=dogs_per_district.index, y=dogs_per_district['anzahl'], palette=sns.color_palette(\"viridis\"))\n",
      "/var/folders/nz/f22pg32j02lchrlshk_ycsrw0000gp/T/ipykernel_17679/882735992.py:5: UserWarning: \n",
      "The palette list has fewer values (6) than needed (23) and will cycle, which may produce an uninterpretable plot.\n",
      "  ax0 = sns.barplot(x=dogs_per_district.index, y=dogs_per_district['anzahl'], palette=sns.color_palette(\"viridis\"))\n"
     ]
    },
    {
     "data": {
      "text/plain": [
       "Text(0, 0.5, 'Number of dogs')"
      ]
     },
     "execution_count": 15,
     "metadata": {},
     "output_type": "execute_result"
    },
    {
     "data": {
      "image/png": "[encoded data removed]",
      "text/plain": [
       "<Figure size 1300x700 with 1 Axes>"
      ]
     },
     "metadata": {},
     "output_type": "display_data"
    }
   ],
   "source": [
    "dogs_per_district = df.groupby('postal_code')['anzahl'].sum().reset_index().set_index('postal_code')\n",
    "\n",
    "# Barplot\n",
    "plt.figure(figsize=(12, 8))\n",
    "ax0 = sns.barplot(x=dogs_per_district.index, y=dogs_per_district['anzahl'], palette=sns.color_palette(\"viridis\"))\n",
    "ax0.figure.set_size_inches(13, 7)\n",
    "\n",
    "plt.title(\"Number of dogs per district\")\n",
    "plt.xlabel(\"Postal code\")\n",
    "plt.ylabel(\"Number of dogs\")"
   ]
  },
  {
   "cell_type": "markdown",
   "id": "be77be7b",
   "metadata": {},
   "source": [
    "#### Group by mixed/purebred"
   ]
  },
  {
   "cell_type": "code",
   "execution_count": 16,
   "id": "58312681-9cb1-421a-b876-45cc01f1e52c",
   "metadata": {
    "tags": []
   },
   "outputs": [
    {
     "data": {
      "image/png": "[encoded data removed]",
      "text/plain": [
       "<Figure size 640x480 with 1 Axes>"
      ]
     },
     "metadata": {},
     "output_type": "display_data"
    }
   ],
   "source": [
    "dogs_mixed = df.groupby('mixed_breed')['anzahl'].sum()\n",
    "\n",
    "# Erstelle ein Barplot\n",
    "ax = dogs_mixed.plot(kind='bar', color='darkblue')\n",
    "plt.title('Number of dogs for mixed/purebred')\n",
    "plt.xlabel('District')\n",
    "plt.ylabel('Number of dogs')\n",
    "ax.yaxis.grid(linestyle='dashed')"
   ]
  },
  {
   "cell_type": "code",
   "execution_count": 17,
   "id": "a2f57b3c-e753-4657-a797-3c426d29be3b",
   "metadata": {
    "tags": []
   },
   "outputs": [
    {
     "data": {
      "image/png": "[encoded data removed]",
      "text/plain": [
       "<Figure size 640x480 with 1 Axes>"
      ]
     },
     "metadata": {},
     "output_type": "display_data"
    }
   ],
   "source": [
    "# Create a grouped bar chart\n",
    "fig, ax = plt.subplots()\n",
    "\n",
    "# Group the DataFrame by 'postal_code' and 'mixed_breed' and sum the 'anzahl'\n",
    "grouped_data = df.groupby(['postal_code', 'mixed_breed'])['anzahl'].sum().unstack()\n",
    "\n",
    "# Plot the grouped data\n",
    "grouped_data.plot(kind='bar', ax=ax)\n",
    "\n",
    "plt.title('Number of dogs per district')\n",
    "plt.xlabel('District')\n",
    "plt.ylabel('Number of Dogs')\n",
    "\n",
    "plt.legend(title='', labels=['purebred', 'mixed']);"
   ]
  },
  {
   "cell_type": "markdown",
   "id": "277ea477-7d0c-407b-970e-212d64b5ec94",
   "metadata": {},
   "source": [
    "## E3 - Formulate hypotheses\n",
    "\n",
    "*Note: Read this section entirely and understand it - every group member.*\n",
    "\n",
    "A hypothesis is an idea or explanation for something that is based on known facts but has not yet been proved. A hypothesis is a compact, concise statement, such as: \"Individuals with higher income have (on average) more offspring.\", that will be answered based on facts (the data). https://gradcoach.com/what-is-a-research-hypothesis-or-scientific-hypothesis/\n",
    "\n",
    "Formulate 5 non-trivial hypotheses, 1 per group member, and regard the following criteria: \n",
    "- State the hypothesis explicitly in concise language. \n",
    "- The hypothesis must be **motivated** by either **EDA results** or **literature** (citation in the report needed).\n",
    "- The hypothesis must refer to **endpoints** that are **testable**. Specifically, the endpoint must be derived from the data.\n",
    "- Think of real-life use cases/consequences of your results (textual description). \n",
    "- For each hypothesis explain all executed steps. \n",
    "- In case of extreme or implausible results check the validity of your data.\n",
    "- For each hypothesis export the artifacts (figures, tables, etc.) required for the report.\n",
    "- If you decide to use a statistical test, use it properly. In particular, check the validity and comparability of the samples.\n",
    "\n",
    "Do not:\n",
    "- State nebulous, vague hypotheses. These don't contain endpoints and are unclear to test (i.e., answer).\n",
    "- Use post-hoc hypotheses. Portraying an empirically inspired **post hoc hypothesis as a priori** violates the **falsification principle** crucial for hypothesis-driven (that is, confirmatory) empirical research. Falsification is severe scientific fraud.\n",
    "- State trivial hypotheses (e.g., hypthesis 2: \"Not Hypothesis 1\").\n",
    "- Answer based on \"common knowledge\".\n",
    "- Try to **produce positively tested hypotheses**. If a well motivated hypothesis is negative, this is an important finding (see Simpson's Paradox). The value of a tested hypothesis lies in the information or learning it provides.\n",
    "\n",
    "Example: The homework with Simpson's Paradox. The pooled overall comparison between the genders would be the EDA motivating the hypothesis: \"At UC Berkeley the by-department admissions rate for females is lower than for males.\" It should be tested using samples of department admission rates for the 2 **groups** male and female. No steps of the test should be done in EDA (or a priory to stating the hypothesis). The groups should be compared graphically, e.g., via a stripplot overlayed with a boxplot. The figure should be labelled properly and exported for the report. A (paired) t-test *may* be used to test this hypothesis statistically. For different data (e.g., time series) different approaches may be required.\n"
   ]
  },
  {
   "cell_type": "markdown",
   "id": "09613f9f-d3ff-4b8d-b975-88437a72815c",
   "metadata": {},
   "source": [
    "### E3-H1: \"xxx\"\n",
    "Author: Group member 1\n"
   ]
  },
  {
   "cell_type": "code",
   "execution_count": null,
   "id": "702cdce9-5d4f-41f3-8b9e-a4363ec5d8d5",
   "metadata": {},
   "outputs": [],
   "source": []
  },
  {
   "cell_type": "markdown",
   "id": "8a404fa7-19f3-49bc-adc7-9a6ae07da0c9",
   "metadata": {},
   "source": [
    "### E3-H2: \"In outer districts the proportion of mixed-breed dogs is higher compared to purebred dogs.\"\n",
    "Author: Kathrin Schumich\n",
    "\n"
   ]
  },
  {
   "cell_type": "markdown",
   "id": "7a3db7c0",
   "metadata": {},
   "source": [
    "#### Grouped by inner/outer districts"
   ]
  },
  {
   "cell_type": "code",
   "execution_count": 18,
   "id": "4a3711e0-13d6-4115-9d64-c9f154d27f7f",
   "metadata": {},
   "outputs": [
    {
     "data": {
      "text/html": [
       "<div>\n",
       "<style scoped>\n",
       "    .dataframe tbody tr th:only-of-type {\n",
       "        vertical-align: middle;\n",
       "    }\n",
       "\n",
       "    .dataframe tbody tr th {\n",
       "        vertical-align: top;\n",
       "    }\n",
       "\n",
       "    .dataframe thead th {\n",
       "        text-align: right;\n",
       "    }\n",
       "</style>\n",
       "<table border=\"1\" class=\"dataframe\">\n",
       "  <thead>\n",
       "    <tr style=\"text-align: right;\">\n",
       "      <th>mixed_breed</th>\n",
       "      <th>0</th>\n",
       "      <th>1</th>\n",
       "      <th>Total</th>\n",
       "    </tr>\n",
       "    <tr>\n",
       "      <th>inner_district</th>\n",
       "      <th></th>\n",
       "      <th></th>\n",
       "      <th></th>\n",
       "    </tr>\n",
       "  </thead>\n",
       "  <tbody>\n",
       "    <tr>\n",
       "      <th>0</th>\n",
       "      <td>2726</td>\n",
       "      <td>5010</td>\n",
       "      <td>7736</td>\n",
       "    </tr>\n",
       "    <tr>\n",
       "      <th>1</th>\n",
       "      <td>1263</td>\n",
       "      <td>1523</td>\n",
       "      <td>2786</td>\n",
       "    </tr>\n",
       "    <tr>\n",
       "      <th>Total</th>\n",
       "      <td>3989</td>\n",
       "      <td>6533</td>\n",
       "      <td>10522</td>\n",
       "    </tr>\n",
       "  </tbody>\n",
       "</table>\n",
       "</div>"
      ],
      "text/plain": [
       "mixed_breed        0     1  Total\n",
       "inner_district                   \n",
       "0               2726  5010   7736\n",
       "1               1263  1523   2786\n",
       "Total           3989  6533  10522"
      ]
     },
     "execution_count": 18,
     "metadata": {},
     "output_type": "execute_result"
    }
   ],
   "source": [
    "contingency_table = pd.crosstab(df['inner_district'], df['mixed_breed'], margins=True, margins_name='Total')\n",
    "contingency_table"
   ]
  },
  {
   "cell_type": "code",
   "execution_count": 19,
   "id": "21de23f2",
   "metadata": {},
   "outputs": [
    {
     "data": {
      "text/plain": [
       "Text(0.5, 1.0, 'Normalized Cross-Tabulation')"
      ]
     },
     "execution_count": 19,
     "metadata": {},
     "output_type": "execute_result"
    },
    {
     "data": {
      "image/png": "[encoded data removed]",
      "text/plain": [
       "<Figure size 800x600 with 2 Axes>"
      ]
     },
     "metadata": {},
     "output_type": "display_data"
    }
   ],
   "source": [
    "contingency_table2 = pd.crosstab(df['inner_district'], df['mixed_breed'], normalize='index').round(2)\n",
    "plt.figure(figsize=(8, 6))\n",
    "sns.heatmap(contingency_table2, annot=True, cmap='Greens', cbar=True, fmt=\".2f\")\n",
    "plt.title('Normalized Cross-Tabulation')"
   ]
  },
  {
   "cell_type": "markdown",
   "id": "1284f3d1",
   "metadata": {},
   "source": [
    "#### Grouped by district"
   ]
  },
  {
   "cell_type": "code",
   "execution_count": 20,
   "id": "052b340a",
   "metadata": {},
   "outputs": [
    {
     "data": {
      "text/html": [
       "<div>\n",
       "<style scoped>\n",
       "    .dataframe tbody tr th:only-of-type {\n",
       "        vertical-align: middle;\n",
       "    }\n",
       "\n",
       "    .dataframe tbody tr th {\n",
       "        vertical-align: top;\n",
       "    }\n",
       "\n",
       "    .dataframe thead th {\n",
       "        text-align: right;\n",
       "    }\n",
       "</style>\n",
       "<table border=\"1\" class=\"dataframe\">\n",
       "  <thead>\n",
       "    <tr style=\"text-align: right;\">\n",
       "      <th>mixed_breed</th>\n",
       "      <th>0</th>\n",
       "      <th>1</th>\n",
       "      <th>Total</th>\n",
       "    </tr>\n",
       "    <tr>\n",
       "      <th>postal_code</th>\n",
       "      <th></th>\n",
       "      <th></th>\n",
       "      <th></th>\n",
       "    </tr>\n",
       "  </thead>\n",
       "  <tbody>\n",
       "    <tr>\n",
       "      <th>1010</th>\n",
       "      <td>101</td>\n",
       "      <td>81</td>\n",
       "      <td>182</td>\n",
       "    </tr>\n",
       "    <tr>\n",
       "      <th>1020</th>\n",
       "      <td>214</td>\n",
       "      <td>362</td>\n",
       "      <td>576</td>\n",
       "    </tr>\n",
       "    <tr>\n",
       "      <th>1030</th>\n",
       "      <td>203</td>\n",
       "      <td>318</td>\n",
       "      <td>521</td>\n",
       "    </tr>\n",
       "    <tr>\n",
       "      <th>1040</th>\n",
       "      <td>124</td>\n",
       "      <td>126</td>\n",
       "      <td>250</td>\n",
       "    </tr>\n",
       "    <tr>\n",
       "      <th>1050</th>\n",
       "      <td>133</td>\n",
       "      <td>165</td>\n",
       "      <td>298</td>\n",
       "    </tr>\n",
       "    <tr>\n",
       "      <th>1060</th>\n",
       "      <td>112</td>\n",
       "      <td>99</td>\n",
       "      <td>211</td>\n",
       "    </tr>\n",
       "    <tr>\n",
       "      <th>1070</th>\n",
       "      <td>121</td>\n",
       "      <td>114</td>\n",
       "      <td>235</td>\n",
       "    </tr>\n",
       "    <tr>\n",
       "      <th>1080</th>\n",
       "      <td>115</td>\n",
       "      <td>83</td>\n",
       "      <td>198</td>\n",
       "    </tr>\n",
       "    <tr>\n",
       "      <th>1090</th>\n",
       "      <td>140</td>\n",
       "      <td>175</td>\n",
       "      <td>315</td>\n",
       "    </tr>\n",
       "    <tr>\n",
       "      <th>1100</th>\n",
       "      <td>226</td>\n",
       "      <td>482</td>\n",
       "      <td>708</td>\n",
       "    </tr>\n",
       "    <tr>\n",
       "      <th>1110</th>\n",
       "      <td>185</td>\n",
       "      <td>335</td>\n",
       "      <td>520</td>\n",
       "    </tr>\n",
       "    <tr>\n",
       "      <th>1120</th>\n",
       "      <td>168</td>\n",
       "      <td>313</td>\n",
       "      <td>481</td>\n",
       "    </tr>\n",
       "    <tr>\n",
       "      <th>1130</th>\n",
       "      <td>190</td>\n",
       "      <td>259</td>\n",
       "      <td>449</td>\n",
       "    </tr>\n",
       "    <tr>\n",
       "      <th>1140</th>\n",
       "      <td>197</td>\n",
       "      <td>339</td>\n",
       "      <td>536</td>\n",
       "    </tr>\n",
       "    <tr>\n",
       "      <th>1150</th>\n",
       "      <td>146</td>\n",
       "      <td>205</td>\n",
       "      <td>351</td>\n",
       "    </tr>\n",
       "    <tr>\n",
       "      <th>1160</th>\n",
       "      <td>176</td>\n",
       "      <td>267</td>\n",
       "      <td>443</td>\n",
       "    </tr>\n",
       "    <tr>\n",
       "      <th>1170</th>\n",
       "      <td>160</td>\n",
       "      <td>209</td>\n",
       "      <td>369</td>\n",
       "    </tr>\n",
       "    <tr>\n",
       "      <th>1180</th>\n",
       "      <td>175</td>\n",
       "      <td>247</td>\n",
       "      <td>422</td>\n",
       "    </tr>\n",
       "    <tr>\n",
       "      <th>1190</th>\n",
       "      <td>204</td>\n",
       "      <td>310</td>\n",
       "      <td>514</td>\n",
       "    </tr>\n",
       "    <tr>\n",
       "      <th>1200</th>\n",
       "      <td>158</td>\n",
       "      <td>230</td>\n",
       "      <td>388</td>\n",
       "    </tr>\n",
       "    <tr>\n",
       "      <th>1210</th>\n",
       "      <td>256</td>\n",
       "      <td>632</td>\n",
       "      <td>888</td>\n",
       "    </tr>\n",
       "    <tr>\n",
       "      <th>1220</th>\n",
       "      <td>262</td>\n",
       "      <td>722</td>\n",
       "      <td>984</td>\n",
       "    </tr>\n",
       "    <tr>\n",
       "      <th>1230</th>\n",
       "      <td>223</td>\n",
       "      <td>460</td>\n",
       "      <td>683</td>\n",
       "    </tr>\n",
       "    <tr>\n",
       "      <th>Total</th>\n",
       "      <td>3989</td>\n",
       "      <td>6533</td>\n",
       "      <td>10522</td>\n",
       "    </tr>\n",
       "  </tbody>\n",
       "</table>\n",
       "</div>"
      ],
      "text/plain": [
       "mixed_breed     0     1  Total\n",
       "postal_code                   \n",
       "1010          101    81    182\n",
       "1020          214   362    576\n",
       "1030          203   318    521\n",
       "1040          124   126    250\n",
       "1050          133   165    298\n",
       "1060          112    99    211\n",
       "1070          121   114    235\n",
       "1080          115    83    198\n",
       "1090          140   175    315\n",
       "1100          226   482    708\n",
       "1110          185   335    520\n",
       "1120          168   313    481\n",
       "1130          190   259    449\n",
       "1140          197   339    536\n",
       "1150          146   205    351\n",
       "1160          176   267    443\n",
       "1170          160   209    369\n",
       "1180          175   247    422\n",
       "1190          204   310    514\n",
       "1200          158   230    388\n",
       "1210          256   632    888\n",
       "1220          262   722    984\n",
       "1230          223   460    683\n",
       "Total        3989  6533  10522"
      ]
     },
     "execution_count": 20,
     "metadata": {},
     "output_type": "execute_result"
    }
   ],
   "source": [
    "contingency_table3 = pd.crosstab(df['postal_code'], df['mixed_breed'], margins=True, margins_name='Total')\n",
    "contingency_table3"
   ]
  },
  {
   "cell_type": "code",
   "execution_count": 21,
   "id": "c29a0791",
   "metadata": {},
   "outputs": [
    {
     "data": {
      "text/plain": [
       "Text(0.5, 1.0, 'Normalized Cross-Tabulation')"
      ]
     },
     "execution_count": 21,
     "metadata": {},
     "output_type": "execute_result"
    },
    {
     "data": {
      "image/png": "[encoded data removed]",
      "text/plain": [
       "<Figure size 800x600 with 2 Axes>"
      ]
     },
     "metadata": {},
     "output_type": "display_data"
    }
   ],
   "source": [
    "contingency_table4 = pd.crosstab(df['postal_code'], df['mixed_breed'], normalize='index').round(2)\n",
    "plt.figure(figsize=(8, 6))\n",
    "sns.heatmap(contingency_table4, annot=True, cmap='Greens', cbar=True, fmt=\".2f\")\n",
    "plt.title('Normalized Cross-Tabulation')"
   ]
  },
  {
   "cell_type": "markdown",
   "id": "6ef493e6",
   "metadata": {},
   "source": [
    "#### Results"
   ]
  },
  {
   "cell_type": "markdown",
   "id": "90f0312f",
   "metadata": {},
   "source": [
    "The result of the analysis indicates that there are indeed more mixed dogs (proportionally) in outer districts than purebred dogs. This can be seen in the first part, where we looked at the proportion, grouped only by inner/outer districts. 65% of the dogs in the outer districts are mixed, while only 35% are purebred. The same conclusion is obtained in the second part, where we looked at the proportions for each district individually. In every district, which is classified as \"outer district\" (districts 10-23), the proportion for mixed dogs is higher that the proportion for purebred dogs. "
   ]
  },
  {
   "cell_type": "markdown",
   "id": "9cd5772d",
   "metadata": {},
   "source": [
    "Furthermore, it can be observed that the respective proportions in the inner districts, in contrast to the outer districts, do not differ as significantly. Therefore, it cannot be stated that there are more purebred or mixed-breed dogs in the inner districts.\""
   ]
  },
  {
   "cell_type": "markdown",
   "id": "2046ae3c",
   "metadata": {},
   "source": [
    "Finally, it can be concluded that the results support the hypothesis \"In outer districts the proportion of mixed-breed dogs is higher compared to purebred dogs\" and, therefore, it cannot be rejected."
   ]
  },
  {
   "cell_type": "markdown",
   "id": "70e60944-b857-4a32-872a-6db028c51c87",
   "metadata": {
    "tags": []
   },
   "source": [
    "### E3-H3: \"xxx\"\n",
    "Author: Group member 3\n"
   ]
  },
  {
   "cell_type": "code",
   "execution_count": null,
   "id": "6bf1314d-47bb-4440-90f9-bef900320597",
   "metadata": {},
   "outputs": [],
   "source": []
  },
  {
   "cell_type": "markdown",
   "id": "ede91b90-ee3d-40c0-b2c4-4712413fe0e6",
   "metadata": {
    "tags": []
   },
   "source": [
    "### E3-H4: \"xxx\"\n",
    "Author: Group member 4\n"
   ]
  },
  {
   "cell_type": "code",
   "execution_count": null,
   "id": "710a7064-05e8-4d52-9c1b-a6dcd143a4ae",
   "metadata": {},
   "outputs": [],
   "source": []
  },
  {
   "cell_type": "markdown",
   "id": "5da06647-b803-4ad3-8e40-b372cf7044df",
   "metadata": {
    "tags": []
   },
   "source": [
    "### E3-H5: \"xxx\"\n",
    "Author: Group member 5\n"
   ]
  },
  {
   "cell_type": "markdown",
   "id": "cc8a097d-a369-4395-95de-6837c7c0cb58",
   "metadata": {},
   "source": [
    "# BEGIN DATA CLEANING H5"
   ]
  },
  {
   "cell_type": "code",
   "execution_count": 22,
   "id": "2aed068f-bd36-4036-a343-5f66bd65e8ef",
   "metadata": {},
   "outputs": [],
   "source": [
    "## read in external data for hypothesis 5"
   ]
  },
  {
   "cell_type": "code",
   "execution_count": 23,
   "id": "804f5c83-af2f-472b-96a5-abae3e4d010b",
   "metadata": {},
   "outputs": [
    {
     "data": {
      "text/plain": [
       "(1028, 13)"
      ]
     },
     "execution_count": 23,
     "metadata": {},
     "output_type": "execute_result"
    }
   ],
   "source": [
    "parks = pd.read_csv(\"PARKINFOOGD.csv\")\n",
    "parks.shape"
   ]
  },
  {
   "cell_type": "code",
   "execution_count": 24,
   "id": "60311d58-3059-44c5-8ccb-bbd1e3757b0a",
   "metadata": {},
   "outputs": [
    {
     "data": {
      "text/plain": [
       "FID                  object\n",
       "OBJECTID              int64\n",
       "SHAPE                object\n",
       "ANL_NAME             object\n",
       "BEZIRK                int64\n",
       "FLAECHE              object\n",
       "OEFF_ZEITEN          object\n",
       "SPIELEN_IM_PARK      object\n",
       "WASSER_IM_PARK       object\n",
       "HUNDE_IM_PARK        object\n",
       "TELEFON              object\n",
       "WEBLINK1             object\n",
       "SE_ANNO_CAD_DATA    float64\n",
       "dtype: object"
      ]
     },
     "execution_count": 24,
     "metadata": {},
     "output_type": "execute_result"
    }
   ],
   "source": [
    "parks.dtypes"
   ]
  },
  {
   "cell_type": "markdown",
   "id": "e1ee8ee8-937d-4786-9849-543ac8d32646",
   "metadata": {},
   "source": [
    "The main variables of interest to enrich our data set are the sizes of parks, and if dogs are allowed to enter. To be able to join, we also need the district numbers. For first inspection, we also keep the names of the parks."
   ]
  },
  {
   "cell_type": "code",
   "execution_count": 25,
   "id": "9d7fc159-b596-482f-9ff7-bdc985b3d545",
   "metadata": {},
   "outputs": [],
   "source": [
    "# drop unnecessary columns\n",
    "parks=parks.drop([\"SHAPE\",\"FID\", \"OBJECTID\", \"OEFF_ZEITEN\", \"SPIELEN_IM_PARK\", \"TELEFON\", \"WEBLINK1\", \"SE_ANNO_CAD_DATA\", \"WASSER_IM_PARK\"], axis=1)\n"
   ]
  },
  {
   "cell_type": "code",
   "execution_count": 26,
   "id": "c0f6401a-4e8c-4e0e-9cc3-8d9568926ecb",
   "metadata": {},
   "outputs": [
    {
     "data": {
      "text/html": [
       "<div>\n",
       "<style scoped>\n",
       "    .dataframe tbody tr th:only-of-type {\n",
       "        vertical-align: middle;\n",
       "    }\n",
       "\n",
       "    .dataframe tbody tr th {\n",
       "        vertical-align: top;\n",
       "    }\n",
       "\n",
       "    .dataframe thead th {\n",
       "        text-align: right;\n",
       "    }\n",
       "</style>\n",
       "<table border=\"1\" class=\"dataframe\">\n",
       "  <thead>\n",
       "    <tr style=\"text-align: right;\">\n",
       "      <th></th>\n",
       "      <th>ANL_NAME</th>\n",
       "      <th>BEZIRK</th>\n",
       "      <th>FLAECHE</th>\n",
       "      <th>HUNDE_IM_PARK</th>\n",
       "    </tr>\n",
       "  </thead>\n",
       "  <tbody>\n",
       "    <tr>\n",
       "      <th>0</th>\n",
       "      <td>Ruth-Maier-Park</td>\n",
       "      <td>2</td>\n",
       "      <td>2.488 m²</td>\n",
       "      <td>Nein</td>\n",
       "    </tr>\n",
       "    <tr>\n",
       "      <th>1</th>\n",
       "      <td>Vilma-Steindling-Promenade</td>\n",
       "      <td>2</td>\n",
       "      <td>4.346 m²</td>\n",
       "      <td>Nein</td>\n",
       "    </tr>\n",
       "    <tr>\n",
       "      <th>2</th>\n",
       "      <td>GA Am-Ostrom-Park</td>\n",
       "      <td>22</td>\n",
       "      <td>725 m²</td>\n",
       "      <td>Nein</td>\n",
       "    </tr>\n",
       "    <tr>\n",
       "      <th>3</th>\n",
       "      <td>PA Max-Patat-Weg</td>\n",
       "      <td>19</td>\n",
       "      <td>2.416 m²</td>\n",
       "      <td>Nein</td>\n",
       "    </tr>\n",
       "    <tr>\n",
       "      <th>4</th>\n",
       "      <td>Luise-Montag-Park</td>\n",
       "      <td>11</td>\n",
       "      <td>13.660 m²</td>\n",
       "      <td>Ja</td>\n",
       "    </tr>\n",
       "  </tbody>\n",
       "</table>\n",
       "</div>"
      ],
      "text/plain": [
       "                     ANL_NAME  BEZIRK    FLAECHE HUNDE_IM_PARK\n",
       "0             Ruth-Maier-Park       2   2.488 m²          Nein\n",
       "1  Vilma-Steindling-Promenade       2   4.346 m²          Nein\n",
       "2           GA Am-Ostrom-Park      22     725 m²          Nein\n",
       "3            PA Max-Patat-Weg      19   2.416 m²          Nein\n",
       "4           Luise-Montag-Park      11  13.660 m²            Ja"
      ]
     },
     "execution_count": 26,
     "metadata": {},
     "output_type": "execute_result"
    }
   ],
   "source": [
    "parks.head()"
   ]
  },
  {
   "cell_type": "code",
   "execution_count": 27,
   "id": "7acaf96c-d875-4d68-81c7-92b10a6ce4e8",
   "metadata": {},
   "outputs": [
    {
     "data": {
      "text/plain": [
       "ANL_NAME         0\n",
       "BEZIRK           0\n",
       "FLAECHE          0\n",
       "HUNDE_IM_PARK    0\n",
       "dtype: int64"
      ]
     },
     "execution_count": 27,
     "metadata": {},
     "output_type": "execute_result"
    }
   ],
   "source": [
    "parks.isna().sum()"
   ]
  },
  {
   "cell_type": "code",
   "execution_count": 28,
   "id": "d42429d3-6096-4c90-b588-7aac84e1d5ca",
   "metadata": {},
   "outputs": [
    {
     "data": {
      "text/plain": [
       "0"
      ]
     },
     "execution_count": 28,
     "metadata": {},
     "output_type": "execute_result"
    }
   ],
   "source": [
    "parks.duplicated().sum()"
   ]
  },
  {
   "cell_type": "markdown",
   "id": "6911c65b-f4a1-4ac7-92ff-23081f95d7c6",
   "metadata": {},
   "source": [
    "We need to reformat BEZIRK for joining on postal code, and clean and cast the area values (FLAECHE): "
   ]
  },
  {
   "cell_type": "code",
   "execution_count": 29,
   "id": "d1e6dcac-cef4-4149-92a1-9cc7d57d1d82",
   "metadata": {},
   "outputs": [],
   "source": [
    "# change Bezirk to 4 digit code\n",
    "parks['BEZIRK'] = (100 + parks['BEZIRK'])*10\n",
    "# cast FLÄCHE to integer\n",
    "parks['Gruenflaeche_m2'] = parks['FLAECHE'].str.replace('.', '').replace('[^\\d.]', '', regex=True).astype(int)"
   ]
  },
  {
   "cell_type": "markdown",
   "id": "1b4f3c34-e63b-4fd3-9826-50785b8ccbea",
   "metadata": {},
   "source": [
    "We only want to consider parks, where dogs are allowed: "
   ]
  },
  {
   "cell_type": "code",
   "execution_count": 30,
   "id": "f6cc806f-cd21-4718-a29f-a3b55a2d4905",
   "metadata": {},
   "outputs": [],
   "source": [
    "#parks=parks[parks[\"HUNDE_IM_PARK\"] == \"Ja\"].copy() -> resulted in losing districts 7 and 8 as there are no values matching this condition\n",
    "parks.loc[parks[\"HUNDE_IM_PARK\"] == \"Nein\", \"Gruenflaeche_m2\" ] = 0 # set to zero instead"
   ]
  },
  {
   "cell_type": "code",
   "execution_count": 31,
   "id": "fab3e1cb-3a72-45bb-ad0e-ead004ac30f6",
   "metadata": {},
   "outputs": [
    {
     "data": {
      "text/html": [
       "<div>\n",
       "<style scoped>\n",
       "    .dataframe tbody tr th:only-of-type {\n",
       "        vertical-align: middle;\n",
       "    }\n",
       "\n",
       "    .dataframe tbody tr th {\n",
       "        vertical-align: top;\n",
       "    }\n",
       "\n",
       "    .dataframe thead th {\n",
       "        text-align: right;\n",
       "    }\n",
       "</style>\n",
       "<table border=\"1\" class=\"dataframe\">\n",
       "  <thead>\n",
       "    <tr style=\"text-align: right;\">\n",
       "      <th></th>\n",
       "      <th>ANL_NAME</th>\n",
       "      <th>BEZIRK</th>\n",
       "      <th>FLAECHE</th>\n",
       "      <th>HUNDE_IM_PARK</th>\n",
       "      <th>Gruenflaeche_m2</th>\n",
       "    </tr>\n",
       "  </thead>\n",
       "  <tbody>\n",
       "    <tr>\n",
       "      <th>0</th>\n",
       "      <td>Ruth-Maier-Park</td>\n",
       "      <td>1020</td>\n",
       "      <td>2.488 m²</td>\n",
       "      <td>Nein</td>\n",
       "      <td>0</td>\n",
       "    </tr>\n",
       "    <tr>\n",
       "      <th>1</th>\n",
       "      <td>Vilma-Steindling-Promenade</td>\n",
       "      <td>1020</td>\n",
       "      <td>4.346 m²</td>\n",
       "      <td>Nein</td>\n",
       "      <td>0</td>\n",
       "    </tr>\n",
       "    <tr>\n",
       "      <th>2</th>\n",
       "      <td>GA Am-Ostrom-Park</td>\n",
       "      <td>1220</td>\n",
       "      <td>725 m²</td>\n",
       "      <td>Nein</td>\n",
       "      <td>0</td>\n",
       "    </tr>\n",
       "    <tr>\n",
       "      <th>3</th>\n",
       "      <td>PA Max-Patat-Weg</td>\n",
       "      <td>1190</td>\n",
       "      <td>2.416 m²</td>\n",
       "      <td>Nein</td>\n",
       "      <td>0</td>\n",
       "    </tr>\n",
       "    <tr>\n",
       "      <th>4</th>\n",
       "      <td>Luise-Montag-Park</td>\n",
       "      <td>1110</td>\n",
       "      <td>13.660 m²</td>\n",
       "      <td>Ja</td>\n",
       "      <td>13660</td>\n",
       "    </tr>\n",
       "  </tbody>\n",
       "</table>\n",
       "</div>"
      ],
      "text/plain": [
       "                     ANL_NAME  BEZIRK    FLAECHE HUNDE_IM_PARK  \\\n",
       "0             Ruth-Maier-Park    1020   2.488 m²          Nein   \n",
       "1  Vilma-Steindling-Promenade    1020   4.346 m²          Nein   \n",
       "2           GA Am-Ostrom-Park    1220     725 m²          Nein   \n",
       "3            PA Max-Patat-Weg    1190   2.416 m²          Nein   \n",
       "4           Luise-Montag-Park    1110  13.660 m²            Ja   \n",
       "\n",
       "   Gruenflaeche_m2  \n",
       "0                0  \n",
       "1                0  \n",
       "2                0  \n",
       "3                0  \n",
       "4            13660  "
      ]
     },
     "execution_count": 31,
     "metadata": {},
     "output_type": "execute_result"
    }
   ],
   "source": [
    "parks.head()"
   ]
  },
  {
   "cell_type": "markdown",
   "id": "57376393-88cd-4d87-bb9c-9753b4a690f0",
   "metadata": {},
   "source": [
    "We can then calculate the totals per district: "
   ]
  },
  {
   "cell_type": "code",
   "execution_count": 32,
   "id": "d75d9b5b-0db3-42c6-88ee-ba3ac80422ac",
   "metadata": {},
   "outputs": [],
   "source": [
    "parks=parks.groupby([\"BEZIRK\"], as_index=False).sum(\"FLAECHE_m2\") "
   ]
  },
  {
   "cell_type": "code",
   "execution_count": 33,
   "id": "e834711e-aeef-413b-9e24-a5d693478829",
   "metadata": {},
   "outputs": [
    {
     "data": {
      "text/plain": [
       "BEZIRK             0\n",
       "Gruenflaeche_m2    0\n",
       "dtype: int64"
      ]
     },
     "execution_count": 33,
     "metadata": {},
     "output_type": "execute_result"
    }
   ],
   "source": [
    "parks.isna().sum()"
   ]
  },
  {
   "cell_type": "code",
   "execution_count": 34,
   "id": "eaef2117-bddb-4694-aedb-ae58d47c55f5",
   "metadata": {},
   "outputs": [
    {
     "data": {
      "text/plain": [
       "0"
      ]
     },
     "execution_count": 34,
     "metadata": {},
     "output_type": "execute_result"
    }
   ],
   "source": [
    "parks.duplicated().sum()"
   ]
  },
  {
   "cell_type": "code",
   "execution_count": 35,
   "id": "bd2c642a-1d3b-4a93-b6b8-5d23f922be5a",
   "metadata": {},
   "outputs": [],
   "source": [
    "parks.columns=[\"postal_code\", \"green_space(sqm)\"]"
   ]
  },
  {
   "cell_type": "code",
   "execution_count": 36,
   "id": "49aff408-a372-4ccf-a1ca-e4b1795bda70",
   "metadata": {},
   "outputs": [],
   "source": [
    "parks.to_csv(\"parks_cleaned.csv\", index=False)"
   ]
  },
  {
   "cell_type": "markdown",
   "id": "5eab5a5b-5bd3-4a93-baaf-63f2b7b26c3b",
   "metadata": {},
   "source": [
    "To make districts of different sizes comparable, we calculate the proportion of green areas, where dogs are allowed, in relation to total district size. We use another data set provided by the city of Vienna: "
   ]
  },
  {
   "cell_type": "code",
   "execution_count": 37,
   "id": "23d8ad52-7943-4d12-bda6-4315dfefbe0f",
   "metadata": {},
   "outputs": [
    {
     "data": {
      "text/html": [
       "<div>\n",
       "<style scoped>\n",
       "    .dataframe tbody tr th:only-of-type {\n",
       "        vertical-align: middle;\n",
       "    }\n",
       "\n",
       "    .dataframe tbody tr th {\n",
       "        vertical-align: top;\n",
       "    }\n",
       "\n",
       "    .dataframe thead th {\n",
       "        text-align: right;\n",
       "    }\n",
       "</style>\n",
       "<table border=\"1\" class=\"dataframe\">\n",
       "  <thead>\n",
       "    <tr style=\"text-align: right;\">\n",
       "      <th></th>\n",
       "      <th>NUTS</th>\n",
       "      <th>DISTRICT_CODE</th>\n",
       "      <th>SUB_DISTRICT_CODE</th>\n",
       "      <th>REF_YEAR</th>\n",
       "      <th>REF_DATE</th>\n",
       "      <th>POP_VALUE</th>\n",
       "      <th>AREA</th>\n",
       "      <th>POP_DENSITY</th>\n",
       "    </tr>\n",
       "  </thead>\n",
       "  <tbody>\n",
       "    <tr>\n",
       "      <th>0</th>\n",
       "      <td>AT13</td>\n",
       "      <td>90000</td>\n",
       "      <td>90000</td>\n",
       "      <td>2002</td>\n",
       "      <td>20020101</td>\n",
       "      <td>1571123</td>\n",
       "      <td>414.87</td>\n",
       "      <td>3787.02</td>\n",
       "    </tr>\n",
       "    <tr>\n",
       "      <th>1</th>\n",
       "      <td>AT13</td>\n",
       "      <td>90000</td>\n",
       "      <td>90000</td>\n",
       "      <td>2003</td>\n",
       "      <td>20030101</td>\n",
       "      <td>1592846</td>\n",
       "      <td>414.87</td>\n",
       "      <td>3839.38</td>\n",
       "    </tr>\n",
       "    <tr>\n",
       "      <th>2</th>\n",
       "      <td>AT13</td>\n",
       "      <td>90000</td>\n",
       "      <td>90000</td>\n",
       "      <td>2004</td>\n",
       "      <td>20040101</td>\n",
       "      <td>1610410</td>\n",
       "      <td>414.87</td>\n",
       "      <td>3881.71</td>\n",
       "    </tr>\n",
       "    <tr>\n",
       "      <th>3</th>\n",
       "      <td>AT13</td>\n",
       "      <td>90000</td>\n",
       "      <td>90000</td>\n",
       "      <td>2005</td>\n",
       "      <td>20050101</td>\n",
       "      <td>1632569</td>\n",
       "      <td>414.87</td>\n",
       "      <td>3935.12</td>\n",
       "    </tr>\n",
       "    <tr>\n",
       "      <th>4</th>\n",
       "      <td>AT13</td>\n",
       "      <td>90000</td>\n",
       "      <td>90000</td>\n",
       "      <td>2006</td>\n",
       "      <td>20060101</td>\n",
       "      <td>1652449</td>\n",
       "      <td>414.87</td>\n",
       "      <td>3983.04</td>\n",
       "    </tr>\n",
       "  </tbody>\n",
       "</table>\n",
       "</div>"
      ],
      "text/plain": [
       "   NUTS  DISTRICT_CODE  SUB_DISTRICT_CODE  REF_YEAR  REF_DATE  POP_VALUE  \\\n",
       "0  AT13          90000              90000      2002  20020101    1571123   \n",
       "1  AT13          90000              90000      2003  20030101    1592846   \n",
       "2  AT13          90000              90000      2004  20040101    1610410   \n",
       "3  AT13          90000              90000      2005  20050101    1632569   \n",
       "4  AT13          90000              90000      2006  20060101    1652449   \n",
       "\n",
       "     AREA  POP_DENSITY  \n",
       "0  414.87      3787.02  \n",
       "1  414.87      3839.38  \n",
       "2  414.87      3881.71  \n",
       "3  414.87      3935.12  \n",
       "4  414.87      3983.04  "
      ]
     },
     "execution_count": 37,
     "metadata": {},
     "output_type": "execute_result"
    }
   ],
   "source": [
    "districts=pd.read_csv(\"vie-bez-biz-pop-den-2002f.csv\", header=1, sep=\";\", decimal=\",\", thousands=\".\", \n",
    "                   ### set usecols to avoid empty columns for this data set\n",
    "                   usecols=['NUTS', 'DISTRICT_CODE', 'SUB_DISTRICT_CODE', 'REF_YEAR', 'REF_DATE','POP_VALUE', 'AREA', 'POP_DENSITY'])\n",
    "districts.head()\n"
   ]
  },
  {
   "cell_type": "markdown",
   "id": "0106390a-5343-486b-a531-41f2a303a407",
   "metadata": {},
   "source": [
    "We only want to keep the latest values, where the reference year (REF_YEAR) is 2023, additional variables of interest are the aforementioned district area(AREA) and the number of inhabitants per district (POP_VALUE), which will allow us to calculate the number of dogs per inhabitant. We cannot join parks with area directly, because we don't have the district numbers in this data set, but we can use DISTRICT_CODE to join with our main data set. "
   ]
  },
  {
   "cell_type": "code",
   "execution_count": 38,
   "id": "6e3ba841-d2b6-44e5-b210-9eb86137b9c9",
   "metadata": {},
   "outputs": [],
   "source": [
    "districts=districts[districts[\"REF_YEAR\"]==2023]\n",
    "districts=districts[[\"DISTRICT_CODE\", \"AREA\", \"POP_VALUE\"]].reset_index(drop=True)"
   ]
  },
  {
   "cell_type": "code",
   "execution_count": 39,
   "id": "a96e2487-c7b9-48b5-9b3d-484873b7c7fa",
   "metadata": {},
   "outputs": [
    {
     "data": {
      "text/html": [
       "<div>\n",
       "<style scoped>\n",
       "    .dataframe tbody tr th:only-of-type {\n",
       "        vertical-align: middle;\n",
       "    }\n",
       "\n",
       "    .dataframe tbody tr th {\n",
       "        vertical-align: top;\n",
       "    }\n",
       "\n",
       "    .dataframe thead th {\n",
       "        text-align: right;\n",
       "    }\n",
       "</style>\n",
       "<table border=\"1\" class=\"dataframe\">\n",
       "  <thead>\n",
       "    <tr style=\"text-align: right;\">\n",
       "      <th></th>\n",
       "      <th>DISTRICT_CODE</th>\n",
       "      <th>AREA</th>\n",
       "      <th>POP_VALUE</th>\n",
       "    </tr>\n",
       "  </thead>\n",
       "  <tbody>\n",
       "    <tr>\n",
       "      <th>0</th>\n",
       "      <td>90000</td>\n",
       "      <td>414.87</td>\n",
       "      <td>1982097</td>\n",
       "    </tr>\n",
       "    <tr>\n",
       "      <th>1</th>\n",
       "      <td>90100</td>\n",
       "      <td>2.87</td>\n",
       "      <td>16620</td>\n",
       "    </tr>\n",
       "    <tr>\n",
       "      <th>2</th>\n",
       "      <td>90200</td>\n",
       "      <td>19.24</td>\n",
       "      <td>108269</td>\n",
       "    </tr>\n",
       "    <tr>\n",
       "      <th>3</th>\n",
       "      <td>90300</td>\n",
       "      <td>7.40</td>\n",
       "      <td>96756</td>\n",
       "    </tr>\n",
       "    <tr>\n",
       "      <th>4</th>\n",
       "      <td>90400</td>\n",
       "      <td>1.78</td>\n",
       "      <td>33633</td>\n",
       "    </tr>\n",
       "  </tbody>\n",
       "</table>\n",
       "</div>"
      ],
      "text/plain": [
       "   DISTRICT_CODE    AREA  POP_VALUE\n",
       "0          90000  414.87    1982097\n",
       "1          90100    2.87      16620\n",
       "2          90200   19.24     108269\n",
       "3          90300    7.40      96756\n",
       "4          90400    1.78      33633"
      ]
     },
     "execution_count": 39,
     "metadata": {},
     "output_type": "execute_result"
    }
   ],
   "source": [
    "districts.head()"
   ]
  },
  {
   "cell_type": "code",
   "execution_count": 40,
   "id": "cf96c982-4d38-4876-8208-100dcf7efedc",
   "metadata": {},
   "outputs": [
    {
     "data": {
      "text/plain": [
       "DISTRICT_CODE      int64\n",
       "AREA             float64\n",
       "POP_VALUE          int64\n",
       "dtype: object"
      ]
     },
     "execution_count": 40,
     "metadata": {},
     "output_type": "execute_result"
    }
   ],
   "source": [
    "districts.dtypes"
   ]
  },
  {
   "cell_type": "markdown",
   "id": "5f763e0b-aada-465b-aad0-35d39472fc66",
   "metadata": {},
   "source": [
    "To align with the park dataset, the area provided in square kilometers is converted to square meters."
   ]
  },
  {
   "cell_type": "code",
   "execution_count": 41,
   "id": "2d0cbc8e-3618-45c6-95e7-e1d2b3ecd89b",
   "metadata": {},
   "outputs": [
    {
     "data": {
      "text/html": [
       "<div>\n",
       "<style scoped>\n",
       "    .dataframe tbody tr th:only-of-type {\n",
       "        vertical-align: middle;\n",
       "    }\n",
       "\n",
       "    .dataframe tbody tr th {\n",
       "        vertical-align: top;\n",
       "    }\n",
       "\n",
       "    .dataframe thead th {\n",
       "        text-align: right;\n",
       "    }\n",
       "</style>\n",
       "<table border=\"1\" class=\"dataframe\">\n",
       "  <thead>\n",
       "    <tr style=\"text-align: right;\">\n",
       "      <th></th>\n",
       "      <th>DISTRICT_CODE</th>\n",
       "      <th>AREA</th>\n",
       "      <th>POP_VALUE</th>\n",
       "    </tr>\n",
       "  </thead>\n",
       "  <tbody>\n",
       "    <tr>\n",
       "      <th>0</th>\n",
       "      <td>90000</td>\n",
       "      <td>414870000</td>\n",
       "      <td>1982097</td>\n",
       "    </tr>\n",
       "    <tr>\n",
       "      <th>1</th>\n",
       "      <td>90100</td>\n",
       "      <td>2870000</td>\n",
       "      <td>16620</td>\n",
       "    </tr>\n",
       "    <tr>\n",
       "      <th>2</th>\n",
       "      <td>90200</td>\n",
       "      <td>19240000</td>\n",
       "      <td>108269</td>\n",
       "    </tr>\n",
       "    <tr>\n",
       "      <th>3</th>\n",
       "      <td>90300</td>\n",
       "      <td>7400000</td>\n",
       "      <td>96756</td>\n",
       "    </tr>\n",
       "    <tr>\n",
       "      <th>4</th>\n",
       "      <td>90400</td>\n",
       "      <td>1780000</td>\n",
       "      <td>33633</td>\n",
       "    </tr>\n",
       "  </tbody>\n",
       "</table>\n",
       "</div>"
      ],
      "text/plain": [
       "   DISTRICT_CODE       AREA  POP_VALUE\n",
       "0          90000  414870000    1982097\n",
       "1          90100    2870000      16620\n",
       "2          90200   19240000     108269\n",
       "3          90300    7400000      96756\n",
       "4          90400    1780000      33633"
      ]
     },
     "execution_count": 41,
     "metadata": {},
     "output_type": "execute_result"
    }
   ],
   "source": [
    "districts[\"AREA\"]=(districts[\"AREA\"]*1e+6).astype(int)\n",
    "districts.head()"
   ]
  },
  {
   "cell_type": "code",
   "execution_count": 42,
   "id": "075212f7-5a8b-4fb6-9f35-e84fcdae169a",
   "metadata": {},
   "outputs": [],
   "source": [
    "districts.columns=districts.columns.str.lower()"
   ]
  },
  {
   "cell_type": "code",
   "execution_count": 43,
   "id": "9ba5d8d7-d776-418a-83ed-8c05f710de71",
   "metadata": {},
   "outputs": [],
   "source": [
    "districts.to_csv(\"districts_cleaned.csv\", index=False)"
   ]
  },
  {
   "cell_type": "markdown",
   "id": "dfde44da-deff-4fba-a46a-5cd1f2112e02",
   "metadata": {},
   "source": [
    "# END DATA CLEANING H5"
   ]
  },
  {
   "cell_type": "markdown",
   "id": "04c885b5-bdec-4799-bf61-bbdaaf6fdca5",
   "metadata": {},
   "source": [
    "# BEGIN EDA H5"
   ]
  },
  {
   "cell_type": "code",
   "execution_count": 44,
   "id": "f9e7b625-2b25-4ca8-90fb-a1cdc9a580c7",
   "metadata": {},
   "outputs": [],
   "source": [
    "dogs_per_district=pd.read_csv(\"dogs_cleaned.csv\")\n",
    "parks=pd.read_csv(\"parks_cleaned.csv\")\n",
    "districts=pd.read_csv(\"districts_cleaned.csv\")"
   ]
  },
  {
   "cell_type": "markdown",
   "id": "1d626d9f-4cbf-421a-9be1-6571c78586c9",
   "metadata": {},
   "source": [
    "To begin exploring the data, we need to calculate the amount of dogs, then join the additional data sets: "
   ]
  },
  {
   "cell_type": "code",
   "execution_count": 45,
   "id": "96d86376-8a77-40eb-bfdb-0e7b96e5df14",
   "metadata": {},
   "outputs": [
    {
     "data": {
      "text/html": [
       "<div>\n",
       "<style scoped>\n",
       "    .dataframe tbody tr th:only-of-type {\n",
       "        vertical-align: middle;\n",
       "    }\n",
       "\n",
       "    .dataframe tbody tr th {\n",
       "        vertical-align: top;\n",
       "    }\n",
       "\n",
       "    .dataframe thead th {\n",
       "        text-align: right;\n",
       "    }\n",
       "</style>\n",
       "<table border=\"1\" class=\"dataframe\">\n",
       "  <thead>\n",
       "    <tr style=\"text-align: right;\">\n",
       "      <th></th>\n",
       "      <th>postal_code</th>\n",
       "      <th>district_code</th>\n",
       "      <th>anzahl</th>\n",
       "    </tr>\n",
       "  </thead>\n",
       "  <tbody>\n",
       "    <tr>\n",
       "      <th>0</th>\n",
       "      <td>1010</td>\n",
       "      <td>90100</td>\n",
       "      <td>508</td>\n",
       "    </tr>\n",
       "    <tr>\n",
       "      <th>1</th>\n",
       "      <td>1020</td>\n",
       "      <td>90200</td>\n",
       "      <td>2696</td>\n",
       "    </tr>\n",
       "    <tr>\n",
       "      <th>2</th>\n",
       "      <td>1030</td>\n",
       "      <td>90300</td>\n",
       "      <td>2483</td>\n",
       "    </tr>\n",
       "    <tr>\n",
       "      <th>3</th>\n",
       "      <td>1040</td>\n",
       "      <td>90400</td>\n",
       "      <td>715</td>\n",
       "    </tr>\n",
       "    <tr>\n",
       "      <th>4</th>\n",
       "      <td>1050</td>\n",
       "      <td>90500</td>\n",
       "      <td>928</td>\n",
       "    </tr>\n",
       "  </tbody>\n",
       "</table>\n",
       "</div>"
      ],
      "text/plain": [
       "   postal_code  district_code  anzahl\n",
       "0         1010          90100     508\n",
       "1         1020          90200    2696\n",
       "2         1030          90300    2483\n",
       "3         1040          90400     715\n",
       "4         1050          90500     928"
      ]
     },
     "execution_count": 45,
     "metadata": {},
     "output_type": "execute_result"
    }
   ],
   "source": [
    "dogs_per_district = dogs_per_district.groupby(['postal_code', 'district_code'])['anzahl'].sum().reset_index()\n",
    "dogs_per_district.head()"
   ]
  },
  {
   "cell_type": "code",
   "execution_count": 46,
   "id": "226f75dd-b574-467f-8968-a3d66fd469b3",
   "metadata": {},
   "outputs": [
    {
     "data": {
      "text/html": [
       "<div>\n",
       "<style scoped>\n",
       "    .dataframe tbody tr th:only-of-type {\n",
       "        vertical-align: middle;\n",
       "    }\n",
       "\n",
       "    .dataframe tbody tr th {\n",
       "        vertical-align: top;\n",
       "    }\n",
       "\n",
       "    .dataframe thead th {\n",
       "        text-align: right;\n",
       "    }\n",
       "</style>\n",
       "<table border=\"1\" class=\"dataframe\">\n",
       "  <thead>\n",
       "    <tr style=\"text-align: right;\">\n",
       "      <th></th>\n",
       "      <th>postal_code</th>\n",
       "      <th>district_code</th>\n",
       "      <th>anzahl</th>\n",
       "      <th>green_space(sqm)</th>\n",
       "    </tr>\n",
       "  </thead>\n",
       "  <tbody>\n",
       "    <tr>\n",
       "      <th>0</th>\n",
       "      <td>1010</td>\n",
       "      <td>90100</td>\n",
       "      <td>508</td>\n",
       "      <td>2646</td>\n",
       "    </tr>\n",
       "    <tr>\n",
       "      <th>1</th>\n",
       "      <td>1020</td>\n",
       "      <td>90200</td>\n",
       "      <td>2696</td>\n",
       "      <td>550314</td>\n",
       "    </tr>\n",
       "    <tr>\n",
       "      <th>2</th>\n",
       "      <td>1030</td>\n",
       "      <td>90300</td>\n",
       "      <td>2483</td>\n",
       "      <td>167372</td>\n",
       "    </tr>\n",
       "    <tr>\n",
       "      <th>3</th>\n",
       "      <td>1040</td>\n",
       "      <td>90400</td>\n",
       "      <td>715</td>\n",
       "      <td>41528</td>\n",
       "    </tr>\n",
       "    <tr>\n",
       "      <th>4</th>\n",
       "      <td>1050</td>\n",
       "      <td>90500</td>\n",
       "      <td>928</td>\n",
       "      <td>34577</td>\n",
       "    </tr>\n",
       "  </tbody>\n",
       "</table>\n",
       "</div>"
      ],
      "text/plain": [
       "   postal_code  district_code  anzahl  green_space(sqm)\n",
       "0         1010          90100     508              2646\n",
       "1         1020          90200    2696            550314\n",
       "2         1030          90300    2483            167372\n",
       "3         1040          90400     715             41528\n",
       "4         1050          90500     928             34577"
      ]
     },
     "execution_count": 46,
     "metadata": {},
     "output_type": "execute_result"
    }
   ],
   "source": [
    "# First join on parks with postal codes: \n",
    "df_h5 = pd.merge(dogs_per_district, parks, on=\"postal_code\")\n",
    "df_h5.head()"
   ]
  },
  {
   "cell_type": "code",
   "execution_count": 47,
   "id": "911c7b9c-e4c2-4616-ad0b-3ac5afac8cc4",
   "metadata": {},
   "outputs": [],
   "source": [
    "# Second join on districts with district codes: \n",
    "df_h5 = pd.merge(df_h5, districts, on=\"district_code\")"
   ]
  },
  {
   "cell_type": "code",
   "execution_count": 48,
   "id": "270a7af8-71fd-4b6f-82b0-8269966767ec",
   "metadata": {},
   "outputs": [
    {
     "data": {
      "text/plain": [
       "postal_code         int64\n",
       "district_code       int64\n",
       "anzahl              int64\n",
       "green_space(sqm)    int64\n",
       "area                int64\n",
       "pop_value           int64\n",
       "dtype: object"
      ]
     },
     "execution_count": 48,
     "metadata": {},
     "output_type": "execute_result"
    }
   ],
   "source": [
    "df_h5.dtypes"
   ]
  },
  {
   "cell_type": "markdown",
   "id": "d8841c7b-e05b-48f9-98fe-e43d0cc85703",
   "metadata": {},
   "source": [
    "We have valid data for all 23 districts. "
   ]
  },
  {
   "cell_type": "code",
   "execution_count": 49,
   "id": "4a29bfa7-ba12-4591-acbb-0bc8ea9344fb",
   "metadata": {},
   "outputs": [
    {
     "data": {
      "image/png": "[encoded data removed]",
      "text/plain": [
       "<Figure size 640x480 with 2 Axes>"
      ]
     },
     "metadata": {},
     "output_type": "display_data"
    }
   ],
   "source": [
    "df_h5.sort_values(\"anzahl\").plot(x=\"postal_code\", y=[\"anzahl\",\"green_space(sqm)\"], kind=\"bar\", subplots=True);"
   ]
  },
  {
   "cell_type": "markdown",
   "id": "b26cda85-5287-4350-9f55-471c66e1eec6",
   "metadata": {},
   "source": [
    "A quick visual exploration of the data shows, that there might be a relationship between available greenspace for dogs and the amount of dogs owned: The districts on the left have no or very litte greenspace and also lesser numbers of dog owners. "
   ]
  },
  {
   "cell_type": "code",
   "execution_count": 50,
   "id": "a9bb2ca3-42fc-4df0-9e8b-4d4c528074b9",
   "metadata": {},
   "outputs": [
    {
     "data": {
      "image/png": "[encoded data removed]",
      "text/plain": [
       "<Figure size 640x480 with 2 Axes>"
      ]
     },
     "metadata": {},
     "output_type": "display_data"
    }
   ],
   "source": [
    "df_h5.sort_values(\"anzahl\").plot(x=\"postal_code\", y=[\"area\",\"pop_value\"], kind=\"bar\", subplots=True);"
   ]
  },
  {
   "cell_type": "markdown",
   "id": "76d81d76-2925-422b-ae1e-8396ce4f0935",
   "metadata": {},
   "source": [
    "When we look at the demographics, these districts are smaller as well and also have less population. This should be accounted for, when looking for correlations.  "
   ]
  },
  {
   "cell_type": "markdown",
   "id": "8dc61dd9-ee90-4cd5-84c4-013ce06f42e1",
   "metadata": {},
   "source": [
    "Based on these findings we can examine hypothesis H5 in section 3: \"Districts with a higher proportion of green space for dogs have more dogs per inhabitant than districts with less green space.\""
   ]
  },
  {
   "cell_type": "markdown",
   "id": "4ea4b9c9-6ae2-4f84-8a0d-bdfc5c160e02",
   "metadata": {},
   "source": [
    "# END EDA H5"
   ]
  },
  {
   "cell_type": "markdown",
   "id": "617370cb-1856-43ab-8801-5905cd845ea5",
   "metadata": {},
   "source": [
    "# BEGIN FORMULATE HYPOTHESIS H5"
   ]
  },
  {
   "cell_type": "markdown",
   "id": "24fb84c2-e894-4372-bca9-f60bb695a792",
   "metadata": {
    "tags": []
   },
   "source": [
    "### E3-H5: \"Districts with a higher proportion of green space for dogs have more dogs per inhabitant than districts with less green space.\"\n",
    "Author: Michaela Hubweber \n",
    "\n",
    "Data Sources: \n",
    "* Parkanlagen Standorte Wien, Magistrat Wien - Magistratsabteilung 42 - Wiener Stadtgärten <br> https://www.data.gv.at/katalog/dataset/22add642-d849-48ff-9913-8c7ba2d99b46#additional-info <br> Used File version: PARKINFOOGD.csv (Downloaded: 02.01.2024)\n",
    "* Bevölkerungsdichte seit 2002 - Bezirke Wien, Magistrat Wien - Magistratsabteilung 23 - Wirtschaft, Arbeit und Statistik <br> https://www.data.gv.at/katalog/dataset/dc56ea9e-57be-47d5-ab50-d1e74fda7118 <br> Used File version: vie-bez-biz-pop-den-2002f.csv (Downloaded: 02.01.2024)\n",
    "\n",
    "Related Literature: \n",
    "* Purtscher, Mag Clemens. \"Tiergerechte Hundehaltung und Auslaufmöglichkeiten in Wien.\" Kapitel 8, pp.40, Online: https://sloughi.blogger.de/static/antville/sloughi/files/hundestudie.pdf (Accessed: 02.01.2024)"
   ]
  },
  {
   "cell_type": "markdown",
   "id": "3887e490-1b81-47fc-8cc0-e118e06e9bd0",
   "metadata": {},
   "source": [
    "To validate our hypothesis we first calculate some ratios, dogs per capita and greenspace per total area (in percent)"
   ]
  },
  {
   "cell_type": "code",
   "execution_count": 59,
   "id": "3288d53f-e94f-4067-8225-839a2351dd17",
   "metadata": {},
   "outputs": [
    {
     "data": {
      "text/html": [
       "<div>\n",
       "<style scoped>\n",
       "    .dataframe tbody tr th:only-of-type {\n",
       "        vertical-align: middle;\n",
       "    }\n",
       "\n",
       "    .dataframe tbody tr th {\n",
       "        vertical-align: top;\n",
       "    }\n",
       "\n",
       "    .dataframe thead th {\n",
       "        text-align: right;\n",
       "    }\n",
       "</style>\n",
       "<table border=\"1\" class=\"dataframe\">\n",
       "  <thead>\n",
       "    <tr style=\"text-align: right;\">\n",
       "      <th></th>\n",
       "      <th>postal_code</th>\n",
       "      <th>district_code</th>\n",
       "      <th>anzahl</th>\n",
       "      <th>green_space(sqm)</th>\n",
       "      <th>area</th>\n",
       "      <th>pop_value</th>\n",
       "      <th>dogs_per_capita</th>\n",
       "      <th>greenspace_pct</th>\n",
       "    </tr>\n",
       "  </thead>\n",
       "  <tbody>\n",
       "    <tr>\n",
       "      <th>0</th>\n",
       "      <td>1010</td>\n",
       "      <td>90100</td>\n",
       "      <td>508</td>\n",
       "      <td>2646</td>\n",
       "      <td>2870000</td>\n",
       "      <td>16620</td>\n",
       "      <td>0.030566</td>\n",
       "      <td>0.092195</td>\n",
       "    </tr>\n",
       "    <tr>\n",
       "      <th>1</th>\n",
       "      <td>1020</td>\n",
       "      <td>90200</td>\n",
       "      <td>2696</td>\n",
       "      <td>550314</td>\n",
       "      <td>19240000</td>\n",
       "      <td>108269</td>\n",
       "      <td>0.024901</td>\n",
       "      <td>2.860260</td>\n",
       "    </tr>\n",
       "    <tr>\n",
       "      <th>2</th>\n",
       "      <td>1030</td>\n",
       "      <td>90300</td>\n",
       "      <td>2483</td>\n",
       "      <td>167372</td>\n",
       "      <td>7400000</td>\n",
       "      <td>96756</td>\n",
       "      <td>0.025662</td>\n",
       "      <td>2.261784</td>\n",
       "    </tr>\n",
       "    <tr>\n",
       "      <th>3</th>\n",
       "      <td>1040</td>\n",
       "      <td>90400</td>\n",
       "      <td>715</td>\n",
       "      <td>41528</td>\n",
       "      <td>1780000</td>\n",
       "      <td>33633</td>\n",
       "      <td>0.021259</td>\n",
       "      <td>2.333034</td>\n",
       "    </tr>\n",
       "    <tr>\n",
       "      <th>4</th>\n",
       "      <td>1050</td>\n",
       "      <td>90500</td>\n",
       "      <td>928</td>\n",
       "      <td>34577</td>\n",
       "      <td>2009999</td>\n",
       "      <td>55018</td>\n",
       "      <td>0.016867</td>\n",
       "      <td>1.720250</td>\n",
       "    </tr>\n",
       "    <tr>\n",
       "      <th>5</th>\n",
       "      <td>1060</td>\n",
       "      <td>90600</td>\n",
       "      <td>626</td>\n",
       "      <td>992</td>\n",
       "      <td>1460000</td>\n",
       "      <td>31423</td>\n",
       "      <td>0.019922</td>\n",
       "      <td>0.067945</td>\n",
       "    </tr>\n",
       "    <tr>\n",
       "      <th>6</th>\n",
       "      <td>1070</td>\n",
       "      <td>90700</td>\n",
       "      <td>644</td>\n",
       "      <td>0</td>\n",
       "      <td>1610000</td>\n",
       "      <td>31581</td>\n",
       "      <td>0.020392</td>\n",
       "      <td>0.000000</td>\n",
       "    </tr>\n",
       "    <tr>\n",
       "      <th>7</th>\n",
       "      <td>1080</td>\n",
       "      <td>90800</td>\n",
       "      <td>519</td>\n",
       "      <td>0</td>\n",
       "      <td>1090000</td>\n",
       "      <td>24674</td>\n",
       "      <td>0.021034</td>\n",
       "      <td>0.000000</td>\n",
       "    </tr>\n",
       "    <tr>\n",
       "      <th>8</th>\n",
       "      <td>1090</td>\n",
       "      <td>90900</td>\n",
       "      <td>983</td>\n",
       "      <td>27194</td>\n",
       "      <td>2970000</td>\n",
       "      <td>42206</td>\n",
       "      <td>0.023291</td>\n",
       "      <td>0.915623</td>\n",
       "    </tr>\n",
       "    <tr>\n",
       "      <th>9</th>\n",
       "      <td>1100</td>\n",
       "      <td>91000</td>\n",
       "      <td>5178</td>\n",
       "      <td>545566</td>\n",
       "      <td>31830000</td>\n",
       "      <td>218415</td>\n",
       "      <td>0.023707</td>\n",
       "      <td>1.713999</td>\n",
       "    </tr>\n",
       "    <tr>\n",
       "      <th>10</th>\n",
       "      <td>1110</td>\n",
       "      <td>91100</td>\n",
       "      <td>3381</td>\n",
       "      <td>78631</td>\n",
       "      <td>23260000</td>\n",
       "      <td>109038</td>\n",
       "      <td>0.031008</td>\n",
       "      <td>0.338052</td>\n",
       "    </tr>\n",
       "    <tr>\n",
       "      <th>11</th>\n",
       "      <td>1120</td>\n",
       "      <td>91200</td>\n",
       "      <td>2358</td>\n",
       "      <td>66046</td>\n",
       "      <td>8100000</td>\n",
       "      <td>100281</td>\n",
       "      <td>0.023514</td>\n",
       "      <td>0.815383</td>\n",
       "    </tr>\n",
       "    <tr>\n",
       "      <th>12</th>\n",
       "      <td>1130</td>\n",
       "      <td>91300</td>\n",
       "      <td>2094</td>\n",
       "      <td>546</td>\n",
       "      <td>37710000</td>\n",
       "      <td>55568</td>\n",
       "      <td>0.037684</td>\n",
       "      <td>0.001448</td>\n",
       "    </tr>\n",
       "    <tr>\n",
       "      <th>13</th>\n",
       "      <td>1140</td>\n",
       "      <td>91400</td>\n",
       "      <td>3097</td>\n",
       "      <td>113142</td>\n",
       "      <td>33760000</td>\n",
       "      <td>96828</td>\n",
       "      <td>0.031985</td>\n",
       "      <td>0.335136</td>\n",
       "    </tr>\n",
       "    <tr>\n",
       "      <th>14</th>\n",
       "      <td>1150</td>\n",
       "      <td>91500</td>\n",
       "      <td>1396</td>\n",
       "      <td>22487</td>\n",
       "      <td>3920000</td>\n",
       "      <td>76109</td>\n",
       "      <td>0.018342</td>\n",
       "      <td>0.573648</td>\n",
       "    </tr>\n",
       "    <tr>\n",
       "      <th>15</th>\n",
       "      <td>1160</td>\n",
       "      <td>91600</td>\n",
       "      <td>2036</td>\n",
       "      <td>51908</td>\n",
       "      <td>8670000</td>\n",
       "      <td>102444</td>\n",
       "      <td>0.019874</td>\n",
       "      <td>0.598708</td>\n",
       "    </tr>\n",
       "    <tr>\n",
       "      <th>16</th>\n",
       "      <td>1170</td>\n",
       "      <td>91700</td>\n",
       "      <td>1439</td>\n",
       "      <td>4359</td>\n",
       "      <td>11390000</td>\n",
       "      <td>56033</td>\n",
       "      <td>0.025681</td>\n",
       "      <td>0.038270</td>\n",
       "    </tr>\n",
       "    <tr>\n",
       "      <th>17</th>\n",
       "      <td>1180</td>\n",
       "      <td>91800</td>\n",
       "      <td>1513</td>\n",
       "      <td>213112</td>\n",
       "      <td>6350000</td>\n",
       "      <td>51559</td>\n",
       "      <td>0.029345</td>\n",
       "      <td>3.356094</td>\n",
       "    </tr>\n",
       "    <tr>\n",
       "      <th>18</th>\n",
       "      <td>1190</td>\n",
       "      <td>91900</td>\n",
       "      <td>2783</td>\n",
       "      <td>141349</td>\n",
       "      <td>24940000</td>\n",
       "      <td>75517</td>\n",
       "      <td>0.036853</td>\n",
       "      <td>0.566756</td>\n",
       "    </tr>\n",
       "    <tr>\n",
       "      <th>19</th>\n",
       "      <td>1200</td>\n",
       "      <td>92000</td>\n",
       "      <td>1804</td>\n",
       "      <td>74286</td>\n",
       "      <td>5710000</td>\n",
       "      <td>85690</td>\n",
       "      <td>0.021053</td>\n",
       "      <td>1.300981</td>\n",
       "    </tr>\n",
       "    <tr>\n",
       "      <th>20</th>\n",
       "      <td>1210</td>\n",
       "      <td>92100</td>\n",
       "      <td>7397</td>\n",
       "      <td>92683</td>\n",
       "      <td>44440000</td>\n",
       "      <td>183895</td>\n",
       "      <td>0.040224</td>\n",
       "      <td>0.208558</td>\n",
       "    </tr>\n",
       "    <tr>\n",
       "      <th>21</th>\n",
       "      <td>1220</td>\n",
       "      <td>92200</td>\n",
       "      <td>9292</td>\n",
       "      <td>49743</td>\n",
       "      <td>102300000</td>\n",
       "      <td>212658</td>\n",
       "      <td>0.043695</td>\n",
       "      <td>0.048625</td>\n",
       "    </tr>\n",
       "    <tr>\n",
       "      <th>22</th>\n",
       "      <td>1230</td>\n",
       "      <td>92300</td>\n",
       "      <td>4587</td>\n",
       "      <td>298444</td>\n",
       "      <td>32060000</td>\n",
       "      <td>117882</td>\n",
       "      <td>0.038912</td>\n",
       "      <td>0.930892</td>\n",
       "    </tr>\n",
       "  </tbody>\n",
       "</table>\n",
       "</div>"
      ],
      "text/plain": [
       "    postal_code  district_code  anzahl  green_space(sqm)       area  \\\n",
       "0          1010          90100     508              2646    2870000   \n",
       "1          1020          90200    2696            550314   19240000   \n",
       "2          1030          90300    2483            167372    7400000   \n",
       "3          1040          90400     715             41528    1780000   \n",
       "4          1050          90500     928             34577    2009999   \n",
       "5          1060          90600     626               992    1460000   \n",
       "6          1070          90700     644                 0    1610000   \n",
       "7          1080          90800     519                 0    1090000   \n",
       "8          1090          90900     983             27194    2970000   \n",
       "9          1100          91000    5178            545566   31830000   \n",
       "10         1110          91100    3381             78631   23260000   \n",
       "11         1120          91200    2358             66046    8100000   \n",
       "12         1130          91300    2094               546   37710000   \n",
       "13         1140          91400    3097            113142   33760000   \n",
       "14         1150          91500    1396             22487    3920000   \n",
       "15         1160          91600    2036             51908    8670000   \n",
       "16         1170          91700    1439              4359   11390000   \n",
       "17         1180          91800    1513            213112    6350000   \n",
       "18         1190          91900    2783            141349   24940000   \n",
       "19         1200          92000    1804             74286    5710000   \n",
       "20         1210          92100    7397             92683   44440000   \n",
       "21         1220          92200    9292             49743  102300000   \n",
       "22         1230          92300    4587            298444   32060000   \n",
       "\n",
       "    pop_value  dogs_per_capita  greenspace_pct  \n",
       "0       16620         0.030566        0.092195  \n",
       "1      108269         0.024901        2.860260  \n",
       "2       96756         0.025662        2.261784  \n",
       "3       33633         0.021259        2.333034  \n",
       "4       55018         0.016867        1.720250  \n",
       "5       31423         0.019922        0.067945  \n",
       "6       31581         0.020392        0.000000  \n",
       "7       24674         0.021034        0.000000  \n",
       "8       42206         0.023291        0.915623  \n",
       "9      218415         0.023707        1.713999  \n",
       "10     109038         0.031008        0.338052  \n",
       "11     100281         0.023514        0.815383  \n",
       "12      55568         0.037684        0.001448  \n",
       "13      96828         0.031985        0.335136  \n",
       "14      76109         0.018342        0.573648  \n",
       "15     102444         0.019874        0.598708  \n",
       "16      56033         0.025681        0.038270  \n",
       "17      51559         0.029345        3.356094  \n",
       "18      75517         0.036853        0.566756  \n",
       "19      85690         0.021053        1.300981  \n",
       "20     183895         0.040224        0.208558  \n",
       "21     212658         0.043695        0.048625  \n",
       "22     117882         0.038912        0.930892  "
      ]
     },
     "execution_count": 59,
     "metadata": {},
     "output_type": "execute_result"
    }
   ],
   "source": [
    "# Calculate ratios: \n",
    "df_h5[\"dogs_per_capita\"]=df_h5[\"anzahl\"]/df_h5[\"pop_value\"]\n",
    "df_h5[\"greenspace_pct\"]=df_h5[\"green_space(sqm)\"]/df_h5[\"area\"]*100\n",
    "df_h5"
   ]
  },
  {
   "cell_type": "markdown",
   "id": "052760df-b72b-41ec-821c-467b9cb8ccd0",
   "metadata": {},
   "source": [
    "Another quick data exploration already indicates, that the hypothesis might not hold: When sorting by dogs/capita, we see that many districts with medium high dog population have a lot of green space. The distribution for area is more, what we would expect to see, if there was a positive correlation. "
   ]
  },
  {
   "cell_type": "code",
   "execution_count": 67,
   "id": "4ea24d58-5b7f-415c-a31b-1d4d41d267e2",
   "metadata": {},
   "outputs": [
    {
     "data": {
      "image/png": "[encoded data removed]",
      "text/plain": [
       "<Figure size 640x480 with 3 Axes>"
      ]
     },
     "metadata": {},
     "output_type": "display_data"
    }
   ],
   "source": [
    "df_h5.sort_values(\"dogs_per_capita\").plot(x=\"postal_code\", y=[\"dogs_per_capita\",\"greenspace_pct\", \"area\"], kind=\"bar\", subplots=True);"
   ]
  },
  {
   "cell_type": "markdown",
   "id": "84056f04-9dd8-45c1-9e1e-7823b618a06f",
   "metadata": {},
   "source": [
    "We can then plot the data with a linear regression model fit to get a visual impression, if the hypothesis holds. "
   ]
  },
  {
   "cell_type": "code",
   "execution_count": 77,
   "id": "e8ff40a1-d63c-41f8-a570-a8a1659d22e7",
   "metadata": {},
   "outputs": [
    {
     "data": {
      "image/png": "[encoded data removed]",
      "text/plain": [
       "<Figure size 1000x500 with 2 Axes>"
      ]
     },
     "metadata": {},
     "output_type": "display_data"
    },
    {
     "data": {
      "text/plain": [
       "<Figure size 640x480 with 0 Axes>"
      ]
     },
     "metadata": {},
     "output_type": "display_data"
    }
   ],
   "source": [
    "fig, axs = plt.subplots(ncols=2, figsize=(10, 5))\n",
    "\n",
    "#regplot for greenspace_pct vs dogs_per_capita\n",
    "sns.regplot(data=df_h5, x=\"greenspace_pct\", y=\"dogs_per_capita\", marker=\"x\", \n",
    "            scatter_kws=dict(color=\"g\"), line_kws=dict(color=\"darkgray\"), ax=axs[0])\n",
    "axs[0].set_xlabel(\"Percentage of Green Space\")\n",
    "axs[0].set_ylabel(\"Dogs per Capita\")\n",
    "axs[0].set_title(\"Green Space vs. Dogs per Capita\")\n",
    "axs[0].set_ylim([0, 0.05])\n",
    "\n",
    "# regplot for area vs dogs_per_capita\n",
    "sns.regplot(data=df_h5, x=\"area\", y=\"dogs_per_capita\", marker=\"x\", scatter_kws=dict(color=\"b\"), \n",
    "            line_kws=dict(color=\"darkgray\"), ax=axs[1])\n",
    "axs[1].set_xlabel(\"Area (sqm)\")\n",
    "axs[1].set_ylabel(\"Dogs per Capita\")\n",
    "axs[1].set_title(\"Area vs. Dogs per Capita\")\n",
    "axs[1].set_ylim([0, 0.05])\n",
    "\n",
    "\n",
    "plt.suptitle(\"Comparative Analysis of Dog Population in Vienna's Districts\", fontsize=16)\n",
    "fig.align_ylabels(axs[:])\n",
    "plt.tight_layout()\n",
    "plt.show()\n",
    "plt.savefig(\"H5.png\")"
   ]
  },
  {
   "cell_type": "markdown",
   "id": "1dee428a-3fad-41d7-9843-f2ae7509ee18",
   "metadata": {},
   "source": [
    "When creating a scatter plot and fitting a linear model to the data, we found that our initial hypothesis - that the percentage of green space is indicative of a higher dog population - was not supported. The scatter plot does not show strong correlation, and even if correlation was assumed, it would be slightly negative. Consequently, our hypothesis was not validated. \n",
    "\n",
    "When examining another variable, the area of each district, we saw a positive correlation. \n",
    "It appears that the size of a district may be a more reliable predictor of the dog population per inhabitant.\n"
   ]
  },
  {
   "cell_type": "code",
   "execution_count": 62,
   "id": "553117b9-d9b2-4ab8-a97d-9ce7606038cc",
   "metadata": {},
   "outputs": [
    {
     "data": {
      "text/html": [
       "<div>\n",
       "<style scoped>\n",
       "    .dataframe tbody tr th:only-of-type {\n",
       "        vertical-align: middle;\n",
       "    }\n",
       "\n",
       "    .dataframe tbody tr th {\n",
       "        vertical-align: top;\n",
       "    }\n",
       "\n",
       "    .dataframe thead th {\n",
       "        text-align: right;\n",
       "    }\n",
       "</style>\n",
       "<table border=\"1\" class=\"dataframe\">\n",
       "  <thead>\n",
       "    <tr style=\"text-align: right;\">\n",
       "      <th></th>\n",
       "      <th>dogs_per_capita</th>\n",
       "      <th>greenspace_pct</th>\n",
       "    </tr>\n",
       "  </thead>\n",
       "  <tbody>\n",
       "    <tr>\n",
       "      <th>dogs_per_capita</th>\n",
       "      <td>1.000000</td>\n",
       "      <td>-0.246081</td>\n",
       "    </tr>\n",
       "    <tr>\n",
       "      <th>greenspace_pct</th>\n",
       "      <td>-0.246081</td>\n",
       "      <td>1.000000</td>\n",
       "    </tr>\n",
       "  </tbody>\n",
       "</table>\n",
       "</div>"
      ],
      "text/plain": [
       "                 dogs_per_capita  greenspace_pct\n",
       "dogs_per_capita         1.000000       -0.246081\n",
       "greenspace_pct         -0.246081        1.000000"
      ]
     },
     "execution_count": 62,
     "metadata": {},
     "output_type": "execute_result"
    }
   ],
   "source": [
    "df_h5[[\"dogs_per_capita\", \"greenspace_pct\"]].corr(method='pearson')"
   ]
  },
  {
   "cell_type": "code",
   "execution_count": 80,
   "id": "1b4ed3e3-2024-493e-8f9f-18ec99712035",
   "metadata": {},
   "outputs": [
    {
     "data": {
      "text/html": [
       "<div>\n",
       "<style scoped>\n",
       "    .dataframe tbody tr th:only-of-type {\n",
       "        vertical-align: middle;\n",
       "    }\n",
       "\n",
       "    .dataframe tbody tr th {\n",
       "        vertical-align: top;\n",
       "    }\n",
       "\n",
       "    .dataframe thead th {\n",
       "        text-align: right;\n",
       "    }\n",
       "</style>\n",
       "<table border=\"1\" class=\"dataframe\">\n",
       "  <thead>\n",
       "    <tr style=\"text-align: right;\">\n",
       "      <th></th>\n",
       "      <th>dogs_per_capita</th>\n",
       "      <th>area</th>\n",
       "    </tr>\n",
       "  </thead>\n",
       "  <tbody>\n",
       "    <tr>\n",
       "      <th>dogs_per_capita</th>\n",
       "      <td>1.000000</td>\n",
       "      <td>0.620553</td>\n",
       "    </tr>\n",
       "    <tr>\n",
       "      <th>area</th>\n",
       "      <td>0.620553</td>\n",
       "      <td>1.000000</td>\n",
       "    </tr>\n",
       "  </tbody>\n",
       "</table>\n",
       "</div>"
      ],
      "text/plain": [
       "                 dogs_per_capita      area\n",
       "dogs_per_capita         1.000000  0.620553\n",
       "area                    0.620553  1.000000"
      ]
     },
     "execution_count": 80,
     "metadata": {},
     "output_type": "execute_result"
    }
   ],
   "source": [
    "df_h5[[\"dogs_per_capita\", \"area\"]].corr(method='kendall')"
   ]
  },
  {
   "cell_type": "markdown",
   "id": "ce9040f7-8ebf-421f-9491-02941e53e82f",
   "metadata": {},
   "source": [
    "# END FORMULATE HYPOTHESIS H5"
   ]
  },
  {
   "cell_type": "markdown",
   "id": "f6934463-ab38-44db-8134-ebab355dbd3f",
   "metadata": {},
   "source": [
    "# STATISTICAL TESTING???"
   ]
  },
  {
   "cell_type": "code",
   "execution_count": 64,
   "id": "e2450581-02e7-4905-a90f-c7312c43fd02",
   "metadata": {},
   "outputs": [],
   "source": [
    "from scipy.stats import pearsonr\n",
    "correlation_coefficient, p_value = pearsonr(df_h5['area'], df_h5['dogs_per_capita'])"
   ]
  },
  {
   "cell_type": "code",
   "execution_count": 65,
   "id": "5add5812-6e8f-493a-947e-9f78e83cb3ed",
   "metadata": {},
   "outputs": [
    {
     "name": "stdout",
     "output_type": "stream",
     "text": [
      "Pearson Correlation Coefficient: 0.7972594953108546\n",
      "P-value: 5.249056418481239e-06\n"
     ]
    }
   ],
   "source": [
    "print(f\"Pearson Correlation Coefficient: {correlation_coefficient}\")\n",
    "print(f\"P-value: {p_value}\")"
   ]
  },
  {
   "cell_type": "code",
   "execution_count": 66,
   "id": "1bf1a265-6288-41b6-9c92-04ffd851d1b5",
   "metadata": {},
   "outputs": [
    {
     "data": {
      "text/plain": [
       "True"
      ]
     },
     "execution_count": 66,
     "metadata": {},
     "output_type": "execute_result"
    }
   ],
   "source": [
    "p_value<0.05"
   ]
  },
  {
   "cell_type": "code",
   "execution_count": null,
   "id": "a6434945-589e-48d1-a18a-2e4e2cbbb6f3",
   "metadata": {},
   "outputs": [],
   "source": []
  }
 ],
 "metadata": {
  "kernelspec": {
   "display_name": "de_py",
   "language": "python",
   "name": "de_py"
  },
  "language_info": {
   "codemirror_mode": {
    "name": "ipython",
    "version": 3
   },
   "file_extension": ".py",
   "mimetype": "text/x-python",
   "name": "python",
   "nbconvert_exporter": "python",
   "pygments_lexer": "ipython3",
   "version": "3.10.9"
  }
 },
 "nbformat": 4,
 "nbformat_minor": 5
}
