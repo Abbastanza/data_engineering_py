{
 "cells": [
  {
   "cell_type": "markdown",
   "id": "e12ece56-fcd4-4665-bf8b-773b5e8c789d",
   "metadata": {
    "tags": []
   },
   "source": [
    "# Project 1 - Data Engineering\n",
    "## 2 Data Exploration and Analysis\n",
    "This notebook is for the implementation of task \"2 Data Exploration and Analysis\", as listed in the **Project Instructions**."
   ]
  },
  {
   "cell_type": "markdown",
   "id": "45dfc955-b808-45ff-b0d8-c2425da31416",
   "metadata": {},
   "source": [
    "<div class=\"alert alert-success\">\n",
    "<b>Overview:</b><br>\n",
    "Data Exploration and Analysis consists of the following parts worth 70 points:\n",
    "<ul>\n",
    "    <li><b>E1 - Obtain and Scrub</b> (15 points)</li>\n",
    "    <li><b>E2 - Exploratory data analysis (EDA) </b>(20 points)</li>\n",
    "    <li><b>E3 - Formulate hypotheses </b>(25 points)</li>\n",
    "    <li><b>Follow the guidelines for Data Exploration and Analysis below </b>(10 points)</li>\n",
    "</ul></div>"
   ]
  },
  {
   "cell_type": "markdown",
   "id": "3c8a055f",
   "metadata": {},
   "source": [
    "<div class=\"alert alert-success\">\n",
    "<b>Guidelines for Data Exploration and Analysis:</b><br>\n",
    "    <ol>\n",
    "        <li>Use a single Jupyer notebook for your project.</li>\n",
    "        <li>Use only Python-code for your project.</li>\n",
    "        <li>The use of automatic and semi-automatic data analyis tools is not allowed (e. g., PandasGUI, D-Tale, Mito, etc.). Only use packages we used in the coded lectures.</li>\n",
    "        <li>Export your environment for submission as 'prj01-environment.txt'.</li>\n",
    "        <li>Upload your resulting work as a zip file containing only a single jupyter notebook and required files to run the notebook. All cell outputs and <b>figures must display in jupyter lab</b>. (Test this, in particular when you use another environment like VS Code.)</li>\n",
    "        <li>All code cells in your notebook must be runnable without errors or warnings (e. g., deprecated functions). Each error/warning subtracts -2 points (up to the full 10 points for following the  guidelines).</li>\n",
    "        <li>Use only relative paths in your project.</li>\n",
    "        <li>Avoid (excessive) code duplication.</li>\n",
    "        <li>Avoid loops iterating over pandas objects (Series, DataFrames). Explicitly justify each exception via a comment. </li>\n",
    "        <li>All coded steps in your analysis must be commented.</li>\n",
    "        <li>Keep your code as well as outputs short, precise and readable. Each long or unnecessary output subtracts -2 points (up to the full 10 points for following the project guidelines).</li>\n",
    "    </ol>\n",
    "    <b>Late submissions are not accepted and earn you 0 points on the python project. </b>\n",
    "</div>"
   ]
  },
  {
   "cell_type": "markdown",
   "id": "ea992ba9-f942-445d-a515-16dc32837466",
   "metadata": {},
   "source": [
    "Explicitly list which notebook toolset was used (jupyter lab/jupyter notebook/VS Code/etc.) \n",
    "\n",
    "**here**: Jupyter Lab, Chrome"
   ]
  },
  {
   "cell_type": "markdown",
   "id": "92f63424-1d61-4b8b-94a6-f50afea65d79",
   "metadata": {
    "tags": []
   },
   "source": [
    "Explicitly and clearly state the chosen dataset number and title:\n",
    "### Arbeitsmarkt ODÖ \n",
    "## 99. Gesamtübersicht über die Arbeitslosigkeit - Bestand, Zugang, Abgang\n"
   ]
  },
  {
   "cell_type": "markdown",
   "id": "0999a549-323a-4537-963f-3a1a746b77fd",
   "metadata": {},
   "source": [
    "## E1 - Obtain and Scrub"
   ]
  },
  {
   "attachments": {
    "8eab5647-0d31-4875-a3ac-990349e90b76.png": {
     "image/png": "[encoded data removed]"
    }
   },
   "cell_type": "markdown",
   "id": "937713cc-715f-4930-ae10-ebeeaec55685",
   "metadata": {},
   "source": [
    "### Obtain\n",
    "Download the dataset and understand both: \n",
    "- format: wide vs. long, separaters, decimal points, encoding, etc., and \n",
    "- content: what variables are in the columns, what is their meaning?\n",
    "To this end, identify and download metadata such as headers, category listings, explanatory reports, etc.\n",
    "### Scrub\n",
    "The aim of scrub is to create a clean version of the data for further analysis. \n",
    "- Load the dataset and take care of dtypes (dates, numbers, categories, etc.). Justify why you don't load/use specific columns.\n",
    "- Check for footnotes or any other notifications on special cell content, such as time series breaks. Follow up that information, and document your decision how to deal with it. Remember: The homework 4 contained such info in the cell \"76.1 b\". The metadata defines what that \"b\" stands for.\n",
    "![image.png](attachment:8eab5647-0d31-4875-a3ac-990349e90b76.png)\n",
    "- Choose an appropriate (Multi-)Index.\n",
    "- Identify:\n",
    "    1. missing values and get row and column overviews. Use graphical and/or numeric approaches. Once identified, handle missing values according to column type, time series property and data set size.\n",
    "    2. duplicates (justify the used column subset). Remove duplicates - if any - and inspect what you removed.\n",
    "- Transform to shape (tidy vs. wide) best suited for further analysis.\n",
    "- Export the clean data to a file for inspection with an external data browser (e.g., MS Excel).\n",
    "- Provide an overview of the clean dataset:\n",
    "    1. show the dtypes\n",
    "    2. quantitative column descriptions: \n",
    "        1. categorical columns: number of unique values, counts \n",
    "        2. numeric columns: range and median"
   ]
  },
  {
   "cell_type": "markdown",
   "id": "3a05f42a-135e-4f2d-8ef0-b42bd53da4bf",
   "metadata": {},
   "source": [
    "### Bevökerung ODÖ \n",
    "## 99. Hunde pro Bezirk Wien"
   ]
  },
  {
   "cell_type": "markdown",
   "id": "67038543-5fb5-4ca7-9089-13364b2b4c9b",
   "metadata": {},
   "source": [
    "This notebook was created using Jupyter Lab."
   ]
  },
  {
   "cell_type": "markdown",
   "id": "95e5eac8-92d5-46fc-8f2d-a5ac39510bde",
   "metadata": {},
   "source": [
    "## Libraries"
   ]
  },
  {
   "cell_type": "code",
   "execution_count": 1,
   "id": "2fdff4a7-c0e5-46e7-8276-24d372ec4228",
   "metadata": {
    "tags": []
   },
   "outputs": [
    {
     "data": {
      "text/html": [
       "        <script type=\"text/javascript\">\n",
       "        window.PlotlyConfig = {MathJaxConfig: 'local'};\n",
       "        if (window.MathJax && window.MathJax.Hub && window.MathJax.Hub.Config) {window.MathJax.Hub.Config({SVG: {font: \"STIX-Web\"}});}\n",
       "        if (typeof require !== 'undefined') {\n",
       "        require.undef(\"plotly\");\n",
       "        requirejs.config({\n",
       "            paths: {\n",
       "                'plotly': ['https://cdn.plot.ly/plotly-2.12.1.min']\n",
       "            }\n",
       "        });\n",
       "        require(['plotly'], function(Plotly) {\n",
       "            window._Plotly = Plotly;\n",
       "        });\n",
       "        }\n",
       "        </script>\n",
       "        "
      ]
     },
     "metadata": {},
     "output_type": "display_data"
    }
   ],
   "source": [
    "#libraries\n",
    "import numpy as np\n",
    "import pandas as pd\n",
    "import seaborn as sns\n",
    "import geopandas as gpd\n",
    "import matplotlib\n",
    "import matplotlib.colors\n",
    "import matplotlib.pyplot as plt\n",
    "import statsmodels.api as sm\n",
    "\n",
    "from plotly.offline import download_plotlyjs, init_notebook_mode,  iplot\n",
    "init_notebook_mode(connected=True)"
   ]
  },
  {
   "cell_type": "markdown",
   "id": "ca9b8778-1bd8-48bf-9db5-8dadd6aa3b0b",
   "metadata": {},
   "source": [
    "## Obtain and Scrub"
   ]
  },
  {
   "cell_type": "code",
   "execution_count": 2,
   "id": "824604e7-edc4-4186-8b00-8ec9fdee9e59",
   "metadata": {
    "tags": []
   },
   "outputs": [
    {
     "data": {
      "text/html": [
       "<div>\n",
       "<style scoped>\n",
       "    .dataframe tbody tr th:only-of-type {\n",
       "        vertical-align: middle;\n",
       "    }\n",
       "\n",
       "    .dataframe tbody tr th {\n",
       "        vertical-align: top;\n",
       "    }\n",
       "\n",
       "    .dataframe thead th {\n",
       "        text-align: right;\n",
       "    }\n",
       "</style>\n",
       "<table border=\"1\" class=\"dataframe\">\n",
       "  <thead>\n",
       "    <tr style=\"text-align: right;\">\n",
       "      <th></th>\n",
       "      <th>NUTS1</th>\n",
       "      <th>NUTS2</th>\n",
       "      <th>NUTS3</th>\n",
       "      <th>DISTRICT_CODE</th>\n",
       "      <th>SUB_DISTRICT_CODE</th>\n",
       "      <th>Postal_CODE</th>\n",
       "      <th>Dog Breed</th>\n",
       "      <th>Anzahl</th>\n",
       "      <th>Ref_Date</th>\n",
       "    </tr>\n",
       "  </thead>\n",
       "  <tbody>\n",
       "    <tr>\n",
       "      <th>0</th>\n",
       "      <td>AT1</td>\n",
       "      <td>AT13</td>\n",
       "      <td>AT113</td>\n",
       "      <td>90100</td>\n",
       "      <td>.</td>\n",
       "      <td>1010</td>\n",
       "      <td>Akita / Belgischer Schäferhund</td>\n",
       "      <td>1</td>\n",
       "      <td>20231201</td>\n",
       "    </tr>\n",
       "    <tr>\n",
       "      <th>1</th>\n",
       "      <td>AT1</td>\n",
       "      <td>AT13</td>\n",
       "      <td>AT113</td>\n",
       "      <td>90100</td>\n",
       "      <td>.</td>\n",
       "      <td>1010</td>\n",
       "      <td>American Cocker Spaniel</td>\n",
       "      <td>2</td>\n",
       "      <td>20231201</td>\n",
       "    </tr>\n",
       "    <tr>\n",
       "      <th>2</th>\n",
       "      <td>AT1</td>\n",
       "      <td>AT13</td>\n",
       "      <td>AT113</td>\n",
       "      <td>90100</td>\n",
       "      <td>.</td>\n",
       "      <td>1010</td>\n",
       "      <td>American Cocker Spaniel / Pudel</td>\n",
       "      <td>1</td>\n",
       "      <td>20231201</td>\n",
       "    </tr>\n",
       "    <tr>\n",
       "      <th>3</th>\n",
       "      <td>AT1</td>\n",
       "      <td>AT13</td>\n",
       "      <td>AT113</td>\n",
       "      <td>90100</td>\n",
       "      <td>.</td>\n",
       "      <td>1010</td>\n",
       "      <td>American Staffordshire Terrier</td>\n",
       "      <td>1</td>\n",
       "      <td>20231201</td>\n",
       "    </tr>\n",
       "    <tr>\n",
       "      <th>4</th>\n",
       "      <td>AT1</td>\n",
       "      <td>AT13</td>\n",
       "      <td>AT113</td>\n",
       "      <td>90100</td>\n",
       "      <td>.</td>\n",
       "      <td>1010</td>\n",
       "      <td>Australian Shepherd</td>\n",
       "      <td>5</td>\n",
       "      <td>20231201</td>\n",
       "    </tr>\n",
       "  </tbody>\n",
       "</table>\n",
       "</div>"
      ],
      "text/plain": [
       "  NUTS1 NUTS2  NUTS3  DISTRICT_CODE SUB_DISTRICT_CODE  Postal_CODE  \\\n",
       "0   AT1  AT13  AT113          90100                 .         1010   \n",
       "1   AT1  AT13  AT113          90100                 .         1010   \n",
       "2   AT1  AT13  AT113          90100                 .         1010   \n",
       "3   AT1  AT13  AT113          90100                 .         1010   \n",
       "4   AT1  AT13  AT113          90100                 .         1010   \n",
       "\n",
       "                         Dog Breed  Anzahl  Ref_Date  \n",
       "0   Akita / Belgischer Schäferhund       1  20231201  \n",
       "1          American Cocker Spaniel       2  20231201  \n",
       "2  American Cocker Spaniel / Pudel       1  20231201  \n",
       "3   American Staffordshire Terrier       1  20231201  \n",
       "4              Australian Shepherd       5  20231201  "
      ]
     },
     "execution_count": 2,
     "metadata": {},
     "output_type": "execute_result"
    }
   ],
   "source": [
    "df=pd.read_csv('hunde-wien.csv', sep = ';',encoding= 'latin-1', header = 1, thousands='.')#Reading in the data with pandas read_csv.\n",
    "df.head() #Showing the first 5 rows of our dataset"
   ]
  },
  {
   "cell_type": "markdown",
   "id": "6b3dec7b-c9e9-44f1-b807-be2e1b25fd7a",
   "metadata": {},
   "source": [
    "We used pandas *read_csv* to read our data into jupyter lab.The column separater is a semicolon and encoding is *latin-1* (also known as ISO-8859-1). It covers a limited set of characters, primarily from the Latin alphabet, digits, and some special characters. The first row in the file represents the header. Additionaly we set the thousand-symbol as a dot, so that the read_csv would not automatically read it as a delimeter for the decimal. The data is in a long format."
   ]
  },
  {
   "cell_type": "code",
   "execution_count": 3,
   "id": "deb1a0a4-7c7d-4b2e-951c-98c1d18870f2",
   "metadata": {
    "tags": []
   },
   "outputs": [
    {
     "data": {
      "text/plain": [
       "NUTS1                object\n",
       "NUTS2                object\n",
       "NUTS3                object\n",
       "DISTRICT_CODE         int64\n",
       "SUB_DISTRICT_CODE    object\n",
       "Postal_CODE           int64\n",
       "Dog Breed            object\n",
       "Anzahl                int64\n",
       "Ref_Date              int64\n",
       "dtype: object"
      ]
     },
     "execution_count": 3,
     "metadata": {},
     "output_type": "execute_result"
    }
   ],
   "source": [
    "df.dtypes #Showing the column datatypes"
   ]
  },
  {
   "cell_type": "code",
   "execution_count": 4,
   "id": "f5611c2c-5be8-4803-89cc-d1848f5da72e",
   "metadata": {
    "tags": []
   },
   "outputs": [
    {
     "data": {
      "text/plain": [
       "(10522, 9)"
      ]
     },
     "execution_count": 4,
     "metadata": {},
     "output_type": "execute_result"
    }
   ],
   "source": [
    "df.shape"
   ]
  },
  {
   "cell_type": "markdown",
   "id": "57502a93-bc09-4abe-81f6-d0c6a3897583",
   "metadata": {},
   "source": [
    "The dataset consists of 10.522 rows and 9 columns."
   ]
  },
  {
   "cell_type": "code",
   "execution_count": 5,
   "id": "22b06686-24a7-44ff-9d8e-819e797d63ac",
   "metadata": {
    "tags": []
   },
   "outputs": [
    {
     "data": {
      "text/plain": [
       "NUTS1                   1\n",
       "NUTS2                   1\n",
       "NUTS3                   1\n",
       "DISTRICT_CODE          23\n",
       "SUB_DISTRICT_CODE       1\n",
       "Postal_CODE            23\n",
       "Dog Breed            3214\n",
       "Anzahl                163\n",
       "Ref_Date                1\n",
       "dtype: int64"
      ]
     },
     "execution_count": 5,
     "metadata": {},
     "output_type": "execute_result"
    }
   ],
   "source": [
    "df.nunique(axis='rows') #Checking the number of unique values per column"
   ]
  },
  {
   "cell_type": "markdown",
   "id": "ba2c7a1b-8b3c-4d97-8837-09034c0093d6",
   "metadata": {},
   "source": [
    "What we can see here, is that *NUTS1, NUTS2, NUTS3, SUB_DISTRICT_CODE* and *Ref_Date* only have one single value in all of the 10.522 rows.\n",
    "- NUTS (Nomenclature of Territorial Units for Statistics) is a classification system used by the European Union for statistical and administrative purposes.*NUTS1, NUTS2, NUTS3* indicate the level in the hierarchy.In our case, every row has the same level of the hierachy in all three columns. Therefore, these columns do not provide any additional information for our data.\n",
    "- The column *SUB_DISTRICT_CODE* contains \".\" in every row. \n",
    "- *Ref_Date* is also the same for very row and shows when the data was last modified.\n",
    "\n",
    "Due to there only being one value per row for those 5 columns, in the next step, we dropped those columns as they are not relevant for an analysis. \n"
   ]
  },
  {
   "cell_type": "code",
   "execution_count": 6,
   "id": "cec63c55-0a55-4b05-943f-565ed1aa2b06",
   "metadata": {},
   "outputs": [],
   "source": [
    "\n",
    "# drop unnecessary columns\n",
    "df.drop(['NUTS1','NUTS2','NUTS3','SUB_DISTRICT_CODE','Ref_Date'], axis=1, inplace=True)\n",
    "\n",
    "\n",
    "# clean column names\n",
    "df.columns = df.columns.str.lower().str.replace(' ', '_')"
   ]
  },
  {
   "cell_type": "markdown",
   "id": "aee67f5e-1f8f-454c-a696-d11ec576b810",
   "metadata": {},
   "source": [
    "Afterward, we cleaned up the column names by formatting everything in lowercase and replacing spaces with underscores."
   ]
  },
  {
   "cell_type": "markdown",
   "id": "16523f65-bc91-4c14-ab20-745342fe7953",
   "metadata": {
    "tags": []
   },
   "source": [
    "Following that, we added two extra columns *Inner district* and *mixed breed*.\n",
    "Thus, our columns for the analysis are the following:\n",
    "\n",
    "- **district_code**: The district code in Vienna is a numerical identifier assigned to each of the cities 23 districts\n",
    "- **postal_code**: The postal code in Vienna is a numerical code assigned to specific geographic areas within the city.\n",
    "- **dog_breed**: Specifies the breed of the dog.\n",
    "- **number_of_dogs**: Specifies the number of dogs \n"
   ]
  },
  {
   "cell_type": "markdown",
   "id": "c732c857-6bea-48b8-b68d-6bbcc3744802",
   "metadata": {},
   "source": [
    "Our index is a simple numerical index, starting at 0."
   ]
  },
  {
   "cell_type": "code",
   "execution_count": 7,
   "id": "dfd6d145-2ec6-4bf8-882b-0d82b69ffbe7",
   "metadata": {
    "tags": []
   },
   "outputs": [
    {
     "data": {
      "text/plain": [
       "district_code     int64\n",
       "postal_code       int64\n",
       "dog_breed        object\n",
       "anzahl            int64\n",
       "dtype: object"
      ]
     },
     "execution_count": 7,
     "metadata": {},
     "output_type": "execute_result"
    }
   ],
   "source": [
    "df.dtypes # checking the datatypes"
   ]
  },
  {
   "cell_type": "markdown",
   "id": "abd89e6b-2c10-4980-b4ea-fa38628a76c7",
   "metadata": {},
   "source": [
    "Since *district_code* and *postal_code* represent the ditricts of Vienna, they are actually categorical columns and not numbers, which one can calculate with.\n",
    "Additionaly we rename the column *anzahl* to *number_of_dogs* to have the columns named in the same language."
   ]
  },
  {
   "cell_type": "code",
   "execution_count": 8,
   "id": "c3726d8c-ef9f-455c-9e2b-3b8a1d6ec99f",
   "metadata": {
    "tags": []
   },
   "outputs": [
    {
     "data": {
      "text/plain": [
       "district_code     category\n",
       "postal_code       category\n",
       "dog_breed         category\n",
       "number_of_dogs       int64\n",
       "dtype: object"
      ]
     },
     "execution_count": 8,
     "metadata": {},
     "output_type": "execute_result"
    }
   ],
   "source": [
    "df['district_code'] = df['district_code'].astype('category')\n",
    "df['postal_code'] = df['postal_code'].astype('category')\n",
    "df['dog_breed'] = df['dog_breed'].astype('category')\n",
    "df=df.rename(columns={'anzahl':'number_of_dogs'})\n",
    "df.dtypes"
   ]
  },
  {
   "cell_type": "markdown",
   "id": "99431dfa-2de7-48c6-ad62-11b00b24eadf",
   "metadata": {},
   "source": [
    "### Check for missing values and duplicates"
   ]
  },
  {
   "cell_type": "markdown",
   "id": "feac5a8e-4190-4b3f-9bf3-2653e00abe93",
   "metadata": {},
   "source": [
    "After changing the data types, we have 3 categorial columns and one integer being 'number_of_dogs'. "
   ]
  },
  {
   "cell_type": "code",
   "execution_count": 9,
   "id": "8cf2dd5d-9dda-4ebc-837a-fef9f457a036",
   "metadata": {
    "tags": []
   },
   "outputs": [
    {
     "data": {
      "text/plain": [
       "district_code     0\n",
       "postal_code       0\n",
       "dog_breed         0\n",
       "number_of_dogs    0\n",
       "dtype: int64"
      ]
     },
     "execution_count": 9,
     "metadata": {},
     "output_type": "execute_result"
    }
   ],
   "source": [
    "df.isnull().sum()"
   ]
  },
  {
   "cell_type": "markdown",
   "id": "b76fdcfe-044f-426c-a3af-bfa26d6aeafc",
   "metadata": {
    "tags": []
   },
   "source": [
    "There are no  obvious missing values in our columns. \n",
    "\n",
    "Therefore we have a look at the *dog_breed* column as there could be other kinds of missing values, one of the most common is *Unknown* or in German *Unbekannt*."
   ]
  },
  {
   "cell_type": "code",
   "execution_count": 10,
   "id": "2f90f20e-c657-4415-86e8-4c0b492e34d2",
   "metadata": {
    "tags": []
   },
   "outputs": [
    {
     "data": {
      "text/html": [
       "<div>\n",
       "<style scoped>\n",
       "    .dataframe tbody tr th:only-of-type {\n",
       "        vertical-align: middle;\n",
       "    }\n",
       "\n",
       "    .dataframe tbody tr th {\n",
       "        vertical-align: top;\n",
       "    }\n",
       "\n",
       "    .dataframe thead th {\n",
       "        text-align: right;\n",
       "    }\n",
       "</style>\n",
       "<table border=\"1\" class=\"dataframe\">\n",
       "  <thead>\n",
       "    <tr style=\"text-align: right;\">\n",
       "      <th></th>\n",
       "      <th>district_code</th>\n",
       "      <th>postal_code</th>\n",
       "      <th>dog_breed</th>\n",
       "      <th>number_of_dogs</th>\n",
       "    </tr>\n",
       "  </thead>\n",
       "  <tbody>\n",
       "    <tr>\n",
       "      <th>163</th>\n",
       "      <td>90100</td>\n",
       "      <td>1010</td>\n",
       "      <td>Unbekannt</td>\n",
       "      <td>21</td>\n",
       "    </tr>\n",
       "    <tr>\n",
       "      <th>716</th>\n",
       "      <td>90200</td>\n",
       "      <td>1020</td>\n",
       "      <td>Unbekannt</td>\n",
       "      <td>99</td>\n",
       "    </tr>\n",
       "    <tr>\n",
       "      <th>1235</th>\n",
       "      <td>90300</td>\n",
       "      <td>1030</td>\n",
       "      <td>Unbekannt</td>\n",
       "      <td>94</td>\n",
       "    </tr>\n",
       "    <tr>\n",
       "      <th>1499</th>\n",
       "      <td>90400</td>\n",
       "      <td>1040</td>\n",
       "      <td>Unbekannt</td>\n",
       "      <td>15</td>\n",
       "    </tr>\n",
       "    <tr>\n",
       "      <th>1796</th>\n",
       "      <td>90500</td>\n",
       "      <td>1050</td>\n",
       "      <td>Unbekannt</td>\n",
       "      <td>27</td>\n",
       "    </tr>\n",
       "    <tr>\n",
       "      <th>2011</th>\n",
       "      <td>90600</td>\n",
       "      <td>1060</td>\n",
       "      <td>Unbekannt</td>\n",
       "      <td>21</td>\n",
       "    </tr>\n",
       "    <tr>\n",
       "      <th>2250</th>\n",
       "      <td>90700</td>\n",
       "      <td>1070</td>\n",
       "      <td>Unbekannt</td>\n",
       "      <td>14</td>\n",
       "    </tr>\n",
       "    <tr>\n",
       "      <th>2453</th>\n",
       "      <td>90800</td>\n",
       "      <td>1080</td>\n",
       "      <td>Unbekannt</td>\n",
       "      <td>17</td>\n",
       "    </tr>\n",
       "    <tr>\n",
       "      <th>2760</th>\n",
       "      <td>90900</td>\n",
       "      <td>1090</td>\n",
       "      <td>Unbekannt</td>\n",
       "      <td>40</td>\n",
       "    </tr>\n",
       "    <tr>\n",
       "      <th>3428</th>\n",
       "      <td>91000</td>\n",
       "      <td>1100</td>\n",
       "      <td>Unbekannt</td>\n",
       "      <td>218</td>\n",
       "    </tr>\n",
       "    <tr>\n",
       "      <th>3963</th>\n",
       "      <td>91100</td>\n",
       "      <td>1110</td>\n",
       "      <td>Unbekannt</td>\n",
       "      <td>145</td>\n",
       "    </tr>\n",
       "    <tr>\n",
       "      <th>4450</th>\n",
       "      <td>91200</td>\n",
       "      <td>1120</td>\n",
       "      <td>Unbekannt</td>\n",
       "      <td>83</td>\n",
       "    </tr>\n",
       "    <tr>\n",
       "      <th>4901</th>\n",
       "      <td>91300</td>\n",
       "      <td>1130</td>\n",
       "      <td>Unbekannt</td>\n",
       "      <td>103</td>\n",
       "    </tr>\n",
       "    <tr>\n",
       "      <th>5432</th>\n",
       "      <td>91400</td>\n",
       "      <td>1140</td>\n",
       "      <td>Unbekannt</td>\n",
       "      <td>132</td>\n",
       "    </tr>\n",
       "    <tr>\n",
       "      <th>5800</th>\n",
       "      <td>91500</td>\n",
       "      <td>1150</td>\n",
       "      <td>Unbekannt</td>\n",
       "      <td>54</td>\n",
       "    </tr>\n",
       "    <tr>\n",
       "      <th>6232</th>\n",
       "      <td>91600</td>\n",
       "      <td>1160</td>\n",
       "      <td>Unbekannt</td>\n",
       "      <td>73</td>\n",
       "    </tr>\n",
       "    <tr>\n",
       "      <th>6615</th>\n",
       "      <td>91700</td>\n",
       "      <td>1170</td>\n",
       "      <td>Unbekannt</td>\n",
       "      <td>62</td>\n",
       "    </tr>\n",
       "    <tr>\n",
       "      <th>7023</th>\n",
       "      <td>91800</td>\n",
       "      <td>1180</td>\n",
       "      <td>Unbekannt</td>\n",
       "      <td>62</td>\n",
       "    </tr>\n",
       "    <tr>\n",
       "      <th>7536</th>\n",
       "      <td>91900</td>\n",
       "      <td>1190</td>\n",
       "      <td>Unbekannt</td>\n",
       "      <td>102</td>\n",
       "    </tr>\n",
       "    <tr>\n",
       "      <th>7940</th>\n",
       "      <td>92000</td>\n",
       "      <td>1200</td>\n",
       "      <td>Unbekannt</td>\n",
       "      <td>69</td>\n",
       "    </tr>\n",
       "    <tr>\n",
       "      <th>8778</th>\n",
       "      <td>92100</td>\n",
       "      <td>1210</td>\n",
       "      <td>Unbekannt</td>\n",
       "      <td>289</td>\n",
       "    </tr>\n",
       "    <tr>\n",
       "      <th>9759</th>\n",
       "      <td>92200</td>\n",
       "      <td>1220</td>\n",
       "      <td>Unbekannt</td>\n",
       "      <td>307</td>\n",
       "    </tr>\n",
       "    <tr>\n",
       "      <th>10465</th>\n",
       "      <td>92300</td>\n",
       "      <td>1230</td>\n",
       "      <td>Unbekannt</td>\n",
       "      <td>171</td>\n",
       "    </tr>\n",
       "  </tbody>\n",
       "</table>\n",
       "</div>"
      ],
      "text/plain": [
       "      district_code postal_code  dog_breed  number_of_dogs\n",
       "163           90100        1010  Unbekannt              21\n",
       "716           90200        1020  Unbekannt              99\n",
       "1235          90300        1030  Unbekannt              94\n",
       "1499          90400        1040  Unbekannt              15\n",
       "1796          90500        1050  Unbekannt              27\n",
       "2011          90600        1060  Unbekannt              21\n",
       "2250          90700        1070  Unbekannt              14\n",
       "2453          90800        1080  Unbekannt              17\n",
       "2760          90900        1090  Unbekannt              40\n",
       "3428          91000        1100  Unbekannt             218\n",
       "3963          91100        1110  Unbekannt             145\n",
       "4450          91200        1120  Unbekannt              83\n",
       "4901          91300        1130  Unbekannt             103\n",
       "5432          91400        1140  Unbekannt             132\n",
       "5800          91500        1150  Unbekannt              54\n",
       "6232          91600        1160  Unbekannt              73\n",
       "6615          91700        1170  Unbekannt              62\n",
       "7023          91800        1180  Unbekannt              62\n",
       "7536          91900        1190  Unbekannt             102\n",
       "7940          92000        1200  Unbekannt              69\n",
       "8778          92100        1210  Unbekannt             289\n",
       "9759          92200        1220  Unbekannt             307\n",
       "10465         92300        1230  Unbekannt             171"
      ]
     },
     "execution_count": 10,
     "metadata": {},
     "output_type": "execute_result"
    }
   ],
   "source": [
    "df[df['dog_breed']=='Unbekannt']"
   ]
  },
  {
   "cell_type": "code",
   "execution_count": 11,
   "id": "a7a8d7d9-90c5-4f31-99f1-5d58c9a42a00",
   "metadata": {
    "tags": []
   },
   "outputs": [
    {
     "data": {
      "text/plain": [
       "23"
      ]
     },
     "execution_count": 11,
     "metadata": {},
     "output_type": "execute_result"
    }
   ],
   "source": [
    "df[df['dog_breed']=='Unbekannt'].shape[0]"
   ]
  },
  {
   "cell_type": "markdown",
   "id": "3335bccf-31aa-4ff5-8e14-b345e3214092",
   "metadata": {},
   "source": [
    "So we clearly have a missing value in each of the districts. As we do not know what kind of dog it could be and they are only 23 rows of the 10.522, we have decided to drop those rows."
   ]
  },
  {
   "cell_type": "code",
   "execution_count": 12,
   "id": "3f561363-a953-4a79-9854-97f179a86064",
   "metadata": {
    "tags": []
   },
   "outputs": [],
   "source": [
    "df=df.loc[df['dog_breed'] != 'Unbekannt'].reset_index(drop=True) #selecting only those rows where the dog_breed is not unknown. And reseting the index to hava flowing index"
   ]
  },
  {
   "cell_type": "code",
   "execution_count": 13,
   "id": "e2ef6f21-9c14-411b-b0aa-6d4469fd59fb",
   "metadata": {
    "tags": []
   },
   "outputs": [
    {
     "data": {
      "text/plain": [
       "Series([], Name: number_of_dogs, dtype: int64)"
      ]
     },
     "execution_count": 13,
     "metadata": {},
     "output_type": "execute_result"
    }
   ],
   "source": [
    "#Checking for duplicates, by regarding only those columns which in combination should not have duplicates. In this case postal_code and dog_breed. \n",
    "#Each dog breed should only appear the most one time per district.\n",
    "df_duplicates=df.groupby(['postal_code','dog_breed'],observed=False)['number_of_dogs'].count().sort_values(ascending=False)[lambda x:x>1]\n",
    "df_duplicates"
   ]
  },
  {
   "cell_type": "code",
   "execution_count": 14,
   "id": "2bfe8feb-2a31-4f44-90e2-a4ca0f304245",
   "metadata": {
    "tags": []
   },
   "outputs": [
    {
     "data": {
      "text/plain": [
       "0"
      ]
     },
     "execution_count": 14,
     "metadata": {},
     "output_type": "execute_result"
    }
   ],
   "source": [
    "df.duplicated(subset=(['postal_code','dog_breed'])).sum()"
   ]
  },
  {
   "cell_type": "markdown",
   "id": "23e573af-f1f8-4b5d-ad3b-3a9fb08136c3",
   "metadata": {},
   "source": [
    "Our data has no duplicates that need to be removed."
   ]
  },
  {
   "cell_type": "markdown",
   "id": "5b557f0f-7ac2-44da-bbb4-bc87db21723b",
   "metadata": {
    "tags": []
   },
   "source": [
    "### Save cleaned data"
   ]
  },
  {
   "cell_type": "code",
   "execution_count": 15,
   "id": "6db16905-989f-4b02-b785-be1dfc60f932",
   "metadata": {
    "tags": []
   },
   "outputs": [],
   "source": [
    "df.to_csv('dogs_cleaned.csv', index=False)"
   ]
  },
  {
   "cell_type": "markdown",
   "id": "6843359c-bbcf-4217-a316-d5586e6dc89f",
   "metadata": {
    "tags": []
   },
   "source": [
    "### Quantitative column description"
   ]
  },
  {
   "cell_type": "markdown",
   "id": "96b301e8-e767-453e-9304-59e90f3032af",
   "metadata": {},
   "source": [
    "#### Categorial columns"
   ]
  },
  {
   "cell_type": "code",
   "execution_count": 16,
   "id": "c57d4739-ec42-4da6-9932-ba582de0880c",
   "metadata": {
    "tags": []
   },
   "outputs": [
    {
     "name": "stdout",
     "output_type": "stream",
     "text": [
      "\n",
      "Column: district_code\n",
      "Number of unique values: 23\n",
      "Value counts:\n",
      "district_code\n",
      "92200    983\n",
      "92100    887\n",
      "91000    707\n",
      "92300    682\n",
      "90200    575\n",
      "91400    535\n",
      "90300    520\n",
      "91100    519\n",
      "91900    513\n",
      "91200    480\n",
      "91300    448\n",
      "91600    442\n",
      "91800    421\n",
      "92000    387\n",
      "91700    368\n",
      "91500    350\n",
      "90900    314\n",
      "90500    297\n",
      "90400    249\n",
      "90700    234\n",
      "90600    210\n",
      "90800    197\n",
      "90100    181\n",
      "Name: count, dtype: int64\n",
      "\n",
      "Column: postal_code\n",
      "Number of unique values: 23\n",
      "Value counts:\n",
      "postal_code\n",
      "1220    983\n",
      "1210    887\n",
      "1100    707\n",
      "1230    682\n",
      "1020    575\n",
      "1140    535\n",
      "1030    520\n",
      "1110    519\n",
      "1190    513\n",
      "1120    480\n",
      "1130    448\n",
      "1160    442\n",
      "1180    421\n",
      "1200    387\n",
      "1170    368\n",
      "1150    350\n",
      "1090    314\n",
      "1050    297\n",
      "1040    249\n",
      "1070    234\n",
      "1060    210\n",
      "1080    197\n",
      "1010    181\n",
      "Name: count, dtype: int64\n",
      "\n",
      "Column: dog_breed\n",
      "Number of unique values: 3213\n",
      "Value counts:\n",
      "dog_breed\n",
      "Chihuahua Langhaar                                     23\n",
      "Australian Shepherd                                    23\n",
      "Bolonka Zwetna                                         23\n",
      "Havaneser / Mischling                                  23\n",
      "Unbekannt / Mischling                                  23\n",
      "                                                       ..\n",
      "Fox Terrier glatthaar / Deutscher Pinscher              1\n",
      "Fox Terrier glatthaar / Fox Terrier drahthaar           1\n",
      "Fox Terrier glatthaar / Kleiner Münsterländer           1\n",
      "Österreichischer Pinscher / Zwergspitz (Pomeranian)     1\n",
      "Unbekannt                                               0\n",
      "Name: count, Length: 3214, dtype: int64\n"
     ]
    }
   ],
   "source": [
    "categorical_columns = df.select_dtypes(include='category').columns\n",
    "\n",
    "for columns in categorical_columns:\n",
    "    unique_values_count = df[columns].nunique()\n",
    "    value_counts = df[columns].value_counts()\n",
    "    print(f\"\\nColumn: {columns}\")\n",
    "    print(f\"Number of unique values: {unique_values_count}\")\n",
    "    print(\"Value counts:\")\n",
    "    print(value_counts)"
   ]
  },
  {
   "cell_type": "markdown",
   "id": "52fe2bea-42ed-4862-9609-f0b096cd90bc",
   "metadata": {
    "tags": []
   },
   "source": [
    "#### Numerical columns"
   ]
  },
  {
   "cell_type": "markdown",
   "id": "9655445e-0a96-4bfe-989b-a36cfa85a973",
   "metadata": {},
   "source": [
    "The only numerical column we have in our original dataset is *number_of_dogs*"
   ]
  },
  {
   "cell_type": "code",
   "execution_count": 17,
   "id": "53058cf9-d39e-48e9-99f4-26603a2124ee",
   "metadata": {
    "tags": []
   },
   "outputs": [
    {
     "name": "stdout",
     "output_type": "stream",
     "text": [
      "Range of column 'number_of_dogs': 1065. \n",
      " With the Minimum being 1 and the Maximum 1066\n"
     ]
    }
   ],
   "source": [
    "range = df['number_of_dogs'].max() - df['number_of_dogs'].min()\n",
    "print(f\"Range of column 'number_of_dogs': {range}. \\n With the Minimum being {df['number_of_dogs'].min()} and the Maximum {df['number_of_dogs'].max()}\")"
   ]
  },
  {
   "cell_type": "code",
   "execution_count": 18,
   "id": "5c495fde-b795-401d-b6e7-0c4a5341883e",
   "metadata": {
    "tags": []
   },
   "outputs": [
    {
     "name": "stdout",
     "output_type": "stream",
     "text": [
      "Median of column 'number_of_dogs': 1.0\n"
     ]
    }
   ],
   "source": [
    "median = df['number_of_dogs'].median()\n",
    "print(f\"Median of column 'number_of_dogs': {median}\")"
   ]
  },
  {
   "cell_type": "code",
   "execution_count": 19,
   "id": "a3d8d697-e50c-4425-a314-af38c29ccefb",
   "metadata": {
    "tags": []
   },
   "outputs": [
    {
     "name": "stdout",
     "output_type": "stream",
     "text": [
      "Average of column 'number_of_dogs': 5\n"
     ]
    }
   ],
   "source": [
    "avg = df['number_of_dogs'].mean()\n",
    "print(f\"Average of column 'number_of_dogs': {round(avg)}\")"
   ]
  },
  {
   "cell_type": "code",
   "execution_count": 20,
   "id": "84e8f0f9-043b-4738-8565-41a7256767a6",
   "metadata": {
    "tags": []
   },
   "outputs": [
    {
     "name": "stdout",
     "output_type": "stream",
     "text": [
      "Standard deviation of column 'number_of_dogs': 24\n"
     ]
    }
   ],
   "source": [
    "st_dev=df['number_of_dogs'].std()\n",
    "print(f\"Standard deviation of column 'number_of_dogs': {round(st_dev)}\")"
   ]
  },
  {
   "cell_type": "code",
   "execution_count": 21,
   "id": "df4e395a-2948-4e45-82e8-161ac61a5214",
   "metadata": {
    "tags": []
   },
   "outputs": [
    {
     "name": "stdout",
     "output_type": "stream",
     "text": [
      "Sum of column 'number_of_dogs': 56239\n"
     ]
    }
   ],
   "source": [
    "total_value = df['number_of_dogs'].sum()\n",
    "print(f\"Sum of column 'number_of_dogs': {total_value}\")"
   ]
  },
  {
   "cell_type": "markdown",
   "id": "6d5dbc58-6369-440b-ba0e-cc13ee39f8ad",
   "metadata": {},
   "source": [
    "Of the 3124 dog breeds, their count per district ranges between 1 and 1066 and from the median and mean, we can read, that most of the 3.124 are of a lower count per district."
   ]
  },
  {
   "cell_type": "markdown",
   "id": "caca00ef-7463-48f7-86fc-59e6eab8556f",
   "metadata": {
    "tags": []
   },
   "source": [
    "### Data Cleaning for additional data and hypotheses"
   ]
  },
  {
   "cell_type": "markdown",
   "id": "ac9c41a8-ca58-45ae-9e0a-7fa18f5910a6",
   "metadata": {},
   "source": [
    "As seen above, there are 3213 dog breeds in Vienna, quite a high amount, which would be dificult to use for any sort of helpfull analysis.\n",
    "\n",
    "Therefore we create a new column which differs between purebred and mixed blood.\n",
    "\n",
    "We also created 2 more columns, that being for outer and inner district and for boundary and non-boundary districts."
   ]
  },
  {
   "cell_type": "code",
   "execution_count": 22,
   "id": "cb4443ea-4e35-4edc-b3f0-7fdb6a3f6a03",
   "metadata": {
    "tags": []
   },
   "outputs": [
    {
     "data": {
      "text/html": [
       "<div>\n",
       "<style scoped>\n",
       "    .dataframe tbody tr th:only-of-type {\n",
       "        vertical-align: middle;\n",
       "    }\n",
       "\n",
       "    .dataframe tbody tr th {\n",
       "        vertical-align: top;\n",
       "    }\n",
       "\n",
       "    .dataframe thead th {\n",
       "        text-align: right;\n",
       "    }\n",
       "</style>\n",
       "<table border=\"1\" class=\"dataframe\">\n",
       "  <thead>\n",
       "    <tr style=\"text-align: right;\">\n",
       "      <th></th>\n",
       "      <th>district_code</th>\n",
       "      <th>postal_code</th>\n",
       "      <th>dog_breed</th>\n",
       "      <th>number_of_dogs</th>\n",
       "      <th>inner_district</th>\n",
       "      <th>mixed_breed</th>\n",
       "      <th>boundary_districts</th>\n",
       "    </tr>\n",
       "  </thead>\n",
       "  <tbody>\n",
       "    <tr>\n",
       "      <th>0</th>\n",
       "      <td>90100</td>\n",
       "      <td>1010</td>\n",
       "      <td>Akita / Belgischer Schäferhund</td>\n",
       "      <td>1</td>\n",
       "      <td>1</td>\n",
       "      <td>1</td>\n",
       "      <td>0</td>\n",
       "    </tr>\n",
       "    <tr>\n",
       "      <th>1</th>\n",
       "      <td>90100</td>\n",
       "      <td>1010</td>\n",
       "      <td>American Cocker Spaniel</td>\n",
       "      <td>2</td>\n",
       "      <td>1</td>\n",
       "      <td>0</td>\n",
       "      <td>0</td>\n",
       "    </tr>\n",
       "    <tr>\n",
       "      <th>2</th>\n",
       "      <td>90100</td>\n",
       "      <td>1010</td>\n",
       "      <td>American Cocker Spaniel / Pudel</td>\n",
       "      <td>1</td>\n",
       "      <td>1</td>\n",
       "      <td>1</td>\n",
       "      <td>0</td>\n",
       "    </tr>\n",
       "    <tr>\n",
       "      <th>3</th>\n",
       "      <td>90100</td>\n",
       "      <td>1010</td>\n",
       "      <td>American Staffordshire Terrier</td>\n",
       "      <td>1</td>\n",
       "      <td>1</td>\n",
       "      <td>0</td>\n",
       "      <td>0</td>\n",
       "    </tr>\n",
       "    <tr>\n",
       "      <th>4</th>\n",
       "      <td>90100</td>\n",
       "      <td>1010</td>\n",
       "      <td>Australian Shepherd</td>\n",
       "      <td>5</td>\n",
       "      <td>1</td>\n",
       "      <td>0</td>\n",
       "      <td>0</td>\n",
       "    </tr>\n",
       "  </tbody>\n",
       "</table>\n",
       "</div>"
      ],
      "text/plain": [
       "  district_code postal_code                        dog_breed  number_of_dogs  \\\n",
       "0         90100        1010   Akita / Belgischer Schäferhund               1   \n",
       "1         90100        1010          American Cocker Spaniel               2   \n",
       "2         90100        1010  American Cocker Spaniel / Pudel               1   \n",
       "3         90100        1010   American Staffordshire Terrier               1   \n",
       "4         90100        1010              Australian Shepherd               5   \n",
       "\n",
       "  inner_district mixed_breed boundary_districts  \n",
       "0              1           1                  0  \n",
       "1              1           0                  0  \n",
       "2              1           1                  0  \n",
       "3              1           0                  0  \n",
       "4              1           0                  0  "
      ]
     },
     "execution_count": 22,
     "metadata": {},
     "output_type": "execute_result"
    }
   ],
   "source": [
    "#creating the new colums\n",
    "def district(row):\n",
    "    if row['postal_code'] in (1100, 1110, 1120, 1130, 1140, 1150, 1160, 1170, 1180, 1190, 1200, 1210, 1220,1230):\n",
    "        return '0'\n",
    "    elif 1 <= row['postal_code'] in (1010, 1020, 1030, 1040, 1050, 1060, 1070, 1080, 1090):\n",
    "        return '1'\n",
    "    else:\n",
    "        return None \n",
    "df['inner_district'] = df.apply(district,axis=1)\n",
    "\n",
    "# add column \"mixed_breed\"\n",
    "def breed(row):\n",
    "    if '/' in row['dog_breed']:\n",
    "        return '1'\n",
    "    else:\n",
    "        return '0'\n",
    "df['mixed_breed'] = df.apply(breed,axis=1)\n",
    "\n",
    "def boundary(row):\n",
    "    if row['postal_code'] in (1100, 1110, 1130, 1140, 1170, 1190,  1210, 1220,1230):\n",
    "        return '1'\n",
    "    else:\n",
    "        return '0' \n",
    "df['boundary_districts']=df.apply(boundary,axis=1)\n",
    "df.head()"
   ]
  },
  {
   "cell_type": "code",
   "execution_count": 23,
   "id": "282c4353-85b8-4857-8672-3780a77e4ebd",
   "metadata": {
    "tags": []
   },
   "outputs": [],
   "source": [
    "df.to_csv('dogs_cleaned_cc.csv', index=False)"
   ]
  },
  {
   "cell_type": "markdown",
   "id": "2febbe93-a469-4d18-a46c-5cf60c821ad2",
   "metadata": {},
   "source": [
    "The following additional data was loaded and explored for additional information form the website https://data.gv.at:\n",
    "- Information about green spaces for dogs to explore. (PARKINFOOGD.csv)\n",
    "- Information about the areas for each district. (vie-bez-biz-pop-den-2002f.csv)\n",
    "- Information of the population per district. (vie-bez-biz-pop-den-2002f.csv)\n",
    "- Information on the average income per district.\n",
    "- Information on families per district. (vie-bez-fam-typ-2012f.csv)"
   ]
  },
  {
   "cell_type": "code",
   "execution_count": 24,
   "id": "1eb24ebf-c228-4f7c-bff1-cb3aef5003e7",
   "metadata": {
    "tags": []
   },
   "outputs": [
    {
     "data": {
      "text/plain": [
       "(1028, 13)"
      ]
     },
     "execution_count": 24,
     "metadata": {},
     "output_type": "execute_result"
    }
   ],
   "source": [
    "parks = pd.read_csv(\"PARKINFOOGD.csv\")\n",
    "parks.shape"
   ]
  },
  {
   "cell_type": "code",
   "execution_count": 25,
   "id": "2ee76b58-a310-4872-94d1-c0a3d837e9a2",
   "metadata": {
    "tags": []
   },
   "outputs": [
    {
     "data": {
      "text/plain": [
       "FID                  object\n",
       "OBJECTID              int64\n",
       "SHAPE                object\n",
       "ANL_NAME             object\n",
       "BEZIRK                int64\n",
       "FLAECHE              object\n",
       "OEFF_ZEITEN          object\n",
       "SPIELEN_IM_PARK      object\n",
       "WASSER_IM_PARK       object\n",
       "HUNDE_IM_PARK        object\n",
       "TELEFON              object\n",
       "WEBLINK1             object\n",
       "SE_ANNO_CAD_DATA    float64\n",
       "dtype: object"
      ]
     },
     "execution_count": 25,
     "metadata": {},
     "output_type": "execute_result"
    }
   ],
   "source": [
    "parks.dtypes"
   ]
  },
  {
   "cell_type": "markdown",
   "id": "9b3c31c3-ad16-4eb9-97e0-1a108cda8663",
   "metadata": {},
   "source": [
    "The main variables of interest to enrich our data set are the sizes of parks, and if dogs are allowed to enter. To be able to join, we also need the district numbers. For first inspection, we also keep the names of the parks."
   ]
  },
  {
   "cell_type": "code",
   "execution_count": 26,
   "id": "32de2cb7-8f86-4b6c-86ff-582ca239b387",
   "metadata": {
    "tags": []
   },
   "outputs": [],
   "source": [
    "# drop unnecessary columns\n",
    "parks=parks.drop([\"SHAPE\",\"FID\", \"OBJECTID\", \"OEFF_ZEITEN\", \"SPIELEN_IM_PARK\", \"TELEFON\", \"WEBLINK1\", \"SE_ANNO_CAD_DATA\", \"WASSER_IM_PARK\"], axis=1)\n"
   ]
  },
  {
   "cell_type": "code",
   "execution_count": 27,
   "id": "fa5597e0-bb5f-4f70-8812-54d711fd35d0",
   "metadata": {
    "tags": []
   },
   "outputs": [
    {
     "data": {
      "text/html": [
       "<div>\n",
       "<style scoped>\n",
       "    .dataframe tbody tr th:only-of-type {\n",
       "        vertical-align: middle;\n",
       "    }\n",
       "\n",
       "    .dataframe tbody tr th {\n",
       "        vertical-align: top;\n",
       "    }\n",
       "\n",
       "    .dataframe thead th {\n",
       "        text-align: right;\n",
       "    }\n",
       "</style>\n",
       "<table border=\"1\" class=\"dataframe\">\n",
       "  <thead>\n",
       "    <tr style=\"text-align: right;\">\n",
       "      <th></th>\n",
       "      <th>ANL_NAME</th>\n",
       "      <th>BEZIRK</th>\n",
       "      <th>FLAECHE</th>\n",
       "      <th>HUNDE_IM_PARK</th>\n",
       "    </tr>\n",
       "  </thead>\n",
       "  <tbody>\n",
       "    <tr>\n",
       "      <th>0</th>\n",
       "      <td>Ruth-Maier-Park</td>\n",
       "      <td>2</td>\n",
       "      <td>2.488 m²</td>\n",
       "      <td>Nein</td>\n",
       "    </tr>\n",
       "    <tr>\n",
       "      <th>1</th>\n",
       "      <td>Vilma-Steindling-Promenade</td>\n",
       "      <td>2</td>\n",
       "      <td>4.346 m²</td>\n",
       "      <td>Nein</td>\n",
       "    </tr>\n",
       "    <tr>\n",
       "      <th>2</th>\n",
       "      <td>GA Am-Ostrom-Park</td>\n",
       "      <td>22</td>\n",
       "      <td>725 m²</td>\n",
       "      <td>Nein</td>\n",
       "    </tr>\n",
       "    <tr>\n",
       "      <th>3</th>\n",
       "      <td>PA Max-Patat-Weg</td>\n",
       "      <td>19</td>\n",
       "      <td>2.416 m²</td>\n",
       "      <td>Nein</td>\n",
       "    </tr>\n",
       "    <tr>\n",
       "      <th>4</th>\n",
       "      <td>Luise-Montag-Park</td>\n",
       "      <td>11</td>\n",
       "      <td>13.660 m²</td>\n",
       "      <td>Ja</td>\n",
       "    </tr>\n",
       "  </tbody>\n",
       "</table>\n",
       "</div>"
      ],
      "text/plain": [
       "                     ANL_NAME  BEZIRK    FLAECHE HUNDE_IM_PARK\n",
       "0             Ruth-Maier-Park       2   2.488 m²          Nein\n",
       "1  Vilma-Steindling-Promenade       2   4.346 m²          Nein\n",
       "2           GA Am-Ostrom-Park      22     725 m²          Nein\n",
       "3            PA Max-Patat-Weg      19   2.416 m²          Nein\n",
       "4           Luise-Montag-Park      11  13.660 m²            Ja"
      ]
     },
     "execution_count": 27,
     "metadata": {},
     "output_type": "execute_result"
    }
   ],
   "source": [
    "parks.head()"
   ]
  },
  {
   "cell_type": "code",
   "execution_count": 28,
   "id": "833ea623-a490-4804-a5a5-1cd18a70372a",
   "metadata": {
    "tags": []
   },
   "outputs": [
    {
     "data": {
      "text/plain": [
       "ANL_NAME         0\n",
       "BEZIRK           0\n",
       "FLAECHE          0\n",
       "HUNDE_IM_PARK    0\n",
       "dtype: int64"
      ]
     },
     "execution_count": 28,
     "metadata": {},
     "output_type": "execute_result"
    }
   ],
   "source": [
    "parks.isna().sum()"
   ]
  },
  {
   "cell_type": "code",
   "execution_count": 29,
   "id": "b529cfec-f043-4ce3-9e77-b87051bddb00",
   "metadata": {
    "tags": []
   },
   "outputs": [
    {
     "data": {
      "text/plain": [
       "0"
      ]
     },
     "execution_count": 29,
     "metadata": {},
     "output_type": "execute_result"
    }
   ],
   "source": [
    "parks.duplicated().sum()"
   ]
  },
  {
   "cell_type": "markdown",
   "id": "e940acb0-e6e7-4102-a31a-90410fe03ace",
   "metadata": {
    "tags": []
   },
   "source": [
    "We need to reformat BEZIRK for joining on postal code, and clean and cast the area values (FLAECHE): "
   ]
  },
  {
   "cell_type": "code",
   "execution_count": 30,
   "id": "2ab4f783-4600-436f-aacb-5d85bcf622f6",
   "metadata": {
    "tags": []
   },
   "outputs": [],
   "source": [
    "# change Bezirk to 4 digit code\n",
    "parks['BEZIRK'] = (100 + parks['BEZIRK'])*10\n",
    "# cast FLÄCHE to integer\n",
    "parks['Gruenflaeche_m2'] = parks['FLAECHE'].str.replace('.', '',regex=False).replace('[^\\d.]', '', regex=True).astype(int)"
   ]
  },
  {
   "cell_type": "markdown",
   "id": "db83a026-bda4-4d49-9a46-0078e1a10d76",
   "metadata": {
    "tags": []
   },
   "source": [
    "We only want to consider parks, where dogs are allowed: "
   ]
  },
  {
   "cell_type": "code",
   "execution_count": 31,
   "id": "cbd9a145-f83a-4e12-8166-4899ec81fd84",
   "metadata": {
    "tags": []
   },
   "outputs": [],
   "source": [
    "#parks=parks[parks[\"HUNDE_IM_PARK\"] == \"Ja\"].copy() -> resulted in losing districts 7 and 8 as there are no values matching this condition\n",
    "parks.loc[parks[\"HUNDE_IM_PARK\"] == \"Nein\", \"Gruenflaeche_m2\" ] = 0 # set to zero instead"
   ]
  },
  {
   "cell_type": "code",
   "execution_count": 32,
   "id": "e5c7f591-2856-4284-995d-b57b72298e85",
   "metadata": {
    "tags": []
   },
   "outputs": [
    {
     "data": {
      "text/html": [
       "<div>\n",
       "<style scoped>\n",
       "    .dataframe tbody tr th:only-of-type {\n",
       "        vertical-align: middle;\n",
       "    }\n",
       "\n",
       "    .dataframe tbody tr th {\n",
       "        vertical-align: top;\n",
       "    }\n",
       "\n",
       "    .dataframe thead th {\n",
       "        text-align: right;\n",
       "    }\n",
       "</style>\n",
       "<table border=\"1\" class=\"dataframe\">\n",
       "  <thead>\n",
       "    <tr style=\"text-align: right;\">\n",
       "      <th></th>\n",
       "      <th>ANL_NAME</th>\n",
       "      <th>BEZIRK</th>\n",
       "      <th>FLAECHE</th>\n",
       "      <th>HUNDE_IM_PARK</th>\n",
       "      <th>Gruenflaeche_m2</th>\n",
       "    </tr>\n",
       "  </thead>\n",
       "  <tbody>\n",
       "    <tr>\n",
       "      <th>0</th>\n",
       "      <td>Ruth-Maier-Park</td>\n",
       "      <td>1020</td>\n",
       "      <td>2.488 m²</td>\n",
       "      <td>Nein</td>\n",
       "      <td>0</td>\n",
       "    </tr>\n",
       "    <tr>\n",
       "      <th>1</th>\n",
       "      <td>Vilma-Steindling-Promenade</td>\n",
       "      <td>1020</td>\n",
       "      <td>4.346 m²</td>\n",
       "      <td>Nein</td>\n",
       "      <td>0</td>\n",
       "    </tr>\n",
       "    <tr>\n",
       "      <th>2</th>\n",
       "      <td>GA Am-Ostrom-Park</td>\n",
       "      <td>1220</td>\n",
       "      <td>725 m²</td>\n",
       "      <td>Nein</td>\n",
       "      <td>0</td>\n",
       "    </tr>\n",
       "    <tr>\n",
       "      <th>3</th>\n",
       "      <td>PA Max-Patat-Weg</td>\n",
       "      <td>1190</td>\n",
       "      <td>2.416 m²</td>\n",
       "      <td>Nein</td>\n",
       "      <td>0</td>\n",
       "    </tr>\n",
       "    <tr>\n",
       "      <th>4</th>\n",
       "      <td>Luise-Montag-Park</td>\n",
       "      <td>1110</td>\n",
       "      <td>13.660 m²</td>\n",
       "      <td>Ja</td>\n",
       "      <td>13660</td>\n",
       "    </tr>\n",
       "  </tbody>\n",
       "</table>\n",
       "</div>"
      ],
      "text/plain": [
       "                     ANL_NAME  BEZIRK    FLAECHE HUNDE_IM_PARK  \\\n",
       "0             Ruth-Maier-Park    1020   2.488 m²          Nein   \n",
       "1  Vilma-Steindling-Promenade    1020   4.346 m²          Nein   \n",
       "2           GA Am-Ostrom-Park    1220     725 m²          Nein   \n",
       "3            PA Max-Patat-Weg    1190   2.416 m²          Nein   \n",
       "4           Luise-Montag-Park    1110  13.660 m²            Ja   \n",
       "\n",
       "   Gruenflaeche_m2  \n",
       "0                0  \n",
       "1                0  \n",
       "2                0  \n",
       "3                0  \n",
       "4            13660  "
      ]
     },
     "execution_count": 32,
     "metadata": {},
     "output_type": "execute_result"
    }
   ],
   "source": [
    "parks.head()"
   ]
  },
  {
   "cell_type": "markdown",
   "id": "18e9b90c-3040-446a-8644-fc109d38f5ce",
   "metadata": {
    "tags": []
   },
   "source": [
    "We can then calculate the totals per district: "
   ]
  },
  {
   "cell_type": "code",
   "execution_count": 33,
   "id": "35ce7233-c975-4228-a1da-5e01b4ce2f43",
   "metadata": {
    "tags": []
   },
   "outputs": [],
   "source": [
    "parks=parks.groupby([\"BEZIRK\"], as_index=False).sum(\"FLAECHE_m2\") "
   ]
  },
  {
   "cell_type": "code",
   "execution_count": 34,
   "id": "92524d7a-3d0d-4fb4-92f2-5056f80b5a07",
   "metadata": {
    "tags": []
   },
   "outputs": [
    {
     "data": {
      "text/plain": [
       "BEZIRK             0\n",
       "Gruenflaeche_m2    0\n",
       "dtype: int64"
      ]
     },
     "execution_count": 34,
     "metadata": {},
     "output_type": "execute_result"
    }
   ],
   "source": [
    "parks.isna().sum()"
   ]
  },
  {
   "cell_type": "code",
   "execution_count": 35,
   "id": "2e69ef21-1204-4951-a527-4b8706b89d81",
   "metadata": {
    "tags": []
   },
   "outputs": [
    {
     "data": {
      "text/plain": [
       "0"
      ]
     },
     "execution_count": 35,
     "metadata": {},
     "output_type": "execute_result"
    }
   ],
   "source": [
    "parks.duplicated().sum()"
   ]
  },
  {
   "cell_type": "code",
   "execution_count": 36,
   "id": "f4e524ba-e3f1-4411-a06e-9b792ebd6563",
   "metadata": {
    "tags": []
   },
   "outputs": [],
   "source": [
    "parks.columns=[\"postal_code\", \"green_space(sqm)\"]"
   ]
  },
  {
   "cell_type": "code",
   "execution_count": 37,
   "id": "72312fff-5dda-471a-a5c7-b15f77209385",
   "metadata": {
    "tags": []
   },
   "outputs": [],
   "source": [
    "parks.to_csv(\"parks_cleaned.csv\", index=False)"
   ]
  },
  {
   "cell_type": "markdown",
   "id": "fab3f8e9-673c-4f6d-9488-b3f7d5825991",
   "metadata": {
    "tags": []
   },
   "source": [
    "To make districts of different sizes comparable, we calculate the proportion of green areas, where dogs are allowed, in relation to total district size. We use another data set provided by the city of Vienna: "
   ]
  },
  {
   "cell_type": "code",
   "execution_count": 38,
   "id": "1e7ef5c8-7d76-4bb4-9c3c-c40ebfad8a94",
   "metadata": {
    "tags": []
   },
   "outputs": [
    {
     "data": {
      "text/html": [
       "<div>\n",
       "<style scoped>\n",
       "    .dataframe tbody tr th:only-of-type {\n",
       "        vertical-align: middle;\n",
       "    }\n",
       "\n",
       "    .dataframe tbody tr th {\n",
       "        vertical-align: top;\n",
       "    }\n",
       "\n",
       "    .dataframe thead th {\n",
       "        text-align: right;\n",
       "    }\n",
       "</style>\n",
       "<table border=\"1\" class=\"dataframe\">\n",
       "  <thead>\n",
       "    <tr style=\"text-align: right;\">\n",
       "      <th></th>\n",
       "      <th>NUTS</th>\n",
       "      <th>DISTRICT_CODE</th>\n",
       "      <th>SUB_DISTRICT_CODE</th>\n",
       "      <th>REF_YEAR</th>\n",
       "      <th>REF_DATE</th>\n",
       "      <th>POP_VALUE</th>\n",
       "      <th>AREA</th>\n",
       "      <th>POP_DENSITY</th>\n",
       "    </tr>\n",
       "  </thead>\n",
       "  <tbody>\n",
       "    <tr>\n",
       "      <th>0</th>\n",
       "      <td>AT13</td>\n",
       "      <td>90000</td>\n",
       "      <td>90000</td>\n",
       "      <td>2002</td>\n",
       "      <td>20020101</td>\n",
       "      <td>1571123</td>\n",
       "      <td>414.87</td>\n",
       "      <td>3787.02</td>\n",
       "    </tr>\n",
       "    <tr>\n",
       "      <th>1</th>\n",
       "      <td>AT13</td>\n",
       "      <td>90000</td>\n",
       "      <td>90000</td>\n",
       "      <td>2003</td>\n",
       "      <td>20030101</td>\n",
       "      <td>1592846</td>\n",
       "      <td>414.87</td>\n",
       "      <td>3839.38</td>\n",
       "    </tr>\n",
       "    <tr>\n",
       "      <th>2</th>\n",
       "      <td>AT13</td>\n",
       "      <td>90000</td>\n",
       "      <td>90000</td>\n",
       "      <td>2004</td>\n",
       "      <td>20040101</td>\n",
       "      <td>1610410</td>\n",
       "      <td>414.87</td>\n",
       "      <td>3881.71</td>\n",
       "    </tr>\n",
       "    <tr>\n",
       "      <th>3</th>\n",
       "      <td>AT13</td>\n",
       "      <td>90000</td>\n",
       "      <td>90000</td>\n",
       "      <td>2005</td>\n",
       "      <td>20050101</td>\n",
       "      <td>1632569</td>\n",
       "      <td>414.87</td>\n",
       "      <td>3935.12</td>\n",
       "    </tr>\n",
       "    <tr>\n",
       "      <th>4</th>\n",
       "      <td>AT13</td>\n",
       "      <td>90000</td>\n",
       "      <td>90000</td>\n",
       "      <td>2006</td>\n",
       "      <td>20060101</td>\n",
       "      <td>1652449</td>\n",
       "      <td>414.87</td>\n",
       "      <td>3983.04</td>\n",
       "    </tr>\n",
       "  </tbody>\n",
       "</table>\n",
       "</div>"
      ],
      "text/plain": [
       "   NUTS  DISTRICT_CODE  SUB_DISTRICT_CODE  REF_YEAR  REF_DATE  POP_VALUE  \\\n",
       "0  AT13          90000              90000      2002  20020101    1571123   \n",
       "1  AT13          90000              90000      2003  20030101    1592846   \n",
       "2  AT13          90000              90000      2004  20040101    1610410   \n",
       "3  AT13          90000              90000      2005  20050101    1632569   \n",
       "4  AT13          90000              90000      2006  20060101    1652449   \n",
       "\n",
       "     AREA  POP_DENSITY  \n",
       "0  414.87      3787.02  \n",
       "1  414.87      3839.38  \n",
       "2  414.87      3881.71  \n",
       "3  414.87      3935.12  \n",
       "4  414.87      3983.04  "
      ]
     },
     "execution_count": 38,
     "metadata": {},
     "output_type": "execute_result"
    }
   ],
   "source": [
    "districts=pd.read_csv(\"vie-bez-biz-pop-den-2002f.csv\", header=1, sep=\";\", decimal=\",\", thousands=\".\", \n",
    "                   ### set usecols to avoid empty columns for this data set\n",
    "                   usecols=['NUTS', 'DISTRICT_CODE', 'SUB_DISTRICT_CODE', 'REF_YEAR', 'REF_DATE','POP_VALUE', 'AREA', 'POP_DENSITY'])\n",
    "districts.head()\n"
   ]
  },
  {
   "cell_type": "markdown",
   "id": "842f514f-865d-49e8-9eae-63143c8d9efc",
   "metadata": {
    "tags": []
   },
   "source": [
    "We only want to keep the latest values, where the reference year (REF_YEAR) is 2023, additional variables of interest are the aforementioned district area(AREA) and the number of inhabitants per district (POP_VALUE), which will allow us to calculate the number of dogs per inhabitant. We cannot join parks with area directly, because we don't have the district numbers in this data set, but we can use DISTRICT_CODE to join with our main data set. "
   ]
  },
  {
   "cell_type": "code",
   "execution_count": 39,
   "id": "87b8df43-293b-4ba8-86e0-c670b85612a5",
   "metadata": {
    "tags": []
   },
   "outputs": [],
   "source": [
    "districts=districts[districts[\"REF_YEAR\"]==2023]\n",
    "districts=districts[[\"DISTRICT_CODE\", \"AREA\", \"POP_VALUE\", \"POP_DENSITY\"]].reset_index(drop=True)"
   ]
  },
  {
   "cell_type": "code",
   "execution_count": 40,
   "id": "182e5f5d-8c84-4c18-bd7b-555ad95edc6a",
   "metadata": {
    "tags": []
   },
   "outputs": [
    {
     "data": {
      "text/html": [
       "<div>\n",
       "<style scoped>\n",
       "    .dataframe tbody tr th:only-of-type {\n",
       "        vertical-align: middle;\n",
       "    }\n",
       "\n",
       "    .dataframe tbody tr th {\n",
       "        vertical-align: top;\n",
       "    }\n",
       "\n",
       "    .dataframe thead th {\n",
       "        text-align: right;\n",
       "    }\n",
       "</style>\n",
       "<table border=\"1\" class=\"dataframe\">\n",
       "  <thead>\n",
       "    <tr style=\"text-align: right;\">\n",
       "      <th></th>\n",
       "      <th>DISTRICT_CODE</th>\n",
       "      <th>AREA</th>\n",
       "      <th>POP_VALUE</th>\n",
       "      <th>POP_DENSITY</th>\n",
       "    </tr>\n",
       "  </thead>\n",
       "  <tbody>\n",
       "    <tr>\n",
       "      <th>0</th>\n",
       "      <td>90000</td>\n",
       "      <td>414.87</td>\n",
       "      <td>1982097</td>\n",
       "      <td>4777.62</td>\n",
       "    </tr>\n",
       "    <tr>\n",
       "      <th>1</th>\n",
       "      <td>90100</td>\n",
       "      <td>2.87</td>\n",
       "      <td>16620</td>\n",
       "      <td>5793.42</td>\n",
       "    </tr>\n",
       "    <tr>\n",
       "      <th>2</th>\n",
       "      <td>90200</td>\n",
       "      <td>19.24</td>\n",
       "      <td>108269</td>\n",
       "      <td>5626.70</td>\n",
       "    </tr>\n",
       "    <tr>\n",
       "      <th>3</th>\n",
       "      <td>90300</td>\n",
       "      <td>7.40</td>\n",
       "      <td>96756</td>\n",
       "      <td>13079.13</td>\n",
       "    </tr>\n",
       "    <tr>\n",
       "      <th>4</th>\n",
       "      <td>90400</td>\n",
       "      <td>1.78</td>\n",
       "      <td>33633</td>\n",
       "      <td>18945.95</td>\n",
       "    </tr>\n",
       "  </tbody>\n",
       "</table>\n",
       "</div>"
      ],
      "text/plain": [
       "   DISTRICT_CODE    AREA  POP_VALUE  POP_DENSITY\n",
       "0          90000  414.87    1982097      4777.62\n",
       "1          90100    2.87      16620      5793.42\n",
       "2          90200   19.24     108269      5626.70\n",
       "3          90300    7.40      96756     13079.13\n",
       "4          90400    1.78      33633     18945.95"
      ]
     },
     "execution_count": 40,
     "metadata": {},
     "output_type": "execute_result"
    }
   ],
   "source": [
    "districts.head()"
   ]
  },
  {
   "cell_type": "code",
   "execution_count": 41,
   "id": "d2579218-7d1c-4198-a567-960068518ca7",
   "metadata": {
    "tags": []
   },
   "outputs": [
    {
     "data": {
      "text/plain": [
       "DISTRICT_CODE      int64\n",
       "AREA             float64\n",
       "POP_VALUE          int64\n",
       "POP_DENSITY      float64\n",
       "dtype: object"
      ]
     },
     "execution_count": 41,
     "metadata": {},
     "output_type": "execute_result"
    }
   ],
   "source": [
    "districts.dtypes"
   ]
  },
  {
   "cell_type": "markdown",
   "id": "dded406a-1780-4df6-aa42-a78a44033352",
   "metadata": {
    "tags": []
   },
   "source": [
    "To align with the park dataset, the area provided in square kilometers is converted to square meters."
   ]
  },
  {
   "cell_type": "code",
   "execution_count": 42,
   "id": "4ad1e6ce-b585-4262-8f85-b266f1aa725c",
   "metadata": {
    "tags": []
   },
   "outputs": [
    {
     "data": {
      "text/html": [
       "<div>\n",
       "<style scoped>\n",
       "    .dataframe tbody tr th:only-of-type {\n",
       "        vertical-align: middle;\n",
       "    }\n",
       "\n",
       "    .dataframe tbody tr th {\n",
       "        vertical-align: top;\n",
       "    }\n",
       "\n",
       "    .dataframe thead th {\n",
       "        text-align: right;\n",
       "    }\n",
       "</style>\n",
       "<table border=\"1\" class=\"dataframe\">\n",
       "  <thead>\n",
       "    <tr style=\"text-align: right;\">\n",
       "      <th></th>\n",
       "      <th>DISTRICT_CODE</th>\n",
       "      <th>AREA</th>\n",
       "      <th>POP_VALUE</th>\n",
       "      <th>POP_DENSITY</th>\n",
       "    </tr>\n",
       "  </thead>\n",
       "  <tbody>\n",
       "    <tr>\n",
       "      <th>0</th>\n",
       "      <td>90000</td>\n",
       "      <td>414870000</td>\n",
       "      <td>1982097</td>\n",
       "      <td>4777.62</td>\n",
       "    </tr>\n",
       "    <tr>\n",
       "      <th>1</th>\n",
       "      <td>90100</td>\n",
       "      <td>2870000</td>\n",
       "      <td>16620</td>\n",
       "      <td>5793.42</td>\n",
       "    </tr>\n",
       "    <tr>\n",
       "      <th>2</th>\n",
       "      <td>90200</td>\n",
       "      <td>19240000</td>\n",
       "      <td>108269</td>\n",
       "      <td>5626.70</td>\n",
       "    </tr>\n",
       "    <tr>\n",
       "      <th>3</th>\n",
       "      <td>90300</td>\n",
       "      <td>7400000</td>\n",
       "      <td>96756</td>\n",
       "      <td>13079.13</td>\n",
       "    </tr>\n",
       "    <tr>\n",
       "      <th>4</th>\n",
       "      <td>90400</td>\n",
       "      <td>1780000</td>\n",
       "      <td>33633</td>\n",
       "      <td>18945.95</td>\n",
       "    </tr>\n",
       "  </tbody>\n",
       "</table>\n",
       "</div>"
      ],
      "text/plain": [
       "   DISTRICT_CODE       AREA  POP_VALUE  POP_DENSITY\n",
       "0          90000  414870000    1982097      4777.62\n",
       "1          90100    2870000      16620      5793.42\n",
       "2          90200   19240000     108269      5626.70\n",
       "3          90300    7400000      96756     13079.13\n",
       "4          90400    1780000      33633     18945.95"
      ]
     },
     "execution_count": 42,
     "metadata": {},
     "output_type": "execute_result"
    }
   ],
   "source": [
    "districts[\"AREA\"]=(districts[\"AREA\"]*1e+6).astype(int)\n",
    "districts.head()"
   ]
  },
  {
   "cell_type": "code",
   "execution_count": 43,
   "id": "472add4b-91df-48b8-a09c-149335f1e26b",
   "metadata": {
    "tags": []
   },
   "outputs": [],
   "source": [
    "districts.columns=districts.columns.str.lower()"
   ]
  },
  {
   "cell_type": "code",
   "execution_count": 44,
   "id": "cf16ef69-a397-4f82-a9d4-53910f18b1bf",
   "metadata": {
    "tags": []
   },
   "outputs": [],
   "source": [
    "districts.to_csv(\"districts_cleaned_2023.csv\", index=False)"
   ]
  },
  {
   "cell_type": "markdown",
   "id": "4665cb0a-175e-409a-98bc-060469aa3140",
   "metadata": {},
   "source": [
    "Geographical Data of Vienna"
   ]
  },
  {
   "cell_type": "code",
   "execution_count": 45,
   "id": "40e19f32-a7ad-4d0e-bb66-0f27cf8ab073",
   "metadata": {
    "tags": []
   },
   "outputs": [
    {
     "data": {
      "text/html": [
       "<div>\n",
       "<style scoped>\n",
       "    .dataframe tbody tr th:only-of-type {\n",
       "        vertical-align: middle;\n",
       "    }\n",
       "\n",
       "    .dataframe tbody tr th {\n",
       "        vertical-align: top;\n",
       "    }\n",
       "\n",
       "    .dataframe thead th {\n",
       "        text-align: right;\n",
       "    }\n",
       "</style>\n",
       "<table border=\"1\" class=\"dataframe\">\n",
       "  <thead>\n",
       "    <tr style=\"text-align: right;\">\n",
       "      <th></th>\n",
       "      <th>id</th>\n",
       "      <th>NAMEK</th>\n",
       "      <th>BEZNR</th>\n",
       "      <th>BEZ_RZ</th>\n",
       "      <th>NAMEK_NUM</th>\n",
       "      <th>NAMEK_RZ</th>\n",
       "      <th>NAMEG</th>\n",
       "      <th>LABEL</th>\n",
       "      <th>BEZ</th>\n",
       "      <th>DISTRICT_CODE</th>\n",
       "      <th>STATAUSTRIA_BEZ_CODE</th>\n",
       "      <th>STATAUSTRIA_GEM_CODE</th>\n",
       "      <th>FLAECHE</th>\n",
       "      <th>UMFANG</th>\n",
       "      <th>AKT_TIMESTAMP</th>\n",
       "      <th>SE_SDO_ROWID</th>\n",
       "      <th>SE_ANNO_CAD_DATA</th>\n",
       "      <th>geometry</th>\n",
       "    </tr>\n",
       "  </thead>\n",
       "  <tbody>\n",
       "    <tr>\n",
       "      <th>0</th>\n",
       "      <td>BEZIRKSGRENZEOGD.13126</td>\n",
       "      <td>Hietzing</td>\n",
       "      <td>13</td>\n",
       "      <td>XIII</td>\n",
       "      <td>13., Hietzing</td>\n",
       "      <td>XIII. Hietzing</td>\n",
       "      <td>HIETZING</td>\n",
       "      <td>XIII.</td>\n",
       "      <td>13</td>\n",
       "      <td>1130</td>\n",
       "      <td>913</td>\n",
       "      <td>91301</td>\n",
       "      <td>3.771397e+07</td>\n",
       "      <td>29668.16</td>\n",
       "      <td>2023-07-17</td>\n",
       "      <td>13126</td>\n",
       "      <td>[B@3a651409</td>\n",
       "      <td>POLYGON ((-8763.210 340909.450, -8765.580 3409...</td>\n",
       "    </tr>\n",
       "    <tr>\n",
       "      <th>1</th>\n",
       "      <td>BEZIRKSGRENZEOGD.13127</td>\n",
       "      <td>Rudolfsheim-Fünfhaus</td>\n",
       "      <td>15</td>\n",
       "      <td>XV</td>\n",
       "      <td>15., Rudolfsheim-Fünfhaus</td>\n",
       "      <td>XV. Rudolfsheim-Fünfhaus</td>\n",
       "      <td>RUDOLFSHEIM-FÜNFHAUS</td>\n",
       "      <td>XV.</td>\n",
       "      <td>15</td>\n",
       "      <td>1150</td>\n",
       "      <td>915</td>\n",
       "      <td>91501</td>\n",
       "      <td>3.916953e+06</td>\n",
       "      <td>9711.71</td>\n",
       "      <td>2023-07-17</td>\n",
       "      <td>13127</td>\n",
       "      <td>[B@d053880</td>\n",
       "      <td>POLYGON ((-357.534 340733.416, -504.213 340767...</td>\n",
       "    </tr>\n",
       "    <tr>\n",
       "      <th>2</th>\n",
       "      <td>BEZIRKSGRENZEOGD.13128</td>\n",
       "      <td>Neubau</td>\n",
       "      <td>7</td>\n",
       "      <td>VII</td>\n",
       "      <td>7., Neubau</td>\n",
       "      <td>VII. Neubau</td>\n",
       "      <td>NEUBAU</td>\n",
       "      <td>VII.</td>\n",
       "      <td>07</td>\n",
       "      <td>1070</td>\n",
       "      <td>907</td>\n",
       "      <td>90701</td>\n",
       "      <td>1.608248e+06</td>\n",
       "      <td>5312.54</td>\n",
       "      <td>2023-07-17</td>\n",
       "      <td>13128</td>\n",
       "      <td>None</td>\n",
       "      <td>POLYGON ((489.850 341126.150, 469.230 341131.3...</td>\n",
       "    </tr>\n",
       "    <tr>\n",
       "      <th>3</th>\n",
       "      <td>BEZIRKSGRENZEOGD.13129</td>\n",
       "      <td>Landstraße</td>\n",
       "      <td>3</td>\n",
       "      <td>III</td>\n",
       "      <td>3., Landstraße</td>\n",
       "      <td>III. Landstraße</td>\n",
       "      <td>LANDSTRASSE</td>\n",
       "      <td>III.</td>\n",
       "      <td>03</td>\n",
       "      <td>1030</td>\n",
       "      <td>903</td>\n",
       "      <td>90301</td>\n",
       "      <td>7.403038e+06</td>\n",
       "      <td>13961.80</td>\n",
       "      <td>2023-07-17</td>\n",
       "      <td>13129</td>\n",
       "      <td>[B@68d9190b</td>\n",
       "      <td>POLYGON ((4792.732 341000.000, 4790.030 341020...</td>\n",
       "    </tr>\n",
       "    <tr>\n",
       "      <th>4</th>\n",
       "      <td>BEZIRKSGRENZEOGD.13130</td>\n",
       "      <td>Josefstadt</td>\n",
       "      <td>8</td>\n",
       "      <td>VIII</td>\n",
       "      <td>8., Josefstadt</td>\n",
       "      <td>VIII. Josefstadt</td>\n",
       "      <td>JOSEFSTADT</td>\n",
       "      <td>VIII.</td>\n",
       "      <td>08</td>\n",
       "      <td>1080</td>\n",
       "      <td>908</td>\n",
       "      <td>90801</td>\n",
       "      <td>1.089946e+06</td>\n",
       "      <td>4170.30</td>\n",
       "      <td>2023-07-17</td>\n",
       "      <td>13130</td>\n",
       "      <td>None</td>\n",
       "      <td>POLYGON ((1264.360 341862.440, 1250.000 341864...</td>\n",
       "    </tr>\n",
       "  </tbody>\n",
       "</table>\n",
       "</div>"
      ],
      "text/plain": [
       "                       id                 NAMEK  BEZNR BEZ_RZ  \\\n",
       "0  BEZIRKSGRENZEOGD.13126              Hietzing     13   XIII   \n",
       "1  BEZIRKSGRENZEOGD.13127  Rudolfsheim-Fünfhaus     15     XV   \n",
       "2  BEZIRKSGRENZEOGD.13128                Neubau      7    VII   \n",
       "3  BEZIRKSGRENZEOGD.13129            Landstraße      3    III   \n",
       "4  BEZIRKSGRENZEOGD.13130            Josefstadt      8   VIII   \n",
       "\n",
       "                   NAMEK_NUM                  NAMEK_RZ                 NAMEG  \\\n",
       "0              13., Hietzing            XIII. Hietzing              HIETZING   \n",
       "1  15., Rudolfsheim-Fünfhaus  XV. Rudolfsheim-Fünfhaus  RUDOLFSHEIM-FÜNFHAUS   \n",
       "2                 7., Neubau               VII. Neubau                NEUBAU   \n",
       "3             3., Landstraße           III. Landstraße           LANDSTRASSE   \n",
       "4             8., Josefstadt          VIII. Josefstadt            JOSEFSTADT   \n",
       "\n",
       "   LABEL BEZ  DISTRICT_CODE  STATAUSTRIA_BEZ_CODE  STATAUSTRIA_GEM_CODE  \\\n",
       "0  XIII.  13           1130                   913                 91301   \n",
       "1    XV.  15           1150                   915                 91501   \n",
       "2   VII.  07           1070                   907                 90701   \n",
       "3   III.  03           1030                   903                 90301   \n",
       "4  VIII.  08           1080                   908                 90801   \n",
       "\n",
       "        FLAECHE    UMFANG AKT_TIMESTAMP  SE_SDO_ROWID SE_ANNO_CAD_DATA  \\\n",
       "0  3.771397e+07  29668.16    2023-07-17         13126      [B@3a651409   \n",
       "1  3.916953e+06   9711.71    2023-07-17         13127       [B@d053880   \n",
       "2  1.608248e+06   5312.54    2023-07-17         13128             None   \n",
       "3  7.403038e+06  13961.80    2023-07-17         13129      [B@68d9190b   \n",
       "4  1.089946e+06   4170.30    2023-07-17         13130             None   \n",
       "\n",
       "                                            geometry  \n",
       "0  POLYGON ((-8763.210 340909.450, -8765.580 3409...  \n",
       "1  POLYGON ((-357.534 340733.416, -504.213 340767...  \n",
       "2  POLYGON ((489.850 341126.150, 469.230 341131.3...  \n",
       "3  POLYGON ((4792.732 341000.000, 4790.030 341020...  \n",
       "4  POLYGON ((1264.360 341862.440, 1250.000 341864...  "
      ]
     },
     "execution_count": 45,
     "metadata": {},
     "output_type": "execute_result"
    }
   ],
   "source": [
    "vd = gpd.read_file('BEZIRKSGRENZEOGD.json')\n",
    "vd.head()"
   ]
  },
  {
   "cell_type": "code",
   "execution_count": 46,
   "id": "2e32bcd0-57a7-4e01-94c9-7fd38b5e0db9",
   "metadata": {
    "tags": []
   },
   "outputs": [
    {
     "data": {
      "text/html": [
       "<div>\n",
       "<style scoped>\n",
       "    .dataframe tbody tr th:only-of-type {\n",
       "        vertical-align: middle;\n",
       "    }\n",
       "\n",
       "    .dataframe tbody tr th {\n",
       "        vertical-align: top;\n",
       "    }\n",
       "\n",
       "    .dataframe thead th {\n",
       "        text-align: right;\n",
       "    }\n",
       "</style>\n",
       "<table border=\"1\" class=\"dataframe\">\n",
       "  <thead>\n",
       "    <tr style=\"text-align: right;\">\n",
       "      <th></th>\n",
       "      <th>STATAUSTRIA_BEZ_CODE</th>\n",
       "      <th>geometry</th>\n",
       "    </tr>\n",
       "  </thead>\n",
       "  <tbody>\n",
       "    <tr>\n",
       "      <th>0</th>\n",
       "      <td>901</td>\n",
       "      <td>POLYGON ((3010.180 342025.230, 2995.920 342041...</td>\n",
       "    </tr>\n",
       "    <tr>\n",
       "      <th>1</th>\n",
       "      <td>902</td>\n",
       "      <td>POLYGON ((5298.420 343728.290, 5239.530 343799...</td>\n",
       "    </tr>\n",
       "    <tr>\n",
       "      <th>2</th>\n",
       "      <td>903</td>\n",
       "      <td>POLYGON ((4792.732 341000.000, 4790.030 341020...</td>\n",
       "    </tr>\n",
       "    <tr>\n",
       "      <th>3</th>\n",
       "      <td>904</td>\n",
       "      <td>POLYGON ((3071.798 340143.192, 3048.078 340150...</td>\n",
       "    </tr>\n",
       "    <tr>\n",
       "      <th>4</th>\n",
       "      <td>905</td>\n",
       "      <td>POLYGON ((2030.550 339801.010, 2024.690 339811...</td>\n",
       "    </tr>\n",
       "  </tbody>\n",
       "</table>\n",
       "</div>"
      ],
      "text/plain": [
       "   STATAUSTRIA_BEZ_CODE                                           geometry\n",
       "0                   901  POLYGON ((3010.180 342025.230, 2995.920 342041...\n",
       "1                   902  POLYGON ((5298.420 343728.290, 5239.530 343799...\n",
       "2                   903  POLYGON ((4792.732 341000.000, 4790.030 341020...\n",
       "3                   904  POLYGON ((3071.798 340143.192, 3048.078 340150...\n",
       "4                   905  POLYGON ((2030.550 339801.010, 2024.690 339811..."
      ]
     },
     "execution_count": 46,
     "metadata": {},
     "output_type": "execute_result"
    }
   ],
   "source": [
    "#Selecting the columns wie require for the geographical output\n",
    "vd=vd[['STATAUSTRIA_BEZ_CODE','geometry']]\n",
    "vd=vd.sort_values(by='STATAUSTRIA_BEZ_CODE').reset_index(drop=True) #Sorting  by District Code\n",
    "vd.head(5)"
   ]
  },
  {
   "cell_type": "code",
   "execution_count": 47,
   "id": "247f6563-b26a-44a6-955e-5054a9b65b37",
   "metadata": {
    "tags": []
   },
   "outputs": [],
   "source": [
    "#loading and cleaning the data \n",
    "df_incom=pd.read_csv('vie-bez-biz-ecn-inc-sex-2002f.csv', sep = ';',header= 1, thousands='.')"
   ]
  },
  {
   "cell_type": "code",
   "execution_count": 48,
   "id": "5121bcdd-7460-4307-bb91-c8d5418dd542",
   "metadata": {},
   "outputs": [],
   "source": [
    "\n",
    "df_incom.drop(['NUTS','SUB_DISTRICT_CODE','REF_DATE','INC_MAL_VALUE','INC_FEM_VALUE','Unnamed: 8','Unnamed: 9','Unnamed: 10','Unnamed: 11','Unnamed: 12','Unnamed: 13','Unnamed: 14','Unnamed: 15','Unnamed: 16','Unnamed: 17','Unnamed: 18','Unnamed: 19','Unnamed: 20'], axis=1, inplace=True)\n"
   ]
  },
  {
   "cell_type": "code",
   "execution_count": 49,
   "id": "8d261a70-ac6f-4e5b-98a3-b8ad59434f58",
   "metadata": {},
   "outputs": [],
   "source": [
    "df_incom=df_incom[df_incom['REF_YEAR'] == 2021]\n",
    "df_incom.drop(df_incom[df_incom['DISTRICT_CODE'] == 90000].index, inplace=True)\n"
   ]
  },
  {
   "cell_type": "code",
   "execution_count": 50,
   "id": "1be51c3b-d4f9-47f8-9d12-31fbc5b335e2",
   "metadata": {
    "tags": []
   },
   "outputs": [
    {
     "data": {
      "text/html": [
       "<div>\n",
       "<style scoped>\n",
       "    .dataframe tbody tr th:only-of-type {\n",
       "        vertical-align: middle;\n",
       "    }\n",
       "\n",
       "    .dataframe tbody tr th {\n",
       "        vertical-align: top;\n",
       "    }\n",
       "\n",
       "    .dataframe thead th {\n",
       "        text-align: right;\n",
       "    }\n",
       "</style>\n",
       "<table border=\"1\" class=\"dataframe\">\n",
       "  <thead>\n",
       "    <tr style=\"text-align: right;\">\n",
       "      <th></th>\n",
       "      <th>district_code</th>\n",
       "      <th>ref_year</th>\n",
       "      <th>inc_tot_value</th>\n",
       "    </tr>\n",
       "  </thead>\n",
       "  <tbody>\n",
       "    <tr>\n",
       "      <th>457</th>\n",
       "      <td>90100</td>\n",
       "      <td>2021</td>\n",
       "      <td>37250</td>\n",
       "    </tr>\n",
       "    <tr>\n",
       "      <th>458</th>\n",
       "      <td>90200</td>\n",
       "      <td>2021</td>\n",
       "      <td>24930</td>\n",
       "    </tr>\n",
       "    <tr>\n",
       "      <th>459</th>\n",
       "      <td>90300</td>\n",
       "      <td>2021</td>\n",
       "      <td>27450</td>\n",
       "    </tr>\n",
       "    <tr>\n",
       "      <th>460</th>\n",
       "      <td>90400</td>\n",
       "      <td>2021</td>\n",
       "      <td>29010</td>\n",
       "    </tr>\n",
       "    <tr>\n",
       "      <th>461</th>\n",
       "      <td>90500</td>\n",
       "      <td>2021</td>\n",
       "      <td>23096</td>\n",
       "    </tr>\n",
       "  </tbody>\n",
       "</table>\n",
       "</div>"
      ],
      "text/plain": [
       "     district_code  ref_year  inc_tot_value\n",
       "457          90100      2021          37250\n",
       "458          90200      2021          24930\n",
       "459          90300      2021          27450\n",
       "460          90400      2021          29010\n",
       "461          90500      2021          23096"
      ]
     },
     "execution_count": 50,
     "metadata": {},
     "output_type": "execute_result"
    }
   ],
   "source": [
    "df_incom.columns = df_incom.columns.str.lower()\n",
    "df_incom.head()"
   ]
  },
  {
   "cell_type": "code",
   "execution_count": 51,
   "id": "9da0716c-971d-41cc-a0ec-2a15be76f8cd",
   "metadata": {},
   "outputs": [],
   "source": [
    "df_incom.to_csv('income.csv', index=False)"
   ]
  },
  {
   "cell_type": "code",
   "execution_count": 52,
   "id": "6bf1314d-47bb-4440-90f9-bef900320597",
   "metadata": {
    "tags": []
   },
   "outputs": [
    {
     "data": {
      "text/html": [
       "<div>\n",
       "<style scoped>\n",
       "    .dataframe tbody tr th:only-of-type {\n",
       "        vertical-align: middle;\n",
       "    }\n",
       "\n",
       "    .dataframe tbody tr th {\n",
       "        vertical-align: top;\n",
       "    }\n",
       "\n",
       "    .dataframe thead th {\n",
       "        text-align: right;\n",
       "    }\n",
       "</style>\n",
       "<table border=\"1\" class=\"dataframe\">\n",
       "  <thead>\n",
       "    <tr style=\"text-align: right;\">\n",
       "      <th></th>\n",
       "      <th>DISTRICT_CODE</th>\n",
       "      <th>EHE_K</th>\n",
       "      <th>LGEM_K</th>\n",
       "      <th>V_K</th>\n",
       "      <th>M_K</th>\n",
       "    </tr>\n",
       "  </thead>\n",
       "  <tbody>\n",
       "    <tr>\n",
       "      <th>0</th>\n",
       "      <td>90100</td>\n",
       "      <td>997</td>\n",
       "      <td>205</td>\n",
       "      <td>238</td>\n",
       "      <td>820</td>\n",
       "    </tr>\n",
       "    <tr>\n",
       "      <th>1</th>\n",
       "      <td>90200</td>\n",
       "      <td>7808</td>\n",
       "      <td>1924</td>\n",
       "      <td>878</td>\n",
       "      <td>4015</td>\n",
       "    </tr>\n",
       "    <tr>\n",
       "      <th>2</th>\n",
       "      <td>90300</td>\n",
       "      <td>6585</td>\n",
       "      <td>1519</td>\n",
       "      <td>806</td>\n",
       "      <td>3991</td>\n",
       "    </tr>\n",
       "    <tr>\n",
       "      <th>3</th>\n",
       "      <td>90400</td>\n",
       "      <td>2218</td>\n",
       "      <td>544</td>\n",
       "      <td>317</td>\n",
       "      <td>1294</td>\n",
       "    </tr>\n",
       "    <tr>\n",
       "      <th>4</th>\n",
       "      <td>90500</td>\n",
       "      <td>3378</td>\n",
       "      <td>864</td>\n",
       "      <td>444</td>\n",
       "      <td>1982</td>\n",
       "    </tr>\n",
       "  </tbody>\n",
       "</table>\n",
       "</div>"
      ],
      "text/plain": [
       "   DISTRICT_CODE  EHE_K  LGEM_K  V_K   M_K\n",
       "0          90100    997     205  238   820\n",
       "1          90200   7808    1924  878  4015\n",
       "2          90300   6585    1519  806  3991\n",
       "3          90400   2218     544  317  1294\n",
       "4          90500   3378     864  444  1982"
      ]
     },
     "execution_count": 52,
     "metadata": {},
     "output_type": "execute_result"
    }
   ],
   "source": [
    "\n",
    "df_h3 = pd.read_csv('vie-bez-fam-typ-2012f.csv', encoding='latin1', skiprows=1, delimiter=';')\n",
    "df_h3_2021 = df_h3[df_h3['REF_YEAR'] == 2021]\n",
    "\n",
    "fam_total_2021 = df_h3_2021[['DISTRICT_CODE', 'EHE_K', 'LGEM_K', 'V_K', 'M_K']].reset_index(drop=True)#here we extract all relevant columns for the year 2021\n",
    "fam_total_2021.head()"
   ]
  },
  {
   "cell_type": "code",
   "execution_count": 53,
   "id": "05c140bb-b9df-466a-99d7-a22e8ec60c92",
   "metadata": {},
   "outputs": [
    {
     "data": {
      "text/html": [
       "<div>\n",
       "<style scoped>\n",
       "    .dataframe tbody tr th:only-of-type {\n",
       "        vertical-align: middle;\n",
       "    }\n",
       "\n",
       "    .dataframe tbody tr th {\n",
       "        vertical-align: top;\n",
       "    }\n",
       "\n",
       "    .dataframe thead th {\n",
       "        text-align: right;\n",
       "    }\n",
       "</style>\n",
       "<table border=\"1\" class=\"dataframe\">\n",
       "  <thead>\n",
       "    <tr style=\"text-align: right;\">\n",
       "      <th></th>\n",
       "      <th>DISTRICT_CODE</th>\n",
       "      <th>TOTAL</th>\n",
       "    </tr>\n",
       "  </thead>\n",
       "  <tbody>\n",
       "    <tr>\n",
       "      <th>0</th>\n",
       "      <td>90100</td>\n",
       "      <td>2260</td>\n",
       "    </tr>\n",
       "    <tr>\n",
       "      <th>1</th>\n",
       "      <td>90200</td>\n",
       "      <td>14625</td>\n",
       "    </tr>\n",
       "    <tr>\n",
       "      <th>2</th>\n",
       "      <td>90300</td>\n",
       "      <td>12901</td>\n",
       "    </tr>\n",
       "    <tr>\n",
       "      <th>3</th>\n",
       "      <td>90400</td>\n",
       "      <td>4373</td>\n",
       "    </tr>\n",
       "    <tr>\n",
       "      <th>4</th>\n",
       "      <td>90500</td>\n",
       "      <td>6668</td>\n",
       "    </tr>\n",
       "  </tbody>\n",
       "</table>\n",
       "</div>"
      ],
      "text/plain": [
       "   DISTRICT_CODE  TOTAL\n",
       "0          90100   2260\n",
       "1          90200  14625\n",
       "2          90300  12901\n",
       "3          90400   4373\n",
       "4          90500   6668"
      ]
     },
     "execution_count": 53,
     "metadata": {},
     "output_type": "execute_result"
    }
   ],
   "source": [
    "fam_total_2021['TOTAL'] = fam_total_2021[['EHE_K', 'LGEM_K', 'V_K', 'M_K']].sum(axis=1)\n",
    "fam_total_2021 = fam_total_2021[['DISTRICT_CODE', 'TOTAL']].reset_index(drop=True)\n",
    "fam_total_2021.head()"
   ]
  },
  {
   "cell_type": "code",
   "execution_count": 54,
   "id": "6aa66e4e-88fd-4828-a91b-d6a0282bc206",
   "metadata": {
    "tags": []
   },
   "outputs": [],
   "source": [
    "fam_total_2021.to_csv('fam_total_2021.csv',index=False)"
   ]
  },
  {
   "cell_type": "code",
   "execution_count": 55,
   "id": "655c32e4-4965-4554-956a-e38411335c60",
   "metadata": {},
   "outputs": [
    {
     "data": {
      "text/html": [
       "<div>\n",
       "<style scoped>\n",
       "    .dataframe tbody tr th:only-of-type {\n",
       "        vertical-align: middle;\n",
       "    }\n",
       "\n",
       "    .dataframe tbody tr th {\n",
       "        vertical-align: top;\n",
       "    }\n",
       "\n",
       "    .dataframe thead th {\n",
       "        text-align: right;\n",
       "    }\n",
       "</style>\n",
       "<table border=\"1\" class=\"dataframe\">\n",
       "  <thead>\n",
       "    <tr style=\"text-align: right;\">\n",
       "      <th></th>\n",
       "      <th>DISTRICT_CODE</th>\n",
       "      <th>POP_VALUE</th>\n",
       "    </tr>\n",
       "  </thead>\n",
       "  <tbody>\n",
       "    <tr>\n",
       "      <th>0</th>\n",
       "      <td>90000</td>\n",
       "      <td>1.982.097</td>\n",
       "    </tr>\n",
       "    <tr>\n",
       "      <th>1</th>\n",
       "      <td>90100</td>\n",
       "      <td>16.620</td>\n",
       "    </tr>\n",
       "    <tr>\n",
       "      <th>2</th>\n",
       "      <td>90200</td>\n",
       "      <td>108.269</td>\n",
       "    </tr>\n",
       "    <tr>\n",
       "      <th>3</th>\n",
       "      <td>90300</td>\n",
       "      <td>96.756</td>\n",
       "    </tr>\n",
       "    <tr>\n",
       "      <th>4</th>\n",
       "      <td>90400</td>\n",
       "      <td>33.633</td>\n",
       "    </tr>\n",
       "  </tbody>\n",
       "</table>\n",
       "</div>"
      ],
      "text/plain": [
       "   DISTRICT_CODE  POP_VALUE\n",
       "0          90000  1.982.097\n",
       "1          90100     16.620\n",
       "2          90200    108.269\n",
       "3          90300     96.756\n",
       "4          90400     33.633"
      ]
     },
     "execution_count": 55,
     "metadata": {},
     "output_type": "execute_result"
    }
   ],
   "source": [
    "df_h3_2 = pd.read_csv('vie-bez-biz-pop-den-2002f.csv', encoding='latin1', skiprows=1, delimiter=';')\n",
    "df_h3_2['REF_YEAR'] = pd.to_numeric(df_h3_2['REF_YEAR'], errors='coerce')\n",
    "\n",
    "df_2023 = df_h3_2[df_h3_2['REF_YEAR'] == 2023]\n",
    "\n",
    "pop_total_2023 = df_2023[['DISTRICT_CODE', 'POP_VALUE']].reset_index(drop=True)#extract 'POP_VALUE' for each district in the year 2023\n",
    "pop_total_2023.head()"
   ]
  },
  {
   "cell_type": "code",
   "execution_count": 56,
   "id": "ad969705-faa3-4018-a145-10ce858f691f",
   "metadata": {
    "tags": []
   },
   "outputs": [],
   "source": [
    "pop_total_2023.to_csv('pop_total_2023.csv',index=False)"
   ]
  },
  {
   "cell_type": "markdown",
   "id": "b041e827-fd81-4eb8-95d3-9e6ae1c77ca7",
   "metadata": {
    "tags": []
   },
   "source": [
    "## E2 - Exploratory data analysis (EDA)\n",
    "Use the clean dataset and to understand and explore the relationships in the data (numerical, visual, statistical). This includes at least but is not limited to:\n",
    "- A comprehensive textual description of meaning for relevant fields in the dataset\n",
    "- Statistical/numerical descriptions and visualization techniques we learned in the course inluding correlations, distributions and groupings of variing degrees.\n",
    "- Checks for data quality, e. g., completeness, plausibility, outliers\n",
    "- Handling any identified problems with the data\n",
    "- If necessary, use additional data wrangling in line with your EDA and only keep what's necessary for the following steps of your analysis with appropriate data granularity and form (\"tidy data\")\n",
    "\n",
    "Don't:\n",
    "- test/prove hypotheses here. EDA should only motivate hypotheses. \n",
    "\n",
    "Advanced/bonus:\n",
    "- Depending on your hypothesis you may want to join external data (e.g., merge external highest education level to existing vaccination data) for additional insights.\n",
    "\n",
    "Explain all steps taken and your thinking why you deem them necessary."
   ]
  },
  {
   "cell_type": "code",
   "execution_count": 57,
   "id": "370ab718-fa85-4fd8-adee-7643970042ad",
   "metadata": {},
   "outputs": [
    {
     "data": {
      "text/html": [
       "<div>\n",
       "<style scoped>\n",
       "    .dataframe tbody tr th:only-of-type {\n",
       "        vertical-align: middle;\n",
       "    }\n",
       "\n",
       "    .dataframe tbody tr th {\n",
       "        vertical-align: top;\n",
       "    }\n",
       "\n",
       "    .dataframe thead th {\n",
       "        text-align: right;\n",
       "    }\n",
       "</style>\n",
       "<table border=\"1\" class=\"dataframe\">\n",
       "  <thead>\n",
       "    <tr style=\"text-align: right;\">\n",
       "      <th></th>\n",
       "      <th>postal_code</th>\n",
       "      <th>dog_breed</th>\n",
       "      <th>number_of_dogs</th>\n",
       "      <th>inner_district</th>\n",
       "      <th>mixed_breed</th>\n",
       "      <th>boundary_districts</th>\n",
       "    </tr>\n",
       "    <tr>\n",
       "      <th>district_code</th>\n",
       "      <th></th>\n",
       "      <th></th>\n",
       "      <th></th>\n",
       "      <th></th>\n",
       "      <th></th>\n",
       "      <th></th>\n",
       "    </tr>\n",
       "  </thead>\n",
       "  <tbody>\n",
       "    <tr>\n",
       "      <th>90100</th>\n",
       "      <td>1010</td>\n",
       "      <td>Akita / Belgischer Schäferhund</td>\n",
       "      <td>1</td>\n",
       "      <td>1</td>\n",
       "      <td>1</td>\n",
       "      <td>0</td>\n",
       "    </tr>\n",
       "    <tr>\n",
       "      <th>90100</th>\n",
       "      <td>1010</td>\n",
       "      <td>American Cocker Spaniel</td>\n",
       "      <td>2</td>\n",
       "      <td>1</td>\n",
       "      <td>0</td>\n",
       "      <td>0</td>\n",
       "    </tr>\n",
       "    <tr>\n",
       "      <th>90100</th>\n",
       "      <td>1010</td>\n",
       "      <td>American Cocker Spaniel / Pudel</td>\n",
       "      <td>1</td>\n",
       "      <td>1</td>\n",
       "      <td>1</td>\n",
       "      <td>0</td>\n",
       "    </tr>\n",
       "    <tr>\n",
       "      <th>90100</th>\n",
       "      <td>1010</td>\n",
       "      <td>American Staffordshire Terrier</td>\n",
       "      <td>1</td>\n",
       "      <td>1</td>\n",
       "      <td>0</td>\n",
       "      <td>0</td>\n",
       "    </tr>\n",
       "    <tr>\n",
       "      <th>90100</th>\n",
       "      <td>1010</td>\n",
       "      <td>Australian Shepherd</td>\n",
       "      <td>5</td>\n",
       "      <td>1</td>\n",
       "      <td>0</td>\n",
       "      <td>0</td>\n",
       "    </tr>\n",
       "  </tbody>\n",
       "</table>\n",
       "</div>"
      ],
      "text/plain": [
       "               postal_code                        dog_breed  number_of_dogs  \\\n",
       "district_code                                                                 \n",
       "90100                 1010   Akita / Belgischer Schäferhund               1   \n",
       "90100                 1010          American Cocker Spaniel               2   \n",
       "90100                 1010  American Cocker Spaniel / Pudel               1   \n",
       "90100                 1010   American Staffordshire Terrier               1   \n",
       "90100                 1010              Australian Shepherd               5   \n",
       "\n",
       "               inner_district  mixed_breed  boundary_districts  \n",
       "district_code                                                   \n",
       "90100                       1            1                   0  \n",
       "90100                       1            0                   0  \n",
       "90100                       1            1                   0  \n",
       "90100                       1            0                   0  \n",
       "90100                       1            0                   0  "
      ]
     },
     "execution_count": 57,
     "metadata": {},
     "output_type": "execute_result"
    }
   ],
   "source": [
    "df = pd.read_csv(\"dogs_cleaned_cc.csv\", index_col=0)\n",
    "df.head()"
   ]
  },
  {
   "cell_type": "markdown",
   "id": "d696f95e",
   "metadata": {},
   "source": [
    "#### Groupy by inner/outer districts"
   ]
  },
  {
   "cell_type": "code",
   "execution_count": 58,
   "id": "bc62f132-be6d-46cc-9697-25546ac356cb",
   "metadata": {
    "tags": []
   },
   "outputs": [],
   "source": [
    "# Group by 'dog_breed' and 'inner_outer', then sum the 'number_of_dogs' for each group\n",
    "result = df.groupby(['dog_breed', 'inner_district']).agg(summe_number_of_dogs=('number_of_dogs', 'sum')).reset_index()\n",
    "\n",
    "# Sort the result by 'summe_number_of_dogs' in descending order\n",
    "result = result.sort_values(by='summe_number_of_dogs', ascending=False)"
   ]
  },
  {
   "cell_type": "code",
   "execution_count": 59,
   "id": "8e424414-d82b-454e-8094-4fad18dbbb08",
   "metadata": {
    "tags": []
   },
   "outputs": [
    {
     "data": {
      "text/html": [
       "<div>\n",
       "<style scoped>\n",
       "    .dataframe tbody tr th:only-of-type {\n",
       "        vertical-align: middle;\n",
       "    }\n",
       "\n",
       "    .dataframe tbody tr th {\n",
       "        vertical-align: top;\n",
       "    }\n",
       "\n",
       "    .dataframe thead th {\n",
       "        text-align: right;\n",
       "    }\n",
       "</style>\n",
       "<table border=\"1\" class=\"dataframe\">\n",
       "  <thead>\n",
       "    <tr style=\"text-align: right;\">\n",
       "      <th></th>\n",
       "      <th>dog_breed</th>\n",
       "      <th>inner_district</th>\n",
       "      <th>summe_number_of_dogs</th>\n",
       "    </tr>\n",
       "  </thead>\n",
       "  <tbody>\n",
       "    <tr>\n",
       "      <th>3667</th>\n",
       "      <td>Unbekannt / Mischling</td>\n",
       "      <td>1</td>\n",
       "      <td>1104</td>\n",
       "    </tr>\n",
       "    <tr>\n",
       "      <th>2343</th>\n",
       "      <td>Labrador Retriever</td>\n",
       "      <td>1</td>\n",
       "      <td>380</td>\n",
       "    </tr>\n",
       "    <tr>\n",
       "      <th>807</th>\n",
       "      <td>Chihuahua Kurzhaar</td>\n",
       "      <td>1</td>\n",
       "      <td>316</td>\n",
       "    </tr>\n",
       "    <tr>\n",
       "      <th>2673</th>\n",
       "      <td>Malteser</td>\n",
       "      <td>1</td>\n",
       "      <td>286</td>\n",
       "    </tr>\n",
       "    <tr>\n",
       "      <th>1637</th>\n",
       "      <td>Französische Bulldogge</td>\n",
       "      <td>1</td>\n",
       "      <td>246</td>\n",
       "    </tr>\n",
       "    <tr>\n",
       "      <th>3798</th>\n",
       "      <td>Yorkshire Terrier</td>\n",
       "      <td>1</td>\n",
       "      <td>225</td>\n",
       "    </tr>\n",
       "    <tr>\n",
       "      <th>1675</th>\n",
       "      <td>Golden Retriever</td>\n",
       "      <td>1</td>\n",
       "      <td>211</td>\n",
       "    </tr>\n",
       "    <tr>\n",
       "      <th>2470</th>\n",
       "      <td>Labrador Retriever / Mischling</td>\n",
       "      <td>1</td>\n",
       "      <td>193</td>\n",
       "    </tr>\n",
       "    <tr>\n",
       "      <th>115</th>\n",
       "      <td>American Staffordshire Terrier</td>\n",
       "      <td>1</td>\n",
       "      <td>168</td>\n",
       "    </tr>\n",
       "    <tr>\n",
       "      <th>3953</th>\n",
       "      <td>Zwergspitz (Pomeranian)</td>\n",
       "      <td>1</td>\n",
       "      <td>156</td>\n",
       "    </tr>\n",
       "  </tbody>\n",
       "</table>\n",
       "</div>"
      ],
      "text/plain": [
       "                           dog_breed  inner_district  summe_number_of_dogs\n",
       "3667           Unbekannt / Mischling               1                  1104\n",
       "2343              Labrador Retriever               1                   380\n",
       "807               Chihuahua Kurzhaar               1                   316\n",
       "2673                        Malteser               1                   286\n",
       "1637          Französische Bulldogge               1                   246\n",
       "3798               Yorkshire Terrier               1                   225\n",
       "1675                Golden Retriever               1                   211\n",
       "2470  Labrador Retriever / Mischling               1                   193\n",
       "115   American Staffordshire Terrier               1                   168\n",
       "3953         Zwergspitz (Pomeranian)               1                   156"
      ]
     },
     "execution_count": 59,
     "metadata": {},
     "output_type": "execute_result"
    }
   ],
   "source": [
    "result_inner = result[result['inner_district'] == 1]\n",
    "result_inner.head(10)"
   ]
  },
  {
   "cell_type": "code",
   "execution_count": 60,
   "id": "7c0eb68d-15f6-40b1-ae1c-5d07b7ee80c4",
   "metadata": {
    "tags": []
   },
   "outputs": [
    {
     "data": {
      "text/html": [
       "<div>\n",
       "<style scoped>\n",
       "    .dataframe tbody tr th:only-of-type {\n",
       "        vertical-align: middle;\n",
       "    }\n",
       "\n",
       "    .dataframe tbody tr th {\n",
       "        vertical-align: top;\n",
       "    }\n",
       "\n",
       "    .dataframe thead th {\n",
       "        text-align: right;\n",
       "    }\n",
       "</style>\n",
       "<table border=\"1\" class=\"dataframe\">\n",
       "  <thead>\n",
       "    <tr style=\"text-align: right;\">\n",
       "      <th></th>\n",
       "      <th>dog_breed</th>\n",
       "      <th>inner_district</th>\n",
       "      <th>summe_number_of_dogs</th>\n",
       "    </tr>\n",
       "  </thead>\n",
       "  <tbody>\n",
       "    <tr>\n",
       "      <th>3666</th>\n",
       "      <td>Unbekannt / Mischling</td>\n",
       "      <td>0</td>\n",
       "      <td>5436</td>\n",
       "    </tr>\n",
       "    <tr>\n",
       "      <th>806</th>\n",
       "      <td>Chihuahua Kurzhaar</td>\n",
       "      <td>0</td>\n",
       "      <td>2200</td>\n",
       "    </tr>\n",
       "    <tr>\n",
       "      <th>2342</th>\n",
       "      <td>Labrador Retriever</td>\n",
       "      <td>0</td>\n",
       "      <td>1874</td>\n",
       "    </tr>\n",
       "    <tr>\n",
       "      <th>2672</th>\n",
       "      <td>Malteser</td>\n",
       "      <td>0</td>\n",
       "      <td>1610</td>\n",
       "    </tr>\n",
       "    <tr>\n",
       "      <th>1636</th>\n",
       "      <td>Französische Bulldogge</td>\n",
       "      <td>0</td>\n",
       "      <td>1328</td>\n",
       "    </tr>\n",
       "    <tr>\n",
       "      <th>114</th>\n",
       "      <td>American Staffordshire Terrier</td>\n",
       "      <td>0</td>\n",
       "      <td>1216</td>\n",
       "    </tr>\n",
       "    <tr>\n",
       "      <th>1674</th>\n",
       "      <td>Golden Retriever</td>\n",
       "      <td>0</td>\n",
       "      <td>1082</td>\n",
       "    </tr>\n",
       "    <tr>\n",
       "      <th>3797</th>\n",
       "      <td>Yorkshire Terrier</td>\n",
       "      <td>0</td>\n",
       "      <td>1068</td>\n",
       "    </tr>\n",
       "    <tr>\n",
       "      <th>2469</th>\n",
       "      <td>Labrador Retriever / Mischling</td>\n",
       "      <td>0</td>\n",
       "      <td>1043</td>\n",
       "    </tr>\n",
       "    <tr>\n",
       "      <th>867</th>\n",
       "      <td>Chihuahua Langhaar</td>\n",
       "      <td>0</td>\n",
       "      <td>926</td>\n",
       "    </tr>\n",
       "  </tbody>\n",
       "</table>\n",
       "</div>"
      ],
      "text/plain": [
       "                           dog_breed  inner_district  summe_number_of_dogs\n",
       "3666           Unbekannt / Mischling               0                  5436\n",
       "806               Chihuahua Kurzhaar               0                  2200\n",
       "2342              Labrador Retriever               0                  1874\n",
       "2672                        Malteser               0                  1610\n",
       "1636          Französische Bulldogge               0                  1328\n",
       "114   American Staffordshire Terrier               0                  1216\n",
       "1674                Golden Retriever               0                  1082\n",
       "3797               Yorkshire Terrier               0                  1068\n",
       "2469  Labrador Retriever / Mischling               0                  1043\n",
       "867               Chihuahua Langhaar               0                   926"
      ]
     },
     "execution_count": 60,
     "metadata": {},
     "output_type": "execute_result"
    }
   ],
   "source": [
    "result_outer = result[result['inner_district'] == 0]\n",
    "result_outer.head(10)"
   ]
  },
  {
   "cell_type": "markdown",
   "id": "4f7f3492",
   "metadata": {},
   "source": [
    "#### Group by district"
   ]
  },
  {
   "cell_type": "code",
   "execution_count": 61,
   "id": "9f929c5c-13af-4eeb-b653-0585c1bf348f",
   "metadata": {
    "tags": []
   },
   "outputs": [
    {
     "ename": "IndexingError",
     "evalue": "Unalignable boolean Series provided as indexer (index of the boolean Series and of the indexed object do not match).",
     "output_type": "error",
     "traceback": [
      "\u001b[0;31m---------------------------------------------------------------------------\u001b[0m",
      "\u001b[0;31mIndexingError\u001b[0m                             Traceback (most recent call last)",
      "Cell \u001b[0;32mIn[61], line 5\u001b[0m\n\u001b[1;32m      3\u001b[0m \u001b[38;5;66;03m# Barplot\u001b[39;00m\n\u001b[1;32m      4\u001b[0m plt\u001b[38;5;241m.\u001b[39mfigure(figsize\u001b[38;5;241m=\u001b[39m(\u001b[38;5;241m12\u001b[39m, \u001b[38;5;241m8\u001b[39m))\n\u001b[0;32m----> 5\u001b[0m ax0 \u001b[38;5;241m=\u001b[39m \u001b[43msns\u001b[49m\u001b[38;5;241;43m.\u001b[39;49m\u001b[43mbarplot\u001b[49m\u001b[43m(\u001b[49m\u001b[43mx\u001b[49m\u001b[38;5;241;43m=\u001b[39;49m\u001b[43mdogs_per_district\u001b[49m\u001b[38;5;241;43m.\u001b[39;49m\u001b[43mindex\u001b[49m\u001b[43m,\u001b[49m\u001b[43m \u001b[49m\u001b[43my\u001b[49m\u001b[38;5;241;43m=\u001b[39;49m\u001b[43mdogs_per_district\u001b[49m\u001b[43m[\u001b[49m\u001b[38;5;124;43m'\u001b[39;49m\u001b[38;5;124;43mnumber_of_dogs\u001b[39;49m\u001b[38;5;124;43m'\u001b[39;49m\u001b[43m]\u001b[49m\u001b[43m,\u001b[49m\u001b[43m \u001b[49m\u001b[43mpalette\u001b[49m\u001b[38;5;241;43m=\u001b[39;49m\u001b[43msns\u001b[49m\u001b[38;5;241;43m.\u001b[39;49m\u001b[43mcolor_palette\u001b[49m\u001b[43m(\u001b[49m\u001b[38;5;124;43m\"\u001b[39;49m\u001b[38;5;124;43mviridis_r\u001b[39;49m\u001b[38;5;124;43m\"\u001b[39;49m\u001b[43m,\u001b[49m\u001b[43m \u001b[49m\u001b[43mn_colors\u001b[49m\u001b[38;5;241;43m=\u001b[39;49m\u001b[38;5;28;43mlen\u001b[39;49m\u001b[43m(\u001b[49m\u001b[43mdogs_per_district\u001b[49m\u001b[43m)\u001b[49m\u001b[43m)\u001b[49m\u001b[43m,\u001b[49m\u001b[43m \u001b[49m\u001b[43mhue\u001b[49m\u001b[38;5;241;43m=\u001b[39;49m\u001b[43mdogs_per_district\u001b[49m\u001b[38;5;241;43m.\u001b[39;49m\u001b[43mindex\u001b[49m\u001b[43m,\u001b[49m\u001b[43m \u001b[49m\u001b[43mlegend\u001b[49m\u001b[38;5;241;43m=\u001b[39;49m\u001b[38;5;28;43;01mFalse\u001b[39;49;00m\u001b[43m)\u001b[49m\n\u001b[1;32m      6\u001b[0m ax0\u001b[38;5;241m.\u001b[39mfigure\u001b[38;5;241m.\u001b[39mset_size_inches(\u001b[38;5;241m13\u001b[39m, \u001b[38;5;241m7\u001b[39m)\n\u001b[1;32m      8\u001b[0m plt\u001b[38;5;241m.\u001b[39mtitle(\u001b[38;5;124m\"\u001b[39m\u001b[38;5;124mNumber of dogs per district\u001b[39m\u001b[38;5;124m\"\u001b[39m)\n",
      "File \u001b[0;32m~/anaconda3/envs/project_de/lib/python3.10/site-packages/seaborn/categorical.py:2755\u001b[0m, in \u001b[0;36mbarplot\u001b[0;34m(data, x, y, hue, order, hue_order, estimator, errorbar, n_boot, units, seed, orient, color, palette, saturation, width, errcolor, errwidth, capsize, dodge, ci, ax, **kwargs)\u001b[0m\n\u001b[1;32m   2752\u001b[0m \u001b[38;5;28;01mif\u001b[39;00m estimator \u001b[38;5;129;01mis\u001b[39;00m \u001b[38;5;28mlen\u001b[39m:\n\u001b[1;32m   2753\u001b[0m     estimator \u001b[38;5;241m=\u001b[39m \u001b[38;5;124m\"\u001b[39m\u001b[38;5;124msize\u001b[39m\u001b[38;5;124m\"\u001b[39m\n\u001b[0;32m-> 2755\u001b[0m plotter \u001b[38;5;241m=\u001b[39m \u001b[43m_BarPlotter\u001b[49m\u001b[43m(\u001b[49m\u001b[43mx\u001b[49m\u001b[43m,\u001b[49m\u001b[43m \u001b[49m\u001b[43my\u001b[49m\u001b[43m,\u001b[49m\u001b[43m \u001b[49m\u001b[43mhue\u001b[49m\u001b[43m,\u001b[49m\u001b[43m \u001b[49m\u001b[43mdata\u001b[49m\u001b[43m,\u001b[49m\u001b[43m \u001b[49m\u001b[43morder\u001b[49m\u001b[43m,\u001b[49m\u001b[43m \u001b[49m\u001b[43mhue_order\u001b[49m\u001b[43m,\u001b[49m\n\u001b[1;32m   2756\u001b[0m \u001b[43m                      \u001b[49m\u001b[43mestimator\u001b[49m\u001b[43m,\u001b[49m\u001b[43m \u001b[49m\u001b[43merrorbar\u001b[49m\u001b[43m,\u001b[49m\u001b[43m \u001b[49m\u001b[43mn_boot\u001b[49m\u001b[43m,\u001b[49m\u001b[43m \u001b[49m\u001b[43munits\u001b[49m\u001b[43m,\u001b[49m\u001b[43m \u001b[49m\u001b[43mseed\u001b[49m\u001b[43m,\u001b[49m\n\u001b[1;32m   2757\u001b[0m \u001b[43m                      \u001b[49m\u001b[43morient\u001b[49m\u001b[43m,\u001b[49m\u001b[43m \u001b[49m\u001b[43mcolor\u001b[49m\u001b[43m,\u001b[49m\u001b[43m \u001b[49m\u001b[43mpalette\u001b[49m\u001b[43m,\u001b[49m\u001b[43m \u001b[49m\u001b[43msaturation\u001b[49m\u001b[43m,\u001b[49m\n\u001b[1;32m   2758\u001b[0m \u001b[43m                      \u001b[49m\u001b[43mwidth\u001b[49m\u001b[43m,\u001b[49m\u001b[43m \u001b[49m\u001b[43merrcolor\u001b[49m\u001b[43m,\u001b[49m\u001b[43m \u001b[49m\u001b[43merrwidth\u001b[49m\u001b[43m,\u001b[49m\u001b[43m \u001b[49m\u001b[43mcapsize\u001b[49m\u001b[43m,\u001b[49m\u001b[43m \u001b[49m\u001b[43mdodge\u001b[49m\u001b[43m)\u001b[49m\n\u001b[1;32m   2760\u001b[0m \u001b[38;5;28;01mif\u001b[39;00m ax \u001b[38;5;129;01mis\u001b[39;00m \u001b[38;5;28;01mNone\u001b[39;00m:\n\u001b[1;32m   2761\u001b[0m     ax \u001b[38;5;241m=\u001b[39m plt\u001b[38;5;241m.\u001b[39mgca()\n",
      "File \u001b[0;32m~/anaconda3/envs/project_de/lib/python3.10/site-packages/seaborn/categorical.py:1533\u001b[0m, in \u001b[0;36m_BarPlotter.__init__\u001b[0;34m(self, x, y, hue, data, order, hue_order, estimator, errorbar, n_boot, units, seed, orient, color, palette, saturation, width, errcolor, errwidth, capsize, dodge)\u001b[0m\n\u001b[1;32m   1530\u001b[0m \u001b[38;5;28mself\u001b[39m\u001b[38;5;241m.\u001b[39mestablish_variables(x, y, hue, data, orient,\n\u001b[1;32m   1531\u001b[0m                          order, hue_order, units)\n\u001b[1;32m   1532\u001b[0m \u001b[38;5;28mself\u001b[39m\u001b[38;5;241m.\u001b[39mestablish_colors(color, palette, saturation)\n\u001b[0;32m-> 1533\u001b[0m \u001b[38;5;28;43mself\u001b[39;49m\u001b[38;5;241;43m.\u001b[39;49m\u001b[43mestimate_statistic\u001b[49m\u001b[43m(\u001b[49m\u001b[43mestimator\u001b[49m\u001b[43m,\u001b[49m\u001b[43m \u001b[49m\u001b[43merrorbar\u001b[49m\u001b[43m,\u001b[49m\u001b[43m \u001b[49m\u001b[43mn_boot\u001b[49m\u001b[43m,\u001b[49m\u001b[43m \u001b[49m\u001b[43mseed\u001b[49m\u001b[43m)\u001b[49m\n\u001b[1;32m   1535\u001b[0m \u001b[38;5;28mself\u001b[39m\u001b[38;5;241m.\u001b[39mdodge \u001b[38;5;241m=\u001b[39m dodge\n\u001b[1;32m   1536\u001b[0m \u001b[38;5;28mself\u001b[39m\u001b[38;5;241m.\u001b[39mwidth \u001b[38;5;241m=\u001b[39m width\n",
      "File \u001b[0;32m~/anaconda3/envs/project_de/lib/python3.10/site-packages/seaborn/categorical.py:1480\u001b[0m, in \u001b[0;36m_CategoricalStatPlotter.estimate_statistic\u001b[0;34m(self, estimator, errorbar, n_boot, seed)\u001b[0m\n\u001b[1;32m   1477\u001b[0m     \u001b[38;5;28;01mcontinue\u001b[39;00m\n\u001b[1;32m   1479\u001b[0m hue_mask \u001b[38;5;241m=\u001b[39m \u001b[38;5;28mself\u001b[39m\u001b[38;5;241m.\u001b[39mplot_hues[i] \u001b[38;5;241m==\u001b[39m hue_level\n\u001b[0;32m-> 1480\u001b[0m df \u001b[38;5;241m=\u001b[39m pd\u001b[38;5;241m.\u001b[39mDataFrame({var: \u001b[43mgroup_data\u001b[49m\u001b[43m[\u001b[49m\u001b[43mhue_mask\u001b[49m\u001b[43m]\u001b[49m})\n\u001b[1;32m   1481\u001b[0m \u001b[38;5;28;01mif\u001b[39;00m \u001b[38;5;28mself\u001b[39m\u001b[38;5;241m.\u001b[39mplot_units \u001b[38;5;129;01mis\u001b[39;00m \u001b[38;5;129;01mnot\u001b[39;00m \u001b[38;5;28;01mNone\u001b[39;00m:\n\u001b[1;32m   1482\u001b[0m     df[\u001b[38;5;124m\"\u001b[39m\u001b[38;5;124munits\u001b[39m\u001b[38;5;124m\"\u001b[39m] \u001b[38;5;241m=\u001b[39m \u001b[38;5;28mself\u001b[39m\u001b[38;5;241m.\u001b[39mplot_units[i][hue_mask]\n",
      "File \u001b[0;32m~/anaconda3/envs/project_de/lib/python3.10/site-packages/pandas/core/series.py:1068\u001b[0m, in \u001b[0;36mSeries.__getitem__\u001b[0;34m(self, key)\u001b[0m\n\u001b[1;32m   1065\u001b[0m     \u001b[38;5;28;01mreturn\u001b[39;00m \u001b[38;5;28mself\u001b[39m\u001b[38;5;241m.\u001b[39m_getitem_slice(key)\n\u001b[1;32m   1067\u001b[0m \u001b[38;5;28;01mif\u001b[39;00m com\u001b[38;5;241m.\u001b[39mis_bool_indexer(key):\n\u001b[0;32m-> 1068\u001b[0m     key \u001b[38;5;241m=\u001b[39m \u001b[43mcheck_bool_indexer\u001b[49m\u001b[43m(\u001b[49m\u001b[38;5;28;43mself\u001b[39;49m\u001b[38;5;241;43m.\u001b[39;49m\u001b[43mindex\u001b[49m\u001b[43m,\u001b[49m\u001b[43m \u001b[49m\u001b[43mkey\u001b[49m\u001b[43m)\u001b[49m\n\u001b[1;32m   1069\u001b[0m     key \u001b[38;5;241m=\u001b[39m np\u001b[38;5;241m.\u001b[39masarray(key, dtype\u001b[38;5;241m=\u001b[39m\u001b[38;5;28mbool\u001b[39m)\n\u001b[1;32m   1070\u001b[0m     \u001b[38;5;28;01mreturn\u001b[39;00m \u001b[38;5;28mself\u001b[39m\u001b[38;5;241m.\u001b[39m_get_rows_with_mask(key)\n",
      "File \u001b[0;32m~/anaconda3/envs/project_de/lib/python3.10/site-packages/pandas/core/indexing.py:2575\u001b[0m, in \u001b[0;36mcheck_bool_indexer\u001b[0;34m(index, key)\u001b[0m\n\u001b[1;32m   2573\u001b[0m indexer \u001b[38;5;241m=\u001b[39m result\u001b[38;5;241m.\u001b[39mindex\u001b[38;5;241m.\u001b[39mget_indexer_for(index)\n\u001b[1;32m   2574\u001b[0m \u001b[38;5;28;01mif\u001b[39;00m \u001b[38;5;241m-\u001b[39m\u001b[38;5;241m1\u001b[39m \u001b[38;5;129;01min\u001b[39;00m indexer:\n\u001b[0;32m-> 2575\u001b[0m     \u001b[38;5;28;01mraise\u001b[39;00m IndexingError(\n\u001b[1;32m   2576\u001b[0m         \u001b[38;5;124m\"\u001b[39m\u001b[38;5;124mUnalignable boolean Series provided as \u001b[39m\u001b[38;5;124m\"\u001b[39m\n\u001b[1;32m   2577\u001b[0m         \u001b[38;5;124m\"\u001b[39m\u001b[38;5;124mindexer (index of the boolean Series and of \u001b[39m\u001b[38;5;124m\"\u001b[39m\n\u001b[1;32m   2578\u001b[0m         \u001b[38;5;124m\"\u001b[39m\u001b[38;5;124mthe indexed object do not match).\u001b[39m\u001b[38;5;124m\"\u001b[39m\n\u001b[1;32m   2579\u001b[0m     )\n\u001b[1;32m   2581\u001b[0m result \u001b[38;5;241m=\u001b[39m result\u001b[38;5;241m.\u001b[39mtake(indexer)\n\u001b[1;32m   2583\u001b[0m \u001b[38;5;66;03m# fall through for boolean\u001b[39;00m\n",
      "\u001b[0;31mIndexingError\u001b[0m: Unalignable boolean Series provided as indexer (index of the boolean Series and of the indexed object do not match)."
     ]
    },
    {
     "data": {
      "text/plain": [
       "<Figure size 1200x800 with 0 Axes>"
      ]
     },
     "metadata": {},
     "output_type": "display_data"
    }
   ],
   "source": [
    "dogs_per_district = df.groupby('postal_code')['number_of_dogs'].sum().reset_index().set_index('postal_code')\n",
    "\n",
    "# Barplot\n",
    "plt.figure(figsize=(12, 8))\n",
    "ax0 = sns.barplot(x=dogs_per_district.index, y=dogs_per_district['number_of_dogs'], palette=sns.color_palette(\"viridis_r\", n_colors=len(dogs_per_district)), hue=dogs_per_district.index, legend=False)\n",
    "ax0.figure.set_size_inches(13, 7)\n",
    "\n",
    "plt.title(\"Number of dogs per district\")\n",
    "plt.xlabel(\"Postal code\")\n",
    "plt.ylabel(\"Number of dogs\");"
   ]
  },
  {
   "cell_type": "markdown",
   "id": "be77be7b",
   "metadata": {},
   "source": [
    "#### Group by mixed/purebred"
   ]
  },
  {
   "cell_type": "code",
   "execution_count": null,
   "id": "58312681-9cb1-421a-b876-45cc01f1e52c",
   "metadata": {
    "tags": []
   },
   "outputs": [],
   "source": [
    "dogs_mixed = df.groupby('mixed_breed')['number_of_dogs'].sum()\n",
    "\n",
    "# barplot\n",
    "ax = dogs_mixed.plot(kind='bar', color=['orange', 'darkgreen'])\n",
    "plt.title('Number of dogs for mixed/purebred')\n",
    "plt.xlabel(' ')\n",
    "plt.ylabel('Number of dogs')\n",
    "\n",
    "# change x-labels\n",
    "ax.set_xticks([0, 1])\n",
    "ax.set_xticklabels(['purebred', 'mixed'])\n",
    "ax.yaxis.grid(linestyle='dashed')"
   ]
  },
  {
   "cell_type": "markdown",
   "id": "e07487e9-2e23-4e5c-8329-548d6f987f69",
   "metadata": {
    "tags": []
   },
   "source": [
    "### EDA for additional Data and Hypothesis"
   ]
  },
  {
   "cell_type": "code",
   "execution_count": null,
   "id": "8bbb32b6-a202-4079-9254-ebbd4e8eb7f4",
   "metadata": {
    "tags": []
   },
   "outputs": [],
   "source": [
    "dogs_per_district=pd.read_csv(\"dogs_cleaned.csv\")\n",
    "parks=pd.read_csv(\"parks_cleaned.csv\")\n",
    "districts=pd.read_csv(\"districts_cleaned_2023.csv\")"
   ]
  },
  {
   "cell_type": "markdown",
   "id": "50f446e9-591d-4504-adfa-1b03edb125e2",
   "metadata": {
    "tags": []
   },
   "source": [
    "To begin exploring the data, we need to calculate the amount of dogs, then join the additional data sets: "
   ]
  },
  {
   "cell_type": "code",
   "execution_count": null,
   "id": "246ed83d-99a4-482d-a3cf-0018eadadf03",
   "metadata": {
    "tags": []
   },
   "outputs": [],
   "source": [
    "dogs_per_district = dogs_per_district.groupby(['postal_code', 'district_code'])['number_of_dogs'].sum().reset_index()\n",
    "dogs_per_district.head()"
   ]
  },
  {
   "cell_type": "code",
   "execution_count": null,
   "id": "5f559f86-1b59-42a4-9f00-9b25e62c68d7",
   "metadata": {
    "tags": []
   },
   "outputs": [],
   "source": [
    "# First join on parks with postal codes: \n",
    "df_dpd_parks = pd.merge(dogs_per_district, parks, on=\"postal_code\")\n",
    "df_dpd_parks.head()"
   ]
  },
  {
   "cell_type": "code",
   "execution_count": null,
   "id": "6ca31717-3ed0-4979-bc26-7853e25961fc",
   "metadata": {
    "tags": []
   },
   "outputs": [],
   "source": [
    "# Second join on districts with district codes: \n",
    "df_dpd_parks = pd.merge(df_dpd_parks, districts, on=\"district_code\")"
   ]
  },
  {
   "cell_type": "code",
   "execution_count": null,
   "id": "50dcf595-df32-48d1-afe9-1e1a763230a3",
   "metadata": {
    "tags": []
   },
   "outputs": [],
   "source": [
    "df_dpd_parks.dtypes"
   ]
  },
  {
   "cell_type": "markdown",
   "id": "4dc4f8ab-734c-4d33-975a-7111b08bdfc0",
   "metadata": {
    "tags": []
   },
   "source": [
    "We have valid data for all 23 districts. "
   ]
  },
  {
   "cell_type": "code",
   "execution_count": null,
   "id": "ec8c4db9-38e4-43fe-bc27-0fcfaeccf596",
   "metadata": {
    "tags": []
   },
   "outputs": [],
   "source": [
    "df_dpd_parks.sort_values(\"number_of_dogs\").plot(x=\"postal_code\", y=[\"number_of_dogs\",\"green_space(sqm)\"], kind=\"bar\", subplots=True);"
   ]
  },
  {
   "cell_type": "markdown",
   "id": "676b2919-83b3-4415-922b-047b3dbc8442",
   "metadata": {
    "tags": []
   },
   "source": [
    "A quick visual exploration of the data shows, that there might be a relationship between available greenspace for dogs and the amount of dogs owned: The districts on the left have no or very litte greenspace and also lesser numbers of dog owners. "
   ]
  },
  {
   "cell_type": "code",
   "execution_count": null,
   "id": "96b5c231-3c3a-432f-9b51-60537b3897a0",
   "metadata": {
    "tags": []
   },
   "outputs": [],
   "source": [
    "df_dpd_parks.sort_values(\"number_of_dogs\").plot(x=\"postal_code\", y=[\"area\",\"pop_value\"], kind=\"bar\", subplots=True);"
   ]
  },
  {
   "cell_type": "markdown",
   "id": "713b51ae-d5b4-43bb-9f70-8757cba0ae88",
   "metadata": {
    "tags": []
   },
   "source": [
    "When we look at the demographics, these districts are smaller as well and also have less population. This should be accounted for, when looking for correlations.  "
   ]
  },
  {
   "cell_type": "markdown",
   "id": "d668375a-1406-4d2d-941c-8f3a0ff845b1",
   "metadata": {
    "tags": []
   },
   "source": [
    "Based on these findings we can examine hypothesis H5 in section 3: \"Districts with a higher proportion of green space for dogs have more dogs per inhabitant than districts with less green space.\""
   ]
  },
  {
   "cell_type": "markdown",
   "id": "70fee7b1-3d9f-45c8-828c-e7c5e9a3ea14",
   "metadata": {},
   "source": [
    "####"
   ]
  },
  {
   "cell_type": "markdown",
   "id": "277ea477-7d0c-407b-970e-212d64b5ec94",
   "metadata": {},
   "source": [
    "## E3 - Formulate hypotheses\n",
    "\n",
    "*Note: Read this section entirely and understand it - every group member.*\n",
    "\n",
    "A hypothesis is an idea or explanation for something that is based on known facts but has not yet been proved. A hypothesis is a compact, concise statement, such as: \"Individuals with higher income have (on average) more offspring.\", that will be answered based on facts (the data). https://gradcoach.com/what-is-a-research-hypothesis-or-scientific-hypothesis/\n",
    "\n",
    "Formulate 5 non-trivial hypotheses, 1 per group member, and regard the following criteria: \n",
    "- State the hypothesis explicitly in concise language. \n",
    "- The hypothesis must be **motivated** by either **EDA results** or **literature** (citation in the report needed).\n",
    "- The hypothesis must refer to **endpoints** that are **testable**. Specifically, the endpoint must be derived from the data.\n",
    "- Think of real-life use cases/consequences of your results (textual description). \n",
    "- For each hypothesis explain all executed steps. \n",
    "- In case of extreme or implausible results check the validity of your data.\n",
    "- For each hypothesis export the artifacts (figures, tables, etc.) required for the report.\n",
    "- If you decide to use a statistical test, use it properly. In particular, check the validity and comparability of the samples.\n",
    "\n",
    "Do not:\n",
    "- State nebulous, vague hypotheses. These don't contain endpoints and are unclear to test (i.e., answer).\n",
    "- Use post-hoc hypotheses. Portraying an empirically inspired **post hoc hypothesis as a priori** violates the **falsification principle** crucial for hypothesis-driven (that is, confirmatory) empirical research. Falsification is severe scientific fraud.\n",
    "- State trivial hypotheses (e.g., hypthesis 2: \"Not Hypothesis 1\").\n",
    "- Answer based on \"common knowledge\".\n",
    "- Try to **produce positively tested hypotheses**. If a well motivated hypothesis is negative, this is an important finding (see Simpson's Paradox). The value of a tested hypothesis lies in the information or learning it provides.\n",
    "\n",
    "Example: The homework with Simpson's Paradox. The pooled overall comparison between the genders would be the EDA motivating the hypothesis: \"At UC Berkeley the by-department admissions rate for females is lower than for males.\" It should be tested using samples of department admission rates for the 2 **groups** male and female. No steps of the test should be done in EDA (or a priory to stating the hypothesis). The groups should be compared graphically, e.g., via a stripplot overlayed with a boxplot. The figure should be labelled properly and exported for the report. A (paired) t-test *may* be used to test this hypothesis statistically. For different data (e.g., time series) different approaches may be required.\n"
   ]
  },
  {
   "cell_type": "markdown",
   "id": "7fa4793a-b35d-44d2-8ef3-3de35ed306b8",
   "metadata": {
    "tags": []
   },
   "source": [
    "### E3-H1: \"The ratio between the number of dogs and number of residents is higher in the districts situated at the borders of Vienna.\"\n",
    "Author: Barbara Ellmenreich\n"
   ]
  },
  {
   "cell_type": "markdown",
   "id": "8d738602-0f9b-4aa3-bc29-bdb4feb3091f",
   "metadata": {
    "tags": []
   },
   "source": [
    "To examine the hypothesis we need the following informations:\n",
    "- Number of residents per district to calculate the ratio \n",
    "- The geometric data for Vienna for the visual analysis\n",
    "\n",
    "The first information we gather from data.gv.at from the file vie-bez-biz-pop-den-2002f.csv. \n",
    "\n",
    "The second information from the file BEZIRKSGRENZEOGD.json."
   ]
  },
  {
   "cell_type": "code",
   "execution_count": 62,
   "id": "d81502e4-dcb3-4048-875a-5e1e9a08d9d1",
   "metadata": {
    "tags": []
   },
   "outputs": [
    {
     "ename": "FileNotFoundError",
     "evalue": "[Errno 2] No such file or directory: 'districts_cleaned_2023.csv'",
     "output_type": "error",
     "traceback": [
      "\u001b[0;31m---------------------------------------------------------------------------\u001b[0m",
      "\u001b[0;31mFileNotFoundError\u001b[0m                         Traceback (most recent call last)",
      "Cell \u001b[0;32mIn[62], line 2\u001b[0m\n\u001b[1;32m      1\u001b[0m \u001b[38;5;66;03m#loading and cleaning the data for the number of residents per district.\u001b[39;00m\n\u001b[0;32m----> 2\u001b[0m pop_vie\u001b[38;5;241m=\u001b[39m \u001b[43mpd\u001b[49m\u001b[38;5;241;43m.\u001b[39;49m\u001b[43mread_csv\u001b[49m\u001b[43m(\u001b[49m\u001b[38;5;124;43m'\u001b[39;49m\u001b[38;5;124;43mdistricts_cleaned_2023.csv\u001b[39;49m\u001b[38;5;124;43m'\u001b[39;49m\u001b[43m)\u001b[49m[[\u001b[38;5;124m'\u001b[39m\u001b[38;5;124mpop_value\u001b[39m\u001b[38;5;124m'\u001b[39m]]\n\u001b[1;32m      3\u001b[0m pop_vie\n\u001b[1;32m      4\u001b[0m pop_vie\u001b[38;5;241m.\u001b[39mhead()\n",
      "File \u001b[0;32m~/anaconda3/envs/project_de/lib/python3.10/site-packages/pandas/io/parsers/readers.py:948\u001b[0m, in \u001b[0;36mread_csv\u001b[0;34m(filepath_or_buffer, sep, delimiter, header, names, index_col, usecols, dtype, engine, converters, true_values, false_values, skipinitialspace, skiprows, skipfooter, nrows, na_values, keep_default_na, na_filter, verbose, skip_blank_lines, parse_dates, infer_datetime_format, keep_date_col, date_parser, date_format, dayfirst, cache_dates, iterator, chunksize, compression, thousands, decimal, lineterminator, quotechar, quoting, doublequote, escapechar, comment, encoding, encoding_errors, dialect, on_bad_lines, delim_whitespace, low_memory, memory_map, float_precision, storage_options, dtype_backend)\u001b[0m\n\u001b[1;32m    935\u001b[0m kwds_defaults \u001b[38;5;241m=\u001b[39m _refine_defaults_read(\n\u001b[1;32m    936\u001b[0m     dialect,\n\u001b[1;32m    937\u001b[0m     delimiter,\n\u001b[0;32m   (...)\u001b[0m\n\u001b[1;32m    944\u001b[0m     dtype_backend\u001b[38;5;241m=\u001b[39mdtype_backend,\n\u001b[1;32m    945\u001b[0m )\n\u001b[1;32m    946\u001b[0m kwds\u001b[38;5;241m.\u001b[39mupdate(kwds_defaults)\n\u001b[0;32m--> 948\u001b[0m \u001b[38;5;28;01mreturn\u001b[39;00m \u001b[43m_read\u001b[49m\u001b[43m(\u001b[49m\u001b[43mfilepath_or_buffer\u001b[49m\u001b[43m,\u001b[49m\u001b[43m \u001b[49m\u001b[43mkwds\u001b[49m\u001b[43m)\u001b[49m\n",
      "File \u001b[0;32m~/anaconda3/envs/project_de/lib/python3.10/site-packages/pandas/io/parsers/readers.py:611\u001b[0m, in \u001b[0;36m_read\u001b[0;34m(filepath_or_buffer, kwds)\u001b[0m\n\u001b[1;32m    608\u001b[0m _validate_names(kwds\u001b[38;5;241m.\u001b[39mget(\u001b[38;5;124m\"\u001b[39m\u001b[38;5;124mnames\u001b[39m\u001b[38;5;124m\"\u001b[39m, \u001b[38;5;28;01mNone\u001b[39;00m))\n\u001b[1;32m    610\u001b[0m \u001b[38;5;66;03m# Create the parser.\u001b[39;00m\n\u001b[0;32m--> 611\u001b[0m parser \u001b[38;5;241m=\u001b[39m \u001b[43mTextFileReader\u001b[49m\u001b[43m(\u001b[49m\u001b[43mfilepath_or_buffer\u001b[49m\u001b[43m,\u001b[49m\u001b[43m \u001b[49m\u001b[38;5;241;43m*\u001b[39;49m\u001b[38;5;241;43m*\u001b[39;49m\u001b[43mkwds\u001b[49m\u001b[43m)\u001b[49m\n\u001b[1;32m    613\u001b[0m \u001b[38;5;28;01mif\u001b[39;00m chunksize \u001b[38;5;129;01mor\u001b[39;00m iterator:\n\u001b[1;32m    614\u001b[0m     \u001b[38;5;28;01mreturn\u001b[39;00m parser\n",
      "File \u001b[0;32m~/anaconda3/envs/project_de/lib/python3.10/site-packages/pandas/io/parsers/readers.py:1448\u001b[0m, in \u001b[0;36mTextFileReader.__init__\u001b[0;34m(self, f, engine, **kwds)\u001b[0m\n\u001b[1;32m   1445\u001b[0m     \u001b[38;5;28mself\u001b[39m\u001b[38;5;241m.\u001b[39moptions[\u001b[38;5;124m\"\u001b[39m\u001b[38;5;124mhas_index_names\u001b[39m\u001b[38;5;124m\"\u001b[39m] \u001b[38;5;241m=\u001b[39m kwds[\u001b[38;5;124m\"\u001b[39m\u001b[38;5;124mhas_index_names\u001b[39m\u001b[38;5;124m\"\u001b[39m]\n\u001b[1;32m   1447\u001b[0m \u001b[38;5;28mself\u001b[39m\u001b[38;5;241m.\u001b[39mhandles: IOHandles \u001b[38;5;241m|\u001b[39m \u001b[38;5;28;01mNone\u001b[39;00m \u001b[38;5;241m=\u001b[39m \u001b[38;5;28;01mNone\u001b[39;00m\n\u001b[0;32m-> 1448\u001b[0m \u001b[38;5;28mself\u001b[39m\u001b[38;5;241m.\u001b[39m_engine \u001b[38;5;241m=\u001b[39m \u001b[38;5;28;43mself\u001b[39;49m\u001b[38;5;241;43m.\u001b[39;49m\u001b[43m_make_engine\u001b[49m\u001b[43m(\u001b[49m\u001b[43mf\u001b[49m\u001b[43m,\u001b[49m\u001b[43m \u001b[49m\u001b[38;5;28;43mself\u001b[39;49m\u001b[38;5;241;43m.\u001b[39;49m\u001b[43mengine\u001b[49m\u001b[43m)\u001b[49m\n",
      "File \u001b[0;32m~/anaconda3/envs/project_de/lib/python3.10/site-packages/pandas/io/parsers/readers.py:1705\u001b[0m, in \u001b[0;36mTextFileReader._make_engine\u001b[0;34m(self, f, engine)\u001b[0m\n\u001b[1;32m   1703\u001b[0m     \u001b[38;5;28;01mif\u001b[39;00m \u001b[38;5;124m\"\u001b[39m\u001b[38;5;124mb\u001b[39m\u001b[38;5;124m\"\u001b[39m \u001b[38;5;129;01mnot\u001b[39;00m \u001b[38;5;129;01min\u001b[39;00m mode:\n\u001b[1;32m   1704\u001b[0m         mode \u001b[38;5;241m+\u001b[39m\u001b[38;5;241m=\u001b[39m \u001b[38;5;124m\"\u001b[39m\u001b[38;5;124mb\u001b[39m\u001b[38;5;124m\"\u001b[39m\n\u001b[0;32m-> 1705\u001b[0m \u001b[38;5;28mself\u001b[39m\u001b[38;5;241m.\u001b[39mhandles \u001b[38;5;241m=\u001b[39m \u001b[43mget_handle\u001b[49m\u001b[43m(\u001b[49m\n\u001b[1;32m   1706\u001b[0m \u001b[43m    \u001b[49m\u001b[43mf\u001b[49m\u001b[43m,\u001b[49m\n\u001b[1;32m   1707\u001b[0m \u001b[43m    \u001b[49m\u001b[43mmode\u001b[49m\u001b[43m,\u001b[49m\n\u001b[1;32m   1708\u001b[0m \u001b[43m    \u001b[49m\u001b[43mencoding\u001b[49m\u001b[38;5;241;43m=\u001b[39;49m\u001b[38;5;28;43mself\u001b[39;49m\u001b[38;5;241;43m.\u001b[39;49m\u001b[43moptions\u001b[49m\u001b[38;5;241;43m.\u001b[39;49m\u001b[43mget\u001b[49m\u001b[43m(\u001b[49m\u001b[38;5;124;43m\"\u001b[39;49m\u001b[38;5;124;43mencoding\u001b[39;49m\u001b[38;5;124;43m\"\u001b[39;49m\u001b[43m,\u001b[49m\u001b[43m \u001b[49m\u001b[38;5;28;43;01mNone\u001b[39;49;00m\u001b[43m)\u001b[49m\u001b[43m,\u001b[49m\n\u001b[1;32m   1709\u001b[0m \u001b[43m    \u001b[49m\u001b[43mcompression\u001b[49m\u001b[38;5;241;43m=\u001b[39;49m\u001b[38;5;28;43mself\u001b[39;49m\u001b[38;5;241;43m.\u001b[39;49m\u001b[43moptions\u001b[49m\u001b[38;5;241;43m.\u001b[39;49m\u001b[43mget\u001b[49m\u001b[43m(\u001b[49m\u001b[38;5;124;43m\"\u001b[39;49m\u001b[38;5;124;43mcompression\u001b[39;49m\u001b[38;5;124;43m\"\u001b[39;49m\u001b[43m,\u001b[49m\u001b[43m \u001b[49m\u001b[38;5;28;43;01mNone\u001b[39;49;00m\u001b[43m)\u001b[49m\u001b[43m,\u001b[49m\n\u001b[1;32m   1710\u001b[0m \u001b[43m    \u001b[49m\u001b[43mmemory_map\u001b[49m\u001b[38;5;241;43m=\u001b[39;49m\u001b[38;5;28;43mself\u001b[39;49m\u001b[38;5;241;43m.\u001b[39;49m\u001b[43moptions\u001b[49m\u001b[38;5;241;43m.\u001b[39;49m\u001b[43mget\u001b[49m\u001b[43m(\u001b[49m\u001b[38;5;124;43m\"\u001b[39;49m\u001b[38;5;124;43mmemory_map\u001b[39;49m\u001b[38;5;124;43m\"\u001b[39;49m\u001b[43m,\u001b[49m\u001b[43m \u001b[49m\u001b[38;5;28;43;01mFalse\u001b[39;49;00m\u001b[43m)\u001b[49m\u001b[43m,\u001b[49m\n\u001b[1;32m   1711\u001b[0m \u001b[43m    \u001b[49m\u001b[43mis_text\u001b[49m\u001b[38;5;241;43m=\u001b[39;49m\u001b[43mis_text\u001b[49m\u001b[43m,\u001b[49m\n\u001b[1;32m   1712\u001b[0m \u001b[43m    \u001b[49m\u001b[43merrors\u001b[49m\u001b[38;5;241;43m=\u001b[39;49m\u001b[38;5;28;43mself\u001b[39;49m\u001b[38;5;241;43m.\u001b[39;49m\u001b[43moptions\u001b[49m\u001b[38;5;241;43m.\u001b[39;49m\u001b[43mget\u001b[49m\u001b[43m(\u001b[49m\u001b[38;5;124;43m\"\u001b[39;49m\u001b[38;5;124;43mencoding_errors\u001b[39;49m\u001b[38;5;124;43m\"\u001b[39;49m\u001b[43m,\u001b[49m\u001b[43m \u001b[49m\u001b[38;5;124;43m\"\u001b[39;49m\u001b[38;5;124;43mstrict\u001b[39;49m\u001b[38;5;124;43m\"\u001b[39;49m\u001b[43m)\u001b[49m\u001b[43m,\u001b[49m\n\u001b[1;32m   1713\u001b[0m \u001b[43m    \u001b[49m\u001b[43mstorage_options\u001b[49m\u001b[38;5;241;43m=\u001b[39;49m\u001b[38;5;28;43mself\u001b[39;49m\u001b[38;5;241;43m.\u001b[39;49m\u001b[43moptions\u001b[49m\u001b[38;5;241;43m.\u001b[39;49m\u001b[43mget\u001b[49m\u001b[43m(\u001b[49m\u001b[38;5;124;43m\"\u001b[39;49m\u001b[38;5;124;43mstorage_options\u001b[39;49m\u001b[38;5;124;43m\"\u001b[39;49m\u001b[43m,\u001b[49m\u001b[43m \u001b[49m\u001b[38;5;28;43;01mNone\u001b[39;49;00m\u001b[43m)\u001b[49m\u001b[43m,\u001b[49m\n\u001b[1;32m   1714\u001b[0m \u001b[43m\u001b[49m\u001b[43m)\u001b[49m\n\u001b[1;32m   1715\u001b[0m \u001b[38;5;28;01massert\u001b[39;00m \u001b[38;5;28mself\u001b[39m\u001b[38;5;241m.\u001b[39mhandles \u001b[38;5;129;01mis\u001b[39;00m \u001b[38;5;129;01mnot\u001b[39;00m \u001b[38;5;28;01mNone\u001b[39;00m\n\u001b[1;32m   1716\u001b[0m f \u001b[38;5;241m=\u001b[39m \u001b[38;5;28mself\u001b[39m\u001b[38;5;241m.\u001b[39mhandles\u001b[38;5;241m.\u001b[39mhandle\n",
      "File \u001b[0;32m~/anaconda3/envs/project_de/lib/python3.10/site-packages/pandas/io/common.py:863\u001b[0m, in \u001b[0;36mget_handle\u001b[0;34m(path_or_buf, mode, encoding, compression, memory_map, is_text, errors, storage_options)\u001b[0m\n\u001b[1;32m    858\u001b[0m \u001b[38;5;28;01melif\u001b[39;00m \u001b[38;5;28misinstance\u001b[39m(handle, \u001b[38;5;28mstr\u001b[39m):\n\u001b[1;32m    859\u001b[0m     \u001b[38;5;66;03m# Check whether the filename is to be opened in binary mode.\u001b[39;00m\n\u001b[1;32m    860\u001b[0m     \u001b[38;5;66;03m# Binary mode does not support 'encoding' and 'newline'.\u001b[39;00m\n\u001b[1;32m    861\u001b[0m     \u001b[38;5;28;01mif\u001b[39;00m ioargs\u001b[38;5;241m.\u001b[39mencoding \u001b[38;5;129;01mand\u001b[39;00m \u001b[38;5;124m\"\u001b[39m\u001b[38;5;124mb\u001b[39m\u001b[38;5;124m\"\u001b[39m \u001b[38;5;129;01mnot\u001b[39;00m \u001b[38;5;129;01min\u001b[39;00m ioargs\u001b[38;5;241m.\u001b[39mmode:\n\u001b[1;32m    862\u001b[0m         \u001b[38;5;66;03m# Encoding\u001b[39;00m\n\u001b[0;32m--> 863\u001b[0m         handle \u001b[38;5;241m=\u001b[39m \u001b[38;5;28;43mopen\u001b[39;49m\u001b[43m(\u001b[49m\n\u001b[1;32m    864\u001b[0m \u001b[43m            \u001b[49m\u001b[43mhandle\u001b[49m\u001b[43m,\u001b[49m\n\u001b[1;32m    865\u001b[0m \u001b[43m            \u001b[49m\u001b[43mioargs\u001b[49m\u001b[38;5;241;43m.\u001b[39;49m\u001b[43mmode\u001b[49m\u001b[43m,\u001b[49m\n\u001b[1;32m    866\u001b[0m \u001b[43m            \u001b[49m\u001b[43mencoding\u001b[49m\u001b[38;5;241;43m=\u001b[39;49m\u001b[43mioargs\u001b[49m\u001b[38;5;241;43m.\u001b[39;49m\u001b[43mencoding\u001b[49m\u001b[43m,\u001b[49m\n\u001b[1;32m    867\u001b[0m \u001b[43m            \u001b[49m\u001b[43merrors\u001b[49m\u001b[38;5;241;43m=\u001b[39;49m\u001b[43merrors\u001b[49m\u001b[43m,\u001b[49m\n\u001b[1;32m    868\u001b[0m \u001b[43m            \u001b[49m\u001b[43mnewline\u001b[49m\u001b[38;5;241;43m=\u001b[39;49m\u001b[38;5;124;43m\"\u001b[39;49m\u001b[38;5;124;43m\"\u001b[39;49m\u001b[43m,\u001b[49m\n\u001b[1;32m    869\u001b[0m \u001b[43m        \u001b[49m\u001b[43m)\u001b[49m\n\u001b[1;32m    870\u001b[0m     \u001b[38;5;28;01melse\u001b[39;00m:\n\u001b[1;32m    871\u001b[0m         \u001b[38;5;66;03m# Binary mode\u001b[39;00m\n\u001b[1;32m    872\u001b[0m         handle \u001b[38;5;241m=\u001b[39m \u001b[38;5;28mopen\u001b[39m(handle, ioargs\u001b[38;5;241m.\u001b[39mmode)\n",
      "\u001b[0;31mFileNotFoundError\u001b[0m: [Errno 2] No such file or directory: 'districts_cleaned_2023.csv'"
     ]
    }
   ],
   "source": [
    "#loading and cleaning the data for the number of residents per district.\n",
    "pop_vie= pd.read_csv('districts_cleaned_2023.csv')[['pop_value']]\n",
    "pop_vie\n",
    "pop_vie.head()"
   ]
  },
  {
   "cell_type": "markdown",
   "id": "984ad830-c7f3-4f52-80f3-eaa180e4771e",
   "metadata": {
    "tags": []
   },
   "source": [
    "district_code 9000 clearly represents all of Vienna, so we can drop that row."
   ]
  },
  {
   "cell_type": "code",
   "execution_count": null,
   "id": "caa94207-c344-4ac9-95f6-b3b347a35a4d",
   "metadata": {
    "tags": []
   },
   "outputs": [],
   "source": [
    "pop_vie=pop_vie.drop(index=0, axis=0).reset_index(drop=True)\n",
    "\n",
    "pop_vie.head()"
   ]
  },
  {
   "cell_type": "code",
   "execution_count": null,
   "id": "4e4f4cb8-01c7-44f2-aa63-4f0c69bf041c",
   "metadata": {
    "tags": []
   },
   "outputs": [],
   "source": [
    "df_dpd=pd.DataFrame(dogs_per_district).reset_index() #Reading the Data where we already aggregated the number of dogs per district\n",
    "df_dpd=df_dpd.drop(columns=['index'], axis=1)"
   ]
  },
  {
   "cell_type": "code",
   "execution_count": null,
   "id": "3fd7ef65-7855-4977-8a1c-bdbd85a357ba",
   "metadata": {
    "tags": []
   },
   "outputs": [],
   "source": [
    "df_hyp1=pd.concat((df_dpd,pop_vie,vd),axis=1 ) #joining the three Dataframes for our hypotheses, they can be joined by the index, as they are all sorted by the district codes."
   ]
  },
  {
   "cell_type": "code",
   "execution_count": null,
   "id": "ef21491a-e207-4b45-9e06-337c153bc45e",
   "metadata": {
    "tags": []
   },
   "outputs": [],
   "source": [
    "df_hyp1['ratio']=df_hyp1['number_of_dogs']/df_hyp1['pop_value'] # Creating a new column for the ratio dogs to population\n",
    "df_hyp1=gpd.GeoDataFrame(df_hyp1).reset_index(drop=True) # Turning the joined Dataframe into a Geo Dataframe, to be able to plot a map of vienna.\n",
    "df_hyp1.head()"
   ]
  },
  {
   "cell_type": "code",
   "execution_count": null,
   "id": "3b7f98e8-07ed-4f4f-94f5-f91f5c8486a0",
   "metadata": {
    "tags": []
   },
   "outputs": [],
   "source": [
    "min_ratio=df_hyp1['ratio'].min()\n",
    "max_ratio=df_hyp1['ratio'].max()\n",
    "ratio_mean=df_hyp1['number_of_dogs'].sum()/df_hyp1['pop_value'].sum()\n",
    "print(f'The smallest ratio found is: {min_ratio} \\nThe biggest ratio found is: {max_ratio}\\nThe average ratio is: {ratio_mean}')"
   ]
  },
  {
   "cell_type": "code",
   "execution_count": null,
   "id": "23e2c039-1492-4990-9b8d-56f403855e63",
   "metadata": {
    "tags": []
   },
   "outputs": [],
   "source": []
  },
  {
   "cell_type": "code",
   "execution_count": null,
   "id": "957cee8a-6c20-4a81-8b4b-7dbce52ce0e3",
   "metadata": {
    "tags": []
   },
   "outputs": [],
   "source": [
    "district_mapping = {90100: 1, 90200: 2, 90300: 3, 90400: 4, 90500: 5, 90600: 6, 90700: 7, 90800: 8,90900: 9, 91000: 10,91100: 11,91200: 12,91300: 13,91400: 14,91500: 15,91600: 16,91700: 17, 91800: 18,91900: 19,92000: 20, 92100: 21, 92200: 22, 92300: 23}\n",
    "df_hyp1['district_code']=df_hyp1['district_code'].map(district_mapping) #rewriting the district code to a more readable format\n",
    "df_hyp1['boundary_districts']=df_hyp1.apply(boundary,axis=1) #\n",
    "df_hyp1.head()"
   ]
  },
  {
   "cell_type": "code",
   "execution_count": null,
   "id": "8746a0d3-d088-42cb-a19e-a9b21f19ba51",
   "metadata": {
    "tags": []
   },
   "outputs": [],
   "source": [
    "#Visualisation of the data to analyse the hypothesis.\n",
    "\n",
    "fig, ax = plt.subplots(figsize=(10, 10))\n",
    "df_hyp1.plot(column='ratio', cmap='YlOrRd',ax=ax, legend=True, \n",
    "             norm=matplotlib.colors.TwoSlopeNorm(vmin=df_hyp1.ratio.min(), vcenter=df_hyp1.ratio.mean(),vmax=df_hyp1.ratio.max()),figsize=(6,6), edgecolor='brown', legend_kwds={\"orientation\": \"vertical\",\"shrink\":0.5,\"label\":\"Ratio Dogs to residents\"})\n",
    "df_hyp1.apply(lambda x: ax.annotate(text=x['district_code'], xy=x.geometry.centroid.coords[0], ha='center',size=8, weight='bold'), axis=1)\n",
    "ax.axis('off')\n",
    "ax.set_title('Map of the districts of Vienna')\n",
    "plt.savefig('Hyp1_Fig1.png',format='png');"
   ]
  },
  {
   "cell_type": "markdown",
   "id": "5625614f-70e7-4f96-9c47-7b2f4279a297",
   "metadata": {},
   "source": [
    "The ratio describes the number of dogs per resident. For example: A ratio of 0.02 represents 0.02 dogs per resident in the represented area.\n",
    "\n",
    "As the darker Red Colors indicate a higher Ratio of dogs per resident, it is at first glance already clear, that the districts at the borders of Vienna tend to have a darker color than the other districts.\n",
    "\n",
    "Especially 1220, 1210, 1190, 1130 and 1230 have the darker colors and therefore the highest ratios.\n",
    "\n",
    "It is surprising to see, that the first district (1010), apperently has quite a high ratio considering that it is in the middle of Vienna, while the 5th District hast the lowest by far, seeing as the color is almost white."
   ]
  },
  {
   "cell_type": "code",
   "execution_count": null,
   "id": "b4ef3d98-328c-4a0b-b4e6-bddff890ea3b",
   "metadata": {
    "tags": []
   },
   "outputs": [],
   "source": [
    "#Another visualisation of the ratio per district\n",
    "fig,ax=plt.subplots(ncols=2,figsize=(20,2))\n",
    "df_hyp1.plot(kind='bar',x='postal_code', y='ratio',legend=False, ax=ax[0])\n",
    "ax[0].hlines(ratio_mean, -1, len(df_hyp1['postal_code']), color='r', linestyles='dashed')\n",
    "ax[0].text(25,ratio_mean, 'Total Ratio ', ha='right', va='center', color='r')\n",
    "ax[0].set_ylim(0,.06)\n",
    "ax[0].set_xlabel('Districts')\n",
    "ax[0].set_ylabel('Dog/residents Ratio')\n",
    "ax[0].set_title('Ratio of Dogs per resident for each district')\n",
    "\n",
    "sns.boxplot(x=df_hyp1['ratio'], color='purple',ax=ax[1])\n",
    "ax[1].set_xlabel('Dog/residents Ratio')\n",
    "ax[1].yaxis.set_ticks([])\n",
    "ax[1].set_title('Ratio-distribution')\n",
    "plt.savefig('Hyp1_Fig2.png',format='png');"
   ]
  },
  {
   "cell_type": "markdown",
   "id": "8812a1fd-f533-4729-95a2-1a3ae3e953ed",
   "metadata": {},
   "source": [
    "\n",
    "\n",
    "In the left plot, you can see the average ratio per district, indicated by the bars, and  over all of Vienna, indicated by the dashed red line. In the right plot you can see the distribution of the ratio.\n",
    "\n",
    "As visible in the two visualizations there are no extreme outliers in the ratio within the districts.\n",
    "\n",
    "But most of the districts are concetrated in the lower half of the ratio-intervall, as seen in the boxplot. The purple box consists auf the middle 50% of the values, while the line indicates the Median and the right border of the box is the 75-percentile.\n",
    "\n",
    "So while there is a distinction between the districts, it is not an extrem distinction.\n"
   ]
  },
  {
   "cell_type": "code",
   "execution_count": null,
   "id": "ece63253-2ef2-4b2c-992f-7dca623f7582",
   "metadata": {
    "tags": []
   },
   "outputs": [],
   "source": [
    "fig, ax = plt.subplots(figsize=(12, 4))\n",
    "ax=sns.boxplot(x=df_hyp1['ratio'], y=df_hyp1['boundary_districts'].replace({'0':'non-boundary districts','1':'boundary districts'}), hue=df_hyp1['boundary_districts'].replace({'0':'non-boundary districts','1':'boundary districts'}), palette='YlOrRd')\n",
    "ax.set_xlabel('Dog/residents Ratio')\n",
    "ax.set_ylabel('')\n",
    "ax.set_title('Ratio-distribution for boundary and non-boundary districts')\n",
    "plt.savefig('Hyp1_Fig3.png',format='png');"
   ]
  },
  {
   "cell_type": "markdown",
   "id": "46973273-e582-4e2b-a89c-f041e166684b",
   "metadata": {},
   "source": [
    "In this plot one can again see the clear distinction between boundary and non-boundary districts. The boundary district clearly have a higher ration in average, than the non-boundary districts.\n",
    "\n",
    "They also apparently have a higher distribution as seen by the length of the  individual boxplots."
   ]
  },
  {
   "cell_type": "markdown",
   "id": "aa4a8ab5-fb63-41fd-a62f-f3da528b5856",
   "metadata": {},
   "source": [
    "#### Fazit"
   ]
  },
  {
   "cell_type": "markdown",
   "id": "3dcf85b6-40f5-4cfa-8d4f-265975be093b",
   "metadata": {},
   "source": [
    "The boundary districts clearly tend to have a higher ratio of dogs per resident. Though they do not differ very highly. The range is between 0.017 to 0.044 dogs per resident.\n",
    "\n",
    "The boundary districts range between a ratio of around 0.024 and 0.44, while the non-boundary districts range between a ratio of 0.017 and 0.031.\n",
    "\n",
    "All in all our initial hypothesis is proven true."
   ]
  },
  {
   "cell_type": "markdown",
   "id": "3f7b1bb7-c78f-4ea4-8895-cf368d60cb76",
   "metadata": {},
   "source": [
    "#### Real Life Use Cases and Consequences"
   ]
  },
  {
   "cell_type": "markdown",
   "id": "dc9eaeb9-a5af-4dec-be83-755bd0e6f46d",
   "metadata": {},
   "source": [
    "According to an the article [\"Hundesheriffs im Anmarsch: Im Februar startet das \"Wiener Hunde-Team\"\"](https://kurier.at/chronik/wien/hundesheriffs-im-anmarsch-im-februar-startet-das-wiener-hunde-team/402699622) in **Kurier**, starting with February, the city of Vienna will send teams of employees from the MA 60 (The Magistrate department for the veterinary office and animal wellfare), to check if all rules and mandates are followed and if there are any issues with dogs in the area.\n",
    "\n",
    "With the results of the hypothesis one could suggest to have more or bigger teams in the boundary districts, aswell as maybe more offices."
   ]
  },
  {
   "cell_type": "markdown",
   "id": "2612f681-f875-4257-95e0-8105062f5525",
   "metadata": {
    "tags": []
   },
   "source": [
    "### E3-H2: \"In outer districts the proportion of mixed-breed dogs is higher compared to purebred dogs.\"\n",
    "Author: Kathrin Schumich\n",
    "\n"
   ]
  },
  {
   "cell_type": "markdown",
   "id": "ec6134e4-ee16-46e1-92cf-e6780bae06dd",
   "metadata": {},
   "source": [
    "#### Grouped by inner/outer districts"
   ]
  },
  {
   "cell_type": "code",
   "execution_count": null,
   "id": "dd98f3ae-ed5e-42b0-b276-3af667ba8aa8",
   "metadata": {},
   "outputs": [],
   "source": [
    "# Create a contingency table\n",
    "contingency_table = pd.crosstab(\n",
    "    index=df['inner_district'].replace({0: 'outer district', 1: 'inner district'}),\n",
    "    columns=df['mixed_breed'].replace({0: 'purebred', 1: 'mixed'}),\n",
    "    values=df['number_of_dogs'],  \n",
    "    aggfunc='sum',  \n",
    "    margins=True,\n",
    "    margins_name='Total'\n",
    ").rename_axis(index=None, columns=None)\n",
    "\n",
    "contingency_table"
   ]
  },
  {
   "cell_type": "code",
   "execution_count": null,
   "id": "0360801a-46dc-4095-9374-1b1bf0b0b4f3",
   "metadata": {
    "tags": []
   },
   "outputs": [],
   "source": [
    "# Create a contingency table with normalized values\n",
    "contingency_table2 = pd.crosstab(\n",
    "    index=df['inner_district'].replace({0: 'outer district', 1: 'inner district'}),\n",
    "    columns=df['mixed_breed'].replace({0: 'purebred', 1: 'mixed'}),\n",
    "    values=df['number_of_dogs'], \n",
    "    aggfunc='sum',  \n",
    "    normalize='index'\n",
    ").round(2)\n",
    "\n",
    "# Plot a heatmap\n",
    "plt.figure(figsize=(8, 6))\n",
    "sns.heatmap(contingency_table2, annot=True, cmap='Greens', cbar=True, fmt=\".2f\", vmin=0.2, vmax=0.7)\n",
    "plt.title('Normalized Cross-Tabulation')\n",
    "plt.xlabel('')\n",
    "plt.ylabel('')\n",
    "plt.savefig('Hyp2_Fig1.png',format='png');"
   ]
  },
  {
   "cell_type": "markdown",
   "id": "3df23800-0f08-4683-a720-1d3decc1c354",
   "metadata": {},
   "source": [
    "#### Grouped by district"
   ]
  },
  {
   "cell_type": "code",
   "execution_count": null,
   "id": "021eb76d-5521-4972-a8bd-08c96d7fab87",
   "metadata": {},
   "outputs": [],
   "source": [
    "# Create a contingency table\n",
    "contingency_table3 = pd.crosstab(\n",
    "    index=df['postal_code'],\n",
    "    columns=df['mixed_breed'].replace({0: 'purebred', 1: 'mixed'}),\n",
    "    values=df['number_of_dogs'],  # Berücksichtige die Anzahl der Hunde\n",
    "    aggfunc='sum',  # Summiere die Anzahl der Hunde pro Kategorie\n",
    "    margins=True,\n",
    "    margins_name='Total'\n",
    ").rename_axis(index=None, columns=None)\n",
    "\n",
    "contingency_table3.head()"
   ]
  },
  {
   "cell_type": "code",
   "execution_count": null,
   "id": "f4dd0820-1157-4efe-a4f7-9b3167d6b248",
   "metadata": {},
   "outputs": [],
   "source": [
    "# Create a contingency table with normalized values\n",
    "contingency_table4 = pd.crosstab(\n",
    "    index=df['postal_code'],\n",
    "    columns=df['mixed_breed'].replace({0: 'purebred', 1: 'mixed'}),\n",
    "    values=df['number_of_dogs'],  # Berücksichtige die Anzahl der Hunde\n",
    "    aggfunc='sum',  # Summiere die Anzahl der Hunde pro Kategorie\n",
    "    normalize='index'\n",
    ").round(2)\n",
    "\n",
    "# Plot a heatmap\n",
    "plt.figure(figsize=(8, 6))\n",
    "sns.heatmap(contingency_table4, annot=True, cmap='Greens', cbar=True, fmt=\".2f\")\n",
    "plt.title('Normalized Cross-Tabulation')\n",
    "plt.xlabel('')\n",
    "plt.ylabel('')\n",
    "plt.savefig('Hyp2_Fig2.png',format='png');"
   ]
  },
  {
   "cell_type": "markdown",
   "id": "91ec77ce-029a-45e8-b691-d0865768a9c5",
   "metadata": {},
   "source": [
    "#### Results"
   ]
  },
  {
   "cell_type": "markdown",
   "id": "cbb7a8ef-c110-406b-b702-b6930b2fa4c5",
   "metadata": {},
   "source": [
    "The result of the analysis indicates that there are not more mixed dogs (proportionally) in outer districts than purebred dogs. This can be seen in the first part, where we looked at the proportion, grouped only by inner/outer districts. Only 36% of the dogs in the outer districts are mixed, while  64% are purebred. The same conclusion is obtained in the second part, where we looked at the proportions for each district individually. In every district, which is classified as \"outer district\" (districts 10-23), the proportion for mixed dogs is significantly lower than the proportion for purebred dogs. "
   ]
  },
  {
   "cell_type": "markdown",
   "id": "58235735-5589-44e5-bfac-757581dab385",
   "metadata": {},
   "source": [
    "Furthermore, it can be observed that the highest proportion of purebred dogs (70%) is in the first district."
   ]
  },
  {
   "cell_type": "markdown",
   "id": "392b771c-6dd2-4b2d-89af-421e2ec6b47a",
   "metadata": {},
   "source": [
    "Finally, it can be concluded that the results do not support the hypothesis, and as such, it can be rejected."
   ]
  },
  {
   "cell_type": "markdown",
   "id": "08c48c7d-197a-43c2-bdfc-373addbfdeb7",
   "metadata": {},
   "source": [
    "#### Real life application"
   ]
  },
  {
   "cell_type": "markdown",
   "id": "0096d70b-f56a-4c6a-95dc-f2ac54679ed8",
   "metadata": {
    "tags": []
   },
   "source": [
    "The article [\"Owner perceived differences between mixed-breed and purebred dogs\"](https://www.ncbi.nlm.nih.gov/pmc/articles/PMC5319786/#:~:text=Several%20studies%20have%20detected%20behavioural,breeds%20than%20in%20purebred%20dogs) discusses differences in the behavior of mixed-breed and purebred dogs. It was found that mixed-breed dogs are generally considered to be healthier and may have longer lifespans, as purebred dogs are more susceptible to genetic diseases. Combining the results of this paper with the findings from hypothesis 2, one could suggest to expand the presence of veterinarians specializing in hereditary conditions - as purebreds are notably more susceptible to genetic diseases - to ensure early detection, tailored treatment, and improved overall well-being for these dogs. "
   ]
  },
  {
   "cell_type": "markdown",
   "id": "70e60944-b857-4a32-872a-6db028c51c87",
   "metadata": {
    "tags": []
   },
   "source": [
    "### E3-H3: \"Districts with a higher number of houesholds with children are more likely to have more dogs than those with fewer.\"\n",
    "Author: Jasia Alam\n"
   ]
  },
  {
   "cell_type": "markdown",
   "id": "904d04f1-a61b-4c65-b99a-dd3b0716c669",
   "metadata": {},
   "source": [
    "To examine the hypothesis we need the following informations:\n",
    "- Number of residents per district to calculate the ratio (min-max)\n",
    "- The geometric data for Vienna for the visual analysis \n",
    "- Number of households with a child for Vienna per district to make the comparison for the hypothesis. \n",
    "\n",
    "The first information we gather from data.gv.at from the file vie-bez-biz-pop-den-2002f.csv. \n",
    "The second information from the file BEZIRKSGRENZEOGD.json.\n",
    "The last information we gather from data.gv.at from the file vie-bez-fam-typ-2012f.csv."
   ]
  },
  {
   "cell_type": "markdown",
   "id": "417bdbdb-cf5f-4109-a9f8-40b96f8fab66",
   "metadata": {},
   "source": [
    "#### Grouped by households with children"
   ]
  },
  {
   "cell_type": "code",
   "execution_count": null,
   "id": "d8b8f11f-4c7f-44f4-acca-b7ab965acbd3",
   "metadata": {},
   "outputs": [],
   "source": [
    "df=pd.read_csv('dogs_cleaned_cc.csv')"
   ]
  },
  {
   "cell_type": "code",
   "execution_count": null,
   "id": "357aff48-1635-4f1a-b60f-2aa1b078be37",
   "metadata": {},
   "outputs": [],
   "source": [
    "df_h3_2 = pd.read_csv('vie-bez-biz-pop-den-2002f.csv', encoding='latin1', skiprows=1, delimiter=';')\n",
    "df_h3_2['REF_YEAR'] = pd.to_numeric(df_h3_2['REF_YEAR'], errors='coerce')\n",
    "\n",
    "df_2023 = df_h3_2[df_h3_2['REF_YEAR'] == 2023]\n",
    "\n",
    "pop_total_2023 = df_2023[['DISTRICT_CODE', 'POP_VALUE']].reset_index(drop=True)#extract 'POP_VALUE' for each district in the year 2023\n",
    "pop_total_2023.head()"
   ]
  },
  {
   "cell_type": "markdown",
   "id": "7199abcf-b1bf-427f-9695-be87981e7f96",
   "metadata": {},
   "source": [
    "#### Grouped by households with child and ratio added per residets (district-wise)"
   ]
  },
  {
   "cell_type": "code",
   "execution_count": null,
   "id": "8daeff7a-7673-4da6-a117-e50eff8158f0",
   "metadata": {},
   "outputs": [],
   "source": [
    "fam_pop_df = pd.merge(fam_total_2021, pop_total_2023, on='DISTRICT_CODE')\n",
    "\n",
    "# Convert 'POP_VALUE' to numeric (remove commas) and calculate the ratio\n",
    "fam_pop_df['POP_VALUE'] = pd.to_numeric(fam_pop_df['POP_VALUE'].str.replace('.', ''), errors='coerce')\n",
    "fam_pop_df['RATIO_FAM_POP'] = fam_pop_df['TOTAL']/fam_pop_df['POP_VALUE'] \n",
    "\n",
    "fam_pop_df = fam_pop_df[['DISTRICT_CODE', 'TOTAL', 'POP_VALUE', 'RATIO_FAM_POP']]\n",
    "fam_pop_df.head()"
   ]
  },
  {
   "cell_type": "markdown",
   "id": "1fa42c77-fc7b-4ba5-9737-c36423f5a520",
   "metadata": {},
   "source": [
    "#### Setting geometry for the map of vienna"
   ]
  },
  {
   "cell_type": "code",
   "execution_count": null,
   "id": "1bb28585-f4bb-40e7-8939-916c342c4962",
   "metadata": {},
   "outputs": [],
   "source": [
    "df_dpd=gpd.GeoDataFrame(dogs_per_district).reset_index(drop=True)#resetting the index and overgiving geodf in order to work with it later on\n",
    "df_dpd.head()"
   ]
  },
  {
   "cell_type": "code",
   "execution_count": null,
   "id": "2d403959-34d2-470a-a51b-c13521c71f29",
   "metadata": {},
   "outputs": [],
   "source": [
    "df_hyp3_child=pd.concat((fam_pop_df,vd),axis=1)\n",
    "df_hyp3_child = gpd.GeoDataFrame(df_hyp3_child)\n",
    "df_hyp3_child.head()"
   ]
  },
  {
   "cell_type": "markdown",
   "id": "ab9144e1-8a23-4b11-8296-e66c9902c8b9",
   "metadata": {},
   "source": [
    "#### Calculating min-max-ratio for children in households"
   ]
  },
  {
   "cell_type": "code",
   "execution_count": null,
   "id": "0380793b-5efb-43bf-82a8-79a5583ee1c1",
   "metadata": {},
   "outputs": [],
   "source": [
    "district_mapping = {90100: 1, 90200: 2, 90300: 3, 90400: 4, 90500: 5, 90600: 6, 90700: 7, 90800: 8,90900: 9, 91000: 10,91100: 11,91200: 12,91300: 13,91400: 14,91500: 15,91600: 16,91700: 17, 91800: 18,91900: 19,92000: 20, 92100: 21, 92200: 22, 92300: 23}\n",
    "\n",
    "df_hyp3_child['DISTRICT_CODE'] = df_hyp3_child['DISTRICT_CODE'].map(district_mapping)\n",
    "min_ratio=df_hyp3_child['RATIO_FAM_POP'].min()\n",
    "max_ratio=df_hyp3_child['RATIO_FAM_POP'].max()\n",
    "df_hyp3_child['Min_Maxed_Ratio_Child'] = (df_hyp3_child['RATIO_FAM_POP']-min_ratio)/(max_ratio-min_ratio)\n",
    "df_hyp3_child.head()\n"
   ]
  },
  {
   "cell_type": "code",
   "execution_count": null,
   "id": "b96bcecc-8dbd-4cb7-9cbc-ec4861d9099f",
   "metadata": {},
   "outputs": [],
   "source": [
    "df['district_code'] = df['district_code'].map(district_mapping)\n",
    "df.head()"
   ]
  },
  {
   "cell_type": "markdown",
   "id": "3a331d09-2779-4c2b-8ec0-ce941fb1e13d",
   "metadata": {},
   "source": [
    "#### Group by total number of dogs (district-wise)"
   ]
  },
  {
   "cell_type": "code",
   "execution_count": null,
   "id": "15f15784-bddf-4173-aa4f-9dce4e69f643",
   "metadata": {},
   "outputs": [],
   "source": [
    "sum_dogs_per_district = df.groupby('district_code')['number_of_dogs'].sum().reset_index()\n",
    "\n",
    "sum_dogs_per_district.columns = ['district_code', 'total_dogs']\n",
    "sum_dogs_per_district.head()"
   ]
  },
  {
   "cell_type": "code",
   "execution_count": null,
   "id": "0c5fdbdb-befc-426b-919b-d690b88ea5b5",
   "metadata": {},
   "outputs": [],
   "source": [
    "pop_value_2023 = df_2023[['DISTRICT_CODE', 'POP_VALUE']].reset_index(drop=True)\n",
    "\n",
    "pop_value_2023['DISTRICT_CODE'] = pop_value_2023['DISTRICT_CODE'].map(district_mapping)\n",
    "pop_value_2023['DISTRICT_CODE'] = pop_value_2023['DISTRICT_CODE'].replace({np.nan: -1, np.inf: -1, -np.inf: -1})\n",
    "pop_value_2023['DISTRICT_CODE'] = pop_value_2023['DISTRICT_CODE'].astype(int)\n",
    "pop_value_2023.head()\n"
   ]
  },
  {
   "cell_type": "code",
   "execution_count": null,
   "id": "55534e62-e707-4330-8cf9-992ae2e3c0b3",
   "metadata": {},
   "outputs": [],
   "source": [
    "dog_pop_df = pd.merge(sum_dogs_per_district, pop_value_2023, left_on='district_code', right_on='DISTRICT_CODE')\n",
    "\n",
    "# Convert 'POP_VALUE' to numeric (remove commas) and calculate the ratio\n",
    "dog_pop_df['POP_VALUE'] = pd.to_numeric(dog_pop_df['POP_VALUE'].str.replace('.', ''), errors='coerce')\n",
    "dog_pop_df['RATIO_DOG_POP'] = dog_pop_df['total_dogs'] / dog_pop_df['POP_VALUE']\n",
    "\n",
    "dog_pop_df = dog_pop_df[['district_code', 'total_dogs', 'POP_VALUE', 'RATIO_DOG_POP']]\n",
    "dog_pop_df.head()\n"
   ]
  },
  {
   "cell_type": "markdown",
   "id": "115a81c6-5238-4f65-b911-7f3b93cbdef9",
   "metadata": {},
   "source": [
    "#### Calculating min-max-ratio "
   ]
  },
  {
   "cell_type": "code",
   "execution_count": null,
   "id": "27429c98-9fa9-4a0a-ac70-ba77c4ae375e",
   "metadata": {},
   "outputs": [],
   "source": [
    "df_hyp3_dog=pd.concat((dog_pop_df,vd),axis=1)\n",
    "df_hyp3_dog = gpd.GeoDataFrame(df_hyp3_dog)\n",
    "min_ratio=df_hyp3_dog['RATIO_DOG_POP'].min()\n",
    "max_ratio=df_hyp3_dog['RATIO_DOG_POP'].max()\n",
    "df_hyp3_dog['Min_Maxed_Ratio_Dog'] = (df_hyp3_dog['RATIO_DOG_POP']-min_ratio)/(max_ratio-min_ratio)\n",
    "df_hyp3_dog.head()"
   ]
  },
  {
   "cell_type": "markdown",
   "id": "77c709fb-f7ba-4a25-ac57-d5cb81f422ed",
   "metadata": {},
   "source": [
    "### Compare frequency of children and dogs in households (district by district)"
   ]
  },
  {
   "cell_type": "code",
   "execution_count": null,
   "id": "1aa988dd-5ba1-4e27-8482-f4789a185b89",
   "metadata": {},
   "outputs": [],
   "source": [
    "# Create a figure with subplots\n",
    "fig, axes = plt.subplots(1, 2, figsize=(20, 10))\n",
    "\n",
    "# Plot 1: Dogs per Population Ratio with Min_Maxed_Ratio\n",
    "norm1 = matplotlib.colors.TwoSlopeNorm(vmin=df_hyp3_child['Min_Maxed_Ratio_Child'].min(),\n",
    "                                       vcenter=df_hyp3_child['Min_Maxed_Ratio_Child'].mean(),\n",
    "                                       vmax=df_hyp3_child['Min_Maxed_Ratio_Child'].max())\n",
    "plot1 = df_hyp3_child.plot(column='Min_Maxed_Ratio_Child', cmap='Blues', ax=axes[0], edgecolor='black', linewidth=0.5, norm=norm1)\n",
    "df_hyp3_child.apply(lambda x: axes[0].annotate(text=x['DISTRICT_CODE'], xy=x.geometry.centroid.coords[0], ha='center', size=8, weight='bold'), axis=1)\n",
    "axes[0].grid(False)\n",
    "axes[0].spines['top'].set_visible(False)\n",
    "axes[0].spines['right'].set_visible(False)\n",
    "axes[0].spines['bottom'].set_visible(False)\n",
    "axes[0].spines['left'].set_visible(False)\n",
    "axes[0].set_xticks([])\n",
    "axes[0].set_yticks([])\n",
    "axes[0].set_title('Households with children per Residents')\n",
    "\n",
    "# Plot 2: New Ratio (total_dogs / POP_VALUE) with Min_Maxed_Ratio\n",
    "norm2 = matplotlib.colors.TwoSlopeNorm(vmin=df_hyp3_dog['Min_Maxed_Ratio_Dog'].min(),\n",
    "                                       vcenter=df_hyp3_dog['Min_Maxed_Ratio_Dog'].mean(),\n",
    "                                       vmax=df_hyp3_dog['Min_Maxed_Ratio_Dog'].max())\n",
    "plot2 = df_hyp3_dog.plot(column='Min_Maxed_Ratio_Dog', cmap='Blues', ax=axes[1], edgecolor='black', linewidth=0.5, norm=norm2)\n",
    "df_hyp3_dog.apply(lambda x: axes[1].annotate(text=x['district_code'], xy=x.geometry.centroid.coords[0], ha='center', size=8, weight='bold'), axis=1)\n",
    "axes[1].grid(False)\n",
    "axes[1].spines['top'].set_visible(False)\n",
    "axes[1].spines['right'].set_visible(False)\n",
    "axes[1].spines['bottom'].set_visible(False)\n",
    "axes[1].spines['left'].set_visible(False)\n",
    "axes[1].set_xticks([])\n",
    "axes[1].set_yticks([])\n",
    "axes[1].set_title('Dogs per Residents')\n",
    "\n",
    "# Create a custom colorbar with custom labels\n",
    "cbar_ax = fig.add_axes([0.92, 0.15, 0.02, 0.7])\n",
    "legend_intervals = np.arange(0, 1.1, 0.1)\n",
    "cbar = fig.colorbar(plot2.get_children()[0], cax=cbar_ax, ticks=legend_intervals)\n",
    "\n",
    "# Add custom legend labels\n",
    "custom_legend_labels = ['Very Low', 'Low', 'Middle', 'High']\n",
    "\n",
    "# Set ticks to match the number of labels\n",
    "cbar.set_ticks(np.linspace(legend_intervals.min(), legend_intervals.max(), len(custom_legend_labels)))\n",
    "\n",
    "# Add custom legend labels\n",
    "cbar.set_ticklabels(custom_legend_labels)\n",
    "plt.savefig('Hyp3_Fig1.png',format='png');\n"
   ]
  },
  {
   "cell_type": "markdown",
   "id": "5088c9e0-e5b4-4b61-949a-8fe3a5cdabfb",
   "metadata": {},
   "source": [
    "### Analysis and results of the plots\n",
    "\n",
    "#### Plot Households with children per Residents \n",
    "We can see in the left plot that the districts 22, 12 and 23 have the most households with children with them followed by the districts 21, 10 and 13. We can see a trend, that those districts are situated at the border of vienna \n",
    "geographically and by far the biggest districts per km^2. One can think that this can be the cause for the higher number of households situated there with children, since those households need in general more space than. In \n",
    "addition, one can also assume since the inner districts are more desiable districts to get an apartment, due to the central aread, the rent is a lot higher and those prices are not managable with a child/children since children are\n",
    "expensive to have. \n",
    "\n",
    "#### Plot Dogs per Residents \n",
    "On the right plot we can see that the districts 23, 21, 19, 13 and 23 are the most densily situated districts with dogs. Therefore, we can make the same assumption that this could be because of the cheaper rent price, bigger \n",
    "km^2 of those districts. \n",
    "\n",
    "#### Comparison of households with children/dogs\n",
    "We can cleary see that there is a similiar trend for the residency of dogs and children, both attributes are more frequently situated in the other district (21,22,19,23,12) and nearly none in the inner districts (5,6,7,8,9).\n",
    "\n",
    "Possible reasons\n",
    "* cheaper rent \n",
    "* more rural area \n",
    "* better facilities (play grounds, dog parks, etc.)\n",
    "\n",
    "Differences can be noted in the district situated in the middle of Vienna in the districts (15,16,12,3,2,20) , situated next to the centre of vienna, this can be explained by the various living options given in those districts.\n",
    "There are several areas which are more accessible for families, dog-owners, parents, and areas, which have better facilies for students, single households and couples without children. Since those districts are near schools,\n",
    "universities, but do not have the biggest apartments.                                                                                                                                                                                                                                "
   ]
  },
  {
   "cell_type": "code",
   "execution_count": null,
   "id": "cbad006c-316f-4b68-aa8c-c57bf5c81f4f",
   "metadata": {},
   "outputs": [],
   "source": [
    "# Set the use_inf_as_na option to either True or False\n",
    "#sns.set_theme(use_inf_as_na=False)\n",
    "\n",
    "# Create a figure with subplots\n",
    "fig, axs = plt.subplots(ncols=2, figsize=(16, 7))\n",
    "\n",
    "# Scatter plot for households with children vs. population with regression line\n",
    "scatter = sns.scatterplot(x=df_hyp3_dog[\"Min_Maxed_Ratio_Dog\"], y=df_hyp3_child[\"Min_Maxed_Ratio_Child\"], style=df_hyp3_child[\"DISTRICT_CODE\"], s=70, ax=axs[0])\n",
    "\n",
    "# Fit a linear regression model\n",
    "X = sm.add_constant(df_hyp3_dog[\"Min_Maxed_Ratio_Dog\"])\n",
    "y = df_hyp3_child[\"Min_Maxed_Ratio_Child\"]\n",
    "model = sm.OLS(y, X).fit()\n",
    "\n",
    "# Plot the regression line with 95% confidence interval\n",
    "sns.regplot(x=df_hyp3_dog[\"Min_Maxed_Ratio_Dog\"], y=df_hyp3_child[\"Min_Maxed_Ratio_Child\"], scatter=False, color='gray', ax=axs[0], ci=95)\n",
    "\n",
    "# Plot a simple linear line\n",
    "min_max_ratio_dog_range = np.linspace(df_hyp3_dog[\"Min_Maxed_Ratio_Dog\"].min(), df_hyp3_dog[\"Min_Maxed_Ratio_Dog\"].max(), 100)\n",
    "linear_line = model.params['const'] + model.params['Min_Maxed_Ratio_Dog'] * min_max_ratio_dog_range\n",
    "axs[0].plot(min_max_ratio_dog_range, linear_line, linestyle='dashed', color='red', label='Linear Line')\n",
    "\n",
    "# Add district numbers to the scatterplot1\n",
    "for i, txt in enumerate(df_hyp3_child['DISTRICT_CODE']):\n",
    "    axs[0].annotate(txt, (df_hyp3_dog['Min_Maxed_Ratio_Dog'].iloc[i], df_hyp3_child['Min_Maxed_Ratio_Child'].iloc[i]), ha='right', va='bottom', size=8, weight='bold')\n",
    "\n",
    "axs[0].set_xlabel(\"Ratio of dogs per resident\")\n",
    "axs[0].set_ylabel(\"Ratio of households with children per resident\")\n",
    "axs[0].set_title(\"Households with Children vs. Dogs\")\n",
    "axs[0].legend(title=\"District Code\", bbox_to_anchor=(1.05, 1), loc='upper left', prop={'size': 10})\n",
    "\n",
    "# Calculate residuals (difference between regression and linear line)\n",
    "residuals = y - model.predict(X)\n",
    "\n",
    "# Replace infinite values with NaN before creating the KDE plot\n",
    "residuals.replace([np.inf, -np.inf], np.nan, inplace=True)\n",
    "\n",
    "sns.kdeplot(residuals, color='blue', ax=axs[1])  # Use KDE plot instead of histogram\n",
    "axs[1].set_xlabel(\"Residuals\")\n",
    "axs[1].set_ylabel(\"Density\")\n",
    "axs[1].set_title(\"Residuals Distribution\")\n",
    "\n",
    "# Move the title above the plots\n",
    "plt.suptitle(\"Analysis of Households with Children and Dogs in Vienna's Districts\", fontsize=18, y=1.05, ha='right')\n",
    "\n",
    "# Adjust layout\n",
    "fig.align_ylabels(axs[:])\n",
    "plt.tight_layout()\n",
    "\n",
    "plt.show()\n",
    "plt.savefig('Hyp3_Fig2.png',format='png');"
   ]
  },
  {
   "cell_type": "markdown",
   "id": "2d8360b3-3015-4fc3-9589-0733382bb277",
   "metadata": {},
   "source": [
    "#### Results"
   ]
  },
  {
   "cell_type": "markdown",
   "id": "69854d8a-1fe0-451c-9a02-e4e596816b03",
   "metadata": {},
   "source": [
    "In this plot one can again see the an existing correlation between districts with a higher ratio of households with children and higher ratio of households with dogs. The trends for the outer and inner-central districts are the same for \n",
    "households with children and dogs per residents. \n",
    "\n",
    "As we can see in the plot above there is a correlation between the frequency of children and dogs in districts, but it is not a perfect correlation.This can be seen in the residual distribution plot since it scattered around 0. "
   ]
  },
  {
   "cell_type": "markdown",
   "id": "13e79c92-3108-43a4-93cc-2b192caaf2e7",
   "metadata": {},
   "source": [
    "#### Real life application"
   ]
  },
  {
   "cell_type": "markdown",
   "id": "dec925a2-ca0f-4004-a0bf-1d86c68581a6",
   "metadata": {},
   "source": [
    "The article \"Tipps und Regeln, wie Hund und Kind eine enge Freundschaft entwickeln\" https://www.fressnapf.at/magazin/hund/erziehung/hund-kind/ discusses how children want a dog as a companion. Since the dog and children need a lot of space one can suggest to consider this factor in the planing of the new apartments in the more frequent populated districts. The doors can be bigger and others factors which count in the necessary steps for dog and child in the home facility. \n",
    "\n",
    "In addition, many childcare facilties can think about a joint care facility were dogs and child are supervised next to each other. This can help the residents to have a supervisor for both pet and child. Moreover, relationship with children and dogs increase several valuable lessons just as mentioned in the article. \n",
    "\n",
    "The city counsil can take those factors into consideration in the mentioned districts with more kids/dogs.\n"
   ]
  },
  {
   "cell_type": "markdown",
   "id": "bf59a433-9991-4e10-8d8a-1d4916569cc9",
   "metadata": {
    "tags": []
   },
   "source": [
    "### E3-H4: \"Higher-income districts are more likely to have purebred dogs than Lower-income districts.\"\n",
    "Author: Yosef Abd EL-Hamid\n",
    "\n",
    "Data Sources:\n",
    "Information for the average income per district <br>\n",
    "(https://www.data.gv.at/katalog/de/dataset/vie-bez-biz-ecn-inc-sex-2002f#resources )"
   ]
  },
  {
   "cell_type": "code",
   "execution_count": null,
   "id": "46aa1166-3569-4581-9063-69c4b8487004",
   "metadata": {},
   "outputs": [],
   "source": [
    "df11 = pd.read_csv('income.csv')\n",
    "df22 = pd.read_csv('dogs_cleaned_cc.csv')\n",
    "merged_df = pd.merge(df11, df22, on='district_code', how='inner')"
   ]
  },
  {
   "cell_type": "code",
   "execution_count": null,
   "id": "67f36c2b-46cf-40eb-a194-5b508bb88dc2",
   "metadata": {},
   "outputs": [],
   "source": [
    "merged_df.head()"
   ]
  },
  {
   "cell_type": "code",
   "execution_count": null,
   "id": "7c9e87d6-c86a-4413-b86d-0e8d9ab16b5c",
   "metadata": {},
   "outputs": [],
   "source": [
    "quartiles = merged_df['inc_tot_value'].quantile([0, 0.25, 0.5, 0.75, 1])\n",
    "quartiles"
   ]
  },
  {
   "cell_type": "code",
   "execution_count": null,
   "id": "feb87bb3-4346-44b5-8bf9-a7c21c54ab21",
   "metadata": {},
   "outputs": [],
   "source": [
    "# Classification into income classes\n",
    "merged_df['income_classes'] = pd.cut(merged_df['inc_tot_value'],\n",
    "                                     bins=quartiles,\n",
    "                                     labels=['Very Low Income ', 'Lower Income', 'High Income ', 'Very High Income'])\n",
    "\n",
    "\n",
    "merged_df.head()\n"
   ]
  },
  {
   "cell_type": "markdown",
   "id": "2cf63f32-bf56-4950-8cb7-819240a437e1",
   "metadata": {},
   "source": [
    "### Income classes\n",
    "#### Very Low Income  ( 20866.0 Euro    -   22629.0  Euro )\n",
    "\n",
    "#### Lower Income     ( 22629.0 Euro    -   26571.0  Euro )\n",
    "\n",
    "#### High Income      ( 26571.0 Euro    -   27450.0  Euro )\n",
    "\n",
    "#### Very High Income ( 27450.0 Euro    -   37250.0  Euro )"
   ]
  },
  {
   "cell_type": "code",
   "execution_count": null,
   "id": "a80daaf6-84c9-4b2e-b4b4-d9c532396749",
   "metadata": {},
   "outputs": [],
   "source": [
    "\n",
    "sns.set(style=\"whitegrid\")\n",
    "\n",
    "\n",
    "plt.figure(figsize=(10, 6))\n",
    "sns.countplot(x='income_classes', hue='mixed_breed', data=merged_df, palette='viridis', edgecolor='k')\n",
    "plt.title('Distribution of Mixed Breed Dogs across average Income Classes pre district')\n",
    "plt.xlabel('Income Classes')\n",
    "plt.ylabel('Count')\n",
    "plt.legend(title='', labels=['purebred', 'mixed'],loc='upper right');\n",
    "plt.show()\n",
    "plt.savefig('Hyp4_Fig1.png',format='png');"
   ]
  },
  {
   "cell_type": "code",
   "execution_count": null,
   "id": "12dafa83-39e7-4e90-ac91-9755224d820c",
   "metadata": {},
   "outputs": [],
   "source": [
    "\n",
    "merged_df['mixed_breed'] = merged_df['mixed_breed'].replace({0: 'Purebred', 1: 'Mixed Breed'})\n",
    "\n",
    "\n",
    "pivot_table_counts = pd.pivot_table(merged_df, values='number_of_dogs', index='income_classes', columns='mixed_breed', aggfunc='count', fill_value=0)\n",
    "\n",
    "\n",
    "pivot_table_percentages = pivot_table_counts.div(pivot_table_counts.sum(axis=1), axis=0) * 100\n",
    "\n",
    "\n",
    "sns.set(style=\"whitegrid\")\n",
    "\n",
    "\n",
    "plt.figure(figsize=(10, 6))\n",
    "sns.heatmap(pivot_table_percentages, annot=True, fmt='.2f', cmap='YlGnBu', cbar_kws={'label': 'Percentage'})\n",
    "plt.title('Heatmap of Mixed Breed and Purebred Dogs across average Income Classes pre District (Percentages)')\n",
    "plt.xlabel('Breed Type')\n",
    "plt.ylabel('Income Classes')\n",
    "plt.show()\n",
    "plt.savefig('Hyp4_Fig2.png',format='png');"
   ]
  },
  {
   "cell_type": "markdown",
   "id": "038e89b3-7d07-4dec-a74b-44c3f73990a6",
   "metadata": {},
   "source": [
    "#### Results\n",
    "\n",
    "Looking at the heatmap, it seems like how much money people make doesn't really affect whether they have purebred or mixed-breed dogs. For example, very high income have about 45.61% purebred dogs, and those with a high income have a bit less, around 31.44%. On the other hand, people with lower incomes and very low incomes have percentages of 37.25% and 35.94%, respectively, for having purebred dogs. So, it looks like how much money someone has doesn't strongly influence whether they have a purebred or mixed-breed dog.\n"
   ]
  },
  {
   "cell_type": "code",
   "execution_count": null,
   "id": "710a7064-05e8-4d52-9c1b-a6dcd143a4ae",
   "metadata": {},
   "outputs": [],
   "source": []
  },
  {
   "cell_type": "markdown",
   "id": "24fb84c2-e894-4372-bca9-f60bb695a792",
   "metadata": {
    "tags": []
   },
   "source": [
    "### E3-H5: \"Districts with a higher proportion of green space for dogs have more dogs per inhabitant than districts with less green space.\"\n",
    "Author: Michaela Hubweber \n",
    "\n",
    "Data Sources: \n",
    "* Parkanlagen Standorte Wien, Magistrat Wien - Magistratsabteilung 42 - Wiener Stadtgärten <br> https://www.data.gv.at/katalog/dataset/22add642-d849-48ff-9913-8c7ba2d99b46#additional-info <br> Used File version: PARKINFOOGD.csv (Downloaded: 02.01.2024)\n",
    "* Bevölkerungsdichte seit 2002 - Bezirke Wien, Magistrat Wien - Magistratsabteilung 23 - Wirtschaft, Arbeit und Statistik <br> https://www.data.gv.at/katalog/dataset/dc56ea9e-57be-47d5-ab50-d1e74fda7118 <br> Used File version: vie-bez-biz-pop-den-2002f.csv (Downloaded: 02.01.2024)\n",
    "\n",
    "Related Literature: \n",
    "* Purtscher, Mag Clemens. \"Tiergerechte Hundehaltung und Auslaufmöglichkeiten in Wien.\" Kapitel 8, pp.40, Online: https://sloughi.blogger.de/static/antville/sloughi/files/hundestudie.pdf (Accessed: 02.01.2024)"
   ]
  },
  {
   "cell_type": "markdown",
   "id": "3887e490-1b81-47fc-8cc0-e118e06e9bd0",
   "metadata": {},
   "source": [
    "To validate our hypothesis we first calculate some ratios, dogs per capita and greenspace per total area (in percent)"
   ]
  },
  {
   "cell_type": "code",
   "execution_count": null,
   "id": "3288d53f-e94f-4067-8225-839a2351dd17",
   "metadata": {},
   "outputs": [],
   "source": [
    "# Calculate ratios: \n",
    "df_dpd_parks[\"dogs_per_capita\"]=df_dpd_parks[\"number_of_dogs\"]/df_dpd_parks[\"pop_value\"]\n",
    "df_dpd_parks[\"greenspace_pct\"]=df_dpd_parks[\"green_space(sqm)\"]/df_dpd_parks[\"area\"]*100\n",
    "df_dpd_parks.head()"
   ]
  },
  {
   "cell_type": "markdown",
   "id": "052760df-b72b-41ec-821c-467b9cb8ccd0",
   "metadata": {},
   "source": [
    "Another quick data exploration already indicates, that the hypothesis might not hold: When sorting by dogs/capita, we see that many districts with medium high dog population have a lot of green space. The distribution for area is more, what we would expect to see, if there was a positive correlation. "
   ]
  },
  {
   "cell_type": "code",
   "execution_count": null,
   "id": "4ea24d58-5b7f-415c-a31b-1d4d41d267e2",
   "metadata": {},
   "outputs": [],
   "source": [
    "df_dpd_parks.sort_values(\"dogs_per_capita\").plot(x=\"postal_code\", y=[\"dogs_per_capita\",\"greenspace_pct\", \"area\"], kind=\"bar\", subplots=True);"
   ]
  },
  {
   "cell_type": "markdown",
   "id": "84056f04-9dd8-45c1-9e1e-7823b618a06f",
   "metadata": {},
   "source": [
    "We can then plot the data with a linear regression model fit to get a visual impression, if the hypothesis holds. "
   ]
  },
  {
   "cell_type": "code",
   "execution_count": null,
   "id": "e8ff40a1-d63c-41f8-a570-a8a1659d22e7",
   "metadata": {},
   "outputs": [],
   "source": [
    "fig, axs = plt.subplots(ncols=2, figsize=(10, 5))\n",
    "\n",
    "#regplot for greenspace_pct vs dogs_per_capita\n",
    "sns.regplot(data=df_dpd_parks, x=\"greenspace_pct\", y=\"dogs_per_capita\", marker=\"x\", \n",
    "            scatter_kws=dict(color=\"g\"), line_kws=dict(color=\"darkgray\"), ax=axs[0])\n",
    "axs[0].set_xlabel(\"Percentage of Green Space\")\n",
    "axs[0].set_ylabel(\"Dogs per Capita\")\n",
    "axs[0].set_title(\"Green Space vs. Dogs per Capita\")\n",
    "axs[0].set_ylim([0, 0.05])\n",
    "\n",
    "# regplot for area vs dogs_per_capita\n",
    "sns.regplot(data=df_dpd_parks, x=\"area\", y=\"dogs_per_capita\", marker=\"x\", scatter_kws=dict(color=\"b\"), \n",
    "            line_kws=dict(color=\"darkgray\"), ax=axs[1])\n",
    "axs[1].set_xlabel(\"Area (sqm)\")\n",
    "axs[1].set_ylabel(\"Dogs per Capita\")\n",
    "axs[1].set_title(\"Area vs. Dogs per Capita\")\n",
    "axs[1].set_ylim([0, 0.05])\n",
    "\n",
    "\n",
    "plt.suptitle(\"Comparative Analysis of Dog Population in Vienna's Districts\", fontsize=16)\n",
    "fig.align_ylabels(axs[:])\n",
    "plt.tight_layout()\n",
    "plt.show();\n",
    "plt.savefig(\"H5.png\");"
   ]
  },
  {
   "cell_type": "markdown",
   "id": "1dee428a-3fad-41d7-9843-f2ae7509ee18",
   "metadata": {},
   "source": [
    "When creating a scatter plot and fitting a linear model to the data, we found that our initial hypothesis - that the percentage of green space is indicative of a higher dog population - was not supported. The scatter plot does not show strong correlation, and even if correlation was assumed, it would be slightly negative. Consequently, our hypothesis was not validated. \n",
    "\n",
    "When examining another variable, the area of each district, we saw a positive correlation. \n",
    "It appears that the size of a district may be a more reliable predictor of the dog population per inhabitant.\n"
   ]
  },
  {
   "cell_type": "code",
   "execution_count": null,
   "id": "553117b9-d9b2-4ab8-a97d-9ce7606038cc",
   "metadata": {},
   "outputs": [],
   "source": [
    "df_dpd_parks[[\"dogs_per_capita\", \"greenspace_pct\"]].corr(method='pearson')"
   ]
  },
  {
   "cell_type": "code",
   "execution_count": null,
   "id": "1b4ed3e3-2024-493e-8f9f-18ec99712035",
   "metadata": {},
   "outputs": [],
   "source": [
    "df_dpd_parks[[\"dogs_per_capita\", \"area\"]].corr(method='kendall')"
   ]
  },
  {
   "cell_type": "markdown",
   "id": "f6934463-ab38-44db-8134-ebab355dbd3f",
   "metadata": {},
   "source": [
    "#### STATISTICAL TESTING"
   ]
  },
  {
   "cell_type": "code",
   "execution_count": null,
   "id": "e2450581-02e7-4905-a90f-c7312c43fd02",
   "metadata": {},
   "outputs": [],
   "source": [
    "from scipy.stats import pearsonr\n",
    "correlation_coefficient, p_value = pearsonr(df_dpd_parks['area'], df_dpd_parks['dogs_per_capita'])"
   ]
  },
  {
   "cell_type": "code",
   "execution_count": null,
   "id": "5add5812-6e8f-493a-947e-9f78e83cb3ed",
   "metadata": {},
   "outputs": [],
   "source": [
    "print(f\"Pearson Correlation Coefficient: {correlation_coefficient}\")\n",
    "print(f\"P-value: {p_value}\")"
   ]
  },
  {
   "cell_type": "code",
   "execution_count": null,
   "id": "1bf1a265-6288-41b6-9c92-04ffd851d1b5",
   "metadata": {},
   "outputs": [],
   "source": [
    "p_value<0.05"
   ]
  }
 ],
 "metadata": {
  "kernelspec": {
   "display_name": "project_de",
   "language": "python",
   "name": "project_de"
  },
  "language_info": {
   "codemirror_mode": {
    "name": "ipython",
    "version": 3
   },
   "file_extension": ".py",
   "mimetype": "text/x-python",
   "name": "python",
   "nbconvert_exporter": "python",
   "pygments_lexer": "ipython3",
   "version": "3.10.13"
  }
 },
 "nbformat": 4,
 "nbformat_minor": 5
}
