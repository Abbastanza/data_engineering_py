{
 "cells": [
  {
   "cell_type": "markdown",
   "id": "e12ece56-fcd4-4665-bf8b-773b5e8c789d",
   "metadata": {
    "tags": []
   },
   "source": [
    "# Project 1 - Data Engineering\n",
    "## 2 Data Exploration and Analysis\n",
    "This notebook is for the implementation of task \"2 Data Exploration and Analysis\", as listed in the **Project Instructions**."
   ]
  },
  {
   "cell_type": "markdown",
   "id": "45dfc955-b808-45ff-b0d8-c2425da31416",
   "metadata": {},
   "source": [
    "<div class=\"alert alert-success\">\n",
    "<b>Overview:</b><br>\n",
    "Data Exploration and Analysis consists of the following parts worth 70 points:\n",
    "<ul>\n",
    "    <li><b>E1 - Obtain and Scrub</b> (15 points)</li>\n",
    "    <li><b>E2 - Exploratory data analysis (EDA) </b>(20 points)</li>\n",
    "    <li><b>E3 - Formulate hypotheses </b>(25 points)</li>\n",
    "    <li><b>Follow the guidelines for Data Exploration and Analysis below </b>(10 points)</li>\n",
    "</ul></div>"
   ]
  },
  {
   "cell_type": "markdown",
   "id": "3c8a055f",
   "metadata": {},
   "source": [
    "<div class=\"alert alert-success\">\n",
    "<b>Guidelines for Data Exploration and Analysis:</b><br>\n",
    "    <ol>\n",
    "        <li>Use a single Jupyer notebook for your project.</li>\n",
    "        <li>Use only Python-code for your project.</li>\n",
    "        <li>The use of automatic and semi-automatic data analyis tools is not allowed (e. g., PandasGUI, D-Tale, Mito, etc.). Only use packages we used in the coded lectures.</li>\n",
    "        <li>Export your environment for submission as 'prj01-environment.txt'.</li>\n",
    "        <li>Upload your resulting work as a zip file containing only a single jupyter notebook and required files to run the notebook. All cell outputs and <b>figures must display in jupyter lab</b>. (Test this, in particular when you use another environment like VS Code.)</li>\n",
    "        <li>All code cells in your notebook must be runnable without errors or warnings (e. g., deprecated functions). Each error/warning subtracts -2 points (up to the full 10 points for following the  guidelines).</li>\n",
    "        <li>Use only relative paths in your project.</li>\n",
    "        <li>Avoid (excessive) code duplication.</li>\n",
    "        <li>Avoid loops iterating over pandas objects (Series, DataFrames). Explicitly justify each exception via a comment. </li>\n",
    "        <li>All coded steps in your analysis must be commented.</li>\n",
    "        <li>Keep your code as well as outputs short, precise and readable. Each long or unnecessary output subtracts -2 points (up to the full 10 points for following the project guidelines).</li>\n",
    "    </ol>\n",
    "    <b>Late submissions are not accepted and earn you 0 points on the python project. </b>\n",
    "</div>"
   ]
  },
  {
   "cell_type": "markdown",
   "id": "ea992ba9-f942-445d-a515-16dc32837466",
   "metadata": {},
   "source": [
    "Explicitly list which notebook toolset was used (jupyter lab/jupyter notebook/VS Code/etc.) \n",
    "\n",
    "**here**: Jupyter Lab, Chrome"
   ]
  },
  {
   "cell_type": "markdown",
   "id": "92f63424-1d61-4b8b-94a6-f50afea65d79",
   "metadata": {
    "tags": []
   },
   "source": [
    "Explicitly and clearly state the chosen dataset number and title:\n",
    "### Arbeitsmarkt ODÖ \n",
    "## 99. Gesamtübersicht über die Arbeitslosigkeit - Bestand, Zugang, Abgang\n"
   ]
  },
  {
   "cell_type": "markdown",
   "id": "0999a549-323a-4537-963f-3a1a746b77fd",
   "metadata": {},
   "source": [
    "## E1 - Obtain and Scrub"
   ]
  },
  {
   "attachments": {
    "8eab5647-0d31-4875-a3ac-990349e90b76.png": {
     "image/png": "[encoded data removed]"
    }
   },
   "cell_type": "markdown",
   "id": "937713cc-715f-4930-ae10-ebeeaec55685",
   "metadata": {},
   "source": [
    "### Obtain\n",
    "Download the dataset and understand both: \n",
    "- format: wide vs. long, separaters, decimal points, encoding, etc., and \n",
    "- content: what variables are in the columns, what is their meaning?\n",
    "To this end, identify and download metadata such as headers, category listings, explanatory reports, etc.\n",
    "### Scrub\n",
    "The aim of scrub is to create a clean version of the data for further analysis. \n",
    "- Load the dataset and take care of dtypes (dates, numbers, categories, etc.). Justify why you don't load/use specific columns.\n",
    "- Check for footnotes or any other notifications on special cell content, such as time series breaks. Follow up that information, and document your decision how to deal with it. Remember: The homework 4 contained such info in the cell \"76.1 b\". The metadata defines what that \"b\" stands for.\n",
    "![image.png](attachment:8eab5647-0d31-4875-a3ac-990349e90b76.png)\n",
    "- Choose an appropriate (Multi-)Index.\n",
    "- Identify:\n",
    "    1. missing values and get row and column overviews. Use graphical and/or numeric approaches. Once identified, handle missing values according to column type, time series property and data set size.\n",
    "    2. duplicates (justify the used column subset). Remove duplicates - if any - and inspect what you removed.\n",
    "- Transform to shape (tidy vs. wide) best suited for further analysis.\n",
    "- Export the clean data to a file for inspection with an external data browser (e.g., MS Excel).\n",
    "- Provide an overview of the clean dataset:\n",
    "    1. show the dtypes\n",
    "    2. quantitative column descriptions: \n",
    "        1. categorical columns: number of unique values, counts \n",
    "        2. numeric columns: range and median"
   ]
  },
  {
   "cell_type": "markdown",
   "id": "3a05f42a-135e-4f2d-8ef0-b42bd53da4bf",
   "metadata": {},
   "source": [
    "### Bevökerung ODÖ \n",
    "## 99. Hunde pro Bezirk Wien"
   ]
  },
  {
   "cell_type": "markdown",
   "id": "67038543-5fb5-4ca7-9089-13364b2b4c9b",
   "metadata": {},
   "source": [
    "This notebook was created using Jupyter Lab."
   ]
  },
  {
   "cell_type": "markdown",
   "id": "95e5eac8-92d5-46fc-8f2d-a5ac39510bde",
   "metadata": {},
   "source": [
    "## Libraries"
   ]
  },
  {
   "cell_type": "code",
   "execution_count": 1,
   "id": "2fdff4a7-c0e5-46e7-8276-24d372ec4228",
   "metadata": {
    "tags": []
   },
   "outputs": [
    {
     "data": {
      "text/html": [
       "        <script type=\"text/javascript\">\n",
       "        window.PlotlyConfig = {MathJaxConfig: 'local'};\n",
       "        if (window.MathJax && window.MathJax.Hub && window.MathJax.Hub.Config) {window.MathJax.Hub.Config({SVG: {font: \"STIX-Web\"}});}\n",
       "        if (typeof require !== 'undefined') {\n",
       "        require.undef(\"plotly\");\n",
       "        requirejs.config({\n",
       "            paths: {\n",
       "                'plotly': ['https://cdn.plot.ly/plotly-2.12.1.min']\n",
       "            }\n",
       "        });\n",
       "        require(['plotly'], function(Plotly) {\n",
       "            window._Plotly = Plotly;\n",
       "        });\n",
       "        }\n",
       "        </script>\n",
       "        "
      ]
     },
     "metadata": {},
     "output_type": "display_data"
    }
   ],
   "source": [
    "#libraries\n",
    "import pandas as pd\n",
    "import matplotlib.pyplot as plt\n",
    "import seaborn as sns\n",
    "import geopandas as gpd\n",
    "import matplotlib\n",
    "\n",
    "from plotly.offline import download_plotlyjs, init_notebook_mode,  iplot\n",
    "init_notebook_mode(connected=True)"
   ]
  },
  {
   "cell_type": "markdown",
   "id": "ca9b8778-1bd8-48bf-9db5-8dadd6aa3b0b",
   "metadata": {},
   "source": [
    "## Obtain and Scrub"
   ]
  },
  {
   "cell_type": "code",
   "execution_count": 2,
   "id": "cec63c55-0a55-4b05-943f-565ed1aa2b06",
   "metadata": {},
   "outputs": [],
   "source": [
    "# E1:\n",
    "\n",
    "# load data\n",
    "df=pd.read_csv('hunde-wien.csv', sep = ';',encoding= 'latin-1', header = 1, thousands='.')\n",
    "\n",
    "# drop unnecessary columns\n",
    "df.drop(['NUTS1','NUTS2','NUTS3','SUB_DISTRICT_CODE','Ref_Date'], axis=1, inplace=True)\n",
    "\n",
    "# add column \"inner_district\"\n",
    "def district(row):\n",
    "    if row['Postal_CODE'] in (1100, 1110, 1120, 1130, 1140, 1150, 1160, 1170, 1180, 1190, 1200, 1210, 1220,1230):\n",
    "        return 0\n",
    "    elif 1 <= row['Postal_CODE'] in (1010, 1020, 1030, 1040, 1050, 1060, 1070, 1080, 1090):\n",
    "        return 1\n",
    "    else:\n",
    "        return None \n",
    "df['inner_district'] = df.apply(district,axis=1)\n",
    "\n",
    "# add column \"mixed_breed\"\n",
    "def breed(row):\n",
    "    if '/' in row['Dog Breed']:\n",
    "        return 1\n",
    "    else:\n",
    "        return 0\n",
    "df['mixed_breed'] = df.apply(breed,axis=1)\n",
    "\n",
    "# clean column names\n",
    "df.columns = df.columns.str.lower().str.replace(' ', '_')"
   ]
  },
  {
   "cell_type": "markdown",
   "id": "6b3dec7b-c9e9-44f1-b807-be2e1b25fd7a",
   "metadata": {},
   "source": [
    "We used pandas *read_csv* to read our data into jupyter lab.The column separater is a semicolon and encoding is *latin-1* (also known as ISO-8859-1). It covers a limited set of characters, primarily from the Latin alphabet, digits, and some special characters. The first row in the file represents the header. The data is in a long format."
   ]
  },
  {
   "cell_type": "markdown",
   "id": "95559427-24ce-44ad-8f7b-43106e7843e6",
   "metadata": {},
   "source": [
    "In the next step, we dropped the columns *NUTS1, NUTS2, NUTS3, SUB_DISTRICT_CODE* and *Ref_Date* which are not relevant for our analysis. \n",
    "\n",
    "- NUTS (Nomenclature of Territorial Units for Statistics) is a classification system used by the European Union for statistical and administrative purposes.*NUTS1, NUTS2, NUTS3* indicate the level in the hierarchy.In our case, every row has the same level of the hierachy in all three columns. Therefore, these columns do not provide any additional information for our data.\n",
    "- The column *SUB_DISTRICT_CODE* contains \".\" in every row, thus can be dropped aswell. \n",
    "- *Ref_Date* is also the same for very row and shows when the data was last modified."
   ]
  },
  {
   "cell_type": "markdown",
   "id": "aee67f5e-1f8f-454c-a696-d11ec576b810",
   "metadata": {},
   "source": [
    "Afterward, we cleaned up the column names by formatting everything in lowercase and replacing spaces with underscores."
   ]
  },
  {
   "cell_type": "markdown",
   "id": "16523f65-bc91-4c14-ab20-745342fe7953",
   "metadata": {
    "tags": []
   },
   "source": [
    "Following that, we added two extra columns *Inner district* and *mixed breed*.\n",
    "Thus, our columns for the analysis are the following:\n",
    "\n",
    "- **district_code**: The district code in Vienna is a numerical identifier assigned to each of the cities 23 districts\n",
    "- **postal_code**: The postal code in Vienna is a numerical code assigned to specific geographic areas within the city.\n",
    "- **dog_breed**: Specifies the breed of the dog.\n",
    "- **dogs_value**: Specifies the number of dogs \n",
    "- **inner_district**: Boolean column, which is 1, if the district is an inner district (1-9), and 0 otherwise.\n",
    "- **mixed_breed**:  Boolean column, which is 1, if the breed is mixed, and 0 if it is purebred."
   ]
  },
  {
   "cell_type": "markdown",
   "id": "c732c857-6bea-48b8-b68d-6bbcc3744802",
   "metadata": {},
   "source": [
    "Our index is a simple numerical index, starting at 0."
   ]
  },
  {
   "cell_type": "markdown",
   "id": "99431dfa-2de7-48c6-ad62-11b00b24eadf",
   "metadata": {},
   "source": [
    "### Check for missing values and duplicates"
   ]
  },
  {
   "cell_type": "code",
   "execution_count": 3,
   "id": "dfd6d145-2ec6-4bf8-882b-0d82b69ffbe7",
   "metadata": {
    "tags": []
   },
   "outputs": [
    {
     "data": {
      "text/plain": [
       "district_code      int64\n",
       "postal_code        int64\n",
       "dog_breed         object\n",
       "anzahl             int64\n",
       "inner_district     int64\n",
       "mixed_breed        int64\n",
       "dtype: object"
      ]
     },
     "execution_count": 3,
     "metadata": {},
     "output_type": "execute_result"
    }
   ],
   "source": [
    "df.dtypes"
   ]
  },
  {
   "cell_type": "code",
   "execution_count": 4,
   "id": "c3726d8c-ef9f-455c-9e2b-3b8a1d6ec99f",
   "metadata": {
    "tags": []
   },
   "outputs": [
    {
     "data": {
      "text/plain": [
       "district_code     category\n",
       "postal_code       category\n",
       "dog_breed         category\n",
       "anzahl               int64\n",
       "inner_district    category\n",
       "mixed_breed       category\n",
       "dogs_value           int64\n",
       "dtype: object"
      ]
     },
     "execution_count": 4,
     "metadata": {},
     "output_type": "execute_result"
    }
   ],
   "source": [
    "df['district_code'] = df['district_code'].astype('category')\n",
    "df['postal_code'] = df['postal_code'].astype('category')\n",
    "df['inner_district'] = df['inner_district'].astype('category')\n",
    "df['mixed_breed'] = df['mixed_breed'].astype('category')\n",
    "df['dog_breed'] = df['dog_breed'].astype('category')\n",
    "df['dogs_value'] = df['anzahl'].astype('int64')\n",
    "df.dtypes"
   ]
  },
  {
   "cell_type": "markdown",
   "id": "feac5a8e-4190-4b3f-9bf3-2653e00abe93",
   "metadata": {},
   "source": [
    "After changing the data types, we have 5 categorial columns and one integer being 'dogs_value'. "
   ]
  },
  {
   "cell_type": "code",
   "execution_count": 5,
   "id": "8cf2dd5d-9dda-4ebc-837a-fef9f457a036",
   "metadata": {
    "tags": []
   },
   "outputs": [
    {
     "data": {
      "text/plain": [
       "district_code     0\n",
       "postal_code       0\n",
       "dog_breed         0\n",
       "anzahl            0\n",
       "inner_district    0\n",
       "mixed_breed       0\n",
       "dogs_value        0\n",
       "dtype: int64"
      ]
     },
     "execution_count": 5,
     "metadata": {},
     "output_type": "execute_result"
    }
   ],
   "source": [
    "df.isnull().sum()"
   ]
  },
  {
   "cell_type": "markdown",
   "id": "b76fdcfe-044f-426c-a3af-bfa26d6aeafc",
   "metadata": {
    "tags": []
   },
   "source": [
    "There are no missing values in our columns."
   ]
  },
  {
   "cell_type": "code",
   "execution_count": 6,
   "id": "e2ef6f21-9c14-411b-b0aa-6d4469fd59fb",
   "metadata": {
    "tags": []
   },
   "outputs": [
    {
     "data": {
      "text/plain": [
       "Series([], Name: anzahl, dtype: int64)"
      ]
     },
     "execution_count": 6,
     "metadata": {},
     "output_type": "execute_result"
    }
   ],
   "source": [
    "#Checking for duplicates, by regarding only those columns which in combination should not have duplicates. In this case postal_code and dog_breed. \n",
    "#Each dog breed should only appear the most one time per district.\n",
    "df_duplicates=df.groupby(['postal_code','dog_breed'])['anzahl'].count().sort_values(ascending=False)[lambda x:x>1]\n",
    "df_duplicates"
   ]
  },
  {
   "cell_type": "code",
   "execution_count": 82,
   "id": "2bfe8feb-2a31-4f44-90e2-a4ca0f304245",
   "metadata": {
    "tags": []
   },
   "outputs": [
    {
     "data": {
      "text/plain": [
       "0"
      ]
     },
     "execution_count": 82,
     "metadata": {},
     "output_type": "execute_result"
    }
   ],
   "source": [
    "df.duplicated(subset=(['postal_code','dog_breed'])).sum()"
   ]
  },
  {
   "cell_type": "markdown",
   "id": "23e573af-f1f8-4b5d-ad3b-3a9fb08136c3",
   "metadata": {},
   "source": [
    "Our data has no duplicates."
   ]
  },
  {
   "cell_type": "markdown",
   "id": "5b557f0f-7ac2-44da-bbb4-bc87db21723b",
   "metadata": {
    "tags": []
   },
   "source": [
    "### Save cleaned data"
   ]
  },
  {
   "cell_type": "code",
   "execution_count": 7,
   "id": "6db16905-989f-4b02-b785-be1dfc60f932",
   "metadata": {
    "tags": []
   },
   "outputs": [],
   "source": [
    "df.to_csv('dogs_cleaned.csv', index=False)"
   ]
  },
  {
   "cell_type": "markdown",
   "id": "6843359c-bbcf-4217-a316-d5586e6dc89f",
   "metadata": {
    "tags": []
   },
   "source": [
    "### Quantitative column description"
   ]
  },
  {
   "cell_type": "markdown",
   "id": "96b301e8-e767-453e-9304-59e90f3032af",
   "metadata": {},
   "source": [
    "#### Categorial columns"
   ]
  },
  {
   "cell_type": "code",
   "execution_count": 8,
   "id": "c57d4739-ec42-4da6-9932-ba582de0880c",
   "metadata": {
    "tags": []
   },
   "outputs": [
    {
     "name": "stdout",
     "output_type": "stream",
     "text": [
      "\n",
      "Column: district_code\n",
      "Number of unique values: 23\n",
      "Value counts:\n",
      "district_code\n",
      "92200    984\n",
      "92100    888\n",
      "91000    708\n",
      "92300    683\n",
      "90200    576\n",
      "91400    536\n",
      "90300    521\n",
      "91100    520\n",
      "91900    514\n",
      "91200    481\n",
      "91300    449\n",
      "91600    443\n",
      "91800    422\n",
      "92000    388\n",
      "91700    369\n",
      "91500    351\n",
      "90900    315\n",
      "90500    298\n",
      "90400    250\n",
      "90700    235\n",
      "90600    211\n",
      "90800    198\n",
      "90100    182\n",
      "Name: count, dtype: int64\n",
      "\n",
      "Column: postal_code\n",
      "Number of unique values: 23\n",
      "Value counts:\n",
      "postal_code\n",
      "1220    984\n",
      "1210    888\n",
      "1100    708\n",
      "1230    683\n",
      "1020    576\n",
      "1140    536\n",
      "1030    521\n",
      "1110    520\n",
      "1190    514\n",
      "1120    481\n",
      "1130    449\n",
      "1160    443\n",
      "1180    422\n",
      "1200    388\n",
      "1170    369\n",
      "1150    351\n",
      "1090    315\n",
      "1050    298\n",
      "1040    250\n",
      "1070    235\n",
      "1060    211\n",
      "1080    198\n",
      "1010    182\n",
      "Name: count, dtype: int64\n",
      "\n",
      "Column: dog_breed\n",
      "Number of unique values: 3214\n",
      "Value counts:\n",
      "dog_breed\n",
      "English Cocker Spaniel einfärbig                       23\n",
      "Border Collie / Mischling                              23\n",
      "Siberian Husky                                         23\n",
      "Jack Russell Terrier                                   23\n",
      "Französische Bulldogge                                 23\n",
      "                                                       ..\n",
      "Fox Terrier glatthaar / Deutsch Drahthaar               1\n",
      "Fox Terrier glatthaar / Deutsch Kurzhaar                1\n",
      "Fox Terrier glatthaar / Deutscher Pinscher              1\n",
      "Fox Terrier glatthaar / Fox Terrier drahthaar           1\n",
      "Österreichischer Pinscher / Zwergspitz (Pomeranian)     1\n",
      "Name: count, Length: 3214, dtype: int64\n",
      "\n",
      "Column: inner_district\n",
      "Number of unique values: 2\n",
      "Value counts:\n",
      "inner_district\n",
      "0    7736\n",
      "1    2786\n",
      "Name: count, dtype: int64\n",
      "\n",
      "Column: mixed_breed\n",
      "Number of unique values: 2\n",
      "Value counts:\n",
      "mixed_breed\n",
      "1    6533\n",
      "0    3989\n",
      "Name: count, dtype: int64\n"
     ]
    }
   ],
   "source": [
    "categorical_columns = df.select_dtypes(include='category').columns\n",
    "\n",
    "for column in categorical_columns:\n",
    "    unique_values_count = df[column].nunique()\n",
    "    value_counts = df[column].value_counts()\n",
    "    \n",
    "    print(f\"\\nColumn: {column}\")\n",
    "    print(f\"Number of unique values: {unique_values_count}\")\n",
    "    print(\"Value counts:\")\n",
    "    print(value_counts)"
   ]
  },
  {
   "cell_type": "markdown",
   "id": "52fe2bea-42ed-4862-9609-f0b096cd90bc",
   "metadata": {},
   "source": [
    "#### Numerical columns"
   ]
  },
  {
   "cell_type": "code",
   "execution_count": 9,
   "id": "53058cf9-d39e-48e9-99f4-26603a2124ee",
   "metadata": {
    "tags": []
   },
   "outputs": [
    {
     "name": "stdout",
     "output_type": "stream",
     "text": [
      "Range of column 'dogs_value': 1065\n"
     ]
    }
   ],
   "source": [
    "range = df['dogs_value'].max() - df['dogs_value'].min()\n",
    "print(f\"Range of column 'dogs_value': {range}\")"
   ]
  },
  {
   "cell_type": "code",
   "execution_count": 10,
   "id": "5c495fde-b795-401d-b6e7-0c4a5341883e",
   "metadata": {
    "tags": []
   },
   "outputs": [
    {
     "name": "stdout",
     "output_type": "stream",
     "text": [
      "Median of column 'dogs_value': 1.0\n"
     ]
    }
   ],
   "source": [
    "median = df['dogs_value'].median()\n",
    "print(f\"Median of column 'dogs_value': {median}\")"
   ]
  },
  {
   "cell_type": "markdown",
   "id": "caca00ef-7463-48f7-86fc-59e6eab8556f",
   "metadata": {
    "tags": []
   },
   "source": [
    "### Data Cleaning for additional data"
   ]
  },
  {
   "cell_type": "markdown",
   "id": "2febbe93-a469-4d18-a46c-5cf60c821ad2",
   "metadata": {},
   "source": [
    "The following additional data was loaded and explored for additional information form the website https://data.gv.at:\n",
    "- Information about green spaces for dogs to explore. (PARKINFOOGD.csv)\n",
    "- Information about the areas for each district. (vie-bez-biz-pop-den-2002f.csv)\n",
    "- Information of the population per distritct. (vie-bez-biz-pop-den-2002f.csv)\n",
    "- Information on the average income per district.\n",
    "- Information on families per district. (vie-bez-fam-typ-2012f.csv)"
   ]
  },
  {
   "cell_type": "code",
   "execution_count": 11,
   "id": "1eb24ebf-c228-4f7c-bff1-cb3aef5003e7",
   "metadata": {
    "tags": []
   },
   "outputs": [
    {
     "data": {
      "text/plain": [
       "(1028, 13)"
      ]
     },
     "execution_count": 11,
     "metadata": {},
     "output_type": "execute_result"
    }
   ],
   "source": [
    "parks = pd.read_csv(\"PARKINFOOGD.csv\")\n",
    "parks.shape"
   ]
  },
  {
   "cell_type": "code",
   "execution_count": 12,
   "id": "2ee76b58-a310-4872-94d1-c0a3d837e9a2",
   "metadata": {
    "tags": []
   },
   "outputs": [
    {
     "data": {
      "text/plain": [
       "FID                  object\n",
       "OBJECTID              int64\n",
       "SHAPE                object\n",
       "ANL_NAME             object\n",
       "BEZIRK                int64\n",
       "FLAECHE              object\n",
       "OEFF_ZEITEN          object\n",
       "SPIELEN_IM_PARK      object\n",
       "WASSER_IM_PARK       object\n",
       "HUNDE_IM_PARK        object\n",
       "TELEFON              object\n",
       "WEBLINK1             object\n",
       "SE_ANNO_CAD_DATA    float64\n",
       "dtype: object"
      ]
     },
     "execution_count": 12,
     "metadata": {},
     "output_type": "execute_result"
    }
   ],
   "source": [
    "parks.dtypes"
   ]
  },
  {
   "cell_type": "markdown",
   "id": "9b3c31c3-ad16-4eb9-97e0-1a108cda8663",
   "metadata": {},
   "source": [
    "The main variables of interest to enrich our data set are the sizes of parks, and if dogs are allowed to enter. To be able to join, we also need the district numbers. For first inspection, we also keep the names of the parks."
   ]
  },
  {
   "cell_type": "code",
   "execution_count": 13,
   "id": "32de2cb7-8f86-4b6c-86ff-582ca239b387",
   "metadata": {
    "tags": []
   },
   "outputs": [],
   "source": [
    "# drop unnecessary columns\n",
    "parks=parks.drop([\"SHAPE\",\"FID\", \"OBJECTID\", \"OEFF_ZEITEN\", \"SPIELEN_IM_PARK\", \"TELEFON\", \"WEBLINK1\", \"SE_ANNO_CAD_DATA\", \"WASSER_IM_PARK\"], axis=1)\n"
   ]
  },
  {
   "cell_type": "code",
   "execution_count": 14,
   "id": "fa5597e0-bb5f-4f70-8812-54d711fd35d0",
   "metadata": {
    "tags": []
   },
   "outputs": [
    {
     "data": {
      "text/html": [
       "<div>\n",
       "<style scoped>\n",
       "    .dataframe tbody tr th:only-of-type {\n",
       "        vertical-align: middle;\n",
       "    }\n",
       "\n",
       "    .dataframe tbody tr th {\n",
       "        vertical-align: top;\n",
       "    }\n",
       "\n",
       "    .dataframe thead th {\n",
       "        text-align: right;\n",
       "    }\n",
       "</style>\n",
       "<table border=\"1\" class=\"dataframe\">\n",
       "  <thead>\n",
       "    <tr style=\"text-align: right;\">\n",
       "      <th></th>\n",
       "      <th>ANL_NAME</th>\n",
       "      <th>BEZIRK</th>\n",
       "      <th>FLAECHE</th>\n",
       "      <th>HUNDE_IM_PARK</th>\n",
       "    </tr>\n",
       "  </thead>\n",
       "  <tbody>\n",
       "    <tr>\n",
       "      <th>0</th>\n",
       "      <td>Ruth-Maier-Park</td>\n",
       "      <td>2</td>\n",
       "      <td>2.488 m²</td>\n",
       "      <td>Nein</td>\n",
       "    </tr>\n",
       "    <tr>\n",
       "      <th>1</th>\n",
       "      <td>Vilma-Steindling-Promenade</td>\n",
       "      <td>2</td>\n",
       "      <td>4.346 m²</td>\n",
       "      <td>Nein</td>\n",
       "    </tr>\n",
       "    <tr>\n",
       "      <th>2</th>\n",
       "      <td>GA Am-Ostrom-Park</td>\n",
       "      <td>22</td>\n",
       "      <td>725 m²</td>\n",
       "      <td>Nein</td>\n",
       "    </tr>\n",
       "    <tr>\n",
       "      <th>3</th>\n",
       "      <td>PA Max-Patat-Weg</td>\n",
       "      <td>19</td>\n",
       "      <td>2.416 m²</td>\n",
       "      <td>Nein</td>\n",
       "    </tr>\n",
       "    <tr>\n",
       "      <th>4</th>\n",
       "      <td>Luise-Montag-Park</td>\n",
       "      <td>11</td>\n",
       "      <td>13.660 m²</td>\n",
       "      <td>Ja</td>\n",
       "    </tr>\n",
       "  </tbody>\n",
       "</table>\n",
       "</div>"
      ],
      "text/plain": [
       "                     ANL_NAME  BEZIRK    FLAECHE HUNDE_IM_PARK\n",
       "0             Ruth-Maier-Park       2   2.488 m²          Nein\n",
       "1  Vilma-Steindling-Promenade       2   4.346 m²          Nein\n",
       "2           GA Am-Ostrom-Park      22     725 m²          Nein\n",
       "3            PA Max-Patat-Weg      19   2.416 m²          Nein\n",
       "4           Luise-Montag-Park      11  13.660 m²            Ja"
      ]
     },
     "execution_count": 14,
     "metadata": {},
     "output_type": "execute_result"
    }
   ],
   "source": [
    "parks.head()"
   ]
  },
  {
   "cell_type": "code",
   "execution_count": 15,
   "id": "833ea623-a490-4804-a5a5-1cd18a70372a",
   "metadata": {
    "tags": []
   },
   "outputs": [
    {
     "data": {
      "text/plain": [
       "ANL_NAME         0\n",
       "BEZIRK           0\n",
       "FLAECHE          0\n",
       "HUNDE_IM_PARK    0\n",
       "dtype: int64"
      ]
     },
     "execution_count": 15,
     "metadata": {},
     "output_type": "execute_result"
    }
   ],
   "source": [
    "parks.isna().sum()"
   ]
  },
  {
   "cell_type": "code",
   "execution_count": 16,
   "id": "b529cfec-f043-4ce3-9e77-b87051bddb00",
   "metadata": {
    "tags": []
   },
   "outputs": [
    {
     "data": {
      "text/plain": [
       "0"
      ]
     },
     "execution_count": 16,
     "metadata": {},
     "output_type": "execute_result"
    }
   ],
   "source": [
    "parks.duplicated().sum()"
   ]
  },
  {
   "cell_type": "markdown",
   "id": "e940acb0-e6e7-4102-a31a-90410fe03ace",
   "metadata": {
    "tags": []
   },
   "source": [
    "We need to reformat BEZIRK for joining on postal code, and clean and cast the area values (FLAECHE): "
   ]
  },
  {
   "cell_type": "code",
   "execution_count": 17,
   "id": "2ab4f783-4600-436f-aacb-5d85bcf622f6",
   "metadata": {
    "tags": []
   },
   "outputs": [],
   "source": [
    "# change Bezirk to 4 digit code\n",
    "parks['BEZIRK'] = (100 + parks['BEZIRK'])*10\n",
    "# cast FLÄCHE to integer\n",
    "parks['Gruenflaeche_m2'] = parks['FLAECHE'].str.replace('.', '').replace('[^\\d.]', '', regex=True).astype(int)"
   ]
  },
  {
   "cell_type": "markdown",
   "id": "db83a026-bda4-4d49-9a46-0078e1a10d76",
   "metadata": {
    "tags": []
   },
   "source": [
    "We only want to consider parks, where dogs are allowed: "
   ]
  },
  {
   "cell_type": "code",
   "execution_count": 18,
   "id": "cbd9a145-f83a-4e12-8166-4899ec81fd84",
   "metadata": {
    "tags": []
   },
   "outputs": [],
   "source": [
    "#parks=parks[parks[\"HUNDE_IM_PARK\"] == \"Ja\"].copy() -> resulted in losing districts 7 and 8 as there are no values matching this condition\n",
    "parks.loc[parks[\"HUNDE_IM_PARK\"] == \"Nein\", \"Gruenflaeche_m2\" ] = 0 # set to zero instead"
   ]
  },
  {
   "cell_type": "code",
   "execution_count": 19,
   "id": "e5c7f591-2856-4284-995d-b57b72298e85",
   "metadata": {
    "tags": []
   },
   "outputs": [
    {
     "data": {
      "text/html": [
       "<div>\n",
       "<style scoped>\n",
       "    .dataframe tbody tr th:only-of-type {\n",
       "        vertical-align: middle;\n",
       "    }\n",
       "\n",
       "    .dataframe tbody tr th {\n",
       "        vertical-align: top;\n",
       "    }\n",
       "\n",
       "    .dataframe thead th {\n",
       "        text-align: right;\n",
       "    }\n",
       "</style>\n",
       "<table border=\"1\" class=\"dataframe\">\n",
       "  <thead>\n",
       "    <tr style=\"text-align: right;\">\n",
       "      <th></th>\n",
       "      <th>ANL_NAME</th>\n",
       "      <th>BEZIRK</th>\n",
       "      <th>FLAECHE</th>\n",
       "      <th>HUNDE_IM_PARK</th>\n",
       "      <th>Gruenflaeche_m2</th>\n",
       "    </tr>\n",
       "  </thead>\n",
       "  <tbody>\n",
       "    <tr>\n",
       "      <th>0</th>\n",
       "      <td>Ruth-Maier-Park</td>\n",
       "      <td>1020</td>\n",
       "      <td>2.488 m²</td>\n",
       "      <td>Nein</td>\n",
       "      <td>0</td>\n",
       "    </tr>\n",
       "    <tr>\n",
       "      <th>1</th>\n",
       "      <td>Vilma-Steindling-Promenade</td>\n",
       "      <td>1020</td>\n",
       "      <td>4.346 m²</td>\n",
       "      <td>Nein</td>\n",
       "      <td>0</td>\n",
       "    </tr>\n",
       "    <tr>\n",
       "      <th>2</th>\n",
       "      <td>GA Am-Ostrom-Park</td>\n",
       "      <td>1220</td>\n",
       "      <td>725 m²</td>\n",
       "      <td>Nein</td>\n",
       "      <td>0</td>\n",
       "    </tr>\n",
       "    <tr>\n",
       "      <th>3</th>\n",
       "      <td>PA Max-Patat-Weg</td>\n",
       "      <td>1190</td>\n",
       "      <td>2.416 m²</td>\n",
       "      <td>Nein</td>\n",
       "      <td>0</td>\n",
       "    </tr>\n",
       "    <tr>\n",
       "      <th>4</th>\n",
       "      <td>Luise-Montag-Park</td>\n",
       "      <td>1110</td>\n",
       "      <td>13.660 m²</td>\n",
       "      <td>Ja</td>\n",
       "      <td>13660</td>\n",
       "    </tr>\n",
       "  </tbody>\n",
       "</table>\n",
       "</div>"
      ],
      "text/plain": [
       "                     ANL_NAME  BEZIRK    FLAECHE HUNDE_IM_PARK  \\\n",
       "0             Ruth-Maier-Park    1020   2.488 m²          Nein   \n",
       "1  Vilma-Steindling-Promenade    1020   4.346 m²          Nein   \n",
       "2           GA Am-Ostrom-Park    1220     725 m²          Nein   \n",
       "3            PA Max-Patat-Weg    1190   2.416 m²          Nein   \n",
       "4           Luise-Montag-Park    1110  13.660 m²            Ja   \n",
       "\n",
       "   Gruenflaeche_m2  \n",
       "0                0  \n",
       "1                0  \n",
       "2                0  \n",
       "3                0  \n",
       "4            13660  "
      ]
     },
     "execution_count": 19,
     "metadata": {},
     "output_type": "execute_result"
    }
   ],
   "source": [
    "parks.head()"
   ]
  },
  {
   "cell_type": "markdown",
   "id": "18e9b90c-3040-446a-8644-fc109d38f5ce",
   "metadata": {
    "tags": []
   },
   "source": [
    "We can then calculate the totals per district: "
   ]
  },
  {
   "cell_type": "code",
   "execution_count": 20,
   "id": "35ce7233-c975-4228-a1da-5e01b4ce2f43",
   "metadata": {
    "tags": []
   },
   "outputs": [],
   "source": [
    "parks=parks.groupby([\"BEZIRK\"], as_index=False).sum(\"FLAECHE_m2\") "
   ]
  },
  {
   "cell_type": "code",
   "execution_count": 21,
   "id": "92524d7a-3d0d-4fb4-92f2-5056f80b5a07",
   "metadata": {
    "tags": []
   },
   "outputs": [
    {
     "data": {
      "text/plain": [
       "BEZIRK             0\n",
       "Gruenflaeche_m2    0\n",
       "dtype: int64"
      ]
     },
     "execution_count": 21,
     "metadata": {},
     "output_type": "execute_result"
    }
   ],
   "source": [
    "parks.isna().sum()"
   ]
  },
  {
   "cell_type": "code",
   "execution_count": 22,
   "id": "2e69ef21-1204-4951-a527-4b8706b89d81",
   "metadata": {
    "tags": []
   },
   "outputs": [
    {
     "data": {
      "text/plain": [
       "0"
      ]
     },
     "execution_count": 22,
     "metadata": {},
     "output_type": "execute_result"
    }
   ],
   "source": [
    "parks.duplicated().sum()"
   ]
  },
  {
   "cell_type": "code",
   "execution_count": 23,
   "id": "f4e524ba-e3f1-4411-a06e-9b792ebd6563",
   "metadata": {
    "tags": []
   },
   "outputs": [],
   "source": [
    "parks.columns=[\"postal_code\", \"green_space(sqm)\"]"
   ]
  },
  {
   "cell_type": "code",
   "execution_count": 24,
   "id": "72312fff-5dda-471a-a5c7-b15f77209385",
   "metadata": {
    "tags": []
   },
   "outputs": [],
   "source": [
    "parks.to_csv(\"parks_cleaned.csv\", index=False)"
   ]
  },
  {
   "cell_type": "markdown",
   "id": "fab3f8e9-673c-4f6d-9488-b3f7d5825991",
   "metadata": {
    "tags": []
   },
   "source": [
    "To make districts of different sizes comparable, we calculate the proportion of green areas, where dogs are allowed, in relation to total district size. We use another data set provided by the city of Vienna: "
   ]
  },
  {
   "cell_type": "code",
   "execution_count": 25,
   "id": "1e7ef5c8-7d76-4bb4-9c3c-c40ebfad8a94",
   "metadata": {
    "tags": []
   },
   "outputs": [
    {
     "data": {
      "text/html": [
       "<div>\n",
       "<style scoped>\n",
       "    .dataframe tbody tr th:only-of-type {\n",
       "        vertical-align: middle;\n",
       "    }\n",
       "\n",
       "    .dataframe tbody tr th {\n",
       "        vertical-align: top;\n",
       "    }\n",
       "\n",
       "    .dataframe thead th {\n",
       "        text-align: right;\n",
       "    }\n",
       "</style>\n",
       "<table border=\"1\" class=\"dataframe\">\n",
       "  <thead>\n",
       "    <tr style=\"text-align: right;\">\n",
       "      <th></th>\n",
       "      <th>NUTS</th>\n",
       "      <th>DISTRICT_CODE</th>\n",
       "      <th>SUB_DISTRICT_CODE</th>\n",
       "      <th>REF_YEAR</th>\n",
       "      <th>REF_DATE</th>\n",
       "      <th>POP_VALUE</th>\n",
       "      <th>AREA</th>\n",
       "      <th>POP_DENSITY</th>\n",
       "    </tr>\n",
       "  </thead>\n",
       "  <tbody>\n",
       "    <tr>\n",
       "      <th>0</th>\n",
       "      <td>AT13</td>\n",
       "      <td>90000</td>\n",
       "      <td>90000</td>\n",
       "      <td>2002</td>\n",
       "      <td>20020101</td>\n",
       "      <td>1571123</td>\n",
       "      <td>414.87</td>\n",
       "      <td>3787.02</td>\n",
       "    </tr>\n",
       "    <tr>\n",
       "      <th>1</th>\n",
       "      <td>AT13</td>\n",
       "      <td>90000</td>\n",
       "      <td>90000</td>\n",
       "      <td>2003</td>\n",
       "      <td>20030101</td>\n",
       "      <td>1592846</td>\n",
       "      <td>414.87</td>\n",
       "      <td>3839.38</td>\n",
       "    </tr>\n",
       "    <tr>\n",
       "      <th>2</th>\n",
       "      <td>AT13</td>\n",
       "      <td>90000</td>\n",
       "      <td>90000</td>\n",
       "      <td>2004</td>\n",
       "      <td>20040101</td>\n",
       "      <td>1610410</td>\n",
       "      <td>414.87</td>\n",
       "      <td>3881.71</td>\n",
       "    </tr>\n",
       "    <tr>\n",
       "      <th>3</th>\n",
       "      <td>AT13</td>\n",
       "      <td>90000</td>\n",
       "      <td>90000</td>\n",
       "      <td>2005</td>\n",
       "      <td>20050101</td>\n",
       "      <td>1632569</td>\n",
       "      <td>414.87</td>\n",
       "      <td>3935.12</td>\n",
       "    </tr>\n",
       "    <tr>\n",
       "      <th>4</th>\n",
       "      <td>AT13</td>\n",
       "      <td>90000</td>\n",
       "      <td>90000</td>\n",
       "      <td>2006</td>\n",
       "      <td>20060101</td>\n",
       "      <td>1652449</td>\n",
       "      <td>414.87</td>\n",
       "      <td>3983.04</td>\n",
       "    </tr>\n",
       "  </tbody>\n",
       "</table>\n",
       "</div>"
      ],
      "text/plain": [
       "   NUTS  DISTRICT_CODE  SUB_DISTRICT_CODE  REF_YEAR  REF_DATE  POP_VALUE  \\\n",
       "0  AT13          90000              90000      2002  20020101    1571123   \n",
       "1  AT13          90000              90000      2003  20030101    1592846   \n",
       "2  AT13          90000              90000      2004  20040101    1610410   \n",
       "3  AT13          90000              90000      2005  20050101    1632569   \n",
       "4  AT13          90000              90000      2006  20060101    1652449   \n",
       "\n",
       "     AREA  POP_DENSITY  \n",
       "0  414.87      3787.02  \n",
       "1  414.87      3839.38  \n",
       "2  414.87      3881.71  \n",
       "3  414.87      3935.12  \n",
       "4  414.87      3983.04  "
      ]
     },
     "execution_count": 25,
     "metadata": {},
     "output_type": "execute_result"
    }
   ],
   "source": [
    "districts=pd.read_csv(\"vie-bez-biz-pop-den-2002f.csv\", header=1, sep=\";\", decimal=\",\", thousands=\".\", \n",
    "                   ### set usecols to avoid empty columns for this data set\n",
    "                   usecols=['NUTS', 'DISTRICT_CODE', 'SUB_DISTRICT_CODE', 'REF_YEAR', 'REF_DATE','POP_VALUE', 'AREA', 'POP_DENSITY'])\n",
    "districts.head()\n"
   ]
  },
  {
   "cell_type": "markdown",
   "id": "842f514f-865d-49e8-9eae-63143c8d9efc",
   "metadata": {
    "tags": []
   },
   "source": [
    "We only want to keep the latest values, where the reference year (REF_YEAR) is 2023, additional variables of interest are the aforementioned district area(AREA) and the number of inhabitants per district (POP_VALUE), which will allow us to calculate the number of dogs per inhabitant. We cannot join parks with area directly, because we don't have the district numbers in this data set, but we can use DISTRICT_CODE to join with our main data set. "
   ]
  },
  {
   "cell_type": "code",
   "execution_count": 26,
   "id": "87b8df43-293b-4ba8-86e0-c670b85612a5",
   "metadata": {
    "tags": []
   },
   "outputs": [],
   "source": [
    "districts=districts[districts[\"REF_YEAR\"]==2023]\n",
    "districts=districts[[\"DISTRICT_CODE\", \"AREA\", \"POP_VALUE\", \"POP_DENSITY\"]].reset_index(drop=True)"
   ]
  },
  {
   "cell_type": "code",
   "execution_count": 27,
   "id": "182e5f5d-8c84-4c18-bd7b-555ad95edc6a",
   "metadata": {
    "tags": []
   },
   "outputs": [
    {
     "data": {
      "text/html": [
       "<div>\n",
       "<style scoped>\n",
       "    .dataframe tbody tr th:only-of-type {\n",
       "        vertical-align: middle;\n",
       "    }\n",
       "\n",
       "    .dataframe tbody tr th {\n",
       "        vertical-align: top;\n",
       "    }\n",
       "\n",
       "    .dataframe thead th {\n",
       "        text-align: right;\n",
       "    }\n",
       "</style>\n",
       "<table border=\"1\" class=\"dataframe\">\n",
       "  <thead>\n",
       "    <tr style=\"text-align: right;\">\n",
       "      <th></th>\n",
       "      <th>DISTRICT_CODE</th>\n",
       "      <th>AREA</th>\n",
       "      <th>POP_VALUE</th>\n",
       "      <th>POP_DENSITY</th>\n",
       "    </tr>\n",
       "  </thead>\n",
       "  <tbody>\n",
       "    <tr>\n",
       "      <th>0</th>\n",
       "      <td>90000</td>\n",
       "      <td>414.87</td>\n",
       "      <td>1982097</td>\n",
       "      <td>4777.62</td>\n",
       "    </tr>\n",
       "    <tr>\n",
       "      <th>1</th>\n",
       "      <td>90100</td>\n",
       "      <td>2.87</td>\n",
       "      <td>16620</td>\n",
       "      <td>5793.42</td>\n",
       "    </tr>\n",
       "    <tr>\n",
       "      <th>2</th>\n",
       "      <td>90200</td>\n",
       "      <td>19.24</td>\n",
       "      <td>108269</td>\n",
       "      <td>5626.70</td>\n",
       "    </tr>\n",
       "    <tr>\n",
       "      <th>3</th>\n",
       "      <td>90300</td>\n",
       "      <td>7.40</td>\n",
       "      <td>96756</td>\n",
       "      <td>13079.13</td>\n",
       "    </tr>\n",
       "    <tr>\n",
       "      <th>4</th>\n",
       "      <td>90400</td>\n",
       "      <td>1.78</td>\n",
       "      <td>33633</td>\n",
       "      <td>18945.95</td>\n",
       "    </tr>\n",
       "  </tbody>\n",
       "</table>\n",
       "</div>"
      ],
      "text/plain": [
       "   DISTRICT_CODE    AREA  POP_VALUE  POP_DENSITY\n",
       "0          90000  414.87    1982097      4777.62\n",
       "1          90100    2.87      16620      5793.42\n",
       "2          90200   19.24     108269      5626.70\n",
       "3          90300    7.40      96756     13079.13\n",
       "4          90400    1.78      33633     18945.95"
      ]
     },
     "execution_count": 27,
     "metadata": {},
     "output_type": "execute_result"
    }
   ],
   "source": [
    "districts.head()"
   ]
  },
  {
   "cell_type": "code",
   "execution_count": 28,
   "id": "d2579218-7d1c-4198-a567-960068518ca7",
   "metadata": {
    "tags": []
   },
   "outputs": [
    {
     "data": {
      "text/plain": [
       "DISTRICT_CODE      int64\n",
       "AREA             float64\n",
       "POP_VALUE          int64\n",
       "POP_DENSITY      float64\n",
       "dtype: object"
      ]
     },
     "execution_count": 28,
     "metadata": {},
     "output_type": "execute_result"
    }
   ],
   "source": [
    "districts.dtypes"
   ]
  },
  {
   "cell_type": "markdown",
   "id": "dded406a-1780-4df6-aa42-a78a44033352",
   "metadata": {
    "tags": []
   },
   "source": [
    "To align with the park dataset, the area provided in square kilometers is converted to square meters."
   ]
  },
  {
   "cell_type": "code",
   "execution_count": 29,
   "id": "4ad1e6ce-b585-4262-8f85-b266f1aa725c",
   "metadata": {
    "tags": []
   },
   "outputs": [
    {
     "data": {
      "text/html": [
       "<div>\n",
       "<style scoped>\n",
       "    .dataframe tbody tr th:only-of-type {\n",
       "        vertical-align: middle;\n",
       "    }\n",
       "\n",
       "    .dataframe tbody tr th {\n",
       "        vertical-align: top;\n",
       "    }\n",
       "\n",
       "    .dataframe thead th {\n",
       "        text-align: right;\n",
       "    }\n",
       "</style>\n",
       "<table border=\"1\" class=\"dataframe\">\n",
       "  <thead>\n",
       "    <tr style=\"text-align: right;\">\n",
       "      <th></th>\n",
       "      <th>DISTRICT_CODE</th>\n",
       "      <th>AREA</th>\n",
       "      <th>POP_VALUE</th>\n",
       "      <th>POP_DENSITY</th>\n",
       "    </tr>\n",
       "  </thead>\n",
       "  <tbody>\n",
       "    <tr>\n",
       "      <th>0</th>\n",
       "      <td>90000</td>\n",
       "      <td>414870000</td>\n",
       "      <td>1982097</td>\n",
       "      <td>4777.62</td>\n",
       "    </tr>\n",
       "    <tr>\n",
       "      <th>1</th>\n",
       "      <td>90100</td>\n",
       "      <td>2870000</td>\n",
       "      <td>16620</td>\n",
       "      <td>5793.42</td>\n",
       "    </tr>\n",
       "    <tr>\n",
       "      <th>2</th>\n",
       "      <td>90200</td>\n",
       "      <td>19240000</td>\n",
       "      <td>108269</td>\n",
       "      <td>5626.70</td>\n",
       "    </tr>\n",
       "    <tr>\n",
       "      <th>3</th>\n",
       "      <td>90300</td>\n",
       "      <td>7400000</td>\n",
       "      <td>96756</td>\n",
       "      <td>13079.13</td>\n",
       "    </tr>\n",
       "    <tr>\n",
       "      <th>4</th>\n",
       "      <td>90400</td>\n",
       "      <td>1780000</td>\n",
       "      <td>33633</td>\n",
       "      <td>18945.95</td>\n",
       "    </tr>\n",
       "  </tbody>\n",
       "</table>\n",
       "</div>"
      ],
      "text/plain": [
       "   DISTRICT_CODE       AREA  POP_VALUE  POP_DENSITY\n",
       "0          90000  414870000    1982097      4777.62\n",
       "1          90100    2870000      16620      5793.42\n",
       "2          90200   19240000     108269      5626.70\n",
       "3          90300    7400000      96756     13079.13\n",
       "4          90400    1780000      33633     18945.95"
      ]
     },
     "execution_count": 29,
     "metadata": {},
     "output_type": "execute_result"
    }
   ],
   "source": [
    "districts[\"AREA\"]=(districts[\"AREA\"]*1e+6).astype(int)\n",
    "districts.head()"
   ]
  },
  {
   "cell_type": "code",
   "execution_count": 30,
   "id": "472add4b-91df-48b8-a09c-149335f1e26b",
   "metadata": {
    "tags": []
   },
   "outputs": [],
   "source": [
    "districts.columns=districts.columns.str.lower()"
   ]
  },
  {
   "cell_type": "code",
   "execution_count": 31,
   "id": "cf16ef69-a397-4f82-a9d4-53910f18b1bf",
   "metadata": {
    "tags": []
   },
   "outputs": [],
   "source": [
    "districts.to_csv(\"districts_cleaned_2023.csv\", index=False)"
   ]
  },
  {
   "cell_type": "markdown",
   "id": "4665cb0a-175e-409a-98bc-060469aa3140",
   "metadata": {},
   "source": [
    "Geographical Data of Vienna"
   ]
  },
  {
   "cell_type": "code",
   "execution_count": 32,
   "id": "40e19f32-a7ad-4d0e-bb66-0f27cf8ab073",
   "metadata": {
    "tags": []
   },
   "outputs": [
    {
     "data": {
      "text/html": [
       "<div>\n",
       "<style scoped>\n",
       "    .dataframe tbody tr th:only-of-type {\n",
       "        vertical-align: middle;\n",
       "    }\n",
       "\n",
       "    .dataframe tbody tr th {\n",
       "        vertical-align: top;\n",
       "    }\n",
       "\n",
       "    .dataframe thead th {\n",
       "        text-align: right;\n",
       "    }\n",
       "</style>\n",
       "<table border=\"1\" class=\"dataframe\">\n",
       "  <thead>\n",
       "    <tr style=\"text-align: right;\">\n",
       "      <th></th>\n",
       "      <th>id</th>\n",
       "      <th>NAMEK</th>\n",
       "      <th>BEZNR</th>\n",
       "      <th>BEZ_RZ</th>\n",
       "      <th>NAMEK_NUM</th>\n",
       "      <th>NAMEK_RZ</th>\n",
       "      <th>NAMEG</th>\n",
       "      <th>LABEL</th>\n",
       "      <th>BEZ</th>\n",
       "      <th>DISTRICT_CODE</th>\n",
       "      <th>STATAUSTRIA_BEZ_CODE</th>\n",
       "      <th>STATAUSTRIA_GEM_CODE</th>\n",
       "      <th>FLAECHE</th>\n",
       "      <th>UMFANG</th>\n",
       "      <th>AKT_TIMESTAMP</th>\n",
       "      <th>SE_SDO_ROWID</th>\n",
       "      <th>SE_ANNO_CAD_DATA</th>\n",
       "      <th>geometry</th>\n",
       "    </tr>\n",
       "  </thead>\n",
       "  <tbody>\n",
       "    <tr>\n",
       "      <th>0</th>\n",
       "      <td>BEZIRKSGRENZEOGD.13126</td>\n",
       "      <td>Hietzing</td>\n",
       "      <td>13</td>\n",
       "      <td>XIII</td>\n",
       "      <td>13., Hietzing</td>\n",
       "      <td>XIII. Hietzing</td>\n",
       "      <td>HIETZING</td>\n",
       "      <td>XIII.</td>\n",
       "      <td>13</td>\n",
       "      <td>1130</td>\n",
       "      <td>913</td>\n",
       "      <td>91301</td>\n",
       "      <td>3.771397e+07</td>\n",
       "      <td>29668.16</td>\n",
       "      <td>2023-07-17</td>\n",
       "      <td>13126</td>\n",
       "      <td>[B@3a651409</td>\n",
       "      <td>POLYGON ((-8763.210 340909.450, -8765.580 3409...</td>\n",
       "    </tr>\n",
       "    <tr>\n",
       "      <th>1</th>\n",
       "      <td>BEZIRKSGRENZEOGD.13127</td>\n",
       "      <td>Rudolfsheim-Fünfhaus</td>\n",
       "      <td>15</td>\n",
       "      <td>XV</td>\n",
       "      <td>15., Rudolfsheim-Fünfhaus</td>\n",
       "      <td>XV. Rudolfsheim-Fünfhaus</td>\n",
       "      <td>RUDOLFSHEIM-FÜNFHAUS</td>\n",
       "      <td>XV.</td>\n",
       "      <td>15</td>\n",
       "      <td>1150</td>\n",
       "      <td>915</td>\n",
       "      <td>91501</td>\n",
       "      <td>3.916953e+06</td>\n",
       "      <td>9711.71</td>\n",
       "      <td>2023-07-17</td>\n",
       "      <td>13127</td>\n",
       "      <td>[B@d053880</td>\n",
       "      <td>POLYGON ((-357.534 340733.416, -504.213 340767...</td>\n",
       "    </tr>\n",
       "    <tr>\n",
       "      <th>2</th>\n",
       "      <td>BEZIRKSGRENZEOGD.13128</td>\n",
       "      <td>Neubau</td>\n",
       "      <td>7</td>\n",
       "      <td>VII</td>\n",
       "      <td>7., Neubau</td>\n",
       "      <td>VII. Neubau</td>\n",
       "      <td>NEUBAU</td>\n",
       "      <td>VII.</td>\n",
       "      <td>07</td>\n",
       "      <td>1070</td>\n",
       "      <td>907</td>\n",
       "      <td>90701</td>\n",
       "      <td>1.608248e+06</td>\n",
       "      <td>5312.54</td>\n",
       "      <td>2023-07-17</td>\n",
       "      <td>13128</td>\n",
       "      <td>None</td>\n",
       "      <td>POLYGON ((489.850 341126.150, 469.230 341131.3...</td>\n",
       "    </tr>\n",
       "    <tr>\n",
       "      <th>3</th>\n",
       "      <td>BEZIRKSGRENZEOGD.13129</td>\n",
       "      <td>Landstraße</td>\n",
       "      <td>3</td>\n",
       "      <td>III</td>\n",
       "      <td>3., Landstraße</td>\n",
       "      <td>III. Landstraße</td>\n",
       "      <td>LANDSTRASSE</td>\n",
       "      <td>III.</td>\n",
       "      <td>03</td>\n",
       "      <td>1030</td>\n",
       "      <td>903</td>\n",
       "      <td>90301</td>\n",
       "      <td>7.403038e+06</td>\n",
       "      <td>13961.80</td>\n",
       "      <td>2023-07-17</td>\n",
       "      <td>13129</td>\n",
       "      <td>[B@68d9190b</td>\n",
       "      <td>POLYGON ((4792.732 341000.000, 4790.030 341020...</td>\n",
       "    </tr>\n",
       "    <tr>\n",
       "      <th>4</th>\n",
       "      <td>BEZIRKSGRENZEOGD.13130</td>\n",
       "      <td>Josefstadt</td>\n",
       "      <td>8</td>\n",
       "      <td>VIII</td>\n",
       "      <td>8., Josefstadt</td>\n",
       "      <td>VIII. Josefstadt</td>\n",
       "      <td>JOSEFSTADT</td>\n",
       "      <td>VIII.</td>\n",
       "      <td>08</td>\n",
       "      <td>1080</td>\n",
       "      <td>908</td>\n",
       "      <td>90801</td>\n",
       "      <td>1.089946e+06</td>\n",
       "      <td>4170.30</td>\n",
       "      <td>2023-07-17</td>\n",
       "      <td>13130</td>\n",
       "      <td>None</td>\n",
       "      <td>POLYGON ((1264.360 341862.440, 1250.000 341864...</td>\n",
       "    </tr>\n",
       "  </tbody>\n",
       "</table>\n",
       "</div>"
      ],
      "text/plain": [
       "                       id                 NAMEK  BEZNR BEZ_RZ  \\\n",
       "0  BEZIRKSGRENZEOGD.13126              Hietzing     13   XIII   \n",
       "1  BEZIRKSGRENZEOGD.13127  Rudolfsheim-Fünfhaus     15     XV   \n",
       "2  BEZIRKSGRENZEOGD.13128                Neubau      7    VII   \n",
       "3  BEZIRKSGRENZEOGD.13129            Landstraße      3    III   \n",
       "4  BEZIRKSGRENZEOGD.13130            Josefstadt      8   VIII   \n",
       "\n",
       "                   NAMEK_NUM                  NAMEK_RZ                 NAMEG  \\\n",
       "0              13., Hietzing            XIII. Hietzing              HIETZING   \n",
       "1  15., Rudolfsheim-Fünfhaus  XV. Rudolfsheim-Fünfhaus  RUDOLFSHEIM-FÜNFHAUS   \n",
       "2                 7., Neubau               VII. Neubau                NEUBAU   \n",
       "3             3., Landstraße           III. Landstraße           LANDSTRASSE   \n",
       "4             8., Josefstadt          VIII. Josefstadt            JOSEFSTADT   \n",
       "\n",
       "   LABEL BEZ  DISTRICT_CODE  STATAUSTRIA_BEZ_CODE  STATAUSTRIA_GEM_CODE  \\\n",
       "0  XIII.  13           1130                   913                 91301   \n",
       "1    XV.  15           1150                   915                 91501   \n",
       "2   VII.  07           1070                   907                 90701   \n",
       "3   III.  03           1030                   903                 90301   \n",
       "4  VIII.  08           1080                   908                 90801   \n",
       "\n",
       "        FLAECHE    UMFANG AKT_TIMESTAMP  SE_SDO_ROWID SE_ANNO_CAD_DATA  \\\n",
       "0  3.771397e+07  29668.16    2023-07-17         13126      [B@3a651409   \n",
       "1  3.916953e+06   9711.71    2023-07-17         13127       [B@d053880   \n",
       "2  1.608248e+06   5312.54    2023-07-17         13128             None   \n",
       "3  7.403038e+06  13961.80    2023-07-17         13129      [B@68d9190b   \n",
       "4  1.089946e+06   4170.30    2023-07-17         13130             None   \n",
       "\n",
       "                                            geometry  \n",
       "0  POLYGON ((-8763.210 340909.450, -8765.580 3409...  \n",
       "1  POLYGON ((-357.534 340733.416, -504.213 340767...  \n",
       "2  POLYGON ((489.850 341126.150, 469.230 341131.3...  \n",
       "3  POLYGON ((4792.732 341000.000, 4790.030 341020...  \n",
       "4  POLYGON ((1264.360 341862.440, 1250.000 341864...  "
      ]
     },
     "execution_count": 32,
     "metadata": {},
     "output_type": "execute_result"
    }
   ],
   "source": [
    "vd = gpd.read_file('BEZIRKSGRENZEOGD.json')\n",
    "vd.head()"
   ]
  },
  {
   "cell_type": "code",
   "execution_count": 33,
   "id": "2e32bcd0-57a7-4e01-94c9-7fd38b5e0db9",
   "metadata": {
    "tags": []
   },
   "outputs": [
    {
     "data": {
      "text/html": [
       "<div>\n",
       "<style scoped>\n",
       "    .dataframe tbody tr th:only-of-type {\n",
       "        vertical-align: middle;\n",
       "    }\n",
       "\n",
       "    .dataframe tbody tr th {\n",
       "        vertical-align: top;\n",
       "    }\n",
       "\n",
       "    .dataframe thead th {\n",
       "        text-align: right;\n",
       "    }\n",
       "</style>\n",
       "<table border=\"1\" class=\"dataframe\">\n",
       "  <thead>\n",
       "    <tr style=\"text-align: right;\">\n",
       "      <th></th>\n",
       "      <th>STATAUSTRIA_BEZ_CODE</th>\n",
       "      <th>geometry</th>\n",
       "    </tr>\n",
       "  </thead>\n",
       "  <tbody>\n",
       "    <tr>\n",
       "      <th>0</th>\n",
       "      <td>901</td>\n",
       "      <td>POLYGON ((3010.180 342025.230, 2995.920 342041...</td>\n",
       "    </tr>\n",
       "    <tr>\n",
       "      <th>1</th>\n",
       "      <td>902</td>\n",
       "      <td>POLYGON ((5298.420 343728.290, 5239.530 343799...</td>\n",
       "    </tr>\n",
       "    <tr>\n",
       "      <th>2</th>\n",
       "      <td>903</td>\n",
       "      <td>POLYGON ((4792.732 341000.000, 4790.030 341020...</td>\n",
       "    </tr>\n",
       "    <tr>\n",
       "      <th>3</th>\n",
       "      <td>904</td>\n",
       "      <td>POLYGON ((3071.798 340143.192, 3048.078 340150...</td>\n",
       "    </tr>\n",
       "    <tr>\n",
       "      <th>4</th>\n",
       "      <td>905</td>\n",
       "      <td>POLYGON ((2030.550 339801.010, 2024.690 339811...</td>\n",
       "    </tr>\n",
       "    <tr>\n",
       "      <th>5</th>\n",
       "      <td>906</td>\n",
       "      <td>POLYGON ((2299.120 340380.350, 2299.366 340380...</td>\n",
       "    </tr>\n",
       "    <tr>\n",
       "      <th>6</th>\n",
       "      <td>907</td>\n",
       "      <td>POLYGON ((489.850 341126.150, 469.230 341131.3...</td>\n",
       "    </tr>\n",
       "    <tr>\n",
       "      <th>7</th>\n",
       "      <td>908</td>\n",
       "      <td>POLYGON ((1264.360 341862.440, 1250.000 341864...</td>\n",
       "    </tr>\n",
       "    <tr>\n",
       "      <th>8</th>\n",
       "      <td>909</td>\n",
       "      <td>POLYGON ((2193.044 343726.370, 2192.422 343728...</td>\n",
       "    </tr>\n",
       "    <tr>\n",
       "      <th>9</th>\n",
       "      <td>910</td>\n",
       "      <td>POLYGON ((3819.837 338543.476, 3818.321 338545...</td>\n",
       "    </tr>\n",
       "    <tr>\n",
       "      <th>10</th>\n",
       "      <td>911</td>\n",
       "      <td>POLYGON ((6978.460 338576.820, 6954.700 338584...</td>\n",
       "    </tr>\n",
       "    <tr>\n",
       "      <th>11</th>\n",
       "      <td>912</td>\n",
       "      <td>POLYGON ((714.330 338894.410, 685.880 338892.2...</td>\n",
       "    </tr>\n",
       "    <tr>\n",
       "      <th>12</th>\n",
       "      <td>913</td>\n",
       "      <td>POLYGON ((-8763.210 340909.450, -8765.580 3409...</td>\n",
       "    </tr>\n",
       "    <tr>\n",
       "      <th>13</th>\n",
       "      <td>914</td>\n",
       "      <td>POLYGON ((-9131.416 347313.640, -9144.960 3473...</td>\n",
       "    </tr>\n",
       "    <tr>\n",
       "      <th>14</th>\n",
       "      <td>915</td>\n",
       "      <td>POLYGON ((-357.534 340733.416, -504.213 340767...</td>\n",
       "    </tr>\n",
       "    <tr>\n",
       "      <th>15</th>\n",
       "      <td>916</td>\n",
       "      <td>POLYGON ((-4155.210 343184.980, -4161.330 3431...</td>\n",
       "    </tr>\n",
       "    <tr>\n",
       "      <th>16</th>\n",
       "      <td>917</td>\n",
       "      <td>POLYGON ((-3487.820 346494.080, -3488.876 3465...</td>\n",
       "    </tr>\n",
       "    <tr>\n",
       "      <th>17</th>\n",
       "      <td>918</td>\n",
       "      <td>POLYGON ((-2756.250 345694.030, -2769.600 3456...</td>\n",
       "    </tr>\n",
       "    <tr>\n",
       "      <th>18</th>\n",
       "      <td>919</td>\n",
       "      <td>POLYGON ((1832.030 349327.000, 1821.630 349346...</td>\n",
       "    </tr>\n",
       "    <tr>\n",
       "      <th>19</th>\n",
       "      <td>920</td>\n",
       "      <td>POLYGON ((3079.950 346990.410, 3074.560 347000...</td>\n",
       "    </tr>\n",
       "    <tr>\n",
       "      <th>20</th>\n",
       "      <td>921</td>\n",
       "      <td>POLYGON ((7834.760 353170.780, 7771.140 353202...</td>\n",
       "    </tr>\n",
       "    <tr>\n",
       "      <th>21</th>\n",
       "      <td>922</td>\n",
       "      <td>POLYGON ((13043.040 348358.060, 12974.510 3483...</td>\n",
       "    </tr>\n",
       "    <tr>\n",
       "      <th>22</th>\n",
       "      <td>923</td>\n",
       "      <td>POLYGON ((-3837.754 335625.477, -3897.490 3356...</td>\n",
       "    </tr>\n",
       "  </tbody>\n",
       "</table>\n",
       "</div>"
      ],
      "text/plain": [
       "    STATAUSTRIA_BEZ_CODE                                           geometry\n",
       "0                    901  POLYGON ((3010.180 342025.230, 2995.920 342041...\n",
       "1                    902  POLYGON ((5298.420 343728.290, 5239.530 343799...\n",
       "2                    903  POLYGON ((4792.732 341000.000, 4790.030 341020...\n",
       "3                    904  POLYGON ((3071.798 340143.192, 3048.078 340150...\n",
       "4                    905  POLYGON ((2030.550 339801.010, 2024.690 339811...\n",
       "5                    906  POLYGON ((2299.120 340380.350, 2299.366 340380...\n",
       "6                    907  POLYGON ((489.850 341126.150, 469.230 341131.3...\n",
       "7                    908  POLYGON ((1264.360 341862.440, 1250.000 341864...\n",
       "8                    909  POLYGON ((2193.044 343726.370, 2192.422 343728...\n",
       "9                    910  POLYGON ((3819.837 338543.476, 3818.321 338545...\n",
       "10                   911  POLYGON ((6978.460 338576.820, 6954.700 338584...\n",
       "11                   912  POLYGON ((714.330 338894.410, 685.880 338892.2...\n",
       "12                   913  POLYGON ((-8763.210 340909.450, -8765.580 3409...\n",
       "13                   914  POLYGON ((-9131.416 347313.640, -9144.960 3473...\n",
       "14                   915  POLYGON ((-357.534 340733.416, -504.213 340767...\n",
       "15                   916  POLYGON ((-4155.210 343184.980, -4161.330 3431...\n",
       "16                   917  POLYGON ((-3487.820 346494.080, -3488.876 3465...\n",
       "17                   918  POLYGON ((-2756.250 345694.030, -2769.600 3456...\n",
       "18                   919  POLYGON ((1832.030 349327.000, 1821.630 349346...\n",
       "19                   920  POLYGON ((3079.950 346990.410, 3074.560 347000...\n",
       "20                   921  POLYGON ((7834.760 353170.780, 7771.140 353202...\n",
       "21                   922  POLYGON ((13043.040 348358.060, 12974.510 3483...\n",
       "22                   923  POLYGON ((-3837.754 335625.477, -3897.490 3356..."
      ]
     },
     "execution_count": 33,
     "metadata": {},
     "output_type": "execute_result"
    }
   ],
   "source": [
    "#Selecting the columns wie require for the geographical output\n",
    "vd=vd[['STATAUSTRIA_BEZ_CODE','geometry']]\n",
    "vd=vd.sort_values(by='STATAUSTRIA_BEZ_CODE').reset_index(drop=True) #Sorting  by District Code\n",
    "vd"
   ]
  },
  {
   "cell_type": "markdown",
   "id": "b041e827-fd81-4eb8-95d3-9e6ae1c77ca7",
   "metadata": {
    "tags": []
   },
   "source": [
    "## E2 - Exploratory data analysis (EDA)\n",
    "Use the clean dataset and to understand and explore the relationships in the data (numerical, visual, statistical). This includes at least but is not limited to:\n",
    "- A comprehensive textual description of meaning for relevant fields in the dataset\n",
    "- Statistical/numerical descriptions and visualization techniques we learned in the course inluding correlations, distributions and groupings of variing degrees.\n",
    "- Checks for data quality, e. g., completeness, plausibility, outliers\n",
    "- Handling any identified problems with the data\n",
    "- If necessary, use additional data wrangling in line with your EDA and only keep what's necessary for the following steps of your analysis with appropriate data granularity and form (\"tidy data\")\n",
    "\n",
    "Don't:\n",
    "- test/prove hypotheses here. EDA should only motivate hypotheses. \n",
    "\n",
    "Advanced/bonus:\n",
    "- Depending on your hypothesis you may want to join external data (e.g., merge external highest education level to existing vaccination data) for additional insights.\n",
    "\n",
    "Explain all steps taken and your thinking why you deem them necessary."
   ]
  },
  {
   "cell_type": "code",
   "execution_count": 34,
   "id": "370ab718-fa85-4fd8-adee-7643970042ad",
   "metadata": {},
   "outputs": [
    {
     "data": {
      "text/html": [
       "<div>\n",
       "<style scoped>\n",
       "    .dataframe tbody tr th:only-of-type {\n",
       "        vertical-align: middle;\n",
       "    }\n",
       "\n",
       "    .dataframe tbody tr th {\n",
       "        vertical-align: top;\n",
       "    }\n",
       "\n",
       "    .dataframe thead th {\n",
       "        text-align: right;\n",
       "    }\n",
       "</style>\n",
       "<table border=\"1\" class=\"dataframe\">\n",
       "  <thead>\n",
       "    <tr style=\"text-align: right;\">\n",
       "      <th></th>\n",
       "      <th>district_code</th>\n",
       "      <th>postal_code</th>\n",
       "      <th>dog_breed</th>\n",
       "      <th>anzahl</th>\n",
       "      <th>inner_district</th>\n",
       "      <th>mixed_breed</th>\n",
       "      <th>dogs_value</th>\n",
       "    </tr>\n",
       "  </thead>\n",
       "  <tbody>\n",
       "    <tr>\n",
       "      <th>0</th>\n",
       "      <td>90100</td>\n",
       "      <td>1010</td>\n",
       "      <td>Akita / Belgischer Schäferhund</td>\n",
       "      <td>1</td>\n",
       "      <td>1</td>\n",
       "      <td>1</td>\n",
       "      <td>1</td>\n",
       "    </tr>\n",
       "    <tr>\n",
       "      <th>1</th>\n",
       "      <td>90100</td>\n",
       "      <td>1010</td>\n",
       "      <td>American Cocker Spaniel</td>\n",
       "      <td>2</td>\n",
       "      <td>1</td>\n",
       "      <td>0</td>\n",
       "      <td>2</td>\n",
       "    </tr>\n",
       "    <tr>\n",
       "      <th>2</th>\n",
       "      <td>90100</td>\n",
       "      <td>1010</td>\n",
       "      <td>American Cocker Spaniel / Pudel</td>\n",
       "      <td>1</td>\n",
       "      <td>1</td>\n",
       "      <td>1</td>\n",
       "      <td>1</td>\n",
       "    </tr>\n",
       "    <tr>\n",
       "      <th>3</th>\n",
       "      <td>90100</td>\n",
       "      <td>1010</td>\n",
       "      <td>American Staffordshire Terrier</td>\n",
       "      <td>1</td>\n",
       "      <td>1</td>\n",
       "      <td>0</td>\n",
       "      <td>1</td>\n",
       "    </tr>\n",
       "    <tr>\n",
       "      <th>4</th>\n",
       "      <td>90100</td>\n",
       "      <td>1010</td>\n",
       "      <td>Australian Shepherd</td>\n",
       "      <td>5</td>\n",
       "      <td>1</td>\n",
       "      <td>0</td>\n",
       "      <td>5</td>\n",
       "    </tr>\n",
       "  </tbody>\n",
       "</table>\n",
       "</div>"
      ],
      "text/plain": [
       "   district_code  postal_code                        dog_breed  anzahl  \\\n",
       "0          90100         1010   Akita / Belgischer Schäferhund       1   \n",
       "1          90100         1010          American Cocker Spaniel       2   \n",
       "2          90100         1010  American Cocker Spaniel / Pudel       1   \n",
       "3          90100         1010   American Staffordshire Terrier       1   \n",
       "4          90100         1010              Australian Shepherd       5   \n",
       "\n",
       "   inner_district  mixed_breed  dogs_value  \n",
       "0               1            1           1  \n",
       "1               1            0           2  \n",
       "2               1            1           1  \n",
       "3               1            0           1  \n",
       "4               1            0           5  "
      ]
     },
     "execution_count": 34,
     "metadata": {},
     "output_type": "execute_result"
    }
   ],
   "source": [
    "df = pd.read_csv(\"dogs_cleaned.csv\")\n",
    "df.head()"
   ]
  },
  {
   "cell_type": "markdown",
   "id": "d696f95e",
   "metadata": {},
   "source": [
    "#### Groupy by inner/outer districts"
   ]
  },
  {
   "cell_type": "code",
   "execution_count": 35,
   "id": "bc62f132-be6d-46cc-9697-25546ac356cb",
   "metadata": {
    "tags": []
   },
   "outputs": [],
   "source": [
    "# Group by 'dog_breed' and 'inner_outer', then sum the 'dogs_value' for each group\n",
    "result = df.groupby(['dog_breed', 'inner_district']).agg(summe_dogs_value=('dogs_value', 'sum')).reset_index()\n",
    "\n",
    "# Sort the result by 'summe_dogs_value' in descending order\n",
    "result = result.sort_values(by='summe_dogs_value', ascending=False)"
   ]
  },
  {
   "cell_type": "code",
   "execution_count": 36,
   "id": "8e424414-d82b-454e-8094-4fad18dbbb08",
   "metadata": {
    "tags": []
   },
   "outputs": [
    {
     "data": {
      "text/html": [
       "<div>\n",
       "<style scoped>\n",
       "    .dataframe tbody tr th:only-of-type {\n",
       "        vertical-align: middle;\n",
       "    }\n",
       "\n",
       "    .dataframe tbody tr th {\n",
       "        vertical-align: top;\n",
       "    }\n",
       "\n",
       "    .dataframe thead th {\n",
       "        text-align: right;\n",
       "    }\n",
       "</style>\n",
       "<table border=\"1\" class=\"dataframe\">\n",
       "  <thead>\n",
       "    <tr style=\"text-align: right;\">\n",
       "      <th></th>\n",
       "      <th>dog_breed</th>\n",
       "      <th>inner_district</th>\n",
       "      <th>summe_dogs_value</th>\n",
       "    </tr>\n",
       "  </thead>\n",
       "  <tbody>\n",
       "    <tr>\n",
       "      <th>3669</th>\n",
       "      <td>Unbekannt / Mischling</td>\n",
       "      <td>1</td>\n",
       "      <td>1104</td>\n",
       "    </tr>\n",
       "    <tr>\n",
       "      <th>2343</th>\n",
       "      <td>Labrador Retriever</td>\n",
       "      <td>1</td>\n",
       "      <td>380</td>\n",
       "    </tr>\n",
       "    <tr>\n",
       "      <th>3665</th>\n",
       "      <td>Unbekannt</td>\n",
       "      <td>1</td>\n",
       "      <td>348</td>\n",
       "    </tr>\n",
       "    <tr>\n",
       "      <th>807</th>\n",
       "      <td>Chihuahua Kurzhaar</td>\n",
       "      <td>1</td>\n",
       "      <td>316</td>\n",
       "    </tr>\n",
       "    <tr>\n",
       "      <th>2673</th>\n",
       "      <td>Malteser</td>\n",
       "      <td>1</td>\n",
       "      <td>286</td>\n",
       "    </tr>\n",
       "    <tr>\n",
       "      <th>1637</th>\n",
       "      <td>Französische Bulldogge</td>\n",
       "      <td>1</td>\n",
       "      <td>246</td>\n",
       "    </tr>\n",
       "    <tr>\n",
       "      <th>3800</th>\n",
       "      <td>Yorkshire Terrier</td>\n",
       "      <td>1</td>\n",
       "      <td>225</td>\n",
       "    </tr>\n",
       "    <tr>\n",
       "      <th>1675</th>\n",
       "      <td>Golden Retriever</td>\n",
       "      <td>1</td>\n",
       "      <td>211</td>\n",
       "    </tr>\n",
       "    <tr>\n",
       "      <th>2470</th>\n",
       "      <td>Labrador Retriever / Mischling</td>\n",
       "      <td>1</td>\n",
       "      <td>193</td>\n",
       "    </tr>\n",
       "    <tr>\n",
       "      <th>115</th>\n",
       "      <td>American Staffordshire Terrier</td>\n",
       "      <td>1</td>\n",
       "      <td>168</td>\n",
       "    </tr>\n",
       "  </tbody>\n",
       "</table>\n",
       "</div>"
      ],
      "text/plain": [
       "                           dog_breed  inner_district  summe_dogs_value\n",
       "3669           Unbekannt / Mischling               1              1104\n",
       "2343              Labrador Retriever               1               380\n",
       "3665                       Unbekannt               1               348\n",
       "807               Chihuahua Kurzhaar               1               316\n",
       "2673                        Malteser               1               286\n",
       "1637          Französische Bulldogge               1               246\n",
       "3800               Yorkshire Terrier               1               225\n",
       "1675                Golden Retriever               1               211\n",
       "2470  Labrador Retriever / Mischling               1               193\n",
       "115   American Staffordshire Terrier               1               168"
      ]
     },
     "execution_count": 36,
     "metadata": {},
     "output_type": "execute_result"
    }
   ],
   "source": [
    "result_inner = result[result['inner_district'] == 1]\n",
    "result_inner.head(10)"
   ]
  },
  {
   "cell_type": "code",
   "execution_count": 37,
   "id": "7c0eb68d-15f6-40b1-ae1c-5d07b7ee80c4",
   "metadata": {
    "tags": []
   },
   "outputs": [
    {
     "data": {
      "text/html": [
       "<div>\n",
       "<style scoped>\n",
       "    .dataframe tbody tr th:only-of-type {\n",
       "        vertical-align: middle;\n",
       "    }\n",
       "\n",
       "    .dataframe tbody tr th {\n",
       "        vertical-align: top;\n",
       "    }\n",
       "\n",
       "    .dataframe thead th {\n",
       "        text-align: right;\n",
       "    }\n",
       "</style>\n",
       "<table border=\"1\" class=\"dataframe\">\n",
       "  <thead>\n",
       "    <tr style=\"text-align: right;\">\n",
       "      <th></th>\n",
       "      <th>dog_breed</th>\n",
       "      <th>inner_district</th>\n",
       "      <th>summe_dogs_value</th>\n",
       "    </tr>\n",
       "  </thead>\n",
       "  <tbody>\n",
       "    <tr>\n",
       "      <th>3668</th>\n",
       "      <td>Unbekannt / Mischling</td>\n",
       "      <td>0</td>\n",
       "      <td>5436</td>\n",
       "    </tr>\n",
       "    <tr>\n",
       "      <th>806</th>\n",
       "      <td>Chihuahua Kurzhaar</td>\n",
       "      <td>0</td>\n",
       "      <td>2200</td>\n",
       "    </tr>\n",
       "    <tr>\n",
       "      <th>2342</th>\n",
       "      <td>Labrador Retriever</td>\n",
       "      <td>0</td>\n",
       "      <td>1874</td>\n",
       "    </tr>\n",
       "    <tr>\n",
       "      <th>3664</th>\n",
       "      <td>Unbekannt</td>\n",
       "      <td>0</td>\n",
       "      <td>1870</td>\n",
       "    </tr>\n",
       "    <tr>\n",
       "      <th>2672</th>\n",
       "      <td>Malteser</td>\n",
       "      <td>0</td>\n",
       "      <td>1610</td>\n",
       "    </tr>\n",
       "    <tr>\n",
       "      <th>1636</th>\n",
       "      <td>Französische Bulldogge</td>\n",
       "      <td>0</td>\n",
       "      <td>1328</td>\n",
       "    </tr>\n",
       "    <tr>\n",
       "      <th>114</th>\n",
       "      <td>American Staffordshire Terrier</td>\n",
       "      <td>0</td>\n",
       "      <td>1216</td>\n",
       "    </tr>\n",
       "    <tr>\n",
       "      <th>1674</th>\n",
       "      <td>Golden Retriever</td>\n",
       "      <td>0</td>\n",
       "      <td>1082</td>\n",
       "    </tr>\n",
       "    <tr>\n",
       "      <th>3799</th>\n",
       "      <td>Yorkshire Terrier</td>\n",
       "      <td>0</td>\n",
       "      <td>1068</td>\n",
       "    </tr>\n",
       "    <tr>\n",
       "      <th>2469</th>\n",
       "      <td>Labrador Retriever / Mischling</td>\n",
       "      <td>0</td>\n",
       "      <td>1043</td>\n",
       "    </tr>\n",
       "  </tbody>\n",
       "</table>\n",
       "</div>"
      ],
      "text/plain": [
       "                           dog_breed  inner_district  summe_dogs_value\n",
       "3668           Unbekannt / Mischling               0              5436\n",
       "806               Chihuahua Kurzhaar               0              2200\n",
       "2342              Labrador Retriever               0              1874\n",
       "3664                       Unbekannt               0              1870\n",
       "2672                        Malteser               0              1610\n",
       "1636          Französische Bulldogge               0              1328\n",
       "114   American Staffordshire Terrier               0              1216\n",
       "1674                Golden Retriever               0              1082\n",
       "3799               Yorkshire Terrier               0              1068\n",
       "2469  Labrador Retriever / Mischling               0              1043"
      ]
     },
     "execution_count": 37,
     "metadata": {},
     "output_type": "execute_result"
    }
   ],
   "source": [
    "result_outer = result[result['inner_district'] == 0]\n",
    "result_outer.head(10)"
   ]
  },
  {
   "cell_type": "markdown",
   "id": "4f7f3492",
   "metadata": {},
   "source": [
    "#### Group by district"
   ]
  },
  {
   "cell_type": "code",
   "execution_count": 38,
   "id": "9f929c5c-13af-4eeb-b653-0585c1bf348f",
   "metadata": {
    "tags": []
   },
   "outputs": [
    {
     "data": {
      "text/plain": [
       "Text(0, 0.5, 'Number of dogs')"
      ]
     },
     "execution_count": 38,
     "metadata": {},
     "output_type": "execute_result"
    },
    {
     "data": {
      "image/png": "[encoded data removed]",
      "text/plain": [
       "<Figure size 1300x700 with 1 Axes>"
      ]
     },
     "metadata": {},
     "output_type": "display_data"
    }
   ],
   "source": [
    "dogs_per_district = df.groupby('postal_code')['dogs_value'].sum().reset_index().set_index('postal_code')\n",
    "\n",
    "# Barplot\n",
    "plt.figure(figsize=(12, 8))\n",
    "ax0 = sns.barplot(x=dogs_per_district.index, y=dogs_per_district['dogs_value'], palette=sns.color_palette(\"viridis_r\",n_colors=23), hue=dogs_per_district.index, legend= False)\n",
    "ax0.figure.set_size_inches(13, 7)\n",
    "\n",
    "plt.title(\"Number of dogs per district\")\n",
    "plt.xlabel(\"Postal code\")\n",
    "plt.ylabel(\"Number of dogs\")"
   ]
  },
  {
   "cell_type": "markdown",
   "id": "be77be7b",
   "metadata": {},
   "source": [
    "#### Group by mixed/purebred"
   ]
  },
  {
   "cell_type": "code",
   "execution_count": 90,
   "id": "58312681-9cb1-421a-b876-45cc01f1e52c",
   "metadata": {
    "tags": []
   },
   "outputs": [
    {
     "data": {
      "image/png": "[encoded data removed]",
      "text/plain": [
       "<Figure size 640x480 with 1 Axes>"
      ]
     },
     "metadata": {},
     "output_type": "display_data"
    }
   ],
   "source": [
    "dogs_mixed = df.groupby('mixed_breed')['dogs_value'].sum()\n",
    "\n",
    "# Erstelle ein Barplot\n",
    "ax = dogs_mixed.plot(kind='bar', color='darkblue')\n",
    "plt.title('Number of dogs for mixed/purebred')\n",
    "plt.xlabel('Type of dog')\n",
    "plt.ylabel('Number of dogs')\n",
    "ax.set_xticklabels(['purebred','mixed breed'], rotation=0)\n",
    "ax.yaxis.grid(linestyle='dashed')"
   ]
  },
  {
   "cell_type": "code",
   "execution_count": 40,
   "id": "a2f57b3c-e753-4657-a797-3c426d29be3b",
   "metadata": {
    "tags": []
   },
   "outputs": [
    {
     "data": {
      "image/png": "[encoded data removed]",
      "text/plain": [
       "<Figure size 640x480 with 1 Axes>"
      ]
     },
     "metadata": {},
     "output_type": "display_data"
    }
   ],
   "source": [
    "# Create a grouped bar chart\n",
    "fig, ax = plt.subplots()\n",
    "\n",
    "# Group the DataFrame by 'postal_code' and 'mixed_breed' and sum the 'dogs_value'\n",
    "grouped_data = df.groupby(['postal_code', 'mixed_breed'])['dogs_value'].sum().unstack()\n",
    "\n",
    "# Plot the grouped data\n",
    "grouped_data.plot(kind='bar', ax=ax)\n",
    "\n",
    "plt.title('Number of dogs per district')\n",
    "plt.xlabel('District')\n",
    "plt.ylabel('Number of Dogs')\n",
    "\n",
    "plt.legend(title='', labels=['purebred', 'mixed']);"
   ]
  },
  {
   "cell_type": "markdown",
   "id": "e07487e9-2e23-4e5c-8329-548d6f987f69",
   "metadata": {
    "tags": []
   },
   "source": [
    "### EDA for additional Data"
   ]
  },
  {
   "cell_type": "code",
   "execution_count": 41,
   "id": "8bbb32b6-a202-4079-9254-ebbd4e8eb7f4",
   "metadata": {
    "tags": []
   },
   "outputs": [],
   "source": [
    "dogs_per_district=pd.read_csv(\"dogs_cleaned.csv\")\n",
    "parks=pd.read_csv(\"parks_cleaned.csv\")\n",
    "districts=pd.read_csv(\"districts_cleaned.csv\")"
   ]
  },
  {
   "cell_type": "markdown",
   "id": "50f446e9-591d-4504-adfa-1b03edb125e2",
   "metadata": {
    "tags": []
   },
   "source": [
    "To begin exploring the data, we need to calculate the amount of dogs, then join the additional data sets: "
   ]
  },
  {
   "cell_type": "code",
   "execution_count": 42,
   "id": "246ed83d-99a4-482d-a3cf-0018eadadf03",
   "metadata": {
    "tags": []
   },
   "outputs": [
    {
     "data": {
      "text/html": [
       "<div>\n",
       "<style scoped>\n",
       "    .dataframe tbody tr th:only-of-type {\n",
       "        vertical-align: middle;\n",
       "    }\n",
       "\n",
       "    .dataframe tbody tr th {\n",
       "        vertical-align: top;\n",
       "    }\n",
       "\n",
       "    .dataframe thead th {\n",
       "        text-align: right;\n",
       "    }\n",
       "</style>\n",
       "<table border=\"1\" class=\"dataframe\">\n",
       "  <thead>\n",
       "    <tr style=\"text-align: right;\">\n",
       "      <th></th>\n",
       "      <th>postal_code</th>\n",
       "      <th>district_code</th>\n",
       "      <th>dogs_value</th>\n",
       "    </tr>\n",
       "  </thead>\n",
       "  <tbody>\n",
       "    <tr>\n",
       "      <th>0</th>\n",
       "      <td>1010</td>\n",
       "      <td>90100</td>\n",
       "      <td>508</td>\n",
       "    </tr>\n",
       "    <tr>\n",
       "      <th>1</th>\n",
       "      <td>1020</td>\n",
       "      <td>90200</td>\n",
       "      <td>2696</td>\n",
       "    </tr>\n",
       "    <tr>\n",
       "      <th>2</th>\n",
       "      <td>1030</td>\n",
       "      <td>90300</td>\n",
       "      <td>2483</td>\n",
       "    </tr>\n",
       "    <tr>\n",
       "      <th>3</th>\n",
       "      <td>1040</td>\n",
       "      <td>90400</td>\n",
       "      <td>715</td>\n",
       "    </tr>\n",
       "    <tr>\n",
       "      <th>4</th>\n",
       "      <td>1050</td>\n",
       "      <td>90500</td>\n",
       "      <td>928</td>\n",
       "    </tr>\n",
       "  </tbody>\n",
       "</table>\n",
       "</div>"
      ],
      "text/plain": [
       "   postal_code  district_code  dogs_value\n",
       "0         1010          90100         508\n",
       "1         1020          90200        2696\n",
       "2         1030          90300        2483\n",
       "3         1040          90400         715\n",
       "4         1050          90500         928"
      ]
     },
     "execution_count": 42,
     "metadata": {},
     "output_type": "execute_result"
    }
   ],
   "source": [
    "dogs_per_district = dogs_per_district.groupby(['postal_code', 'district_code'])['dogs_value'].sum().reset_index()\n",
    "dogs_per_district.head()"
   ]
  },
  {
   "cell_type": "code",
   "execution_count": 43,
   "id": "5f559f86-1b59-42a4-9f00-9b25e62c68d7",
   "metadata": {
    "tags": []
   },
   "outputs": [
    {
     "data": {
      "text/html": [
       "<div>\n",
       "<style scoped>\n",
       "    .dataframe tbody tr th:only-of-type {\n",
       "        vertical-align: middle;\n",
       "    }\n",
       "\n",
       "    .dataframe tbody tr th {\n",
       "        vertical-align: top;\n",
       "    }\n",
       "\n",
       "    .dataframe thead th {\n",
       "        text-align: right;\n",
       "    }\n",
       "</style>\n",
       "<table border=\"1\" class=\"dataframe\">\n",
       "  <thead>\n",
       "    <tr style=\"text-align: right;\">\n",
       "      <th></th>\n",
       "      <th>postal_code</th>\n",
       "      <th>district_code</th>\n",
       "      <th>dogs_value</th>\n",
       "      <th>green_space(sqm)</th>\n",
       "    </tr>\n",
       "  </thead>\n",
       "  <tbody>\n",
       "    <tr>\n",
       "      <th>0</th>\n",
       "      <td>1010</td>\n",
       "      <td>90100</td>\n",
       "      <td>508</td>\n",
       "      <td>2646</td>\n",
       "    </tr>\n",
       "    <tr>\n",
       "      <th>1</th>\n",
       "      <td>1020</td>\n",
       "      <td>90200</td>\n",
       "      <td>2696</td>\n",
       "      <td>550314</td>\n",
       "    </tr>\n",
       "    <tr>\n",
       "      <th>2</th>\n",
       "      <td>1030</td>\n",
       "      <td>90300</td>\n",
       "      <td>2483</td>\n",
       "      <td>167372</td>\n",
       "    </tr>\n",
       "    <tr>\n",
       "      <th>3</th>\n",
       "      <td>1040</td>\n",
       "      <td>90400</td>\n",
       "      <td>715</td>\n",
       "      <td>41528</td>\n",
       "    </tr>\n",
       "    <tr>\n",
       "      <th>4</th>\n",
       "      <td>1050</td>\n",
       "      <td>90500</td>\n",
       "      <td>928</td>\n",
       "      <td>34577</td>\n",
       "    </tr>\n",
       "  </tbody>\n",
       "</table>\n",
       "</div>"
      ],
      "text/plain": [
       "   postal_code  district_code  dogs_value  green_space(sqm)\n",
       "0         1010          90100         508              2646\n",
       "1         1020          90200        2696            550314\n",
       "2         1030          90300        2483            167372\n",
       "3         1040          90400         715             41528\n",
       "4         1050          90500         928             34577"
      ]
     },
     "execution_count": 43,
     "metadata": {},
     "output_type": "execute_result"
    }
   ],
   "source": [
    "# First join on parks with postal codes: \n",
    "df_dpd_parks = pd.merge(dogs_per_district, parks, on=\"postal_code\")\n",
    "df_dpd_parks.head()"
   ]
  },
  {
   "cell_type": "code",
   "execution_count": 44,
   "id": "6ca31717-3ed0-4979-bc26-7853e25961fc",
   "metadata": {
    "tags": []
   },
   "outputs": [],
   "source": [
    "# Second join on districts with district codes: \n",
    "df_dpd_parks = pd.merge(df_dpd_parks, districts, on=\"district_code\")"
   ]
  },
  {
   "cell_type": "code",
   "execution_count": 45,
   "id": "50dcf595-df32-48d1-afe9-1e1a763230a3",
   "metadata": {
    "tags": []
   },
   "outputs": [
    {
     "data": {
      "text/plain": [
       "postal_code         int64\n",
       "district_code       int64\n",
       "dogs_value          int64\n",
       "green_space(sqm)    int64\n",
       "area                int64\n",
       "pop_value           int64\n",
       "dtype: object"
      ]
     },
     "execution_count": 45,
     "metadata": {},
     "output_type": "execute_result"
    }
   ],
   "source": [
    "df_dpd_parks.dtypes"
   ]
  },
  {
   "cell_type": "markdown",
   "id": "4dc4f8ab-734c-4d33-975a-7111b08bdfc0",
   "metadata": {
    "tags": []
   },
   "source": [
    "We have valid data for all 23 districts. "
   ]
  },
  {
   "cell_type": "code",
   "execution_count": 46,
   "id": "ec8c4db9-38e4-43fe-bc27-0fcfaeccf596",
   "metadata": {
    "tags": []
   },
   "outputs": [
    {
     "data": {
      "image/png": "[encoded data removed]",
      "text/plain": [
       "<Figure size 640x480 with 2 Axes>"
      ]
     },
     "metadata": {},
     "output_type": "display_data"
    }
   ],
   "source": [
    "df_dpd_parks.sort_values(\"dogs_value\").plot(x=\"postal_code\", y=[\"dogs_value\",\"green_space(sqm)\"], kind=\"bar\", subplots=True);"
   ]
  },
  {
   "cell_type": "markdown",
   "id": "676b2919-83b3-4415-922b-047b3dbc8442",
   "metadata": {
    "tags": []
   },
   "source": [
    "A quick visual exploration of the data shows, that there might be a relationship between available greenspace for dogs and the amount of dogs owned: The districts on the left have no or very litte greenspace and also lesser numbers of dog owners. "
   ]
  },
  {
   "cell_type": "code",
   "execution_count": 47,
   "id": "96b5c231-3c3a-432f-9b51-60537b3897a0",
   "metadata": {
    "tags": []
   },
   "outputs": [
    {
     "data": {
      "image/png": "[encoded data removed]",
      "text/plain": [
       "<Figure size 640x480 with 2 Axes>"
      ]
     },
     "metadata": {},
     "output_type": "display_data"
    }
   ],
   "source": [
    "df_dpd_parks.sort_values(\"dogs_value\").plot(x=\"postal_code\", y=[\"area\",\"pop_value\"], kind=\"bar\", subplots=True);"
   ]
  },
  {
   "cell_type": "markdown",
   "id": "713b51ae-d5b4-43bb-9f70-8757cba0ae88",
   "metadata": {
    "tags": []
   },
   "source": [
    "When we look at the demographics, these districts are smaller as well and also have less population. This should be accounted for, when looking for correlations.  "
   ]
  },
  {
   "cell_type": "markdown",
   "id": "d668375a-1406-4d2d-941c-8f3a0ff845b1",
   "metadata": {
    "tags": []
   },
   "source": [
    "Based on these findings we can examine hypothesis H5 in section 3: \"Districts with a higher proportion of green space for dogs have more dogs per inhabitant than districts with less green space.\""
   ]
  },
  {
   "cell_type": "markdown",
   "id": "70fee7b1-3d9f-45c8-828c-e7c5e9a3ea14",
   "metadata": {},
   "source": [
    "####"
   ]
  },
  {
   "cell_type": "markdown",
   "id": "277ea477-7d0c-407b-970e-212d64b5ec94",
   "metadata": {},
   "source": [
    "## E3 - Formulate hypotheses\n",
    "\n",
    "*Note: Read this section entirely and understand it - every group member.*\n",
    "\n",
    "A hypothesis is an idea or explanation for something that is based on known facts but has not yet been proved. A hypothesis is a compact, concise statement, such as: \"Individuals with higher income have (on average) more offspring.\", that will be answered based on facts (the data). https://gradcoach.com/what-is-a-research-hypothesis-or-scientific-hypothesis/\n",
    "\n",
    "Formulate 5 non-trivial hypotheses, 1 per group member, and regard the following criteria: \n",
    "- State the hypothesis explicitly in concise language. \n",
    "- The hypothesis must be **motivated** by either **EDA results** or **literature** (citation in the report needed).\n",
    "- The hypothesis must refer to **endpoints** that are **testable**. Specifically, the endpoint must be derived from the data.\n",
    "- Think of real-life use cases/consequences of your results (textual description). \n",
    "- For each hypothesis explain all executed steps. \n",
    "- In case of extreme or implausible results check the validity of your data.\n",
    "- For each hypothesis export the artifacts (figures, tables, etc.) required for the report.\n",
    "- If you decide to use a statistical test, use it properly. In particular, check the validity and comparability of the samples.\n",
    "\n",
    "Do not:\n",
    "- State nebulous, vague hypotheses. These don't contain endpoints and are unclear to test (i.e., answer).\n",
    "- Use post-hoc hypotheses. Portraying an empirically inspired **post hoc hypothesis as a priori** violates the **falsification principle** crucial for hypothesis-driven (that is, confirmatory) empirical research. Falsification is severe scientific fraud.\n",
    "- State trivial hypotheses (e.g., hypthesis 2: \"Not Hypothesis 1\").\n",
    "- Answer based on \"common knowledge\".\n",
    "- Try to **produce positively tested hypotheses**. If a well motivated hypothesis is negative, this is an important finding (see Simpson's Paradox). The value of a tested hypothesis lies in the information or learning it provides.\n",
    "\n",
    "Example: The homework with Simpson's Paradox. The pooled overall comparison between the genders would be the EDA motivating the hypothesis: \"At UC Berkeley the by-department admissions rate for females is lower than for males.\" It should be tested using samples of department admission rates for the 2 **groups** male and female. No steps of the test should be done in EDA (or a priory to stating the hypothesis). The groups should be compared graphically, e.g., via a stripplot overlayed with a boxplot. The figure should be labelled properly and exported for the report. A (paired) t-test *may* be used to test this hypothesis statistically. For different data (e.g., time series) different approaches may be required.\n"
   ]
  },
  {
   "cell_type": "markdown",
   "id": "7fa4793a-b35d-44d2-8ef3-3de35ed306b8",
   "metadata": {
    "tags": []
   },
   "source": [
    "### E3-H1: \"The ratio between the number of dogs and number of residents is higher in the districts situated at the borders of Vienna.\"\n",
    "Author: Barbara Ellmenreich\n"
   ]
  },
  {
   "cell_type": "markdown",
   "id": "8d738602-0f9b-4aa3-bc29-bdb4feb3091f",
   "metadata": {
    "tags": []
   },
   "source": [
    "To examine the hypothesis we need the following informations:\n",
    "- Number of residents per district to calculate the ratio \n",
    "- The geometric data for Vienna for the visual analysis\n",
    "\n",
    "The first information we gather from data.gv.at from the file vie-bez-biz-pop-den-2002f.csv. \n",
    "\n",
    "The second information from the file BEZIRKSGRENZEOGD.json."
   ]
  },
  {
   "cell_type": "code",
   "execution_count": 48,
   "id": "d81502e4-dcb3-4048-875a-5e1e9a08d9d1",
   "metadata": {
    "tags": []
   },
   "outputs": [
    {
     "data": {
      "text/html": [
       "<div>\n",
       "<style scoped>\n",
       "    .dataframe tbody tr th:only-of-type {\n",
       "        vertical-align: middle;\n",
       "    }\n",
       "\n",
       "    .dataframe tbody tr th {\n",
       "        vertical-align: top;\n",
       "    }\n",
       "\n",
       "    .dataframe thead th {\n",
       "        text-align: right;\n",
       "    }\n",
       "</style>\n",
       "<table border=\"1\" class=\"dataframe\">\n",
       "  <thead>\n",
       "    <tr style=\"text-align: right;\">\n",
       "      <th></th>\n",
       "      <th>district_code</th>\n",
       "      <th>pop_value</th>\n",
       "    </tr>\n",
       "  </thead>\n",
       "  <tbody>\n",
       "    <tr>\n",
       "      <th>0</th>\n",
       "      <td>90000</td>\n",
       "      <td>1982097</td>\n",
       "    </tr>\n",
       "    <tr>\n",
       "      <th>1</th>\n",
       "      <td>90100</td>\n",
       "      <td>16620</td>\n",
       "    </tr>\n",
       "    <tr>\n",
       "      <th>2</th>\n",
       "      <td>90200</td>\n",
       "      <td>108269</td>\n",
       "    </tr>\n",
       "    <tr>\n",
       "      <th>3</th>\n",
       "      <td>90300</td>\n",
       "      <td>96756</td>\n",
       "    </tr>\n",
       "    <tr>\n",
       "      <th>4</th>\n",
       "      <td>90400</td>\n",
       "      <td>33633</td>\n",
       "    </tr>\n",
       "  </tbody>\n",
       "</table>\n",
       "</div>"
      ],
      "text/plain": [
       "   district_code  pop_value\n",
       "0          90000    1982097\n",
       "1          90100      16620\n",
       "2          90200     108269\n",
       "3          90300      96756\n",
       "4          90400      33633"
      ]
     },
     "execution_count": 48,
     "metadata": {},
     "output_type": "execute_result"
    }
   ],
   "source": [
    "#loading and cleaning the data for the number of residents per district.\n",
    "pop_vie= pd.read_csv('districts_cleaned_2023.csv')[['district_code','pop_value']]\n",
    "pop_vie.head()"
   ]
  },
  {
   "cell_type": "markdown",
   "id": "984ad830-c7f3-4f52-80f3-eaa180e4771e",
   "metadata": {
    "tags": []
   },
   "source": [
    "DISTRICT_CODE 9000 clearly represents all of vienna, so we can drop that row."
   ]
  },
  {
   "cell_type": "code",
   "execution_count": 49,
   "id": "caa94207-c344-4ac9-95f6-b3b347a35a4d",
   "metadata": {
    "tags": []
   },
   "outputs": [
    {
     "data": {
      "text/html": [
       "<div>\n",
       "<style scoped>\n",
       "    .dataframe tbody tr th:only-of-type {\n",
       "        vertical-align: middle;\n",
       "    }\n",
       "\n",
       "    .dataframe tbody tr th {\n",
       "        vertical-align: top;\n",
       "    }\n",
       "\n",
       "    .dataframe thead th {\n",
       "        text-align: right;\n",
       "    }\n",
       "</style>\n",
       "<table border=\"1\" class=\"dataframe\">\n",
       "  <thead>\n",
       "    <tr style=\"text-align: right;\">\n",
       "      <th></th>\n",
       "      <th>district_code</th>\n",
       "      <th>pop_value</th>\n",
       "    </tr>\n",
       "  </thead>\n",
       "  <tbody>\n",
       "    <tr>\n",
       "      <th>0</th>\n",
       "      <td>90100</td>\n",
       "      <td>16620</td>\n",
       "    </tr>\n",
       "    <tr>\n",
       "      <th>1</th>\n",
       "      <td>90200</td>\n",
       "      <td>108269</td>\n",
       "    </tr>\n",
       "    <tr>\n",
       "      <th>2</th>\n",
       "      <td>90300</td>\n",
       "      <td>96756</td>\n",
       "    </tr>\n",
       "    <tr>\n",
       "      <th>3</th>\n",
       "      <td>90400</td>\n",
       "      <td>33633</td>\n",
       "    </tr>\n",
       "    <tr>\n",
       "      <th>4</th>\n",
       "      <td>90500</td>\n",
       "      <td>55018</td>\n",
       "    </tr>\n",
       "  </tbody>\n",
       "</table>\n",
       "</div>"
      ],
      "text/plain": [
       "   district_code  pop_value\n",
       "0          90100      16620\n",
       "1          90200     108269\n",
       "2          90300      96756\n",
       "3          90400      33633\n",
       "4          90500      55018"
      ]
     },
     "execution_count": 49,
     "metadata": {},
     "output_type": "execute_result"
    }
   ],
   "source": [
    "pop_vie=pop_vie.drop(index=0, axis=0).reset_index(drop=True)\n",
    "pop_vie.head()"
   ]
  },
  {
   "cell_type": "code",
   "execution_count": 50,
   "id": "4e4f4cb8-01c7-44f2-aa63-4f0c69bf041c",
   "metadata": {
    "tags": []
   },
   "outputs": [],
   "source": [
    "df_dpd=pd.DataFrame(dogs_per_district).reset_index() #Reading the Data where we already aggregated the number of dogs per district"
   ]
  },
  {
   "cell_type": "code",
   "execution_count": 51,
   "id": "3fd7ef65-7855-4977-8a1c-bdbd85a357ba",
   "metadata": {
    "tags": []
   },
   "outputs": [],
   "source": [
    "df_hyp1=pd.concat((df_dpd,pop_vie,vd),axis=1) #joining the three Dataframes for our hypotheses, they can be joined by the index, as they are all sorted by the district codes."
   ]
  },
  {
   "cell_type": "code",
   "execution_count": 52,
   "id": "ef21491a-e207-4b45-9e06-337c153bc45e",
   "metadata": {
    "tags": []
   },
   "outputs": [],
   "source": [
    "df_hyp1['ratio']=df_hyp1['dogs_value']/df_hyp1['pop_value'] # Creating a new column for the ratio dogs to population\n",
    "df_hyp1=gpd.GeoDataFrame(df_hyp1).reset_index(drop=True) # Turning the joined Dataframe into a Geo Dataframe, to be able to plot a map of vienna."
   ]
  },
  {
   "cell_type": "code",
   "execution_count": 53,
   "id": "3b7f98e8-07ed-4f4f-94f5-f91f5c8486a0",
   "metadata": {
    "tags": []
   },
   "outputs": [
    {
     "name": "stdout",
     "output_type": "stream",
     "text": [
      "The smallest ratio found is: 0.016867207095859538 \n",
      "The biggest ratio found is: 0.043694570625135196\n",
      "The average ratio is: 0.029492502132842137\n"
     ]
    }
   ],
   "source": [
    "min_ratio=df_hyp1['ratio'].min()\n",
    "max_ratio=df_hyp1['ratio'].max()\n",
    "ratio_mean=df_hyp1['dogs_value'].sum()/df_hyp1['pop_value'].sum()\n",
    "print(f'The smallest ratio found is: {min_ratio} \\nThe biggest ratio found is: {max_ratio}\\nThe average ratio is: {ratio_mean}')"
   ]
  },
  {
   "cell_type": "code",
   "execution_count": 54,
   "id": "8ad8e462-a3bf-49e2-ad67-240493e604b3",
   "metadata": {
    "tags": []
   },
   "outputs": [],
   "source": [
    "def boundary(row):\n",
    "    if row['postal_code'] in (1100, 1110, 1130, 1140, 1170, 1190,  1210, 1220,1230):\n",
    "        return 'boundary district'\n",
    "    else:\n",
    "        return 'non-boundary district' \n"
   ]
  },
  {
   "cell_type": "code",
   "execution_count": 55,
   "id": "957cee8a-6c20-4a81-8b4b-7dbce52ce0e3",
   "metadata": {
    "tags": []
   },
   "outputs": [
    {
     "data": {
      "text/html": [
       "<div>\n",
       "<style scoped>\n",
       "    .dataframe tbody tr th:only-of-type {\n",
       "        vertical-align: middle;\n",
       "    }\n",
       "\n",
       "    .dataframe tbody tr th {\n",
       "        vertical-align: top;\n",
       "    }\n",
       "\n",
       "    .dataframe thead th {\n",
       "        text-align: right;\n",
       "    }\n",
       "</style>\n",
       "<table border=\"1\" class=\"dataframe\">\n",
       "  <thead>\n",
       "    <tr style=\"text-align: right;\">\n",
       "      <th></th>\n",
       "      <th>index</th>\n",
       "      <th>postal_code</th>\n",
       "      <th>district_code</th>\n",
       "      <th>dogs_value</th>\n",
       "      <th>district_code</th>\n",
       "      <th>pop_value</th>\n",
       "      <th>STATAUSTRIA_BEZ_CODE</th>\n",
       "      <th>geometry</th>\n",
       "      <th>ratio</th>\n",
       "      <th>boundary_districts</th>\n",
       "    </tr>\n",
       "  </thead>\n",
       "  <tbody>\n",
       "    <tr>\n",
       "      <th>0</th>\n",
       "      <td>0</td>\n",
       "      <td>1010</td>\n",
       "      <td>90100</td>\n",
       "      <td>508</td>\n",
       "      <td>90100</td>\n",
       "      <td>16620</td>\n",
       "      <td>901</td>\n",
       "      <td>POLYGON ((3010.180 342025.230, 2995.920 342041...</td>\n",
       "      <td>0.030566</td>\n",
       "      <td>non-boundary district</td>\n",
       "    </tr>\n",
       "    <tr>\n",
       "      <th>1</th>\n",
       "      <td>1</td>\n",
       "      <td>1020</td>\n",
       "      <td>90200</td>\n",
       "      <td>2696</td>\n",
       "      <td>90200</td>\n",
       "      <td>108269</td>\n",
       "      <td>902</td>\n",
       "      <td>POLYGON ((5298.420 343728.290, 5239.530 343799...</td>\n",
       "      <td>0.024901</td>\n",
       "      <td>non-boundary district</td>\n",
       "    </tr>\n",
       "    <tr>\n",
       "      <th>2</th>\n",
       "      <td>2</td>\n",
       "      <td>1030</td>\n",
       "      <td>90300</td>\n",
       "      <td>2483</td>\n",
       "      <td>90300</td>\n",
       "      <td>96756</td>\n",
       "      <td>903</td>\n",
       "      <td>POLYGON ((4792.732 341000.000, 4790.030 341020...</td>\n",
       "      <td>0.025662</td>\n",
       "      <td>non-boundary district</td>\n",
       "    </tr>\n",
       "    <tr>\n",
       "      <th>3</th>\n",
       "      <td>3</td>\n",
       "      <td>1040</td>\n",
       "      <td>90400</td>\n",
       "      <td>715</td>\n",
       "      <td>90400</td>\n",
       "      <td>33633</td>\n",
       "      <td>904</td>\n",
       "      <td>POLYGON ((3071.798 340143.192, 3048.078 340150...</td>\n",
       "      <td>0.021259</td>\n",
       "      <td>non-boundary district</td>\n",
       "    </tr>\n",
       "    <tr>\n",
       "      <th>4</th>\n",
       "      <td>4</td>\n",
       "      <td>1050</td>\n",
       "      <td>90500</td>\n",
       "      <td>928</td>\n",
       "      <td>90500</td>\n",
       "      <td>55018</td>\n",
       "      <td>905</td>\n",
       "      <td>POLYGON ((2030.550 339801.010, 2024.690 339811...</td>\n",
       "      <td>0.016867</td>\n",
       "      <td>non-boundary district</td>\n",
       "    </tr>\n",
       "  </tbody>\n",
       "</table>\n",
       "</div>"
      ],
      "text/plain": [
       "   index  postal_code  district_code  dogs_value  district_code  pop_value  \\\n",
       "0      0         1010          90100         508          90100      16620   \n",
       "1      1         1020          90200        2696          90200     108269   \n",
       "2      2         1030          90300        2483          90300      96756   \n",
       "3      3         1040          90400         715          90400      33633   \n",
       "4      4         1050          90500         928          90500      55018   \n",
       "\n",
       "   STATAUSTRIA_BEZ_CODE                                           geometry  \\\n",
       "0                   901  POLYGON ((3010.180 342025.230, 2995.920 342041...   \n",
       "1                   902  POLYGON ((5298.420 343728.290, 5239.530 343799...   \n",
       "2                   903  POLYGON ((4792.732 341000.000, 4790.030 341020...   \n",
       "3                   904  POLYGON ((3071.798 340143.192, 3048.078 340150...   \n",
       "4                   905  POLYGON ((2030.550 339801.010, 2024.690 339811...   \n",
       "\n",
       "      ratio     boundary_districts  \n",
       "0  0.030566  non-boundary district  \n",
       "1  0.024901  non-boundary district  \n",
       "2  0.025662  non-boundary district  \n",
       "3  0.021259  non-boundary district  \n",
       "4  0.016867  non-boundary district  "
      ]
     },
     "execution_count": 55,
     "metadata": {},
     "output_type": "execute_result"
    }
   ],
   "source": [
    "df_hyp1['boundary_districts']=df_hyp1.apply(boundary,axis=1)\n",
    "df_hyp1.head()"
   ]
  },
  {
   "cell_type": "code",
   "execution_count": 78,
   "id": "8746a0d3-d088-42cb-a19e-a9b21f19ba51",
   "metadata": {
    "tags": []
   },
   "outputs": [
    {
     "data": {
      "image/png": "[encoded data removed]",
      "text/plain": [
       "<Figure size 1000x1000 with 2 Axes>"
      ]
     },
     "metadata": {},
     "output_type": "display_data"
    }
   ],
   "source": [
    "#Visualisation of the data to analyse the hypothesis.\n",
    "\n",
    "fig, ax = plt.subplots(figsize=(10, 10))\n",
    "df_hyp1.plot(column='ratio', cmap='YlOrRd',ax=ax, legend=True, \n",
    "             norm=matplotlib.colors.TwoSlopeNorm(vmin=df_hyp1.ratio.min(), vcenter=df_hyp1.ratio.mean(),vmax=df_hyp1.ratio.max()),figsize=(6,6), edgecolor='brown', legend_kwds={\"orientation\": \"vertical\",\"shrink\":0.5,\"label\":\"Ratio Dogs to residents\"})\n",
    "df_hyp1.apply(lambda x: ax.annotate(text=x['postal_code'], xy=x.geometry.centroid.coords[0], ha='center',size=8, weight='bold'), axis=1)\n",
    "ax.axis('off')\n",
    "ax.set_title('Map of the districts of Vienna')\n",
    "plt.savefig('Hyp1_Fig1.png',format='png');"
   ]
  },
  {
   "cell_type": "markdown",
   "id": "5625614f-70e7-4f96-9c47-7b2f4279a297",
   "metadata": {},
   "source": [
    "The ratio describes the number of dogs per resident. For example: A ratio of 0.02 represents 0.02 dogs per resident in the represented area.\n",
    "\n",
    "As the darker Red Colors indicate a higher Ratio of dogs per resident, it is at first glance already clear, that the districts at the borders of Vienna tend to have a darker color than the other districts.\n",
    "\n",
    "Especially 1220, 1210, 1190, 1130 and 1230 have the darker colors and therefore the highest ratios.\n",
    "\n",
    "It is surprising to see, that the first district (1010), apperently has quite a high ratio considering that it is in the middle of Vienna, while the 5th District hast the lowest by far, seeing as the color is almost white."
   ]
  },
  {
   "cell_type": "code",
   "execution_count": 76,
   "id": "b4ef3d98-328c-4a0b-b4e6-bddff890ea3b",
   "metadata": {
    "tags": []
   },
   "outputs": [
    {
     "data": {
      "image/png": "[encoded data removed]",
      "text/plain": [
       "<Figure size 2000x200 with 2 Axes>"
      ]
     },
     "metadata": {},
     "output_type": "display_data"
    }
   ],
   "source": [
    "#Another visualisation of the ratio per district\n",
    "fig,ax=plt.subplots(ncols=2,figsize=(20,2))\n",
    "df_hyp1.plot(kind='bar',x='postal_code', y='ratio',legend=False, ax=ax[0])\n",
    "ax[0].hlines(ratio_mean, -1, len(df_hyp1['postal_code']), color='r', linestyles='dashed')\n",
    "ax[0].text(25,ratio_mean, 'Total Ratio ', ha='right', va='center', color='r')\n",
    "ax[0].set_ylim(0,.06)\n",
    "ax[0].set_xlabel('Districts')\n",
    "ax[0].set_ylabel('Dog/residents Ratio')\n",
    "ax[0].set_title('Ratio of Dogs per resident for each district')\n",
    "\n",
    "sns.boxplot(x=df_hyp1['ratio'], color='purple',ax=ax[1])\n",
    "ax[1].set_xlabel('Dog/residents Ratio')\n",
    "ax[1].yaxis.set_ticks([])\n",
    "ax[1].set_title('Ratio-distribution')\n",
    "plt.savefig('Hyp1_Fig2.png',format='png');"
   ]
  },
  {
   "cell_type": "markdown",
   "id": "8812a1fd-f533-4729-95a2-1a3ae3e953ed",
   "metadata": {},
   "source": [
    "\n",
    "\n",
    "In the left plot, you can see the average ratio per district, indicated by the bars, and  over all of Vienna, indicated by the dashed red line. In the right plot you can see the distribution of the ratio.\n",
    "\n",
    "As visible in the two visualizations there are no extreme outliers in the ratio within the districts.\n",
    "\n",
    "But most of the districts are concetrated in the lower half of the ratio-intervall, as seen in the boxplot. The purple box consists auf the middle 50% of the values, while the line indicates the Median and the right border of the box is the 75-percentile.\n",
    "\n",
    "So while there is a distinction between the districts, it is not an extrem distinction.\n"
   ]
  },
  {
   "cell_type": "code",
   "execution_count": 79,
   "id": "ece63253-2ef2-4b2c-992f-7dca623f7582",
   "metadata": {
    "tags": []
   },
   "outputs": [
    {
     "data": {
      "image/png": "[encoded data removed]",
      "text/plain": [
       "<Figure size 1200x400 with 1 Axes>"
      ]
     },
     "metadata": {},
     "output_type": "display_data"
    }
   ],
   "source": [
    "fig, ax = plt.subplots(figsize=(12, 4))\n",
    "ax=sns.boxplot(x=df_hyp1['ratio'], y=df_hyp1['boundary_districts'])\n",
    "ax.set_xlabel('Dog/residents Ratio')\n",
    "ax.set_ylabel('')\n",
    "ax.set_title('Ratio-distribution for boundary and non-boundary districts')\n",
    "plt.savefig('Hyp1_Fig3.png',format='png');"
   ]
  },
  {
   "cell_type": "markdown",
   "id": "46973273-e582-4e2b-a89c-f041e166684b",
   "metadata": {},
   "source": [
    "In this plot one can again see the clear distinction between boundary and non-boundary districts. The boundary district clearly have a higher ration in average, than the non-boundary districts.\n",
    "\n",
    "They also apparently have a higher distribution as seen by the length of the  individual boxplots."
   ]
  },
  {
   "cell_type": "markdown",
   "id": "aa4a8ab5-fb63-41fd-a62f-f3da528b5856",
   "metadata": {},
   "source": [
    "#### Fazit"
   ]
  },
  {
   "cell_type": "markdown",
   "id": "3dcf85b6-40f5-4cfa-8d4f-265975be093b",
   "metadata": {},
   "source": [
    "The boundary districts clearly tend to have a higher ratio of dogs per resident. Though they do not differ very highly. The range is between 0.017 to 0.044 dogs per resident.\n",
    "\n",
    "The boundary districts range between a ratio of around 0.024 and 0.44, while the non-boundary districts range between a ratio of 0.017 and 0.031.\n",
    "\n",
    "All in all our initial hypothesis is proven true."
   ]
  },
  {
   "cell_type": "markdown",
   "id": "3f7b1bb7-c78f-4ea4-8895-cf368d60cb76",
   "metadata": {},
   "source": [
    "#### Real Life Use Cases and Consequences"
   ]
  },
  {
   "cell_type": "markdown",
   "id": "dc9eaeb9-a5af-4dec-be83-755bd0e6f46d",
   "metadata": {},
   "source": [
    "According to an the article [\"Hundesheriffs im Anmarsch: Im Februar startet das \"Wiener Hunde-Team\"\"](https://kurier.at/chronik/wien/hundesheriffs-im-anmarsch-im-februar-startet-das-wiener-hunde-team/402699622) in **Kurier**, starting with February, the city of Vienna will send teams of employees from the MA 60 (The Magistrate department for the veterinary office and animal wellfare), to check if all rules and mandates are followed and if there are any issues with dogs in the area.\n",
    "\n",
    "With the results of the hypothesis one could suggest to have more or bigger teams in the boundary districts, aswell as maybe more offices."
   ]
  },
  {
   "cell_type": "markdown",
   "id": "2612f681-f875-4257-95e0-8105062f5525",
   "metadata": {
    "tags": []
   },
   "source": [
    "### E3-H2: \"In outer districts the proportion of mixed-breed dogs is higher compared to purebred dogs.\"\n",
    "Author: Kathrin Schumich\n",
    "\n"
   ]
  },
  {
   "cell_type": "markdown",
   "id": "ec6134e4-ee16-46e1-92cf-e6780bae06dd",
   "metadata": {},
   "source": [
    "#### Grouped by inner/outer districts"
   ]
  },
  {
   "cell_type": "code",
   "execution_count": 59,
   "id": "dd98f3ae-ed5e-42b0-b276-3af667ba8aa8",
   "metadata": {},
   "outputs": [
    {
     "data": {
      "text/html": [
       "<div>\n",
       "<style scoped>\n",
       "    .dataframe tbody tr th:only-of-type {\n",
       "        vertical-align: middle;\n",
       "    }\n",
       "\n",
       "    .dataframe tbody tr th {\n",
       "        vertical-align: top;\n",
       "    }\n",
       "\n",
       "    .dataframe thead th {\n",
       "        text-align: right;\n",
       "    }\n",
       "</style>\n",
       "<table border=\"1\" class=\"dataframe\">\n",
       "  <thead>\n",
       "    <tr style=\"text-align: right;\">\n",
       "      <th></th>\n",
       "      <th>mixed</th>\n",
       "      <th>purebred</th>\n",
       "      <th>Total</th>\n",
       "    </tr>\n",
       "  </thead>\n",
       "  <tbody>\n",
       "    <tr>\n",
       "      <th>inner district</th>\n",
       "      <td>1523</td>\n",
       "      <td>1263</td>\n",
       "      <td>2786</td>\n",
       "    </tr>\n",
       "    <tr>\n",
       "      <th>outer district</th>\n",
       "      <td>5010</td>\n",
       "      <td>2726</td>\n",
       "      <td>7736</td>\n",
       "    </tr>\n",
       "    <tr>\n",
       "      <th>Total</th>\n",
       "      <td>6533</td>\n",
       "      <td>3989</td>\n",
       "      <td>10522</td>\n",
       "    </tr>\n",
       "  </tbody>\n",
       "</table>\n",
       "</div>"
      ],
      "text/plain": [
       "                mixed  purebred  Total\n",
       "inner district   1523      1263   2786\n",
       "outer district   5010      2726   7736\n",
       "Total            6533      3989  10522"
      ]
     },
     "execution_count": 59,
     "metadata": {},
     "output_type": "execute_result"
    }
   ],
   "source": [
    "#Create a contingency table\n",
    "contingency_table = pd.crosstab(\n",
    "    index=df['inner_district'].replace({0: 'outer district', 1: 'inner district'}),\n",
    "    columns=df['mixed_breed'].replace({0: 'purebred', 1: 'mixed'}),\n",
    "    margins=True,\n",
    "    margins_name='Total'\n",
    ").rename_axis(index=None, columns=None)\n",
    "\n",
    "contingency_table"
   ]
  },
  {
   "cell_type": "code",
   "execution_count": 60,
   "id": "0360801a-46dc-4095-9374-1b1bf0b0b4f3",
   "metadata": {
    "tags": []
   },
   "outputs": [
    {
     "data": {
      "text/plain": [
       "Text(70.72222222222221, 0.5, '')"
      ]
     },
     "execution_count": 60,
     "metadata": {},
     "output_type": "execute_result"
    },
    {
     "data": {
      "image/png": "[encoded data removed]",
      "text/plain": [
       "<Figure size 800x600 with 2 Axes>"
      ]
     },
     "metadata": {},
     "output_type": "display_data"
    }
   ],
   "source": [
    "#Create a contingency table with normalized values\n",
    "contingency_table2 = pd.crosstab(\n",
    "    index=df['inner_district'].replace({0: 'outer district', 1: 'inner district'}),\n",
    "    columns=df['mixed_breed'].replace({0: 'purebred', 1: 'mixed'}),\n",
    "    normalize='index'\n",
    ").round(2)\n",
    "\n",
    "# Plot a heatmap\n",
    "plt.figure(figsize=(8, 6))\n",
    "sns.heatmap(contingency_table2, annot=True, cmap='Greens', cbar=True, fmt=\".2f\")\n",
    "plt.title('Normalized Cross-Tabulation')\n",
    "plt.xlabel('')\n",
    "plt.ylabel('')"
   ]
  },
  {
   "cell_type": "markdown",
   "id": "3df23800-0f08-4683-a720-1d3decc1c354",
   "metadata": {},
   "source": [
    "#### Grouped by district"
   ]
  },
  {
   "cell_type": "code",
   "execution_count": 61,
   "id": "021eb76d-5521-4972-a8bd-08c96d7fab87",
   "metadata": {},
   "outputs": [
    {
     "data": {
      "text/html": [
       "<div>\n",
       "<style scoped>\n",
       "    .dataframe tbody tr th:only-of-type {\n",
       "        vertical-align: middle;\n",
       "    }\n",
       "\n",
       "    .dataframe tbody tr th {\n",
       "        vertical-align: top;\n",
       "    }\n",
       "\n",
       "    .dataframe thead th {\n",
       "        text-align: right;\n",
       "    }\n",
       "</style>\n",
       "<table border=\"1\" class=\"dataframe\">\n",
       "  <thead>\n",
       "    <tr style=\"text-align: right;\">\n",
       "      <th></th>\n",
       "      <th>mixed</th>\n",
       "      <th>purebred</th>\n",
       "      <th>Total</th>\n",
       "    </tr>\n",
       "  </thead>\n",
       "  <tbody>\n",
       "    <tr>\n",
       "      <th>1010</th>\n",
       "      <td>81</td>\n",
       "      <td>101</td>\n",
       "      <td>182</td>\n",
       "    </tr>\n",
       "    <tr>\n",
       "      <th>1020</th>\n",
       "      <td>362</td>\n",
       "      <td>214</td>\n",
       "      <td>576</td>\n",
       "    </tr>\n",
       "    <tr>\n",
       "      <th>1030</th>\n",
       "      <td>318</td>\n",
       "      <td>203</td>\n",
       "      <td>521</td>\n",
       "    </tr>\n",
       "    <tr>\n",
       "      <th>1040</th>\n",
       "      <td>126</td>\n",
       "      <td>124</td>\n",
       "      <td>250</td>\n",
       "    </tr>\n",
       "    <tr>\n",
       "      <th>1050</th>\n",
       "      <td>165</td>\n",
       "      <td>133</td>\n",
       "      <td>298</td>\n",
       "    </tr>\n",
       "    <tr>\n",
       "      <th>1060</th>\n",
       "      <td>99</td>\n",
       "      <td>112</td>\n",
       "      <td>211</td>\n",
       "    </tr>\n",
       "    <tr>\n",
       "      <th>1070</th>\n",
       "      <td>114</td>\n",
       "      <td>121</td>\n",
       "      <td>235</td>\n",
       "    </tr>\n",
       "    <tr>\n",
       "      <th>1080</th>\n",
       "      <td>83</td>\n",
       "      <td>115</td>\n",
       "      <td>198</td>\n",
       "    </tr>\n",
       "    <tr>\n",
       "      <th>1090</th>\n",
       "      <td>175</td>\n",
       "      <td>140</td>\n",
       "      <td>315</td>\n",
       "    </tr>\n",
       "    <tr>\n",
       "      <th>1100</th>\n",
       "      <td>482</td>\n",
       "      <td>226</td>\n",
       "      <td>708</td>\n",
       "    </tr>\n",
       "    <tr>\n",
       "      <th>1110</th>\n",
       "      <td>335</td>\n",
       "      <td>185</td>\n",
       "      <td>520</td>\n",
       "    </tr>\n",
       "    <tr>\n",
       "      <th>1120</th>\n",
       "      <td>313</td>\n",
       "      <td>168</td>\n",
       "      <td>481</td>\n",
       "    </tr>\n",
       "    <tr>\n",
       "      <th>1130</th>\n",
       "      <td>259</td>\n",
       "      <td>190</td>\n",
       "      <td>449</td>\n",
       "    </tr>\n",
       "    <tr>\n",
       "      <th>1140</th>\n",
       "      <td>339</td>\n",
       "      <td>197</td>\n",
       "      <td>536</td>\n",
       "    </tr>\n",
       "    <tr>\n",
       "      <th>1150</th>\n",
       "      <td>205</td>\n",
       "      <td>146</td>\n",
       "      <td>351</td>\n",
       "    </tr>\n",
       "    <tr>\n",
       "      <th>1160</th>\n",
       "      <td>267</td>\n",
       "      <td>176</td>\n",
       "      <td>443</td>\n",
       "    </tr>\n",
       "    <tr>\n",
       "      <th>1170</th>\n",
       "      <td>209</td>\n",
       "      <td>160</td>\n",
       "      <td>369</td>\n",
       "    </tr>\n",
       "    <tr>\n",
       "      <th>1180</th>\n",
       "      <td>247</td>\n",
       "      <td>175</td>\n",
       "      <td>422</td>\n",
       "    </tr>\n",
       "    <tr>\n",
       "      <th>1190</th>\n",
       "      <td>310</td>\n",
       "      <td>204</td>\n",
       "      <td>514</td>\n",
       "    </tr>\n",
       "    <tr>\n",
       "      <th>1200</th>\n",
       "      <td>230</td>\n",
       "      <td>158</td>\n",
       "      <td>388</td>\n",
       "    </tr>\n",
       "    <tr>\n",
       "      <th>1210</th>\n",
       "      <td>632</td>\n",
       "      <td>256</td>\n",
       "      <td>888</td>\n",
       "    </tr>\n",
       "    <tr>\n",
       "      <th>1220</th>\n",
       "      <td>722</td>\n",
       "      <td>262</td>\n",
       "      <td>984</td>\n",
       "    </tr>\n",
       "    <tr>\n",
       "      <th>1230</th>\n",
       "      <td>460</td>\n",
       "      <td>223</td>\n",
       "      <td>683</td>\n",
       "    </tr>\n",
       "    <tr>\n",
       "      <th>Total</th>\n",
       "      <td>6533</td>\n",
       "      <td>3989</td>\n",
       "      <td>10522</td>\n",
       "    </tr>\n",
       "  </tbody>\n",
       "</table>\n",
       "</div>"
      ],
      "text/plain": [
       "       mixed  purebred  Total\n",
       "1010      81       101    182\n",
       "1020     362       214    576\n",
       "1030     318       203    521\n",
       "1040     126       124    250\n",
       "1050     165       133    298\n",
       "1060      99       112    211\n",
       "1070     114       121    235\n",
       "1080      83       115    198\n",
       "1090     175       140    315\n",
       "1100     482       226    708\n",
       "1110     335       185    520\n",
       "1120     313       168    481\n",
       "1130     259       190    449\n",
       "1140     339       197    536\n",
       "1150     205       146    351\n",
       "1160     267       176    443\n",
       "1170     209       160    369\n",
       "1180     247       175    422\n",
       "1190     310       204    514\n",
       "1200     230       158    388\n",
       "1210     632       256    888\n",
       "1220     722       262    984\n",
       "1230     460       223    683\n",
       "Total   6533      3989  10522"
      ]
     },
     "execution_count": 61,
     "metadata": {},
     "output_type": "execute_result"
    }
   ],
   "source": [
    "#Create a contingency table\n",
    "contingency_table3 = pd.crosstab(\n",
    "    index=df['postal_code'].replace({0: 'outer district', 1: 'inner district'}),\n",
    "    columns=df['mixed_breed'].replace({0: 'purebred', 1: 'mixed'}),\n",
    "    margins=True,\n",
    "    margins_name='Total'\n",
    ").rename_axis(index=None, columns=None)\n",
    "\n",
    "contingency_table3"
   ]
  },
  {
   "cell_type": "code",
   "execution_count": 62,
   "id": "f4dd0820-1157-4efe-a4f7-9b3167d6b248",
   "metadata": {},
   "outputs": [
    {
     "data": {
      "text/plain": [
       "Text(70.72222222222221, 0.5, '')"
      ]
     },
     "execution_count": 62,
     "metadata": {},
     "output_type": "execute_result"
    },
    {
     "data": {
      "image/png": "[encoded data removed]",
      "text/plain": [
       "<Figure size 800x600 with 2 Axes>"
      ]
     },
     "metadata": {},
     "output_type": "display_data"
    }
   ],
   "source": [
    "contingency_table4 = pd.crosstab(\n",
    "    index=df['postal_code'],\n",
    "    columns=df['mixed_breed'].replace({0: 'purebred', 1: 'mixed'}),\n",
    "    normalize='index'\n",
    ").round(2)\n",
    "\n",
    "# Plot\n",
    "plt.figure(figsize=(8, 6))\n",
    "sns.heatmap(contingency_table4, annot=True, cmap='Greens', cbar=True, fmt=\".2f\")\n",
    "plt.title('Normalized Cross-Tabulation')\n",
    "plt.xlabel('')\n",
    "plt.ylabel('')"
   ]
  },
  {
   "cell_type": "markdown",
   "id": "91ec77ce-029a-45e8-b691-d0865768a9c5",
   "metadata": {},
   "source": [
    "#### Results"
   ]
  },
  {
   "cell_type": "markdown",
   "id": "cbb7a8ef-c110-406b-b702-b6930b2fa4c5",
   "metadata": {},
   "source": [
    "The result of the analysis indicates that there are indeed more mixed dogs (proportionally) in outer districts than purebred dogs. This can be seen in the first part, where we looked at the proportion, grouped only by inner/outer districts. 65% of the dogs in the outer districts are mixed, while only 35% are purebred. The same conclusion is obtained in the second part, where we looked at the proportions for each district individually. In every district, which is classified as \"outer district\" (districts 10-23), the proportion for mixed dogs is higher that the proportion for purebred dogs. "
   ]
  },
  {
   "cell_type": "markdown",
   "id": "58235735-5589-44e5-bfac-757581dab385",
   "metadata": {},
   "source": [
    "Furthermore, it can be observed that the respective proportions in the inner districts, in contrast to the outer districts, do not differ as significantly. Therefore, it cannot be stated that there are more purebred or mixed-breed dogs in the inner districts.\""
   ]
  },
  {
   "cell_type": "markdown",
   "id": "392b771c-6dd2-4b2d-89af-421e2ec6b47a",
   "metadata": {},
   "source": [
    "Finally, it can be concluded that the results support the hypothesis \"In outer districts the proportion of mixed-breed dogs is higher compared to purebred dogs\" and, therefore, it cannot be rejected."
   ]
  },
  {
   "cell_type": "markdown",
   "id": "08c48c7d-197a-43c2-bdfc-373addbfdeb7",
   "metadata": {},
   "source": [
    "#### Real life application"
   ]
  },
  {
   "cell_type": "markdown",
   "id": "0096d70b-f56a-4c6a-95dc-f2ac54679ed8",
   "metadata": {
    "tags": []
   },
   "source": [
    "The article [\"Owner perceived differences between mixed-breed and purebred dogs\"](https://www.ncbi.nlm.nih.gov/pmc/articles/PMC5319786/#:~:text=Several%20studies%20have%20detected%20behavioural,breeds%20than%20in%20purebred%20dogs) discusses differences in the behavior of mixed-breed and purebred dogs. It was found that mixed-breeds tend to display higher levels of disobedience, nervousness, excitability, and more frequent instances of excessive barking compared to purebred dogs.Combining the results of this paper with the findings from hypothesis 1, one could suggest increasing the number of dog schools/trainers in the outer districts, as mixed-breed dogs, in particular, tend to exhibit more behavioral issues."
   ]
  },
  {
   "cell_type": "markdown",
   "id": "7a3db7c0",
   "metadata": {},
   "source": [
    "#### Grouped by inner/outer districts"
   ]
  },
  {
   "cell_type": "code",
   "execution_count": 63,
   "id": "4a3711e0-13d6-4115-9d64-c9f154d27f7f",
   "metadata": {},
   "outputs": [
    {
     "data": {
      "text/html": [
       "<div>\n",
       "<style scoped>\n",
       "    .dataframe tbody tr th:only-of-type {\n",
       "        vertical-align: middle;\n",
       "    }\n",
       "\n",
       "    .dataframe tbody tr th {\n",
       "        vertical-align: top;\n",
       "    }\n",
       "\n",
       "    .dataframe thead th {\n",
       "        text-align: right;\n",
       "    }\n",
       "</style>\n",
       "<table border=\"1\" class=\"dataframe\">\n",
       "  <thead>\n",
       "    <tr style=\"text-align: right;\">\n",
       "      <th>mixed_breed</th>\n",
       "      <th>0</th>\n",
       "      <th>1</th>\n",
       "      <th>Total</th>\n",
       "    </tr>\n",
       "    <tr>\n",
       "      <th>inner_district</th>\n",
       "      <th></th>\n",
       "      <th></th>\n",
       "      <th></th>\n",
       "    </tr>\n",
       "  </thead>\n",
       "  <tbody>\n",
       "    <tr>\n",
       "      <th>0</th>\n",
       "      <td>2726</td>\n",
       "      <td>5010</td>\n",
       "      <td>7736</td>\n",
       "    </tr>\n",
       "    <tr>\n",
       "      <th>1</th>\n",
       "      <td>1263</td>\n",
       "      <td>1523</td>\n",
       "      <td>2786</td>\n",
       "    </tr>\n",
       "    <tr>\n",
       "      <th>Total</th>\n",
       "      <td>3989</td>\n",
       "      <td>6533</td>\n",
       "      <td>10522</td>\n",
       "    </tr>\n",
       "  </tbody>\n",
       "</table>\n",
       "</div>"
      ],
      "text/plain": [
       "mixed_breed        0     1  Total\n",
       "inner_district                   \n",
       "0               2726  5010   7736\n",
       "1               1263  1523   2786\n",
       "Total           3989  6533  10522"
      ]
     },
     "execution_count": 63,
     "metadata": {},
     "output_type": "execute_result"
    }
   ],
   "source": [
    "contingency_table = pd.crosstab(df['inner_district'], df['mixed_breed'], margins=True, margins_name='Total')\n",
    "contingency_table"
   ]
  },
  {
   "cell_type": "code",
   "execution_count": 64,
   "id": "21de23f2",
   "metadata": {},
   "outputs": [
    {
     "data": {
      "text/plain": [
       "Text(0.5, 1.0, 'Normalized Cross-Tabulation')"
      ]
     },
     "execution_count": 64,
     "metadata": {},
     "output_type": "execute_result"
    },
    {
     "data": {
      "image/png": "[encoded data removed]",
      "text/plain": [
       "<Figure size 800x600 with 2 Axes>"
      ]
     },
     "metadata": {},
     "output_type": "display_data"
    }
   ],
   "source": [
    "contingency_table2 = pd.crosstab(df['inner_district'], df['mixed_breed'], normalize='index').round(2)\n",
    "plt.figure(figsize=(8, 6))\n",
    "sns.heatmap(contingency_table2, annot=True, cmap='Greens', cbar=True, fmt=\".2f\")\n",
    "plt.title('Normalized Cross-Tabulation')"
   ]
  },
  {
   "cell_type": "markdown",
   "id": "1284f3d1",
   "metadata": {},
   "source": [
    "#### Grouped by district"
   ]
  },
  {
   "cell_type": "code",
   "execution_count": 65,
   "id": "052b340a",
   "metadata": {},
   "outputs": [
    {
     "data": {
      "text/html": [
       "<div>\n",
       "<style scoped>\n",
       "    .dataframe tbody tr th:only-of-type {\n",
       "        vertical-align: middle;\n",
       "    }\n",
       "\n",
       "    .dataframe tbody tr th {\n",
       "        vertical-align: top;\n",
       "    }\n",
       "\n",
       "    .dataframe thead th {\n",
       "        text-align: right;\n",
       "    }\n",
       "</style>\n",
       "<table border=\"1\" class=\"dataframe\">\n",
       "  <thead>\n",
       "    <tr style=\"text-align: right;\">\n",
       "      <th>mixed_breed</th>\n",
       "      <th>0</th>\n",
       "      <th>1</th>\n",
       "      <th>Total</th>\n",
       "    </tr>\n",
       "    <tr>\n",
       "      <th>postal_code</th>\n",
       "      <th></th>\n",
       "      <th></th>\n",
       "      <th></th>\n",
       "    </tr>\n",
       "  </thead>\n",
       "  <tbody>\n",
       "    <tr>\n",
       "      <th>1010</th>\n",
       "      <td>101</td>\n",
       "      <td>81</td>\n",
       "      <td>182</td>\n",
       "    </tr>\n",
       "    <tr>\n",
       "      <th>1020</th>\n",
       "      <td>214</td>\n",
       "      <td>362</td>\n",
       "      <td>576</td>\n",
       "    </tr>\n",
       "    <tr>\n",
       "      <th>1030</th>\n",
       "      <td>203</td>\n",
       "      <td>318</td>\n",
       "      <td>521</td>\n",
       "    </tr>\n",
       "    <tr>\n",
       "      <th>1040</th>\n",
       "      <td>124</td>\n",
       "      <td>126</td>\n",
       "      <td>250</td>\n",
       "    </tr>\n",
       "    <tr>\n",
       "      <th>1050</th>\n",
       "      <td>133</td>\n",
       "      <td>165</td>\n",
       "      <td>298</td>\n",
       "    </tr>\n",
       "    <tr>\n",
       "      <th>1060</th>\n",
       "      <td>112</td>\n",
       "      <td>99</td>\n",
       "      <td>211</td>\n",
       "    </tr>\n",
       "    <tr>\n",
       "      <th>1070</th>\n",
       "      <td>121</td>\n",
       "      <td>114</td>\n",
       "      <td>235</td>\n",
       "    </tr>\n",
       "    <tr>\n",
       "      <th>1080</th>\n",
       "      <td>115</td>\n",
       "      <td>83</td>\n",
       "      <td>198</td>\n",
       "    </tr>\n",
       "    <tr>\n",
       "      <th>1090</th>\n",
       "      <td>140</td>\n",
       "      <td>175</td>\n",
       "      <td>315</td>\n",
       "    </tr>\n",
       "    <tr>\n",
       "      <th>1100</th>\n",
       "      <td>226</td>\n",
       "      <td>482</td>\n",
       "      <td>708</td>\n",
       "    </tr>\n",
       "    <tr>\n",
       "      <th>1110</th>\n",
       "      <td>185</td>\n",
       "      <td>335</td>\n",
       "      <td>520</td>\n",
       "    </tr>\n",
       "    <tr>\n",
       "      <th>1120</th>\n",
       "      <td>168</td>\n",
       "      <td>313</td>\n",
       "      <td>481</td>\n",
       "    </tr>\n",
       "    <tr>\n",
       "      <th>1130</th>\n",
       "      <td>190</td>\n",
       "      <td>259</td>\n",
       "      <td>449</td>\n",
       "    </tr>\n",
       "    <tr>\n",
       "      <th>1140</th>\n",
       "      <td>197</td>\n",
       "      <td>339</td>\n",
       "      <td>536</td>\n",
       "    </tr>\n",
       "    <tr>\n",
       "      <th>1150</th>\n",
       "      <td>146</td>\n",
       "      <td>205</td>\n",
       "      <td>351</td>\n",
       "    </tr>\n",
       "    <tr>\n",
       "      <th>1160</th>\n",
       "      <td>176</td>\n",
       "      <td>267</td>\n",
       "      <td>443</td>\n",
       "    </tr>\n",
       "    <tr>\n",
       "      <th>1170</th>\n",
       "      <td>160</td>\n",
       "      <td>209</td>\n",
       "      <td>369</td>\n",
       "    </tr>\n",
       "    <tr>\n",
       "      <th>1180</th>\n",
       "      <td>175</td>\n",
       "      <td>247</td>\n",
       "      <td>422</td>\n",
       "    </tr>\n",
       "    <tr>\n",
       "      <th>1190</th>\n",
       "      <td>204</td>\n",
       "      <td>310</td>\n",
       "      <td>514</td>\n",
       "    </tr>\n",
       "    <tr>\n",
       "      <th>1200</th>\n",
       "      <td>158</td>\n",
       "      <td>230</td>\n",
       "      <td>388</td>\n",
       "    </tr>\n",
       "    <tr>\n",
       "      <th>1210</th>\n",
       "      <td>256</td>\n",
       "      <td>632</td>\n",
       "      <td>888</td>\n",
       "    </tr>\n",
       "    <tr>\n",
       "      <th>1220</th>\n",
       "      <td>262</td>\n",
       "      <td>722</td>\n",
       "      <td>984</td>\n",
       "    </tr>\n",
       "    <tr>\n",
       "      <th>1230</th>\n",
       "      <td>223</td>\n",
       "      <td>460</td>\n",
       "      <td>683</td>\n",
       "    </tr>\n",
       "    <tr>\n",
       "      <th>Total</th>\n",
       "      <td>3989</td>\n",
       "      <td>6533</td>\n",
       "      <td>10522</td>\n",
       "    </tr>\n",
       "  </tbody>\n",
       "</table>\n",
       "</div>"
      ],
      "text/plain": [
       "mixed_breed     0     1  Total\n",
       "postal_code                   \n",
       "1010          101    81    182\n",
       "1020          214   362    576\n",
       "1030          203   318    521\n",
       "1040          124   126    250\n",
       "1050          133   165    298\n",
       "1060          112    99    211\n",
       "1070          121   114    235\n",
       "1080          115    83    198\n",
       "1090          140   175    315\n",
       "1100          226   482    708\n",
       "1110          185   335    520\n",
       "1120          168   313    481\n",
       "1130          190   259    449\n",
       "1140          197   339    536\n",
       "1150          146   205    351\n",
       "1160          176   267    443\n",
       "1170          160   209    369\n",
       "1180          175   247    422\n",
       "1190          204   310    514\n",
       "1200          158   230    388\n",
       "1210          256   632    888\n",
       "1220          262   722    984\n",
       "1230          223   460    683\n",
       "Total        3989  6533  10522"
      ]
     },
     "execution_count": 65,
     "metadata": {},
     "output_type": "execute_result"
    }
   ],
   "source": [
    "contingency_table3 = pd.crosstab(df['postal_code'], df['mixed_breed'], margins=True, margins_name='Total')\n",
    "contingency_table3"
   ]
  },
  {
   "cell_type": "code",
   "execution_count": 66,
   "id": "c29a0791",
   "metadata": {},
   "outputs": [
    {
     "data": {
      "text/plain": [
       "Text(0.5, 1.0, 'Normalized Cross-Tabulation')"
      ]
     },
     "execution_count": 66,
     "metadata": {},
     "output_type": "execute_result"
    },
    {
     "data": {
      "image/png": "[encoded data removed]",
      "text/plain": [
       "<Figure size 800x600 with 2 Axes>"
      ]
     },
     "metadata": {},
     "output_type": "display_data"
    }
   ],
   "source": [
    "contingency_table4 = pd.crosstab(df['postal_code'], df['mixed_breed'], normalize='index').round(2)\n",
    "plt.figure(figsize=(8, 6))\n",
    "sns.heatmap(contingency_table4, annot=True, cmap='Greens', cbar=True, fmt=\".2f\")\n",
    "plt.title('Normalized Cross-Tabulation')"
   ]
  },
  {
   "cell_type": "markdown",
   "id": "6ef493e6",
   "metadata": {},
   "source": [
    "#### Results"
   ]
  },
  {
   "cell_type": "markdown",
   "id": "90f0312f",
   "metadata": {},
   "source": [
    "The result of the analysis indicates that there are indeed more mixed dogs (proportionally) in outer districts than purebred dogs. This can be seen in the first part, where we looked at the proportion, grouped only by inner/outer districts. 65% of the dogs in the outer districts are mixed, while only 35% are purebred. The same conclusion is obtained in the second part, where we looked at the proportions for each district individually. In every district, which is classified as \"outer district\" (districts 10-23), the proportion for mixed dogs is higher that the proportion for purebred dogs. "
   ]
  },
  {
   "cell_type": "markdown",
   "id": "9cd5772d",
   "metadata": {},
   "source": [
    "Furthermore, it can be observed that the respective proportions in the inner districts, in contrast to the outer districts, do not differ as significantly. Therefore, it cannot be stated that there are more purebred or mixed-breed dogs in the inner districts.\""
   ]
  },
  {
   "cell_type": "markdown",
   "id": "2046ae3c",
   "metadata": {},
   "source": [
    "Finally, it can be concluded that the results support the hypothesis \"In outer districts the proportion of mixed-breed dogs is higher compared to purebred dogs\" and, therefore, it cannot be rejected."
   ]
  },
  {
   "cell_type": "markdown",
   "id": "70e60944-b857-4a32-872a-6db028c51c87",
   "metadata": {
    "jp-MarkdownHeadingCollapsed": true,
    "tags": []
   },
   "source": [
    "### E3-H3: \"xxx\"\n",
    "Author: Group member 3\n"
   ]
  },
  {
   "cell_type": "code",
   "execution_count": null,
   "id": "6bf1314d-47bb-4440-90f9-bef900320597",
   "metadata": {},
   "outputs": [],
   "source": []
  },
  {
   "cell_type": "markdown",
   "id": "ede91b90-ee3d-40c0-b2c4-4712413fe0e6",
   "metadata": {
    "tags": []
   },
   "source": [
    "### E3-H4: \"xxx\"\n",
    "Author: Group member 4\n"
   ]
  },
  {
   "cell_type": "code",
   "execution_count": null,
   "id": "710a7064-05e8-4d52-9c1b-a6dcd143a4ae",
   "metadata": {},
   "outputs": [],
   "source": []
  },
  {
   "cell_type": "markdown",
   "id": "24fb84c2-e894-4372-bca9-f60bb695a792",
   "metadata": {
    "tags": []
   },
   "source": [
    "### E3-H5: \"Districts with a higher proportion of green space for dogs have more dogs per inhabitant than districts with less green space.\"\n",
    "Author: Michaela Hubweber \n",
    "\n",
    "Data Sources: \n",
    "* Parkanlagen Standorte Wien, Magistrat Wien - Magistratsabteilung 42 - Wiener Stadtgärten <br> https://www.data.gv.at/katalog/dataset/22add642-d849-48ff-9913-8c7ba2d99b46#additional-info <br> Used File version: PARKINFOOGD.csv (Downloaded: 02.01.2024)\n",
    "* Bevölkerungsdichte seit 2002 - Bezirke Wien, Magistrat Wien - Magistratsabteilung 23 - Wirtschaft, Arbeit und Statistik <br> https://www.data.gv.at/katalog/dataset/dc56ea9e-57be-47d5-ab50-d1e74fda7118 <br> Used File version: vie-bez-biz-pop-den-2002f.csv (Downloaded: 02.01.2024)\n",
    "\n",
    "Related Literature: \n",
    "* Purtscher, Mag Clemens. \"Tiergerechte Hundehaltung und Auslaufmöglichkeiten in Wien.\" Kapitel 8, pp.40, Online: https://sloughi.blogger.de/static/antville/sloughi/files/hundestudie.pdf (Accessed: 02.01.2024)"
   ]
  },
  {
   "cell_type": "markdown",
   "id": "3887e490-1b81-47fc-8cc0-e118e06e9bd0",
   "metadata": {},
   "source": [
    "To validate our hypothesis we first calculate some ratios, dogs per capita and greenspace per total area (in percent)"
   ]
  },
  {
   "cell_type": "code",
   "execution_count": 67,
   "id": "3288d53f-e94f-4067-8225-839a2351dd17",
   "metadata": {},
   "outputs": [
    {
     "data": {
      "text/html": [
       "<div>\n",
       "<style scoped>\n",
       "    .dataframe tbody tr th:only-of-type {\n",
       "        vertical-align: middle;\n",
       "    }\n",
       "\n",
       "    .dataframe tbody tr th {\n",
       "        vertical-align: top;\n",
       "    }\n",
       "\n",
       "    .dataframe thead th {\n",
       "        text-align: right;\n",
       "    }\n",
       "</style>\n",
       "<table border=\"1\" class=\"dataframe\">\n",
       "  <thead>\n",
       "    <tr style=\"text-align: right;\">\n",
       "      <th></th>\n",
       "      <th>postal_code</th>\n",
       "      <th>district_code</th>\n",
       "      <th>dogs_value</th>\n",
       "      <th>green_space(sqm)</th>\n",
       "      <th>area</th>\n",
       "      <th>pop_value</th>\n",
       "      <th>dogs_per_capita</th>\n",
       "      <th>greenspace_pct</th>\n",
       "    </tr>\n",
       "  </thead>\n",
       "  <tbody>\n",
       "    <tr>\n",
       "      <th>0</th>\n",
       "      <td>1010</td>\n",
       "      <td>90100</td>\n",
       "      <td>508</td>\n",
       "      <td>2646</td>\n",
       "      <td>2870000</td>\n",
       "      <td>16620</td>\n",
       "      <td>0.030566</td>\n",
       "      <td>0.092195</td>\n",
       "    </tr>\n",
       "    <tr>\n",
       "      <th>1</th>\n",
       "      <td>1020</td>\n",
       "      <td>90200</td>\n",
       "      <td>2696</td>\n",
       "      <td>550314</td>\n",
       "      <td>19240000</td>\n",
       "      <td>108269</td>\n",
       "      <td>0.024901</td>\n",
       "      <td>2.860260</td>\n",
       "    </tr>\n",
       "    <tr>\n",
       "      <th>2</th>\n",
       "      <td>1030</td>\n",
       "      <td>90300</td>\n",
       "      <td>2483</td>\n",
       "      <td>167372</td>\n",
       "      <td>7400000</td>\n",
       "      <td>96756</td>\n",
       "      <td>0.025662</td>\n",
       "      <td>2.261784</td>\n",
       "    </tr>\n",
       "    <tr>\n",
       "      <th>3</th>\n",
       "      <td>1040</td>\n",
       "      <td>90400</td>\n",
       "      <td>715</td>\n",
       "      <td>41528</td>\n",
       "      <td>1780000</td>\n",
       "      <td>33633</td>\n",
       "      <td>0.021259</td>\n",
       "      <td>2.333034</td>\n",
       "    </tr>\n",
       "    <tr>\n",
       "      <th>4</th>\n",
       "      <td>1050</td>\n",
       "      <td>90500</td>\n",
       "      <td>928</td>\n",
       "      <td>34577</td>\n",
       "      <td>2009999</td>\n",
       "      <td>55018</td>\n",
       "      <td>0.016867</td>\n",
       "      <td>1.720250</td>\n",
       "    </tr>\n",
       "    <tr>\n",
       "      <th>5</th>\n",
       "      <td>1060</td>\n",
       "      <td>90600</td>\n",
       "      <td>626</td>\n",
       "      <td>992</td>\n",
       "      <td>1460000</td>\n",
       "      <td>31423</td>\n",
       "      <td>0.019922</td>\n",
       "      <td>0.067945</td>\n",
       "    </tr>\n",
       "    <tr>\n",
       "      <th>6</th>\n",
       "      <td>1070</td>\n",
       "      <td>90700</td>\n",
       "      <td>644</td>\n",
       "      <td>0</td>\n",
       "      <td>1610000</td>\n",
       "      <td>31581</td>\n",
       "      <td>0.020392</td>\n",
       "      <td>0.000000</td>\n",
       "    </tr>\n",
       "    <tr>\n",
       "      <th>7</th>\n",
       "      <td>1080</td>\n",
       "      <td>90800</td>\n",
       "      <td>519</td>\n",
       "      <td>0</td>\n",
       "      <td>1090000</td>\n",
       "      <td>24674</td>\n",
       "      <td>0.021034</td>\n",
       "      <td>0.000000</td>\n",
       "    </tr>\n",
       "    <tr>\n",
       "      <th>8</th>\n",
       "      <td>1090</td>\n",
       "      <td>90900</td>\n",
       "      <td>983</td>\n",
       "      <td>27194</td>\n",
       "      <td>2970000</td>\n",
       "      <td>42206</td>\n",
       "      <td>0.023291</td>\n",
       "      <td>0.915623</td>\n",
       "    </tr>\n",
       "    <tr>\n",
       "      <th>9</th>\n",
       "      <td>1100</td>\n",
       "      <td>91000</td>\n",
       "      <td>5178</td>\n",
       "      <td>545566</td>\n",
       "      <td>31830000</td>\n",
       "      <td>218415</td>\n",
       "      <td>0.023707</td>\n",
       "      <td>1.713999</td>\n",
       "    </tr>\n",
       "    <tr>\n",
       "      <th>10</th>\n",
       "      <td>1110</td>\n",
       "      <td>91100</td>\n",
       "      <td>3381</td>\n",
       "      <td>78631</td>\n",
       "      <td>23260000</td>\n",
       "      <td>109038</td>\n",
       "      <td>0.031008</td>\n",
       "      <td>0.338052</td>\n",
       "    </tr>\n",
       "    <tr>\n",
       "      <th>11</th>\n",
       "      <td>1120</td>\n",
       "      <td>91200</td>\n",
       "      <td>2358</td>\n",
       "      <td>66046</td>\n",
       "      <td>8100000</td>\n",
       "      <td>100281</td>\n",
       "      <td>0.023514</td>\n",
       "      <td>0.815383</td>\n",
       "    </tr>\n",
       "    <tr>\n",
       "      <th>12</th>\n",
       "      <td>1130</td>\n",
       "      <td>91300</td>\n",
       "      <td>2094</td>\n",
       "      <td>546</td>\n",
       "      <td>37710000</td>\n",
       "      <td>55568</td>\n",
       "      <td>0.037684</td>\n",
       "      <td>0.001448</td>\n",
       "    </tr>\n",
       "    <tr>\n",
       "      <th>13</th>\n",
       "      <td>1140</td>\n",
       "      <td>91400</td>\n",
       "      <td>3097</td>\n",
       "      <td>113142</td>\n",
       "      <td>33760000</td>\n",
       "      <td>96828</td>\n",
       "      <td>0.031985</td>\n",
       "      <td>0.335136</td>\n",
       "    </tr>\n",
       "    <tr>\n",
       "      <th>14</th>\n",
       "      <td>1150</td>\n",
       "      <td>91500</td>\n",
       "      <td>1396</td>\n",
       "      <td>22487</td>\n",
       "      <td>3920000</td>\n",
       "      <td>76109</td>\n",
       "      <td>0.018342</td>\n",
       "      <td>0.573648</td>\n",
       "    </tr>\n",
       "    <tr>\n",
       "      <th>15</th>\n",
       "      <td>1160</td>\n",
       "      <td>91600</td>\n",
       "      <td>2036</td>\n",
       "      <td>51908</td>\n",
       "      <td>8670000</td>\n",
       "      <td>102444</td>\n",
       "      <td>0.019874</td>\n",
       "      <td>0.598708</td>\n",
       "    </tr>\n",
       "    <tr>\n",
       "      <th>16</th>\n",
       "      <td>1170</td>\n",
       "      <td>91700</td>\n",
       "      <td>1439</td>\n",
       "      <td>4359</td>\n",
       "      <td>11390000</td>\n",
       "      <td>56033</td>\n",
       "      <td>0.025681</td>\n",
       "      <td>0.038270</td>\n",
       "    </tr>\n",
       "    <tr>\n",
       "      <th>17</th>\n",
       "      <td>1180</td>\n",
       "      <td>91800</td>\n",
       "      <td>1513</td>\n",
       "      <td>213112</td>\n",
       "      <td>6350000</td>\n",
       "      <td>51559</td>\n",
       "      <td>0.029345</td>\n",
       "      <td>3.356094</td>\n",
       "    </tr>\n",
       "    <tr>\n",
       "      <th>18</th>\n",
       "      <td>1190</td>\n",
       "      <td>91900</td>\n",
       "      <td>2783</td>\n",
       "      <td>141349</td>\n",
       "      <td>24940000</td>\n",
       "      <td>75517</td>\n",
       "      <td>0.036853</td>\n",
       "      <td>0.566756</td>\n",
       "    </tr>\n",
       "    <tr>\n",
       "      <th>19</th>\n",
       "      <td>1200</td>\n",
       "      <td>92000</td>\n",
       "      <td>1804</td>\n",
       "      <td>74286</td>\n",
       "      <td>5710000</td>\n",
       "      <td>85690</td>\n",
       "      <td>0.021053</td>\n",
       "      <td>1.300981</td>\n",
       "    </tr>\n",
       "    <tr>\n",
       "      <th>20</th>\n",
       "      <td>1210</td>\n",
       "      <td>92100</td>\n",
       "      <td>7397</td>\n",
       "      <td>92683</td>\n",
       "      <td>44440000</td>\n",
       "      <td>183895</td>\n",
       "      <td>0.040224</td>\n",
       "      <td>0.208558</td>\n",
       "    </tr>\n",
       "    <tr>\n",
       "      <th>21</th>\n",
       "      <td>1220</td>\n",
       "      <td>92200</td>\n",
       "      <td>9292</td>\n",
       "      <td>49743</td>\n",
       "      <td>102300000</td>\n",
       "      <td>212658</td>\n",
       "      <td>0.043695</td>\n",
       "      <td>0.048625</td>\n",
       "    </tr>\n",
       "    <tr>\n",
       "      <th>22</th>\n",
       "      <td>1230</td>\n",
       "      <td>92300</td>\n",
       "      <td>4587</td>\n",
       "      <td>298444</td>\n",
       "      <td>32060000</td>\n",
       "      <td>117882</td>\n",
       "      <td>0.038912</td>\n",
       "      <td>0.930892</td>\n",
       "    </tr>\n",
       "  </tbody>\n",
       "</table>\n",
       "</div>"
      ],
      "text/plain": [
       "    postal_code  district_code  dogs_value  green_space(sqm)       area  \\\n",
       "0          1010          90100         508              2646    2870000   \n",
       "1          1020          90200        2696            550314   19240000   \n",
       "2          1030          90300        2483            167372    7400000   \n",
       "3          1040          90400         715             41528    1780000   \n",
       "4          1050          90500         928             34577    2009999   \n",
       "5          1060          90600         626               992    1460000   \n",
       "6          1070          90700         644                 0    1610000   \n",
       "7          1080          90800         519                 0    1090000   \n",
       "8          1090          90900         983             27194    2970000   \n",
       "9          1100          91000        5178            545566   31830000   \n",
       "10         1110          91100        3381             78631   23260000   \n",
       "11         1120          91200        2358             66046    8100000   \n",
       "12         1130          91300        2094               546   37710000   \n",
       "13         1140          91400        3097            113142   33760000   \n",
       "14         1150          91500        1396             22487    3920000   \n",
       "15         1160          91600        2036             51908    8670000   \n",
       "16         1170          91700        1439              4359   11390000   \n",
       "17         1180          91800        1513            213112    6350000   \n",
       "18         1190          91900        2783            141349   24940000   \n",
       "19         1200          92000        1804             74286    5710000   \n",
       "20         1210          92100        7397             92683   44440000   \n",
       "21         1220          92200        9292             49743  102300000   \n",
       "22         1230          92300        4587            298444   32060000   \n",
       "\n",
       "    pop_value  dogs_per_capita  greenspace_pct  \n",
       "0       16620         0.030566        0.092195  \n",
       "1      108269         0.024901        2.860260  \n",
       "2       96756         0.025662        2.261784  \n",
       "3       33633         0.021259        2.333034  \n",
       "4       55018         0.016867        1.720250  \n",
       "5       31423         0.019922        0.067945  \n",
       "6       31581         0.020392        0.000000  \n",
       "7       24674         0.021034        0.000000  \n",
       "8       42206         0.023291        0.915623  \n",
       "9      218415         0.023707        1.713999  \n",
       "10     109038         0.031008        0.338052  \n",
       "11     100281         0.023514        0.815383  \n",
       "12      55568         0.037684        0.001448  \n",
       "13      96828         0.031985        0.335136  \n",
       "14      76109         0.018342        0.573648  \n",
       "15     102444         0.019874        0.598708  \n",
       "16      56033         0.025681        0.038270  \n",
       "17      51559         0.029345        3.356094  \n",
       "18      75517         0.036853        0.566756  \n",
       "19      85690         0.021053        1.300981  \n",
       "20     183895         0.040224        0.208558  \n",
       "21     212658         0.043695        0.048625  \n",
       "22     117882         0.038912        0.930892  "
      ]
     },
     "execution_count": 67,
     "metadata": {},
     "output_type": "execute_result"
    }
   ],
   "source": [
    "# Calculate ratios: \n",
    "df_dpd_parks[\"dogs_per_capita\"]=df_dpd_parks[\"dogs_value\"]/df_dpd_parks[\"pop_value\"]\n",
    "df_dpd_parks[\"greenspace_pct\"]=df_dpd_parks[\"green_space(sqm)\"]/df_dpd_parks[\"area\"]*100\n",
    "df_dpd_parks"
   ]
  },
  {
   "cell_type": "markdown",
   "id": "052760df-b72b-41ec-821c-467b9cb8ccd0",
   "metadata": {},
   "source": [
    "Another quick data exploration already indicates, that the hypothesis might not hold: When sorting by dogs/capita, we see that many districts with medium high dog population have a lot of green space. The distribution for area is more, what we would expect to see, if there was a positive correlation. "
   ]
  },
  {
   "cell_type": "code",
   "execution_count": 68,
   "id": "4ea24d58-5b7f-415c-a31b-1d4d41d267e2",
   "metadata": {},
   "outputs": [
    {
     "data": {
      "image/png": "[encoded data removed]",
      "text/plain": [
       "<Figure size 640x480 with 3 Axes>"
      ]
     },
     "metadata": {},
     "output_type": "display_data"
    }
   ],
   "source": [
    "df_dpd_parks.sort_values(\"dogs_per_capita\").plot(x=\"postal_code\", y=[\"dogs_per_capita\",\"greenspace_pct\", \"area\"], kind=\"bar\", subplots=True);"
   ]
  },
  {
   "cell_type": "markdown",
   "id": "84056f04-9dd8-45c1-9e1e-7823b618a06f",
   "metadata": {},
   "source": [
    "We can then plot the data with a linear regression model fit to get a visual impression, if the hypothesis holds. "
   ]
  },
  {
   "cell_type": "code",
   "execution_count": 69,
   "id": "e8ff40a1-d63c-41f8-a570-a8a1659d22e7",
   "metadata": {},
   "outputs": [
    {
     "data": {
      "image/png": "[encoded data removed]",
      "text/plain": [
       "<Figure size 1000x500 with 2 Axes>"
      ]
     },
     "metadata": {},
     "output_type": "display_data"
    },
    {
     "data": {
      "text/plain": [
       "<Figure size 640x480 with 0 Axes>"
      ]
     },
     "metadata": {},
     "output_type": "display_data"
    }
   ],
   "source": [
    "fig, axs = plt.subplots(ncols=2, figsize=(10, 5))\n",
    "\n",
    "#regplot for greenspace_pct vs dogs_per_capita\n",
    "sns.regplot(data=df_dpd_parks, x=\"greenspace_pct\", y=\"dogs_per_capita\", marker=\"x\", \n",
    "            scatter_kws=dict(color=\"g\"), line_kws=dict(color=\"darkgray\"), ax=axs[0])\n",
    "axs[0].set_xlabel(\"Percentage of Green Space\")\n",
    "axs[0].set_ylabel(\"Dogs per Capita\")\n",
    "axs[0].set_title(\"Green Space vs. Dogs per Capita\")\n",
    "axs[0].set_ylim([0, 0.05])\n",
    "\n",
    "# regplot for area vs dogs_per_capita\n",
    "sns.regplot(data=df_dpd_parks, x=\"area\", y=\"dogs_per_capita\", marker=\"x\", scatter_kws=dict(color=\"b\"), \n",
    "            line_kws=dict(color=\"darkgray\"), ax=axs[1])\n",
    "axs[1].set_xlabel(\"Area (sqm)\")\n",
    "axs[1].set_ylabel(\"Dogs per Capita\")\n",
    "axs[1].set_title(\"Area vs. Dogs per Capita\")\n",
    "axs[1].set_ylim([0, 0.05])\n",
    "\n",
    "\n",
    "plt.suptitle(\"Comparative Analysis of Dog Population in Vienna's Districts\", fontsize=16)\n",
    "fig.align_ylabels(axs[:])\n",
    "plt.tight_layout()\n",
    "plt.show()\n",
    "plt.savefig(\"H5.png\")"
   ]
  },
  {
   "cell_type": "markdown",
   "id": "1dee428a-3fad-41d7-9843-f2ae7509ee18",
   "metadata": {},
   "source": [
    "When creating a scatter plot and fitting a linear model to the data, we found that our initial hypothesis - that the percentage of green space is indicative of a higher dog population - was not supported. The scatter plot does not show strong correlation, and even if correlation was assumed, it would be slightly negative. Consequently, our hypothesis was not validated. \n",
    "\n",
    "When examining another variable, the area of each district, we saw a positive correlation. \n",
    "It appears that the size of a district may be a more reliable predictor of the dog population per inhabitant.\n"
   ]
  },
  {
   "cell_type": "code",
   "execution_count": 70,
   "id": "553117b9-d9b2-4ab8-a97d-9ce7606038cc",
   "metadata": {},
   "outputs": [
    {
     "data": {
      "text/html": [
       "<div>\n",
       "<style scoped>\n",
       "    .dataframe tbody tr th:only-of-type {\n",
       "        vertical-align: middle;\n",
       "    }\n",
       "\n",
       "    .dataframe tbody tr th {\n",
       "        vertical-align: top;\n",
       "    }\n",
       "\n",
       "    .dataframe thead th {\n",
       "        text-align: right;\n",
       "    }\n",
       "</style>\n",
       "<table border=\"1\" class=\"dataframe\">\n",
       "  <thead>\n",
       "    <tr style=\"text-align: right;\">\n",
       "      <th></th>\n",
       "      <th>dogs_per_capita</th>\n",
       "      <th>greenspace_pct</th>\n",
       "    </tr>\n",
       "  </thead>\n",
       "  <tbody>\n",
       "    <tr>\n",
       "      <th>dogs_per_capita</th>\n",
       "      <td>1.000000</td>\n",
       "      <td>-0.246081</td>\n",
       "    </tr>\n",
       "    <tr>\n",
       "      <th>greenspace_pct</th>\n",
       "      <td>-0.246081</td>\n",
       "      <td>1.000000</td>\n",
       "    </tr>\n",
       "  </tbody>\n",
       "</table>\n",
       "</div>"
      ],
      "text/plain": [
       "                 dogs_per_capita  greenspace_pct\n",
       "dogs_per_capita         1.000000       -0.246081\n",
       "greenspace_pct         -0.246081        1.000000"
      ]
     },
     "execution_count": 70,
     "metadata": {},
     "output_type": "execute_result"
    }
   ],
   "source": [
    "df_dpd_parks[[\"dogs_per_capita\", \"greenspace_pct\"]].corr(method='pearson')"
   ]
  },
  {
   "cell_type": "code",
   "execution_count": 71,
   "id": "1b4ed3e3-2024-493e-8f9f-18ec99712035",
   "metadata": {},
   "outputs": [
    {
     "data": {
      "text/html": [
       "<div>\n",
       "<style scoped>\n",
       "    .dataframe tbody tr th:only-of-type {\n",
       "        vertical-align: middle;\n",
       "    }\n",
       "\n",
       "    .dataframe tbody tr th {\n",
       "        vertical-align: top;\n",
       "    }\n",
       "\n",
       "    .dataframe thead th {\n",
       "        text-align: right;\n",
       "    }\n",
       "</style>\n",
       "<table border=\"1\" class=\"dataframe\">\n",
       "  <thead>\n",
       "    <tr style=\"text-align: right;\">\n",
       "      <th></th>\n",
       "      <th>dogs_per_capita</th>\n",
       "      <th>area</th>\n",
       "    </tr>\n",
       "  </thead>\n",
       "  <tbody>\n",
       "    <tr>\n",
       "      <th>dogs_per_capita</th>\n",
       "      <td>1.000000</td>\n",
       "      <td>0.620553</td>\n",
       "    </tr>\n",
       "    <tr>\n",
       "      <th>area</th>\n",
       "      <td>0.620553</td>\n",
       "      <td>1.000000</td>\n",
       "    </tr>\n",
       "  </tbody>\n",
       "</table>\n",
       "</div>"
      ],
      "text/plain": [
       "                 dogs_per_capita      area\n",
       "dogs_per_capita         1.000000  0.620553\n",
       "area                    0.620553  1.000000"
      ]
     },
     "execution_count": 71,
     "metadata": {},
     "output_type": "execute_result"
    }
   ],
   "source": [
    "df_dpd_parks[[\"dogs_per_capita\", \"area\"]].corr(method='kendall')"
   ]
  },
  {
   "cell_type": "markdown",
   "id": "f6934463-ab38-44db-8134-ebab355dbd3f",
   "metadata": {},
   "source": [
    "#### STATISTICAL TESTING"
   ]
  },
  {
   "cell_type": "code",
   "execution_count": 72,
   "id": "e2450581-02e7-4905-a90f-c7312c43fd02",
   "metadata": {},
   "outputs": [],
   "source": [
    "from scipy.stats import pearsonr\n",
    "correlation_coefficient, p_value = pearsonr(df_dpd_parks['area'], df_dpd_parks['dogs_per_capita'])"
   ]
  },
  {
   "cell_type": "code",
   "execution_count": 73,
   "id": "5add5812-6e8f-493a-947e-9f78e83cb3ed",
   "metadata": {},
   "outputs": [
    {
     "name": "stdout",
     "output_type": "stream",
     "text": [
      "Pearson Correlation Coefficient: 0.7972594953108546\n",
      "P-value: 5.249056418481235e-06\n"
     ]
    }
   ],
   "source": [
    "print(f\"Pearson Correlation Coefficient: {correlation_coefficient}\")\n",
    "print(f\"P-value: {p_value}\")"
   ]
  },
  {
   "cell_type": "code",
   "execution_count": 74,
   "id": "1bf1a265-6288-41b6-9c92-04ffd851d1b5",
   "metadata": {},
   "outputs": [
    {
     "data": {
      "text/plain": [
       "True"
      ]
     },
     "execution_count": 74,
     "metadata": {},
     "output_type": "execute_result"
    }
   ],
   "source": [
    "p_value<0.05"
   ]
  },
  {
   "cell_type": "code",
   "execution_count": null,
   "id": "a6434945-589e-48d1-a18a-2e4e2cbbb6f3",
   "metadata": {},
   "outputs": [],
   "source": []
  }
 ],
 "metadata": {
  "kernelspec": {
   "display_name": "Python 3 (ipykernel)",
   "language": "python",
   "name": "python3"
  },
  "language_info": {
   "codemirror_mode": {
    "name": "ipython",
    "version": 3
   },
   "file_extension": ".py",
   "mimetype": "text/x-python",
   "name": "python",
   "nbconvert_exporter": "python",
   "pygments_lexer": "ipython3",
   "version": "3.11.5"
  }
 },
 "nbformat": 4,
 "nbformat_minor": 5
}
